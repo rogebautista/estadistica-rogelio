{
 "cells": [
  {
   "cell_type": "markdown",
   "metadata": {
    "slideshow": {
     "slide_type": "-"
    }
   },
   "source": [
    "# Bienvenidos\n",
    "\n",
    "Esto es un notebook. Podemos escribir en lenguaje Markdown, el cual nos permite:\n",
    "* Listas\n",
    "* Escribir en **negrita** y *cursiva*\n",
    "* Más información aquí: [Markdown-Cheatsheet](https://github.com/adam-p/markdown-here/wiki/Markdown-Cheatsheet)\n"
   ]
  },
  {
   "cell_type": "markdown",
   "metadata": {},
   "source": [
    "### PREGUNTAD!!\n",
    "\n",
    "Sobretodo si os perdeis, no lleguemos a casos donde no sepais que estamos haciendo.\n",
    "\n",
    "![Imagen no cargada. Edita y borra la @ ](https://memegenerator.net/img/instances/28913469.jpg @)"
   ]
  },
  {
   "cell_type": "markdown",
   "metadata": {},
   "source": [
    "# Introducción\n",
    "\n",
    "![ ](diagrama_resumen.png )"
   ]
  },
  {
   "cell_type": "markdown",
   "metadata": {},
   "source": [
    "# Bibliografía \n",
    "\n",
    "Sobre **estadística**: [Practical Statistics for Data Scientists: 50 Essential Concepts](https://www.amazon.com/Practical-Statistics-Data-Scientists-Essential/dp/1491952962/ref=sr_1_3?ie=UTF8&qid=1518719786)\n",
    "\n",
    "\n",
    "Sobre **R**: [R for Data Science: Import, Tidy, Transform, Visualize, and Model Data](https://www.amazon.com/Data-Science-Transform-Visualize-Model/dp/1491910399/ref=sr_1_1?ie=UTF8&qid=1518791084) Este libro es bastante completo, abarca mucho temario que no veremos por falta de tiempo.\n",
    "\n",
    "Aplicaciones movil Android/iPhone: https://artofstat.com/art-of-stat-inference\n"
   ]
  },
  {
   "cell_type": "markdown",
   "metadata": {},
   "source": [
    "## Estadística vs Machine Learning\n",
    "\n",
    "\n",
    "Más información aquí: [Markdown-Cheatsheet](https://www.reddit.com/r/MachineLearningLounge/comments/9soaw4/let_me_fix_that_for_you/)\n",
    "\n",
    "\n",
    "* Estadística: Trata de entender las variables y su relación entre ellas. Las estadísitcas te ayudan a entender como es tu población de datos.\n",
    "\n",
    "* Machine Learning: Trata de hacer predicciones, crear modelos que, a partir de una población limitada puedan **generalizar** y aprender como se comportarán los datos.\n",
    "\n"
   ]
  },
  {
   "cell_type": "markdown",
   "metadata": {},
   "source": [
    "# Introducción a R\n",
    "\n",
    "R es un lenguaje de programación orientado a la estadística.\n",
    "\n",
    "Algo parecido a SPSS o Matlab.\n",
    "\n",
    "Es código abierto y se entrega bajo licencia GPL (versión 2 o posterior). Además existen multitud de paquetes que complementan su funcionalidad."
   ]
  },
  {
   "cell_type": "markdown",
   "metadata": {},
   "source": [
    "## Asignaciones\n",
    "\n",
    "Podemos usar <- o el símbolo = para asignar un valor a una variable"
   ]
  },
  {
   "cell_type": "code",
   "execution_count": null,
   "metadata": {},
   "outputs": [],
   "source": []
  },
  {
   "cell_type": "code",
   "execution_count": null,
   "metadata": {},
   "outputs": [],
   "source": []
  },
  {
   "cell_type": "code",
   "execution_count": null,
   "metadata": {},
   "outputs": [],
   "source": []
  },
  {
   "cell_type": "markdown",
   "metadata": {},
   "source": [
    "## Operaciones"
   ]
  },
  {
   "cell_type": "code",
   "execution_count": null,
   "metadata": {},
   "outputs": [],
   "source": [
    "### Operaciones matemáticas"
   ]
  },
  {
   "cell_type": "code",
   "execution_count": null,
   "metadata": {},
   "outputs": [],
   "source": [
    "b+a #Suma\n",
    "b*a #Multiplicación\n",
    "b-a #Resta\n",
    "b/a #División: \n",
    "a%/%b #División entera: \n",
    "a %% b #Módulo: \n",
    "a^b #Potencia: "
   ]
  },
  {
   "cell_type": "code",
   "execution_count": null,
   "metadata": {},
   "outputs": [],
   "source": [
    "### Otro tipo de operador"
   ]
  },
  {
   "cell_type": "code",
   "execution_count": null,
   "metadata": {},
   "outputs": [],
   "source": [
    "3:10        #Secuencias\n",
    "6 %in% 3:10 #contiene"
   ]
  },
  {
   "cell_type": "markdown",
   "metadata": {},
   "source": [
    "## Funciones básicas\n",
    "\n",
    "Las funciones \n",
    " * siempre acaban en ()\n",
    " * pueden recibir un número variable de parámetros\n",
    " * pueden existir parámetros por defecto"
   ]
  },
  {
   "cell_type": "markdown",
   "metadata": {},
   "source": [
    "Ver las variables en memoria, función ls()"
   ]
  },
  {
   "cell_type": "code",
   "execution_count": null,
   "metadata": {},
   "outputs": [],
   "source": []
  },
  {
   "cell_type": "markdown",
   "metadata": {},
   "source": [
    "Ver el tipo de variable, función typeof(x):"
   ]
  },
  {
   "cell_type": "code",
   "execution_count": null,
   "metadata": {},
   "outputs": [],
   "source": []
  },
  {
   "cell_type": "markdown",
   "metadata": {},
   "source": [
    "Para concatenar textos usamos paste(a, b, c, ...)"
   ]
  },
  {
   "cell_type": "code",
   "execution_count": null,
   "metadata": {},
   "outputs": [],
   "source": []
  },
  {
   "cell_type": "markdown",
   "metadata": {},
   "source": [
    "# Tipos de datos"
   ]
  },
  {
   "cell_type": "markdown",
   "metadata": {},
   "source": [
    "## double"
   ]
  },
  {
   "cell_type": "code",
   "execution_count": null,
   "metadata": {},
   "outputs": [],
   "source": []
  },
  {
   "cell_type": "code",
   "execution_count": null,
   "metadata": {},
   "outputs": [],
   "source": []
  },
  {
   "cell_type": "code",
   "execution_count": null,
   "metadata": {},
   "outputs": [],
   "source": [
    "?exp"
   ]
  },
  {
   "cell_type": "markdown",
   "metadata": {},
   "source": [
    "## integer"
   ]
  },
  {
   "cell_type": "code",
   "execution_count": null,
   "metadata": {},
   "outputs": [],
   "source": []
  },
  {
   "cell_type": "markdown",
   "metadata": {},
   "source": [
    "## Diferencias entre  integer y double"
   ]
  },
  {
   "cell_type": "markdown",
   "metadata": {},
   "source": [
    "El número más grande que podemos representar es diferente:"
   ]
  },
  {
   "cell_type": "code",
   "execution_count": null,
   "metadata": {},
   "outputs": [],
   "source": [
    ".Machine$integer.max\n",
    ".Machine$double.xmax"
   ]
  },
  {
   "cell_type": "markdown",
   "metadata": {},
   "source": [
    "El tamaño que ocupan en memoria es:"
   ]
  },
  {
   "cell_type": "code",
   "execution_count": null,
   "metadata": {},
   "outputs": [],
   "source": [
    "object.size(ai)\n",
    "object.size(b)"
   ]
  },
  {
   "cell_type": "markdown",
   "metadata": {},
   "source": [
    "## character"
   ]
  },
  {
   "cell_type": "code",
   "execution_count": null,
   "metadata": {},
   "outputs": [],
   "source": []
  },
  {
   "cell_type": "markdown",
   "metadata": {},
   "source": [
    "Las cadenas de texto se pueden concatenar usando la función paste(x,y,z...)"
   ]
  },
  {
   "cell_type": "code",
   "execution_count": null,
   "metadata": {},
   "outputs": [],
   "source": [
    "?paste"
   ]
  },
  {
   "cell_type": "code",
   "execution_count": null,
   "metadata": {},
   "outputs": [],
   "source": []
  },
  {
   "cell_type": "markdown",
   "metadata": {},
   "source": [
    "## Logical"
   ]
  },
  {
   "cell_type": "code",
   "execution_count": null,
   "metadata": {},
   "outputs": [],
   "source": [
    "b1 <- TRUE\n",
    "b2 <- T\n",
    "b3 <- FALSE\n",
    "paste(\"El valor de b1 es\",b1)\n",
    "paste(\"El valor de b2 es\",b2)\n",
    "paste(\"El valor de b3 es\",b3)"
   ]
  },
  {
   "cell_type": "markdown",
   "metadata": {},
   "source": [
    "Operaciones lógicas:\n",
    "\n",
    "\n",
    "| A | B |AND|OR |XOR|NOT(A)|\n",
    "|---|---|---|---|---|------|\n",
    "| 0 | 0 | 0 | 0 | 0 |  1   |\n",
    "| 0 | 1 | 0 | 1 | 1 |  1   |\n",
    "| 1 | 0 | 0 | 1 | 1 |  0   |\n",
    "| 1 | 1 | 1 | 1 | 0 |  0   |"
   ]
  },
  {
   "cell_type": "code",
   "execution_count": null,
   "metadata": {},
   "outputs": [],
   "source": [
    "print(paste(\"b1 AND b3:\",b1 & b3))\n",
    "print(paste(\"b1 OR  b3:\",b1 | b3))\n",
    "print(paste(\"b1 XOR b3:\",xor(b1 ,b3)))\n",
    "print(paste(\"   NOT b1:\",!b1))"
   ]
  },
  {
   "cell_type": "markdown",
   "metadata": {},
   "source": [
    "## Vectores"
   ]
  },
  {
   "cell_type": "markdown",
   "metadata": {},
   "source": [
    "Los vectores se crean con la función c(), todos los elementos de un vector son del mimo tipo. Es decir, no se podrían mezclar caracteres y double."
   ]
  },
  {
   "cell_type": "markdown",
   "metadata": {},
   "source": [
    "En python:\n",
    "\n",
    "   a = [1,2,3,40]\n",
    "   \n",
    "En R:\n",
    "\n",
    "   a = c(1,2,3,40)"
   ]
  },
  {
   "cell_type": "code",
   "execution_count": null,
   "metadata": {},
   "outputs": [],
   "source": [
    "alturas<-c(1.80,1.60,1.50,1.90,1.75,1.63,1.65)\n",
    "print(paste(\"alturas es una variable de tipo:\",typeof(alturas)))"
   ]
  },
  {
   "cell_type": "code",
   "execution_count": null,
   "metadata": {},
   "outputs": [],
   "source": [
    "print(\"Podemos ver la estructura de un objeto con la función str():\")\n",
    "str(alturas)"
   ]
  },
  {
   "cell_type": "code",
   "execution_count": null,
   "metadata": {},
   "outputs": [],
   "source": [
    "otroVector <- c(\"uno\",2.0,\"tres\",\"14.0\")\n",
    "otroVector"
   ]
  },
  {
   "cell_type": "code",
   "execution_count": null,
   "metadata": {},
   "outputs": [],
   "source": [
    "str(otroVector)"
   ]
  },
  {
   "cell_type": "markdown",
   "metadata": {},
   "source": [
    "### Acceso a elementos"
   ]
  },
  {
   "cell_type": "code",
   "execution_count": null,
   "metadata": {},
   "outputs": [],
   "source": [
    "print(paste(\"El valor del tercer elemento es:\",alturas[3]))"
   ]
  },
  {
   "cell_type": "markdown",
   "metadata": {},
   "source": [
    "**¡¡En R los arrays empiezan en 1!!**\n",
    "![Imagen no cargada. Edita y borra la @ ](https://i.redd.it/iwnqgrrbls5z.png @ )"
   ]
  },
  {
   "cell_type": "markdown",
   "metadata": {},
   "source": [
    "Podemos dar nombres a cada elemento"
   ]
  },
  {
   "cell_type": "code",
   "execution_count": null,
   "metadata": {},
   "outputs": [],
   "source": [
    "myVector <- c(nombre=\"Philip\",apellido=\"García\",teléfono=600100100)"
   ]
  },
  {
   "cell_type": "code",
   "execution_count": null,
   "metadata": {},
   "outputs": [],
   "source": [
    "myVector"
   ]
  },
  {
   "cell_type": "code",
   "execution_count": null,
   "metadata": {},
   "outputs": [],
   "source": [
    "myVector[\"nombre\"]"
   ]
  },
  {
   "cell_type": "code",
   "execution_count": null,
   "metadata": {},
   "outputs": [],
   "source": [
    "myVector[2]"
   ]
  },
  {
   "cell_type": "code",
   "execution_count": null,
   "metadata": {},
   "outputs": [],
   "source": [
    "myVector[\"teléfono\"]"
   ]
  },
  {
   "cell_type": "code",
   "execution_count": null,
   "metadata": {},
   "outputs": [],
   "source": [
    "#Los nombres de una variable se pueden ver con la función names()\n",
    "names(myVector)"
   ]
  },
  {
   "cell_type": "code",
   "execution_count": null,
   "metadata": {},
   "outputs": [],
   "source": [
    "names(myVector) <- c(\"nombre_actualizado\",\"apellido_actualizado\", \"telefono_actualizado\")"
   ]
  },
  {
   "cell_type": "code",
   "execution_count": null,
   "metadata": {},
   "outputs": [],
   "source": [
    "myVector"
   ]
  },
  {
   "cell_type": "markdown",
   "metadata": {},
   "source": [
    "### Operaciones con vectores"
   ]
  },
  {
   "cell_type": "markdown",
   "metadata": {},
   "source": [
    "Al operar contra una variable se aplica esa operación a todos los elementos del vector"
   ]
  },
  {
   "cell_type": "code",
   "execution_count": null,
   "metadata": {},
   "outputs": [],
   "source": [
    "metro2pie <- 3.28084\n",
    "alturasEnPies <- alturas*metro2pie\n",
    "alturasEnPies"
   ]
  },
  {
   "cell_type": "markdown",
   "metadata": {},
   "source": [
    "Si se opera con dos vectores de la misma longitud se aplica elemento a elemento."
   ]
  },
  {
   "cell_type": "code",
   "execution_count": null,
   "metadata": {},
   "outputs": [],
   "source": [
    "alturas"
   ]
  },
  {
   "cell_type": "code",
   "execution_count": null,
   "metadata": {},
   "outputs": [],
   "source": [
    "alturaDeLosZapatos<-c(2,0,1,3,5,7,0)/100\n",
    "alturaReal<-alturas-alturaDeLosZapatos\n",
    "alturaReal"
   ]
  },
  {
   "cell_type": "markdown",
   "metadata": {},
   "source": [
    "Se puede operar con vectores de tamaños diferentes, en este caso el vector más pequeño se replica"
   ]
  },
  {
   "cell_type": "code",
   "execution_count": null,
   "metadata": {},
   "outputs": [],
   "source": [
    "alturas*c(1,0)"
   ]
  },
  {
   "cell_type": "markdown",
   "metadata": {},
   "source": [
    "Concatenar vectores"
   ]
  },
  {
   "cell_type": "code",
   "execution_count": null,
   "metadata": {},
   "outputs": [],
   "source": [
    "c(alturas,2,1.8,17)"
   ]
  },
  {
   "cell_type": "markdown",
   "metadata": {},
   "source": [
    "Longitud de un vector se obtiene con la función length()"
   ]
  },
  {
   "cell_type": "code",
   "execution_count": null,
   "metadata": {},
   "outputs": [],
   "source": [
    "length(alturas)"
   ]
  },
  {
   "cell_type": "markdown",
   "metadata": {},
   "source": [
    "La estructura de la variable se puede ver con la función str()"
   ]
  },
  {
   "cell_type": "code",
   "execution_count": null,
   "metadata": {},
   "outputs": [],
   "source": [
    "str(alturas)"
   ]
  },
  {
   "cell_type": "code",
   "execution_count": null,
   "metadata": {},
   "outputs": [],
   "source": [
    "alturas[18]<-1.9"
   ]
  },
  {
   "cell_type": "code",
   "execution_count": null,
   "metadata": {},
   "outputs": [],
   "source": [
    "alturas"
   ]
  },
  {
   "cell_type": "markdown",
   "metadata": {},
   "source": [
    "## Listas"
   ]
  },
  {
   "cell_type": "markdown",
   "metadata": {},
   "source": [
    "Las listas se pueden considerar como vectores que pueden almacenar cualquier tipo de dato."
   ]
  },
  {
   "cell_type": "code",
   "execution_count": null,
   "metadata": {},
   "outputs": [],
   "source": [
    "c(1,3,\"catorce\",\"panama\")"
   ]
  },
  {
   "cell_type": "code",
   "execution_count": null,
   "metadata": {},
   "outputs": [],
   "source": [
    "myList<-list(1,3,\"catorce\",\"panama\")\n",
    "str(myList)"
   ]
  },
  {
   "cell_type": "code",
   "execution_count": null,
   "metadata": {},
   "outputs": [],
   "source": [
    "myList"
   ]
  },
  {
   "cell_type": "markdown",
   "metadata": {},
   "source": [
    "Podemos asignar un nombre a cada valor"
   ]
  },
  {
   "cell_type": "code",
   "execution_count": null,
   "metadata": {},
   "outputs": [],
   "source": [
    "datosPersonales<-list(nombre=\"Philip\",\n",
    "                   apellido=\"García\",\n",
    "                   teléfono=600100100)\n",
    "datosPersonales"
   ]
  },
  {
   "cell_type": "markdown",
   "metadata": {},
   "source": [
    "### Acceso a elementos"
   ]
  },
  {
   "cell_type": "markdown",
   "metadata": {},
   "source": [
    "Podemos acceder a los distintos elementos utilizando su índice o nombre:"
   ]
  },
  {
   "cell_type": "code",
   "execution_count": null,
   "metadata": {},
   "outputs": [],
   "source": [
    "datosPersonales[[1]]"
   ]
  },
  {
   "cell_type": "code",
   "execution_count": null,
   "metadata": {},
   "outputs": [],
   "source": [
    "datosPersonales[[\"nombre\"]]"
   ]
  },
  {
   "cell_type": "code",
   "execution_count": null,
   "metadata": {},
   "outputs": [],
   "source": [
    "datosPersonales$nombre"
   ]
  },
  {
   "cell_type": "code",
   "execution_count": null,
   "metadata": {},
   "outputs": [],
   "source": [
    "is.null(datosPersonales[[\"direccion\"]])"
   ]
  },
  {
   "cell_type": "code",
   "execution_count": null,
   "metadata": {},
   "outputs": [],
   "source": [
    "names(datosPersonales)"
   ]
  },
  {
   "cell_type": "code",
   "execution_count": null,
   "metadata": {},
   "outputs": [],
   "source": [
    "datosPersonales[[\"direccion\"]]<-list(ciudad=\"Madrid\",calle=\"Desengaño\",numero=21)\n",
    "datosPersonales[[\"direccion\"]]"
   ]
  },
  {
   "cell_type": "code",
   "execution_count": null,
   "metadata": {},
   "outputs": [],
   "source": [
    "datosPersonales"
   ]
  },
  {
   "cell_type": "code",
   "execution_count": null,
   "metadata": {},
   "outputs": [],
   "source": [
    "datosPersonales[[\"direccion\"]]$calle"
   ]
  },
  {
   "cell_type": "code",
   "execution_count": null,
   "metadata": {},
   "outputs": [],
   "source": [
    "print(paste(\"La longitud total de la lista es\",length(datosPersonales)))"
   ]
  },
  {
   "cell_type": "markdown",
   "metadata": {},
   "source": [
    "## Factores\n",
    "\n",
    "En estadística tenemos fundamentalmente dos tipos de variables:\n",
    "\n",
    "* **Numéricas:** Estos datos tienen significado como medidas, por ejemplo la altura, peso, presión sanguinea, número de mascotas.\n",
    "* **Categóricas:** Estos representan una característica, por ejemplo el género, color, sabores, ciudad."
   ]
  },
  {
   "cell_type": "markdown",
   "metadata": {},
   "source": [
    "Los factores son útiles cuando trabajamos con **variables categóricas**. Ej: Población de origen, colores, sabores"
   ]
  },
  {
   "cell_type": "code",
   "execution_count": null,
   "metadata": {},
   "outputs": [],
   "source": [
    "saboresDePlatos<-c(\"Dulce\",\"Salado\",\"Ácido\",\"Amargo\",\"Umami\",\"Dulce\",\"Salado\",\"Ácido\",\"Umami\",\"Umami\",\"Salado\")\n",
    "saboresDePlatosFactor<-factor(saboresDePlatos)\n",
    "\n",
    "summary(saboresDePlatos)\n",
    "summary(saboresDePlatosFactor)"
   ]
  },
  {
   "cell_type": "code",
   "execution_count": null,
   "metadata": {},
   "outputs": [],
   "source": [
    "str(saboresDePlatos)"
   ]
  },
  {
   "cell_type": "code",
   "execution_count": null,
   "metadata": {},
   "outputs": [],
   "source": [
    "str(saboresDePlatosFactor)"
   ]
  },
  {
   "cell_type": "code",
   "execution_count": null,
   "metadata": {},
   "outputs": [],
   "source": [
    "saboresDePlatosFactor"
   ]
  },
  {
   "cell_type": "code",
   "execution_count": null,
   "metadata": {},
   "outputs": [],
   "source": [
    "print(\"Los factores internamente se gestionan como enteros\")\n",
    "as.numeric(saboresDePlatosFactor)"
   ]
  },
  {
   "cell_type": "code",
   "execution_count": null,
   "metadata": {},
   "outputs": [],
   "source": [
    "paste(\"sabor:\",levels(saboresDePlatosFactor))"
   ]
  },
  {
   "cell_type": "code",
   "execution_count": null,
   "metadata": {},
   "outputs": [],
   "source": [
    "print(paste(\"Podemos ver los niveles con el comando levels:\",\n",
    "            paste(levels(saboresDePlatosFactor),collapse=\",\")))"
   ]
  },
  {
   "cell_type": "code",
   "execution_count": null,
   "metadata": {},
   "outputs": [],
   "source": [
    "factor(c(1,0,0,1,0,1),labels=c(\"NO\",\"SI\"))"
   ]
  },
  {
   "cell_type": "code",
   "execution_count": null,
   "metadata": {},
   "outputs": [],
   "source": [
    "factor(c(10,5,5,0,5,0),labels=c(\"BAJO\",\"MEDIO\",\"ALTO\"))"
   ]
  },
  {
   "cell_type": "markdown",
   "metadata": {},
   "source": [
    "# Matrices"
   ]
  },
  {
   "cell_type": "markdown",
   "metadata": {},
   "source": [
    "Podemos crear matrices con la función matrix. Como parámetros de entrada recibe un vector y el número de columnas (*ncol*) o filas (nrow). Un parámetro opcional (*byrow*) indica si la matriz se va a rellenar por filas o por columnas (valor por defecto)"
   ]
  },
  {
   "cell_type": "code",
   "execution_count": null,
   "metadata": {},
   "outputs": [],
   "source": [
    "1:12"
   ]
  },
  {
   "cell_type": "code",
   "execution_count": null,
   "metadata": {},
   "outputs": [],
   "source": [
    "m1<-matrix(c(1:12),ncol=3)\n",
    "m1"
   ]
  },
  {
   "cell_type": "code",
   "execution_count": null,
   "metadata": {},
   "outputs": [],
   "source": [
    "?matrix"
   ]
  },
  {
   "cell_type": "code",
   "execution_count": null,
   "metadata": {},
   "outputs": [],
   "source": [
    "m2<-matrix(c(1:12),ncol=3,byrow=T)\n",
    "m2"
   ]
  },
  {
   "cell_type": "markdown",
   "metadata": {},
   "source": [
    "La dimensión del array se puede ver con la función *dim()* o con *str()*"
   ]
  },
  {
   "cell_type": "code",
   "execution_count": null,
   "metadata": {},
   "outputs": [],
   "source": [
    "dim(m1)"
   ]
  },
  {
   "cell_type": "code",
   "execution_count": null,
   "metadata": {},
   "outputs": [],
   "source": [
    "length(m1)"
   ]
  },
  {
   "cell_type": "code",
   "execution_count": null,
   "metadata": {},
   "outputs": [],
   "source": [
    "str(m2)"
   ]
  },
  {
   "cell_type": "markdown",
   "metadata": {},
   "source": [
    "### Acceso"
   ]
  },
  {
   "cell_type": "markdown",
   "metadata": {},
   "source": [
    "El acceso se realiza igual que los vectores, pero aquí tenemos dos dimensiones."
   ]
  },
  {
   "cell_type": "code",
   "execution_count": null,
   "metadata": {},
   "outputs": [],
   "source": [
    "m1[1,3]"
   ]
  },
  {
   "cell_type": "markdown",
   "metadata": {},
   "source": [
    "También podemos dar nombres a las filas y columnas para luego poder acceder utilizando el nombre"
   ]
  },
  {
   "cell_type": "code",
   "execution_count": null,
   "metadata": {},
   "outputs": [],
   "source": [
    "?paste0"
   ]
  },
  {
   "cell_type": "code",
   "execution_count": null,
   "metadata": {},
   "outputs": [],
   "source": [
    "paste0(\"row\",1:4)"
   ]
  },
  {
   "cell_type": "code",
   "execution_count": null,
   "metadata": {},
   "outputs": [],
   "source": [
    "colnames(m1)<-paste0(\"col\",1:3)\n",
    "rownames(m1)<-paste0(\"row\",1:4)\n",
    "m1"
   ]
  },
  {
   "cell_type": "code",
   "execution_count": null,
   "metadata": {},
   "outputs": [],
   "source": [
    "paste(\"El valor de 'row1' y 'col3' es:\",m1[\"row1\",\"col3\"])"
   ]
  },
  {
   "cell_type": "markdown",
   "metadata": {},
   "source": [
    "Las funciones *colnames* y *rownames* "
   ]
  },
  {
   "cell_type": "code",
   "execution_count": null,
   "metadata": {},
   "outputs": [],
   "source": [
    "rownames(m1)"
   ]
  },
  {
   "cell_type": "markdown",
   "metadata": {},
   "source": [
    "### Operaciones con matrices \n",
    "#### Álgebra lineal básica"
   ]
  },
  {
   "cell_type": "code",
   "execution_count": null,
   "metadata": {},
   "outputs": [],
   "source": [
    "m1"
   ]
  },
  {
   "cell_type": "markdown",
   "metadata": {},
   "source": [
    "Transpuesta"
   ]
  },
  {
   "cell_type": "code",
   "execution_count": null,
   "metadata": {},
   "outputs": [],
   "source": [
    "t(m1)"
   ]
  },
  {
   "cell_type": "markdown",
   "metadata": {},
   "source": [
    "Suma de constante"
   ]
  },
  {
   "cell_type": "code",
   "execution_count": null,
   "metadata": {},
   "outputs": [],
   "source": [
    "m1+10"
   ]
  },
  {
   "cell_type": "markdown",
   "metadata": {},
   "source": [
    "Suma de matrices"
   ]
  },
  {
   "cell_type": "code",
   "execution_count": null,
   "metadata": {},
   "outputs": [],
   "source": [
    "m1+m2"
   ]
  },
  {
   "cell_type": "markdown",
   "metadata": {},
   "source": [
    "Multiplicación de matrices"
   ]
  },
  {
   "cell_type": "code",
   "execution_count": null,
   "metadata": {},
   "outputs": [],
   "source": [
    "m1 %*% matrix(rep(1,12),nrow=3)"
   ]
  },
  {
   "cell_type": "code",
   "execution_count": null,
   "metadata": {},
   "outputs": [],
   "source": [
    "rep(\"a\",5)"
   ]
  },
  {
   "cell_type": "markdown",
   "metadata": {},
   "source": [
    "Submatrices"
   ]
  },
  {
   "cell_type": "code",
   "execution_count": null,
   "metadata": {},
   "outputs": [],
   "source": [
    "m1[2:4,2:3]"
   ]
  },
  {
   "cell_type": "code",
   "execution_count": null,
   "metadata": {},
   "outputs": [],
   "source": [
    "m1[c(3,2,4),2:3]"
   ]
  },
  {
   "cell_type": "markdown",
   "metadata": {},
   "source": [
    "# Tablas"
   ]
  },
  {
   "cell_type": "markdown",
   "metadata": {},
   "source": [
    "Se utilizan para estudios de frecuencia. Cuentan el número de veces que ha ocurrido algo."
   ]
  },
  {
   "cell_type": "code",
   "execution_count": null,
   "metadata": {},
   "outputs": [],
   "source": [
    "saboresDePlatos"
   ]
  },
  {
   "cell_type": "code",
   "execution_count": null,
   "metadata": {},
   "outputs": [],
   "source": [
    "tblSabores<-table(saboresDePlatos)\n",
    "tblSabores"
   ]
  },
  {
   "cell_type": "code",
   "execution_count": null,
   "metadata": {},
   "outputs": [],
   "source": [
    "names(tblSabores)"
   ]
  },
  {
   "cell_type": "code",
   "execution_count": null,
   "metadata": {},
   "outputs": [],
   "source": [
    "str(tblSabores)"
   ]
  },
  {
   "cell_type": "markdown",
   "metadata": {},
   "source": [
    "Los atributos son una lista de propiedades asociadas a un objeto en R"
   ]
  },
  {
   "cell_type": "code",
   "execution_count": null,
   "metadata": {},
   "outputs": [],
   "source": [
    "attributes(tblSabores)"
   ]
  },
  {
   "cell_type": "code",
   "execution_count": null,
   "metadata": {},
   "outputs": [],
   "source": [
    "class(tblSabores)"
   ]
  },
  {
   "cell_type": "code",
   "execution_count": null,
   "metadata": {},
   "outputs": [],
   "source": [
    "attributes(tblSabores)$dimnames$saboresDePlatos "
   ]
  },
  {
   "cell_type": "code",
   "execution_count": null,
   "metadata": {},
   "outputs": [],
   "source": [
    "color  <- c(\"marrón\",\"negro\",\"blanco\",\"negro\",\"blanco\",\"negro\",\"negro\",\"marrón\",\"marrón\",\"marrón\")\n",
    "animal <- c(\"gato\",\"gato\",\"perro\",\"gato\",\"gato\",\"perro\",\"perro\",\"perro\",\"gato\",\"gato\")\n",
    "\n",
    "tbl_animal<-table(animal,color)\n",
    "tbl_animal"
   ]
  },
  {
   "cell_type": "code",
   "execution_count": null,
   "metadata": {},
   "outputs": [],
   "source": [
    "str(tbl_animal)"
   ]
  },
  {
   "cell_type": "code",
   "execution_count": null,
   "metadata": {},
   "outputs": [],
   "source": [
    "attributes(tbl_animal)$dimnames"
   ]
  },
  {
   "cell_type": "code",
   "execution_count": null,
   "metadata": {},
   "outputs": [],
   "source": [
    "attributes(tbl_animal)"
   ]
  },
  {
   "cell_type": "markdown",
   "metadata": {},
   "source": [
    "## Miniresumen parcial"
   ]
  },
  {
   "cell_type": "markdown",
   "metadata": {},
   "source": [
    "Vector"
   ]
  },
  {
   "cell_type": "code",
   "execution_count": null,
   "metadata": {},
   "outputs": [],
   "source": [
    "vecto_pesos <- c(5,7,8,9,10)\n",
    "vecto_pesos[2:3]"
   ]
  },
  {
   "cell_type": "markdown",
   "metadata": {},
   "source": [
    "Listas"
   ]
  },
  {
   "cell_type": "code",
   "execution_count": null,
   "metadata": {},
   "outputs": [],
   "source": [
    "lista_medidas <- list(altura=1.5, ancho=1, peso = 3, unidades_peso=\"Kg\", unidades_medida=\"m\", \n",
    "                      fabricacion=list(numeroserie=\"A1238656\", origen=\"Zamora\"))\n",
    "lista_medidas"
   ]
  },
  {
   "cell_type": "code",
   "execution_count": null,
   "metadata": {},
   "outputs": [],
   "source": [
    "lista_medidas[[\"altura\"]]"
   ]
  },
  {
   "cell_type": "markdown",
   "metadata": {},
   "source": [
    "## Data Frame\n",
    "\n",
    "Un Dataframe es una tabla como la que podemos encontrar en cualquier hoja de calculo.\n",
    "\n",
    "![](pics/ejemplo_dataframe.png)\n",
    "\n",
    "La información se estructura en columnas, cada columna puede ser de un tipo de variable diferente: categorica, numerica, fecha, etc..\n",
    "\n",
    "Cada fila representa un elemento u objeto cuyos atributos están representados por las columnas."
   ]
  },
  {
   "cell_type": "markdown",
   "metadata": {},
   "source": [
    "En R se definen como un conjunto de vectores de la misma longitud. Cada vector puede ser de un tipo diferente."
   ]
  },
  {
   "cell_type": "code",
   "execution_count": null,
   "metadata": {},
   "outputs": [],
   "source": [
    "plt <- c(\"Bollo\",\"Palomitas\",\"Limón\",\"Ginebra\",\"Noodles\",\"Caramelo\",\"Patatas fritas\",\"Naranja\",\"Ternera\",\"Cerdo\",\"Sopa\")\n",
    "cal <-c(150,200,10,20,200,5,500,15,450,460,30)"
   ]
  },
  {
   "cell_type": "code",
   "execution_count": null,
   "metadata": {},
   "outputs": [],
   "source": [
    "idx<- 5 \n",
    "paste(\"Elemento\",idx,\":\",plt[idx],\"-\",cal[idx],\"cal\")"
   ]
  },
  {
   "cell_type": "code",
   "execution_count": null,
   "metadata": {},
   "outputs": [],
   "source": [
    "comidas<-data.frame(plato=plt, calorias=cal, sabor=saboresDePlatos, stringsAsFactors = F)\n",
    "comidas\n",
    "str(comidas)"
   ]
  },
  {
   "cell_type": "markdown",
   "metadata": {},
   "source": [
    "### Acceso a elementos de un data frame"
   ]
  },
  {
   "cell_type": "markdown",
   "metadata": {},
   "source": [
    "Acceso por filas:"
   ]
  },
  {
   "cell_type": "code",
   "execution_count": null,
   "metadata": {},
   "outputs": [],
   "source": [
    "comidas[2:3,]"
   ]
  },
  {
   "cell_type": "code",
   "execution_count": null,
   "metadata": {},
   "outputs": [],
   "source": [
    "comidas[c(-1,-3,-5,-10,-11),]"
   ]
  },
  {
   "cell_type": "markdown",
   "metadata": {},
   "source": [
    "Acceso por columnas:"
   ]
  },
  {
   "cell_type": "code",
   "execution_count": null,
   "metadata": {},
   "outputs": [],
   "source": [
    "comidas[,c(\"plato\",\"calorias\")]"
   ]
  },
  {
   "cell_type": "markdown",
   "metadata": {},
   "source": [
    "Se puede usar el símbolo **$** para acceder a una columna.  \n",
    "Las siguientes dos llamadas son equivalentes:"
   ]
  },
  {
   "cell_type": "code",
   "execution_count": null,
   "metadata": {},
   "outputs": [],
   "source": [
    "comidas$plato"
   ]
  },
  {
   "cell_type": "code",
   "execution_count": null,
   "metadata": {},
   "outputs": [],
   "source": [
    "comidas[,\"plato\"]"
   ]
  },
  {
   "cell_type": "code",
   "execution_count": null,
   "metadata": {},
   "outputs": [],
   "source": [
    "comidas[,1]"
   ]
  },
  {
   "cell_type": "code",
   "execution_count": null,
   "metadata": {},
   "outputs": [],
   "source": [
    "comidas[,c(-1,-2)]"
   ]
  },
  {
   "cell_type": "code",
   "execution_count": null,
   "metadata": {},
   "outputs": [],
   "source": [
    "comidas$plato[2:3]"
   ]
  },
  {
   "cell_type": "code",
   "execution_count": null,
   "metadata": {},
   "outputs": [],
   "source": [
    "comidas[2:3,\"plato\"]"
   ]
  },
  {
   "cell_type": "code",
   "execution_count": null,
   "metadata": {},
   "outputs": [],
   "source": [
    "colnames(comidas)"
   ]
  },
  {
   "cell_type": "markdown",
   "metadata": {},
   "source": [
    "Número de filas que tiene un dataframe:"
   ]
  },
  {
   "cell_type": "code",
   "execution_count": null,
   "metadata": {},
   "outputs": [],
   "source": [
    "nrow(comidas)"
   ]
  },
  {
   "cell_type": "markdown",
   "metadata": {},
   "source": [
    "También podemos dar nombres a las filas"
   ]
  },
  {
   "cell_type": "code",
   "execution_count": null,
   "metadata": {},
   "outputs": [],
   "source": [
    "rownames(comidas)<-paste0(\"comida\",1:nrow(comidas))\n",
    "comidas"
   ]
  },
  {
   "cell_type": "code",
   "execution_count": null,
   "metadata": {},
   "outputs": [],
   "source": [
    "comidas[\"comida5\",\"calorias\"]"
   ]
  },
  {
   "cell_type": "code",
   "execution_count": null,
   "metadata": {},
   "outputs": [],
   "source": [
    "comidas[5,\"calorias\"]"
   ]
  },
  {
   "cell_type": "code",
   "execution_count": null,
   "metadata": {},
   "outputs": [],
   "source": [
    "comidas[c(4,2),c(3,2,1)]"
   ]
  },
  {
   "cell_type": "markdown",
   "metadata": {},
   "source": [
    "El nombre de las columnas y de las filas se puede obtener y modificar con las funciones **colnames()** y **rownames()**."
   ]
  },
  {
   "cell_type": "code",
   "execution_count": null,
   "metadata": {},
   "outputs": [],
   "source": [
    "colnames(comidas)\n",
    "rownames(comidas)"
   ]
  },
  {
   "cell_type": "markdown",
   "metadata": {},
   "source": [
    "### Dataset con variable categoricas "
   ]
  },
  {
   "cell_type": "code",
   "execution_count": null,
   "metadata": {},
   "outputs": [],
   "source": [
    "comidas<-data.frame(plato=plt, calorias=cal, sabor=saboresDePlatos, stringsAsFactors = T)\n",
    "comidas\n",
    "str(comidas)"
   ]
  },
  {
   "cell_type": "markdown",
   "metadata": {},
   "source": [
    "## Arrays 3D\n",
    "\n",
    "Se pueden crear arrays N-dimensionales con la función array"
   ]
  },
  {
   "cell_type": "code",
   "execution_count": null,
   "metadata": {},
   "outputs": [],
   "source": [
    "arr<-array(1:12,dim = c(3,2,2))\n",
    "arr"
   ]
  },
  {
   "cell_type": "markdown",
   "metadata": {},
   "source": [
    "El acceso a elementos es similar al de las matrices"
   ]
  },
  {
   "cell_type": "code",
   "execution_count": null,
   "metadata": {},
   "outputs": [],
   "source": [
    "arr[1,2,1]"
   ]
  },
  {
   "cell_type": "code",
   "execution_count": null,
   "metadata": {},
   "outputs": [],
   "source": [
    "arr[1,,]"
   ]
  },
  {
   "cell_type": "code",
   "execution_count": null,
   "metadata": {},
   "outputs": [],
   "source": [
    "arr[2,,]"
   ]
  },
  {
   "cell_type": "code",
   "execution_count": null,
   "metadata": {},
   "outputs": [],
   "source": [
    "arr[3,,]"
   ]
  },
  {
   "cell_type": "code",
   "execution_count": null,
   "metadata": {},
   "outputs": [],
   "source": [
    "arr[4,,]"
   ]
  },
  {
   "cell_type": "code",
   "execution_count": null,
   "metadata": {},
   "outputs": [],
   "source": [
    "arr[,2,]"
   ]
  },
  {
   "cell_type": "markdown",
   "metadata": {},
   "source": [
    "## Fechas"
   ]
  },
  {
   "cell_type": "markdown",
   "metadata": {},
   "source": [
    "Existen dos objetos para almacenar fechas en R.\n",
    "\n",
    "* Posixct es recubrimiento sobre un timestamp en segundos.\n",
    "* Posixlt es una lista de objetos que contiene la información de la fecha"
   ]
  },
  {
   "cell_type": "code",
   "execution_count": null,
   "metadata": {},
   "outputs": [],
   "source": [
    "d1<-as.POSIXct(\"2018-10-5 15:40\")\n",
    "d2<-as.POSIXct(\"5/10/2018 17:33\",format=\"%m/%d/%Y\")\n",
    "\n",
    "d1\n",
    "d2"
   ]
  },
  {
   "cell_type": "code",
   "execution_count": null,
   "metadata": {},
   "outputs": [],
   "source": [
    "str(d1)"
   ]
  },
  {
   "cell_type": "code",
   "execution_count": null,
   "metadata": {},
   "outputs": [],
   "source": [
    "class(d1)"
   ]
  },
  {
   "cell_type": "code",
   "execution_count": null,
   "metadata": {},
   "outputs": [],
   "source": [
    "unclass(d1)"
   ]
  },
  {
   "cell_type": "code",
   "execution_count": null,
   "metadata": {},
   "outputs": [],
   "source": [
    "d1+60*60*24\n"
   ]
  },
  {
   "cell_type": "code",
   "execution_count": null,
   "metadata": {},
   "outputs": [],
   "source": [
    "d3<-as.POSIXlt(\"2018-4-5\")\n",
    "d3"
   ]
  },
  {
   "cell_type": "code",
   "execution_count": null,
   "metadata": {},
   "outputs": [],
   "source": [
    "d3"
   ]
  },
  {
   "cell_type": "code",
   "execution_count": null,
   "metadata": {},
   "outputs": [],
   "source": [
    "d3$mday<-6"
   ]
  },
  {
   "cell_type": "code",
   "execution_count": null,
   "metadata": {},
   "outputs": [],
   "source": [
    "d3"
   ]
  },
  {
   "cell_type": "code",
   "execution_count": null,
   "metadata": {},
   "outputs": [],
   "source": [
    "str(d3)"
   ]
  },
  {
   "cell_type": "code",
   "execution_count": null,
   "metadata": {},
   "outputs": [],
   "source": [
    "c(as.POSIXct(\"2018-01-01\"),as.POSIXct(\"2018-01-02\"),as.POSIXct(\"2018-01-03\"))"
   ]
  },
  {
   "cell_type": "code",
   "execution_count": null,
   "metadata": {},
   "outputs": [],
   "source": [
    "df<-data.frame(fecha=c(as.POSIXlt(\"2018-01-01\"),as.POSIXlt(\"2018-01-02\"),as.POSIXlt(\"2018-01-03\")))\n",
    "str(df)\n"
   ]
  },
  {
   "cell_type": "markdown",
   "metadata": {},
   "source": [
    "## Valores infinitos y NaN (Not a Number)\n",
    "\n",
    "Inf y -Inf son negativo positivo y negativo, mientras que NaN significa \"Not a Number\""
   ]
  },
  {
   "cell_type": "code",
   "execution_count": null,
   "metadata": {},
   "outputs": [],
   "source": [
    "x<-10\n",
    "x<-1/0\n",
    "x<-0/0\n",
    "paste(\"El valor de x es\",x)\n",
    "\n",
    "is.finite(x)\n",
    "is.infinite(x)\n",
    "is.nan(x)"
   ]
  },
  {
   "cell_type": "code",
   "execution_count": null,
   "metadata": {},
   "outputs": [],
   "source": [
    "#Valores NaN\n",
    "is.nan(NaN)\n",
    "is.nan(0/0)\n",
    "is.nan(Inf-Inf)"
   ]
  },
  {
   "cell_type": "markdown",
   "metadata": {},
   "source": [
    "La comprobación de si un número es NaN se tiene que realizar con la funcion is.nan()"
   ]
  },
  {
   "cell_type": "code",
   "execution_count": null,
   "metadata": {},
   "outputs": [],
   "source": [
    "x<-NaN\n",
    "x==NaN\n",
    "is.nan(x)"
   ]
  },
  {
   "cell_type": "markdown",
   "metadata": {},
   "source": [
    "## Valores NULL\n",
    "\n",
    "Simplemente son valores que no existen. Es un concepto similar a otros lenguajes como Java o C."
   ]
  },
  {
   "cell_type": "code",
   "execution_count": null,
   "metadata": {},
   "outputs": [],
   "source": [
    "# Los valores NULL simplemente se ignoran\n",
    "c(1,2,NA,NULL,3,NULL,3,NULL)"
   ]
  },
  {
   "cell_type": "code",
   "execution_count": null,
   "metadata": {},
   "outputs": [],
   "source": [
    "x<-NULL\n",
    "x\n",
    "is.null(x)"
   ]
  },
  {
   "cell_type": "code",
   "execution_count": null,
   "metadata": {},
   "outputs": [],
   "source": [
    "df<-data.frame(x=c(1,2,1,1),y=c(3,2,1,1))\n",
    "df"
   ]
  },
  {
   "cell_type": "code",
   "execution_count": null,
   "metadata": {},
   "outputs": [],
   "source": [
    "df$y<- NULL\n",
    "df"
   ]
  },
  {
   "cell_type": "code",
   "execution_count": null,
   "metadata": {},
   "outputs": [],
   "source": [
    "df$y\n",
    "is.null(df$y)"
   ]
  },
  {
   "cell_type": "markdown",
   "metadata": {},
   "source": [
    "## Valores no disponibles / Missing Values\n",
    "\n",
    "Son valores para los cuales no tenemos ninguna medida, se representan con un NA (\"Not Available).\n",
    "\n",
    "Pertenecen a valores perdidos que no se han podido recuperar, errores de medida, perdidas de datos, etc..\n",
    "\n",
    "En R los detectamos con: *is.na(x)*\n",
    "\n",
    "y podemos reemplazar su valor con la media, moda, mediana, etc...\n",
    "\n",
    "o simplemente eliminarlos: *na.omit(x)*\n",
    "\n",
    "Si estamos trabajando con series temporales es posible que queramos hacer una interpolación de los valores perdidos:\n",
    "\n",
    "zoo::na.approx(x)"
   ]
  },
  {
   "cell_type": "code",
   "execution_count": null,
   "metadata": {},
   "outputs": [],
   "source": [
    "NA"
   ]
  },
  {
   "cell_type": "code",
   "execution_count": null,
   "metadata": {},
   "outputs": [],
   "source": [
    "data<-c(1,3,NA,6)\n",
    "data"
   ]
  },
  {
   "cell_type": "code",
   "execution_count": null,
   "metadata": {},
   "outputs": [],
   "source": [
    "is.na(data)"
   ]
  },
  {
   "cell_type": "code",
   "execution_count": null,
   "metadata": {},
   "outputs": [],
   "source": [
    "na.omit(data)"
   ]
  },
  {
   "cell_type": "code",
   "execution_count": null,
   "metadata": {},
   "outputs": [],
   "source": [
    "paste(\"El número de elementos con NA:\",length(data[is.na(data)]))"
   ]
  },
  {
   "cell_type": "code",
   "execution_count": null,
   "metadata": {},
   "outputs": [],
   "source": [
    "paste(\"El número de elementos que NO son NA:\",length(data[!is.na(data)]))"
   ]
  },
  {
   "cell_type": "code",
   "execution_count": null,
   "metadata": {},
   "outputs": [],
   "source": [
    "data[1]<-10\n",
    "data"
   ]
  },
  {
   "cell_type": "code",
   "execution_count": null,
   "metadata": {},
   "outputs": [],
   "source": [
    "data[is.na(data)] <- 28\n",
    "data"
   ]
  },
  {
   "cell_type": "markdown",
   "metadata": {},
   "source": [
    "## Ejemplo datos reales\n",
    "\n",
    "\n",
    "#### Dataset coches\n",
    "\n",
    "Partimos del dataset de seguro de automóviles que podemos descargar de:\n",
    "\n",
    "https://archive.ics.uci.edu/ml/datasets/Automobile\n"
   ]
  },
  {
   "cell_type": "code",
   "execution_count": 2,
   "metadata": {},
   "outputs": [],
   "source": [
    "autos<-read.csv(\"./data//imports-85.data\", col.names = c(\"risk\", \"normalized_losses\", \n",
    "                                                         \"make\", \"fuel_type\", \"aspiration\",\n",
    "           \"num_doors\", \"body_style\", \"drive_wheels\", \"engine_location\",\n",
    "           \"wheel_base\", \"length\", \"width\", \"height\", \"curb_weight\",\n",
    "           \"engine_type\", \"num_cylinders\", \"engine_size\", \"fuel_system\",\n",
    "           \"bore\", \"stroke\", \"compression_ratio\", \"horsepower\", \"peak_rpm\",\n",
    "           \"city_mpg\", \"highway_mpg\", \"price\"))"
   ]
  },
  {
   "cell_type": "code",
   "execution_count": 3,
   "metadata": {},
   "outputs": [
    {
     "data": {
      "text/html": [
       "<table class=\"dataframe\">\n",
       "<caption>A data.frame: 6 × 26</caption>\n",
       "<thead>\n",
       "\t<tr><th></th><th scope=col>risk</th><th scope=col>normalized_losses</th><th scope=col>make</th><th scope=col>fuel_type</th><th scope=col>aspiration</th><th scope=col>num_doors</th><th scope=col>body_style</th><th scope=col>drive_wheels</th><th scope=col>engine_location</th><th scope=col>wheel_base</th><th scope=col>⋯</th><th scope=col>engine_size</th><th scope=col>fuel_system</th><th scope=col>bore</th><th scope=col>stroke</th><th scope=col>compression_ratio</th><th scope=col>horsepower</th><th scope=col>peak_rpm</th><th scope=col>city_mpg</th><th scope=col>highway_mpg</th><th scope=col>price</th></tr>\n",
       "\t<tr><th></th><th scope=col>&lt;int&gt;</th><th scope=col>&lt;chr&gt;</th><th scope=col>&lt;chr&gt;</th><th scope=col>&lt;chr&gt;</th><th scope=col>&lt;chr&gt;</th><th scope=col>&lt;chr&gt;</th><th scope=col>&lt;chr&gt;</th><th scope=col>&lt;chr&gt;</th><th scope=col>&lt;chr&gt;</th><th scope=col>&lt;dbl&gt;</th><th scope=col>⋯</th><th scope=col>&lt;int&gt;</th><th scope=col>&lt;chr&gt;</th><th scope=col>&lt;chr&gt;</th><th scope=col>&lt;chr&gt;</th><th scope=col>&lt;dbl&gt;</th><th scope=col>&lt;chr&gt;</th><th scope=col>&lt;chr&gt;</th><th scope=col>&lt;int&gt;</th><th scope=col>&lt;int&gt;</th><th scope=col>&lt;chr&gt;</th></tr>\n",
       "</thead>\n",
       "<tbody>\n",
       "\t<tr><th scope=row>1</th><td>3</td><td>?  </td><td>alfa-romero</td><td>gas</td><td>std</td><td>two </td><td>convertible</td><td>rwd</td><td>front</td><td> 88.6</td><td>⋯</td><td>130</td><td>mpfi</td><td>3.47</td><td>2.68</td><td> 9.0</td><td>111</td><td>5000</td><td>21</td><td>27</td><td>16500</td></tr>\n",
       "\t<tr><th scope=row>2</th><td>1</td><td>?  </td><td>alfa-romero</td><td>gas</td><td>std</td><td>two </td><td>hatchback  </td><td>rwd</td><td>front</td><td> 94.5</td><td>⋯</td><td>152</td><td>mpfi</td><td>2.68</td><td>3.47</td><td> 9.0</td><td>154</td><td>5000</td><td>19</td><td>26</td><td>16500</td></tr>\n",
       "\t<tr><th scope=row>3</th><td>2</td><td>164</td><td>audi       </td><td>gas</td><td>std</td><td>four</td><td>sedan      </td><td>fwd</td><td>front</td><td> 99.8</td><td>⋯</td><td>109</td><td>mpfi</td><td>3.19</td><td>3.40</td><td>10.0</td><td>102</td><td>5500</td><td>24</td><td>30</td><td>13950</td></tr>\n",
       "\t<tr><th scope=row>4</th><td>2</td><td>164</td><td>audi       </td><td>gas</td><td>std</td><td>four</td><td>sedan      </td><td>4wd</td><td>front</td><td> 99.4</td><td>⋯</td><td>136</td><td>mpfi</td><td>3.19</td><td>3.40</td><td> 8.0</td><td>115</td><td>5500</td><td>18</td><td>22</td><td>17450</td></tr>\n",
       "\t<tr><th scope=row>5</th><td>2</td><td>?  </td><td>audi       </td><td>gas</td><td>std</td><td>two </td><td>sedan      </td><td>fwd</td><td>front</td><td> 99.8</td><td>⋯</td><td>136</td><td>mpfi</td><td>3.19</td><td>3.40</td><td> 8.5</td><td>110</td><td>5500</td><td>19</td><td>25</td><td>15250</td></tr>\n",
       "\t<tr><th scope=row>6</th><td>1</td><td>158</td><td>audi       </td><td>gas</td><td>std</td><td>four</td><td>sedan      </td><td>fwd</td><td>front</td><td>105.8</td><td>⋯</td><td>136</td><td>mpfi</td><td>3.19</td><td>3.40</td><td> 8.5</td><td>110</td><td>5500</td><td>19</td><td>25</td><td>17710</td></tr>\n",
       "</tbody>\n",
       "</table>\n"
      ],
      "text/latex": [
       "A data.frame: 6 × 26\n",
       "\\begin{tabular}{r|lllllllllllllllllllll}\n",
       "  & risk & normalized\\_losses & make & fuel\\_type & aspiration & num\\_doors & body\\_style & drive\\_wheels & engine\\_location & wheel\\_base & ⋯ & engine\\_size & fuel\\_system & bore & stroke & compression\\_ratio & horsepower & peak\\_rpm & city\\_mpg & highway\\_mpg & price\\\\\n",
       "  & <int> & <chr> & <chr> & <chr> & <chr> & <chr> & <chr> & <chr> & <chr> & <dbl> & ⋯ & <int> & <chr> & <chr> & <chr> & <dbl> & <chr> & <chr> & <int> & <int> & <chr>\\\\\n",
       "\\hline\n",
       "\t1 & 3 & ?   & alfa-romero & gas & std & two  & convertible & rwd & front &  88.6 & ⋯ & 130 & mpfi & 3.47 & 2.68 &  9.0 & 111 & 5000 & 21 & 27 & 16500\\\\\n",
       "\t2 & 1 & ?   & alfa-romero & gas & std & two  & hatchback   & rwd & front &  94.5 & ⋯ & 152 & mpfi & 2.68 & 3.47 &  9.0 & 154 & 5000 & 19 & 26 & 16500\\\\\n",
       "\t3 & 2 & 164 & audi        & gas & std & four & sedan       & fwd & front &  99.8 & ⋯ & 109 & mpfi & 3.19 & 3.40 & 10.0 & 102 & 5500 & 24 & 30 & 13950\\\\\n",
       "\t4 & 2 & 164 & audi        & gas & std & four & sedan       & 4wd & front &  99.4 & ⋯ & 136 & mpfi & 3.19 & 3.40 &  8.0 & 115 & 5500 & 18 & 22 & 17450\\\\\n",
       "\t5 & 2 & ?   & audi        & gas & std & two  & sedan       & fwd & front &  99.8 & ⋯ & 136 & mpfi & 3.19 & 3.40 &  8.5 & 110 & 5500 & 19 & 25 & 15250\\\\\n",
       "\t6 & 1 & 158 & audi        & gas & std & four & sedan       & fwd & front & 105.8 & ⋯ & 136 & mpfi & 3.19 & 3.40 &  8.5 & 110 & 5500 & 19 & 25 & 17710\\\\\n",
       "\\end{tabular}\n"
      ],
      "text/markdown": [
       "\n",
       "A data.frame: 6 × 26\n",
       "\n",
       "| <!--/--> | risk &lt;int&gt; | normalized_losses &lt;chr&gt; | make &lt;chr&gt; | fuel_type &lt;chr&gt; | aspiration &lt;chr&gt; | num_doors &lt;chr&gt; | body_style &lt;chr&gt; | drive_wheels &lt;chr&gt; | engine_location &lt;chr&gt; | wheel_base &lt;dbl&gt; | ⋯ ⋯ | engine_size &lt;int&gt; | fuel_system &lt;chr&gt; | bore &lt;chr&gt; | stroke &lt;chr&gt; | compression_ratio &lt;dbl&gt; | horsepower &lt;chr&gt; | peak_rpm &lt;chr&gt; | city_mpg &lt;int&gt; | highway_mpg &lt;int&gt; | price &lt;chr&gt; |\n",
       "|---|---|---|---|---|---|---|---|---|---|---|---|---|---|---|---|---|---|---|---|---|---|\n",
       "| 1 | 3 | ?   | alfa-romero | gas | std | two  | convertible | rwd | front |  88.6 | ⋯ | 130 | mpfi | 3.47 | 2.68 |  9.0 | 111 | 5000 | 21 | 27 | 16500 |\n",
       "| 2 | 1 | ?   | alfa-romero | gas | std | two  | hatchback   | rwd | front |  94.5 | ⋯ | 152 | mpfi | 2.68 | 3.47 |  9.0 | 154 | 5000 | 19 | 26 | 16500 |\n",
       "| 3 | 2 | 164 | audi        | gas | std | four | sedan       | fwd | front |  99.8 | ⋯ | 109 | mpfi | 3.19 | 3.40 | 10.0 | 102 | 5500 | 24 | 30 | 13950 |\n",
       "| 4 | 2 | 164 | audi        | gas | std | four | sedan       | 4wd | front |  99.4 | ⋯ | 136 | mpfi | 3.19 | 3.40 |  8.0 | 115 | 5500 | 18 | 22 | 17450 |\n",
       "| 5 | 2 | ?   | audi        | gas | std | two  | sedan       | fwd | front |  99.8 | ⋯ | 136 | mpfi | 3.19 | 3.40 |  8.5 | 110 | 5500 | 19 | 25 | 15250 |\n",
       "| 6 | 1 | 158 | audi        | gas | std | four | sedan       | fwd | front | 105.8 | ⋯ | 136 | mpfi | 3.19 | 3.40 |  8.5 | 110 | 5500 | 19 | 25 | 17710 |\n",
       "\n"
      ],
      "text/plain": [
       "  risk normalized_losses make        fuel_type aspiration num_doors body_style \n",
       "1 3    ?                 alfa-romero gas       std        two       convertible\n",
       "2 1    ?                 alfa-romero gas       std        two       hatchback  \n",
       "3 2    164               audi        gas       std        four      sedan      \n",
       "4 2    164               audi        gas       std        four      sedan      \n",
       "5 2    ?                 audi        gas       std        two       sedan      \n",
       "6 1    158               audi        gas       std        four      sedan      \n",
       "  drive_wheels engine_location wheel_base ⋯ engine_size fuel_system bore stroke\n",
       "1 rwd          front            88.6      ⋯ 130         mpfi        3.47 2.68  \n",
       "2 rwd          front            94.5      ⋯ 152         mpfi        2.68 3.47  \n",
       "3 fwd          front            99.8      ⋯ 109         mpfi        3.19 3.40  \n",
       "4 4wd          front            99.4      ⋯ 136         mpfi        3.19 3.40  \n",
       "5 fwd          front            99.8      ⋯ 136         mpfi        3.19 3.40  \n",
       "6 fwd          front           105.8      ⋯ 136         mpfi        3.19 3.40  \n",
       "  compression_ratio horsepower peak_rpm city_mpg highway_mpg price\n",
       "1  9.0              111        5000     21       27          16500\n",
       "2  9.0              154        5000     19       26          16500\n",
       "3 10.0              102        5500     24       30          13950\n",
       "4  8.0              115        5500     18       22          17450\n",
       "5  8.5              110        5500     19       25          15250\n",
       "6  8.5              110        5500     19       25          17710"
      ]
     },
     "metadata": {},
     "output_type": "display_data"
    }
   ],
   "source": [
    "head(autos)"
   ]
  },
  {
   "cell_type": "code",
   "execution_count": null,
   "metadata": {},
   "outputs": [],
   "source": []
  },
  {
   "cell_type": "markdown",
   "metadata": {},
   "source": [
    "Nos quedamos solo con las columnas: \"price\",\"horsepower\",\"body_style\",\"risk\""
   ]
  },
  {
   "cell_type": "code",
   "execution_count": 4,
   "metadata": {},
   "outputs": [
    {
     "data": {
      "text/html": [
       "<table class=\"dataframe\">\n",
       "<caption>A data.frame: 204 × 4</caption>\n",
       "<thead>\n",
       "\t<tr><th scope=col>price</th><th scope=col>horsepower</th><th scope=col>body_style</th><th scope=col>risk</th></tr>\n",
       "\t<tr><th scope=col>&lt;chr&gt;</th><th scope=col>&lt;chr&gt;</th><th scope=col>&lt;chr&gt;</th><th scope=col>&lt;int&gt;</th></tr>\n",
       "</thead>\n",
       "<tbody>\n",
       "\t<tr><td>16500</td><td>111</td><td>convertible</td><td> 3</td></tr>\n",
       "\t<tr><td>16500</td><td>154</td><td>hatchback  </td><td> 1</td></tr>\n",
       "\t<tr><td>13950</td><td>102</td><td>sedan      </td><td> 2</td></tr>\n",
       "\t<tr><td>17450</td><td>115</td><td>sedan      </td><td> 2</td></tr>\n",
       "\t<tr><td>15250</td><td>110</td><td>sedan      </td><td> 2</td></tr>\n",
       "\t<tr><td>17710</td><td>110</td><td>sedan      </td><td> 1</td></tr>\n",
       "\t<tr><td>18920</td><td>110</td><td>wagon      </td><td> 1</td></tr>\n",
       "\t<tr><td>23875</td><td>140</td><td>sedan      </td><td> 1</td></tr>\n",
       "\t<tr><td>?    </td><td>160</td><td>hatchback  </td><td> 0</td></tr>\n",
       "\t<tr><td>16430</td><td>101</td><td>sedan      </td><td> 2</td></tr>\n",
       "\t<tr><td>16925</td><td>101</td><td>sedan      </td><td> 0</td></tr>\n",
       "\t<tr><td>20970</td><td>121</td><td>sedan      </td><td> 0</td></tr>\n",
       "\t<tr><td>21105</td><td>121</td><td>sedan      </td><td> 0</td></tr>\n",
       "\t<tr><td>24565</td><td>121</td><td>sedan      </td><td> 1</td></tr>\n",
       "\t<tr><td>30760</td><td>182</td><td>sedan      </td><td> 0</td></tr>\n",
       "\t<tr><td>41315</td><td>182</td><td>sedan      </td><td> 0</td></tr>\n",
       "\t<tr><td>36880</td><td>182</td><td>sedan      </td><td> 0</td></tr>\n",
       "\t<tr><td>5151 </td><td>48 </td><td>hatchback  </td><td> 2</td></tr>\n",
       "\t<tr><td>6295 </td><td>70 </td><td>hatchback  </td><td> 1</td></tr>\n",
       "\t<tr><td>6575 </td><td>70 </td><td>sedan      </td><td> 0</td></tr>\n",
       "\t<tr><td>5572 </td><td>68 </td><td>hatchback  </td><td> 1</td></tr>\n",
       "\t<tr><td>6377 </td><td>68 </td><td>hatchback  </td><td> 1</td></tr>\n",
       "\t<tr><td>7957 </td><td>102</td><td>hatchback  </td><td> 1</td></tr>\n",
       "\t<tr><td>6229 </td><td>68 </td><td>hatchback  </td><td> 1</td></tr>\n",
       "\t<tr><td>6692 </td><td>68 </td><td>sedan      </td><td> 1</td></tr>\n",
       "\t<tr><td>7609 </td><td>68 </td><td>sedan      </td><td> 1</td></tr>\n",
       "\t<tr><td>8558 </td><td>102</td><td>sedan      </td><td> 1</td></tr>\n",
       "\t<tr><td>8921 </td><td>88 </td><td>wagon      </td><td>-1</td></tr>\n",
       "\t<tr><td>12964</td><td>145</td><td>hatchback  </td><td> 3</td></tr>\n",
       "\t<tr><td>6479 </td><td>58 </td><td>hatchback  </td><td> 2</td></tr>\n",
       "\t<tr><td>⋮</td><td>⋮</td><td>⋮</td><td>⋮</td></tr>\n",
       "\t<tr><td>9988 </td><td>92 </td><td>hatchback  </td><td>-1</td></tr>\n",
       "\t<tr><td>10898</td><td>92 </td><td>sedan      </td><td>-1</td></tr>\n",
       "\t<tr><td>11248</td><td>92 </td><td>hatchback  </td><td>-1</td></tr>\n",
       "\t<tr><td>16558</td><td>161</td><td>hatchback  </td><td> 3</td></tr>\n",
       "\t<tr><td>15998</td><td>161</td><td>hatchback  </td><td> 3</td></tr>\n",
       "\t<tr><td>15690</td><td>156</td><td>sedan      </td><td>-1</td></tr>\n",
       "\t<tr><td>15750</td><td>156</td><td>wagon      </td><td>-1</td></tr>\n",
       "\t<tr><td>7775 </td><td>52 </td><td>sedan      </td><td> 2</td></tr>\n",
       "\t<tr><td>7975 </td><td>85 </td><td>sedan      </td><td> 2</td></tr>\n",
       "\t<tr><td>7995 </td><td>52 </td><td>sedan      </td><td> 2</td></tr>\n",
       "\t<tr><td>8195 </td><td>85 </td><td>sedan      </td><td> 2</td></tr>\n",
       "\t<tr><td>8495 </td><td>85 </td><td>sedan      </td><td> 2</td></tr>\n",
       "\t<tr><td>9495 </td><td>68 </td><td>sedan      </td><td> 2</td></tr>\n",
       "\t<tr><td>9995 </td><td>100</td><td>sedan      </td><td> 2</td></tr>\n",
       "\t<tr><td>11595</td><td>90 </td><td>convertible</td><td> 3</td></tr>\n",
       "\t<tr><td>9980 </td><td>90 </td><td>hatchback  </td><td> 3</td></tr>\n",
       "\t<tr><td>13295</td><td>110</td><td>sedan      </td><td> 0</td></tr>\n",
       "\t<tr><td>13845</td><td>68 </td><td>sedan      </td><td> 0</td></tr>\n",
       "\t<tr><td>12290</td><td>88 </td><td>wagon      </td><td> 0</td></tr>\n",
       "\t<tr><td>12940</td><td>114</td><td>sedan      </td><td>-2</td></tr>\n",
       "\t<tr><td>13415</td><td>114</td><td>wagon      </td><td>-1</td></tr>\n",
       "\t<tr><td>15985</td><td>114</td><td>sedan      </td><td>-2</td></tr>\n",
       "\t<tr><td>16515</td><td>114</td><td>wagon      </td><td>-1</td></tr>\n",
       "\t<tr><td>18420</td><td>162</td><td>sedan      </td><td>-2</td></tr>\n",
       "\t<tr><td>18950</td><td>162</td><td>wagon      </td><td>-1</td></tr>\n",
       "\t<tr><td>16845</td><td>114</td><td>sedan      </td><td>-1</td></tr>\n",
       "\t<tr><td>19045</td><td>160</td><td>sedan      </td><td>-1</td></tr>\n",
       "\t<tr><td>21485</td><td>134</td><td>sedan      </td><td>-1</td></tr>\n",
       "\t<tr><td>22470</td><td>106</td><td>sedan      </td><td>-1</td></tr>\n",
       "\t<tr><td>22625</td><td>114</td><td>sedan      </td><td>-1</td></tr>\n",
       "</tbody>\n",
       "</table>\n"
      ],
      "text/latex": [
       "A data.frame: 204 × 4\n",
       "\\begin{tabular}{llll}\n",
       " price & horsepower & body\\_style & risk\\\\\n",
       " <chr> & <chr> & <chr> & <int>\\\\\n",
       "\\hline\n",
       "\t 16500 & 111 & convertible &  3\\\\\n",
       "\t 16500 & 154 & hatchback   &  1\\\\\n",
       "\t 13950 & 102 & sedan       &  2\\\\\n",
       "\t 17450 & 115 & sedan       &  2\\\\\n",
       "\t 15250 & 110 & sedan       &  2\\\\\n",
       "\t 17710 & 110 & sedan       &  1\\\\\n",
       "\t 18920 & 110 & wagon       &  1\\\\\n",
       "\t 23875 & 140 & sedan       &  1\\\\\n",
       "\t ?     & 160 & hatchback   &  0\\\\\n",
       "\t 16430 & 101 & sedan       &  2\\\\\n",
       "\t 16925 & 101 & sedan       &  0\\\\\n",
       "\t 20970 & 121 & sedan       &  0\\\\\n",
       "\t 21105 & 121 & sedan       &  0\\\\\n",
       "\t 24565 & 121 & sedan       &  1\\\\\n",
       "\t 30760 & 182 & sedan       &  0\\\\\n",
       "\t 41315 & 182 & sedan       &  0\\\\\n",
       "\t 36880 & 182 & sedan       &  0\\\\\n",
       "\t 5151  & 48  & hatchback   &  2\\\\\n",
       "\t 6295  & 70  & hatchback   &  1\\\\\n",
       "\t 6575  & 70  & sedan       &  0\\\\\n",
       "\t 5572  & 68  & hatchback   &  1\\\\\n",
       "\t 6377  & 68  & hatchback   &  1\\\\\n",
       "\t 7957  & 102 & hatchback   &  1\\\\\n",
       "\t 6229  & 68  & hatchback   &  1\\\\\n",
       "\t 6692  & 68  & sedan       &  1\\\\\n",
       "\t 7609  & 68  & sedan       &  1\\\\\n",
       "\t 8558  & 102 & sedan       &  1\\\\\n",
       "\t 8921  & 88  & wagon       & -1\\\\\n",
       "\t 12964 & 145 & hatchback   &  3\\\\\n",
       "\t 6479  & 58  & hatchback   &  2\\\\\n",
       "\t ⋮ & ⋮ & ⋮ & ⋮\\\\\n",
       "\t 9988  & 92  & hatchback   & -1\\\\\n",
       "\t 10898 & 92  & sedan       & -1\\\\\n",
       "\t 11248 & 92  & hatchback   & -1\\\\\n",
       "\t 16558 & 161 & hatchback   &  3\\\\\n",
       "\t 15998 & 161 & hatchback   &  3\\\\\n",
       "\t 15690 & 156 & sedan       & -1\\\\\n",
       "\t 15750 & 156 & wagon       & -1\\\\\n",
       "\t 7775  & 52  & sedan       &  2\\\\\n",
       "\t 7975  & 85  & sedan       &  2\\\\\n",
       "\t 7995  & 52  & sedan       &  2\\\\\n",
       "\t 8195  & 85  & sedan       &  2\\\\\n",
       "\t 8495  & 85  & sedan       &  2\\\\\n",
       "\t 9495  & 68  & sedan       &  2\\\\\n",
       "\t 9995  & 100 & sedan       &  2\\\\\n",
       "\t 11595 & 90  & convertible &  3\\\\\n",
       "\t 9980  & 90  & hatchback   &  3\\\\\n",
       "\t 13295 & 110 & sedan       &  0\\\\\n",
       "\t 13845 & 68  & sedan       &  0\\\\\n",
       "\t 12290 & 88  & wagon       &  0\\\\\n",
       "\t 12940 & 114 & sedan       & -2\\\\\n",
       "\t 13415 & 114 & wagon       & -1\\\\\n",
       "\t 15985 & 114 & sedan       & -2\\\\\n",
       "\t 16515 & 114 & wagon       & -1\\\\\n",
       "\t 18420 & 162 & sedan       & -2\\\\\n",
       "\t 18950 & 162 & wagon       & -1\\\\\n",
       "\t 16845 & 114 & sedan       & -1\\\\\n",
       "\t 19045 & 160 & sedan       & -1\\\\\n",
       "\t 21485 & 134 & sedan       & -1\\\\\n",
       "\t 22470 & 106 & sedan       & -1\\\\\n",
       "\t 22625 & 114 & sedan       & -1\\\\\n",
       "\\end{tabular}\n"
      ],
      "text/markdown": [
       "\n",
       "A data.frame: 204 × 4\n",
       "\n",
       "| price &lt;chr&gt; | horsepower &lt;chr&gt; | body_style &lt;chr&gt; | risk &lt;int&gt; |\n",
       "|---|---|---|---|\n",
       "| 16500 | 111 | convertible |  3 |\n",
       "| 16500 | 154 | hatchback   |  1 |\n",
       "| 13950 | 102 | sedan       |  2 |\n",
       "| 17450 | 115 | sedan       |  2 |\n",
       "| 15250 | 110 | sedan       |  2 |\n",
       "| 17710 | 110 | sedan       |  1 |\n",
       "| 18920 | 110 | wagon       |  1 |\n",
       "| 23875 | 140 | sedan       |  1 |\n",
       "| ?     | 160 | hatchback   |  0 |\n",
       "| 16430 | 101 | sedan       |  2 |\n",
       "| 16925 | 101 | sedan       |  0 |\n",
       "| 20970 | 121 | sedan       |  0 |\n",
       "| 21105 | 121 | sedan       |  0 |\n",
       "| 24565 | 121 | sedan       |  1 |\n",
       "| 30760 | 182 | sedan       |  0 |\n",
       "| 41315 | 182 | sedan       |  0 |\n",
       "| 36880 | 182 | sedan       |  0 |\n",
       "| 5151  | 48  | hatchback   |  2 |\n",
       "| 6295  | 70  | hatchback   |  1 |\n",
       "| 6575  | 70  | sedan       |  0 |\n",
       "| 5572  | 68  | hatchback   |  1 |\n",
       "| 6377  | 68  | hatchback   |  1 |\n",
       "| 7957  | 102 | hatchback   |  1 |\n",
       "| 6229  | 68  | hatchback   |  1 |\n",
       "| 6692  | 68  | sedan       |  1 |\n",
       "| 7609  | 68  | sedan       |  1 |\n",
       "| 8558  | 102 | sedan       |  1 |\n",
       "| 8921  | 88  | wagon       | -1 |\n",
       "| 12964 | 145 | hatchback   |  3 |\n",
       "| 6479  | 58  | hatchback   |  2 |\n",
       "| ⋮ | ⋮ | ⋮ | ⋮ |\n",
       "| 9988  | 92  | hatchback   | -1 |\n",
       "| 10898 | 92  | sedan       | -1 |\n",
       "| 11248 | 92  | hatchback   | -1 |\n",
       "| 16558 | 161 | hatchback   |  3 |\n",
       "| 15998 | 161 | hatchback   |  3 |\n",
       "| 15690 | 156 | sedan       | -1 |\n",
       "| 15750 | 156 | wagon       | -1 |\n",
       "| 7775  | 52  | sedan       |  2 |\n",
       "| 7975  | 85  | sedan       |  2 |\n",
       "| 7995  | 52  | sedan       |  2 |\n",
       "| 8195  | 85  | sedan       |  2 |\n",
       "| 8495  | 85  | sedan       |  2 |\n",
       "| 9495  | 68  | sedan       |  2 |\n",
       "| 9995  | 100 | sedan       |  2 |\n",
       "| 11595 | 90  | convertible |  3 |\n",
       "| 9980  | 90  | hatchback   |  3 |\n",
       "| 13295 | 110 | sedan       |  0 |\n",
       "| 13845 | 68  | sedan       |  0 |\n",
       "| 12290 | 88  | wagon       |  0 |\n",
       "| 12940 | 114 | sedan       | -2 |\n",
       "| 13415 | 114 | wagon       | -1 |\n",
       "| 15985 | 114 | sedan       | -2 |\n",
       "| 16515 | 114 | wagon       | -1 |\n",
       "| 18420 | 162 | sedan       | -2 |\n",
       "| 18950 | 162 | wagon       | -1 |\n",
       "| 16845 | 114 | sedan       | -1 |\n",
       "| 19045 | 160 | sedan       | -1 |\n",
       "| 21485 | 134 | sedan       | -1 |\n",
       "| 22470 | 106 | sedan       | -1 |\n",
       "| 22625 | 114 | sedan       | -1 |\n",
       "\n"
      ],
      "text/plain": [
       "    price horsepower body_style  risk\n",
       "1   16500 111        convertible  3  \n",
       "2   16500 154        hatchback    1  \n",
       "3   13950 102        sedan        2  \n",
       "4   17450 115        sedan        2  \n",
       "5   15250 110        sedan        2  \n",
       "6   17710 110        sedan        1  \n",
       "7   18920 110        wagon        1  \n",
       "8   23875 140        sedan        1  \n",
       "9   ?     160        hatchback    0  \n",
       "10  16430 101        sedan        2  \n",
       "11  16925 101        sedan        0  \n",
       "12  20970 121        sedan        0  \n",
       "13  21105 121        sedan        0  \n",
       "14  24565 121        sedan        1  \n",
       "15  30760 182        sedan        0  \n",
       "16  41315 182        sedan        0  \n",
       "17  36880 182        sedan        0  \n",
       "18  5151  48         hatchback    2  \n",
       "19  6295  70         hatchback    1  \n",
       "20  6575  70         sedan        0  \n",
       "21  5572  68         hatchback    1  \n",
       "22  6377  68         hatchback    1  \n",
       "23  7957  102        hatchback    1  \n",
       "24  6229  68         hatchback    1  \n",
       "25  6692  68         sedan        1  \n",
       "26  7609  68         sedan        1  \n",
       "27  8558  102        sedan        1  \n",
       "28  8921  88         wagon       -1  \n",
       "29  12964 145        hatchback    3  \n",
       "30  6479  58         hatchback    2  \n",
       "⋮   ⋮     ⋮          ⋮           ⋮   \n",
       "175 9988  92         hatchback   -1  \n",
       "176 10898 92         sedan       -1  \n",
       "177 11248 92         hatchback   -1  \n",
       "178 16558 161        hatchback    3  \n",
       "179 15998 161        hatchback    3  \n",
       "180 15690 156        sedan       -1  \n",
       "181 15750 156        wagon       -1  \n",
       "182 7775  52         sedan        2  \n",
       "183 7975  85         sedan        2  \n",
       "184 7995  52         sedan        2  \n",
       "185 8195  85         sedan        2  \n",
       "186 8495  85         sedan        2  \n",
       "187 9495  68         sedan        2  \n",
       "188 9995  100        sedan        2  \n",
       "189 11595 90         convertible  3  \n",
       "190 9980  90         hatchback    3  \n",
       "191 13295 110        sedan        0  \n",
       "192 13845 68         sedan        0  \n",
       "193 12290 88         wagon        0  \n",
       "194 12940 114        sedan       -2  \n",
       "195 13415 114        wagon       -1  \n",
       "196 15985 114        sedan       -2  \n",
       "197 16515 114        wagon       -1  \n",
       "198 18420 162        sedan       -2  \n",
       "199 18950 162        wagon       -1  \n",
       "200 16845 114        sedan       -1  \n",
       "201 19045 160        sedan       -1  \n",
       "202 21485 134        sedan       -1  \n",
       "203 22470 106        sedan       -1  \n",
       "204 22625 114        sedan       -1  "
      ]
     },
     "metadata": {},
     "output_type": "display_data"
    }
   ],
   "source": [
    "autos[c(\"price\",\"horsepower\", \"body_style\", \"risk\")]"
   ]
  },
  {
   "cell_type": "markdown",
   "metadata": {
    "collapsed": true
   },
   "source": [
    "En este CSV cuando existe un valor desconocido lo han indicado con el caracter '?'. Por ese motivo la columna 'price' y 'horsepower' es factor en lugar de numeric.\n",
    "Tenemos que indicarle a R que son NA:"
   ]
  },
  {
   "cell_type": "code",
   "execution_count": 5,
   "metadata": {},
   "outputs": [
    {
     "data": {
      "text/html": [
       "<style>\n",
       ".list-inline {list-style: none; margin:0; padding: 0}\n",
       ".list-inline>li {display: inline-block}\n",
       ".list-inline>li:not(:last-child)::after {content: \"\\00b7\"; padding: 0 .5ex}\n",
       "</style>\n",
       "<ol class=list-inline><li>FALSE</li><li>FALSE</li><li>FALSE</li><li>FALSE</li><li>FALSE</li><li>FALSE</li><li>FALSE</li><li>FALSE</li><li>FALSE</li><li>FALSE</li><li>FALSE</li><li>FALSE</li><li>FALSE</li><li>FALSE</li><li>FALSE</li><li>FALSE</li><li>FALSE</li><li>FALSE</li><li>FALSE</li><li>FALSE</li><li>FALSE</li><li>FALSE</li><li>FALSE</li><li>FALSE</li><li>FALSE</li><li>FALSE</li><li>FALSE</li><li>FALSE</li><li>FALSE</li><li>FALSE</li><li>FALSE</li><li>FALSE</li><li>FALSE</li><li>FALSE</li><li>FALSE</li><li>FALSE</li><li>FALSE</li><li>FALSE</li><li>FALSE</li><li>FALSE</li><li>FALSE</li><li>FALSE</li><li>FALSE</li><li>FALSE</li><li>FALSE</li><li>FALSE</li><li>FALSE</li><li>FALSE</li><li>FALSE</li><li>FALSE</li><li>FALSE</li><li>FALSE</li><li>FALSE</li><li>FALSE</li><li>FALSE</li><li>FALSE</li><li>FALSE</li><li>FALSE</li><li>FALSE</li><li>FALSE</li><li>FALSE</li><li>FALSE</li><li>FALSE</li><li>FALSE</li><li>FALSE</li><li>FALSE</li><li>FALSE</li><li>FALSE</li><li>FALSE</li><li>FALSE</li><li>FALSE</li><li>FALSE</li><li>FALSE</li><li>FALSE</li><li>FALSE</li><li>FALSE</li><li>FALSE</li><li>FALSE</li><li>FALSE</li><li>FALSE</li><li>FALSE</li><li>FALSE</li><li>FALSE</li><li>FALSE</li><li>FALSE</li><li>FALSE</li><li>FALSE</li><li>FALSE</li><li>FALSE</li><li>FALSE</li><li>FALSE</li><li>FALSE</li><li>FALSE</li><li>FALSE</li><li>FALSE</li><li>FALSE</li><li>FALSE</li><li>FALSE</li><li>FALSE</li><li>FALSE</li><li>FALSE</li><li>FALSE</li><li>FALSE</li><li>FALSE</li><li>FALSE</li><li>FALSE</li><li>FALSE</li><li>FALSE</li><li>FALSE</li><li>FALSE</li><li>FALSE</li><li>FALSE</li><li>FALSE</li><li>FALSE</li><li>FALSE</li><li>FALSE</li><li>FALSE</li><li>FALSE</li><li>FALSE</li><li>FALSE</li><li>FALSE</li><li>FALSE</li><li>FALSE</li><li>FALSE</li><li>FALSE</li><li>FALSE</li><li>FALSE</li><li>FALSE</li><li>FALSE</li><li>TRUE</li><li>TRUE</li><li>FALSE</li><li>FALSE</li><li>FALSE</li><li>FALSE</li><li>FALSE</li><li>FALSE</li><li>FALSE</li><li>FALSE</li><li>FALSE</li><li>FALSE</li><li>FALSE</li><li>FALSE</li><li>FALSE</li><li>FALSE</li><li>FALSE</li><li>FALSE</li><li>FALSE</li><li>FALSE</li><li>FALSE</li><li>FALSE</li><li>FALSE</li><li>FALSE</li><li>FALSE</li><li>FALSE</li><li>FALSE</li><li>FALSE</li><li>FALSE</li><li>FALSE</li><li>FALSE</li><li>FALSE</li><li>FALSE</li><li>FALSE</li><li>FALSE</li><li>FALSE</li><li>FALSE</li><li>FALSE</li><li>FALSE</li><li>FALSE</li><li>FALSE</li><li>FALSE</li><li>FALSE</li><li>FALSE</li><li>FALSE</li><li>FALSE</li><li>FALSE</li><li>FALSE</li><li>FALSE</li><li>FALSE</li><li>FALSE</li><li>FALSE</li><li>FALSE</li><li>FALSE</li><li>FALSE</li><li>FALSE</li><li>FALSE</li><li>FALSE</li><li>FALSE</li><li>FALSE</li><li>FALSE</li><li>FALSE</li><li>FALSE</li><li>FALSE</li><li>FALSE</li><li>FALSE</li><li>FALSE</li><li>FALSE</li><li>FALSE</li><li>FALSE</li><li>FALSE</li><li>FALSE</li><li>FALSE</li><li>FALSE</li><li>FALSE</li></ol>\n"
      ],
      "text/latex": [
       "\\begin{enumerate*}\n",
       "\\item FALSE\n",
       "\\item FALSE\n",
       "\\item FALSE\n",
       "\\item FALSE\n",
       "\\item FALSE\n",
       "\\item FALSE\n",
       "\\item FALSE\n",
       "\\item FALSE\n",
       "\\item FALSE\n",
       "\\item FALSE\n",
       "\\item FALSE\n",
       "\\item FALSE\n",
       "\\item FALSE\n",
       "\\item FALSE\n",
       "\\item FALSE\n",
       "\\item FALSE\n",
       "\\item FALSE\n",
       "\\item FALSE\n",
       "\\item FALSE\n",
       "\\item FALSE\n",
       "\\item FALSE\n",
       "\\item FALSE\n",
       "\\item FALSE\n",
       "\\item FALSE\n",
       "\\item FALSE\n",
       "\\item FALSE\n",
       "\\item FALSE\n",
       "\\item FALSE\n",
       "\\item FALSE\n",
       "\\item FALSE\n",
       "\\item FALSE\n",
       "\\item FALSE\n",
       "\\item FALSE\n",
       "\\item FALSE\n",
       "\\item FALSE\n",
       "\\item FALSE\n",
       "\\item FALSE\n",
       "\\item FALSE\n",
       "\\item FALSE\n",
       "\\item FALSE\n",
       "\\item FALSE\n",
       "\\item FALSE\n",
       "\\item FALSE\n",
       "\\item FALSE\n",
       "\\item FALSE\n",
       "\\item FALSE\n",
       "\\item FALSE\n",
       "\\item FALSE\n",
       "\\item FALSE\n",
       "\\item FALSE\n",
       "\\item FALSE\n",
       "\\item FALSE\n",
       "\\item FALSE\n",
       "\\item FALSE\n",
       "\\item FALSE\n",
       "\\item FALSE\n",
       "\\item FALSE\n",
       "\\item FALSE\n",
       "\\item FALSE\n",
       "\\item FALSE\n",
       "\\item FALSE\n",
       "\\item FALSE\n",
       "\\item FALSE\n",
       "\\item FALSE\n",
       "\\item FALSE\n",
       "\\item FALSE\n",
       "\\item FALSE\n",
       "\\item FALSE\n",
       "\\item FALSE\n",
       "\\item FALSE\n",
       "\\item FALSE\n",
       "\\item FALSE\n",
       "\\item FALSE\n",
       "\\item FALSE\n",
       "\\item FALSE\n",
       "\\item FALSE\n",
       "\\item FALSE\n",
       "\\item FALSE\n",
       "\\item FALSE\n",
       "\\item FALSE\n",
       "\\item FALSE\n",
       "\\item FALSE\n",
       "\\item FALSE\n",
       "\\item FALSE\n",
       "\\item FALSE\n",
       "\\item FALSE\n",
       "\\item FALSE\n",
       "\\item FALSE\n",
       "\\item FALSE\n",
       "\\item FALSE\n",
       "\\item FALSE\n",
       "\\item FALSE\n",
       "\\item FALSE\n",
       "\\item FALSE\n",
       "\\item FALSE\n",
       "\\item FALSE\n",
       "\\item FALSE\n",
       "\\item FALSE\n",
       "\\item FALSE\n",
       "\\item FALSE\n",
       "\\item FALSE\n",
       "\\item FALSE\n",
       "\\item FALSE\n",
       "\\item FALSE\n",
       "\\item FALSE\n",
       "\\item FALSE\n",
       "\\item FALSE\n",
       "\\item FALSE\n",
       "\\item FALSE\n",
       "\\item FALSE\n",
       "\\item FALSE\n",
       "\\item FALSE\n",
       "\\item FALSE\n",
       "\\item FALSE\n",
       "\\item FALSE\n",
       "\\item FALSE\n",
       "\\item FALSE\n",
       "\\item FALSE\n",
       "\\item FALSE\n",
       "\\item FALSE\n",
       "\\item FALSE\n",
       "\\item FALSE\n",
       "\\item FALSE\n",
       "\\item FALSE\n",
       "\\item FALSE\n",
       "\\item FALSE\n",
       "\\item FALSE\n",
       "\\item FALSE\n",
       "\\item FALSE\n",
       "\\item TRUE\n",
       "\\item TRUE\n",
       "\\item FALSE\n",
       "\\item FALSE\n",
       "\\item FALSE\n",
       "\\item FALSE\n",
       "\\item FALSE\n",
       "\\item FALSE\n",
       "\\item FALSE\n",
       "\\item FALSE\n",
       "\\item FALSE\n",
       "\\item FALSE\n",
       "\\item FALSE\n",
       "\\item FALSE\n",
       "\\item FALSE\n",
       "\\item FALSE\n",
       "\\item FALSE\n",
       "\\item FALSE\n",
       "\\item FALSE\n",
       "\\item FALSE\n",
       "\\item FALSE\n",
       "\\item FALSE\n",
       "\\item FALSE\n",
       "\\item FALSE\n",
       "\\item FALSE\n",
       "\\item FALSE\n",
       "\\item FALSE\n",
       "\\item FALSE\n",
       "\\item FALSE\n",
       "\\item FALSE\n",
       "\\item FALSE\n",
       "\\item FALSE\n",
       "\\item FALSE\n",
       "\\item FALSE\n",
       "\\item FALSE\n",
       "\\item FALSE\n",
       "\\item FALSE\n",
       "\\item FALSE\n",
       "\\item FALSE\n",
       "\\item FALSE\n",
       "\\item FALSE\n",
       "\\item FALSE\n",
       "\\item FALSE\n",
       "\\item FALSE\n",
       "\\item FALSE\n",
       "\\item FALSE\n",
       "\\item FALSE\n",
       "\\item FALSE\n",
       "\\item FALSE\n",
       "\\item FALSE\n",
       "\\item FALSE\n",
       "\\item FALSE\n",
       "\\item FALSE\n",
       "\\item FALSE\n",
       "\\item FALSE\n",
       "\\item FALSE\n",
       "\\item FALSE\n",
       "\\item FALSE\n",
       "\\item FALSE\n",
       "\\item FALSE\n",
       "\\item FALSE\n",
       "\\item FALSE\n",
       "\\item FALSE\n",
       "\\item FALSE\n",
       "\\item FALSE\n",
       "\\item FALSE\n",
       "\\item FALSE\n",
       "\\item FALSE\n",
       "\\item FALSE\n",
       "\\item FALSE\n",
       "\\item FALSE\n",
       "\\item FALSE\n",
       "\\item FALSE\n",
       "\\item FALSE\n",
       "\\item FALSE\n",
       "\\end{enumerate*}\n"
      ],
      "text/markdown": [
       "1. FALSE\n",
       "2. FALSE\n",
       "3. FALSE\n",
       "4. FALSE\n",
       "5. FALSE\n",
       "6. FALSE\n",
       "7. FALSE\n",
       "8. FALSE\n",
       "9. FALSE\n",
       "10. FALSE\n",
       "11. FALSE\n",
       "12. FALSE\n",
       "13. FALSE\n",
       "14. FALSE\n",
       "15. FALSE\n",
       "16. FALSE\n",
       "17. FALSE\n",
       "18. FALSE\n",
       "19. FALSE\n",
       "20. FALSE\n",
       "21. FALSE\n",
       "22. FALSE\n",
       "23. FALSE\n",
       "24. FALSE\n",
       "25. FALSE\n",
       "26. FALSE\n",
       "27. FALSE\n",
       "28. FALSE\n",
       "29. FALSE\n",
       "30. FALSE\n",
       "31. FALSE\n",
       "32. FALSE\n",
       "33. FALSE\n",
       "34. FALSE\n",
       "35. FALSE\n",
       "36. FALSE\n",
       "37. FALSE\n",
       "38. FALSE\n",
       "39. FALSE\n",
       "40. FALSE\n",
       "41. FALSE\n",
       "42. FALSE\n",
       "43. FALSE\n",
       "44. FALSE\n",
       "45. FALSE\n",
       "46. FALSE\n",
       "47. FALSE\n",
       "48. FALSE\n",
       "49. FALSE\n",
       "50. FALSE\n",
       "51. FALSE\n",
       "52. FALSE\n",
       "53. FALSE\n",
       "54. FALSE\n",
       "55. FALSE\n",
       "56. FALSE\n",
       "57. FALSE\n",
       "58. FALSE\n",
       "59. FALSE\n",
       "60. FALSE\n",
       "61. FALSE\n",
       "62. FALSE\n",
       "63. FALSE\n",
       "64. FALSE\n",
       "65. FALSE\n",
       "66. FALSE\n",
       "67. FALSE\n",
       "68. FALSE\n",
       "69. FALSE\n",
       "70. FALSE\n",
       "71. FALSE\n",
       "72. FALSE\n",
       "73. FALSE\n",
       "74. FALSE\n",
       "75. FALSE\n",
       "76. FALSE\n",
       "77. FALSE\n",
       "78. FALSE\n",
       "79. FALSE\n",
       "80. FALSE\n",
       "81. FALSE\n",
       "82. FALSE\n",
       "83. FALSE\n",
       "84. FALSE\n",
       "85. FALSE\n",
       "86. FALSE\n",
       "87. FALSE\n",
       "88. FALSE\n",
       "89. FALSE\n",
       "90. FALSE\n",
       "91. FALSE\n",
       "92. FALSE\n",
       "93. FALSE\n",
       "94. FALSE\n",
       "95. FALSE\n",
       "96. FALSE\n",
       "97. FALSE\n",
       "98. FALSE\n",
       "99. FALSE\n",
       "100. FALSE\n",
       "101. FALSE\n",
       "102. FALSE\n",
       "103. FALSE\n",
       "104. FALSE\n",
       "105. FALSE\n",
       "106. FALSE\n",
       "107. FALSE\n",
       "108. FALSE\n",
       "109. FALSE\n",
       "110. FALSE\n",
       "111. FALSE\n",
       "112. FALSE\n",
       "113. FALSE\n",
       "114. FALSE\n",
       "115. FALSE\n",
       "116. FALSE\n",
       "117. FALSE\n",
       "118. FALSE\n",
       "119. FALSE\n",
       "120. FALSE\n",
       "121. FALSE\n",
       "122. FALSE\n",
       "123. FALSE\n",
       "124. FALSE\n",
       "125. FALSE\n",
       "126. FALSE\n",
       "127. FALSE\n",
       "128. FALSE\n",
       "129. FALSE\n",
       "130. TRUE\n",
       "131. TRUE\n",
       "132. FALSE\n",
       "133. FALSE\n",
       "134. FALSE\n",
       "135. FALSE\n",
       "136. FALSE\n",
       "137. FALSE\n",
       "138. FALSE\n",
       "139. FALSE\n",
       "140. FALSE\n",
       "141. FALSE\n",
       "142. FALSE\n",
       "143. FALSE\n",
       "144. FALSE\n",
       "145. FALSE\n",
       "146. FALSE\n",
       "147. FALSE\n",
       "148. FALSE\n",
       "149. FALSE\n",
       "150. FALSE\n",
       "151. FALSE\n",
       "152. FALSE\n",
       "153. FALSE\n",
       "154. FALSE\n",
       "155. FALSE\n",
       "156. FALSE\n",
       "157. FALSE\n",
       "158. FALSE\n",
       "159. FALSE\n",
       "160. FALSE\n",
       "161. FALSE\n",
       "162. FALSE\n",
       "163. FALSE\n",
       "164. FALSE\n",
       "165. FALSE\n",
       "166. FALSE\n",
       "167. FALSE\n",
       "168. FALSE\n",
       "169. FALSE\n",
       "170. FALSE\n",
       "171. FALSE\n",
       "172. FALSE\n",
       "173. FALSE\n",
       "174. FALSE\n",
       "175. FALSE\n",
       "176. FALSE\n",
       "177. FALSE\n",
       "178. FALSE\n",
       "179. FALSE\n",
       "180. FALSE\n",
       "181. FALSE\n",
       "182. FALSE\n",
       "183. FALSE\n",
       "184. FALSE\n",
       "185. FALSE\n",
       "186. FALSE\n",
       "187. FALSE\n",
       "188. FALSE\n",
       "189. FALSE\n",
       "190. FALSE\n",
       "191. FALSE\n",
       "192. FALSE\n",
       "193. FALSE\n",
       "194. FALSE\n",
       "195. FALSE\n",
       "196. FALSE\n",
       "197. FALSE\n",
       "198. FALSE\n",
       "199. FALSE\n",
       "200. FALSE\n",
       "201. FALSE\n",
       "202. FALSE\n",
       "203. FALSE\n",
       "204. FALSE\n",
       "\n",
       "\n"
      ],
      "text/plain": [
       "  [1] FALSE FALSE FALSE FALSE FALSE FALSE FALSE FALSE FALSE FALSE FALSE FALSE\n",
       " [13] FALSE FALSE FALSE FALSE FALSE FALSE FALSE FALSE FALSE FALSE FALSE FALSE\n",
       " [25] FALSE FALSE FALSE FALSE FALSE FALSE FALSE FALSE FALSE FALSE FALSE FALSE\n",
       " [37] FALSE FALSE FALSE FALSE FALSE FALSE FALSE FALSE FALSE FALSE FALSE FALSE\n",
       " [49] FALSE FALSE FALSE FALSE FALSE FALSE FALSE FALSE FALSE FALSE FALSE FALSE\n",
       " [61] FALSE FALSE FALSE FALSE FALSE FALSE FALSE FALSE FALSE FALSE FALSE FALSE\n",
       " [73] FALSE FALSE FALSE FALSE FALSE FALSE FALSE FALSE FALSE FALSE FALSE FALSE\n",
       " [85] FALSE FALSE FALSE FALSE FALSE FALSE FALSE FALSE FALSE FALSE FALSE FALSE\n",
       " [97] FALSE FALSE FALSE FALSE FALSE FALSE FALSE FALSE FALSE FALSE FALSE FALSE\n",
       "[109] FALSE FALSE FALSE FALSE FALSE FALSE FALSE FALSE FALSE FALSE FALSE FALSE\n",
       "[121] FALSE FALSE FALSE FALSE FALSE FALSE FALSE FALSE FALSE  TRUE  TRUE FALSE\n",
       "[133] FALSE FALSE FALSE FALSE FALSE FALSE FALSE FALSE FALSE FALSE FALSE FALSE\n",
       "[145] FALSE FALSE FALSE FALSE FALSE FALSE FALSE FALSE FALSE FALSE FALSE FALSE\n",
       "[157] FALSE FALSE FALSE FALSE FALSE FALSE FALSE FALSE FALSE FALSE FALSE FALSE\n",
       "[169] FALSE FALSE FALSE FALSE FALSE FALSE FALSE FALSE FALSE FALSE FALSE FALSE\n",
       "[181] FALSE FALSE FALSE FALSE FALSE FALSE FALSE FALSE FALSE FALSE FALSE FALSE\n",
       "[193] FALSE FALSE FALSE FALSE FALSE FALSE FALSE FALSE FALSE FALSE FALSE FALSE"
      ]
     },
     "metadata": {},
     "output_type": "display_data"
    }
   ],
   "source": [
    "#autos$price=='?'\n",
    "\n",
    "ids_na_hp <- autos$horsepower=='?'\n",
    "ids_na_hp"
   ]
  },
  {
   "cell_type": "code",
   "execution_count": 6,
   "metadata": {},
   "outputs": [],
   "source": [
    "autos$horsepower[ids_na_hp] <- NA"
   ]
  },
  {
   "cell_type": "code",
   "execution_count": 7,
   "metadata": {},
   "outputs": [
    {
     "data": {
      "text/html": [
       "<table class=\"dataframe\">\n",
       "<caption>A data.frame: 6 × 26</caption>\n",
       "<thead>\n",
       "\t<tr><th></th><th scope=col>risk</th><th scope=col>normalized_losses</th><th scope=col>make</th><th scope=col>fuel_type</th><th scope=col>aspiration</th><th scope=col>num_doors</th><th scope=col>body_style</th><th scope=col>drive_wheels</th><th scope=col>engine_location</th><th scope=col>wheel_base</th><th scope=col>⋯</th><th scope=col>engine_size</th><th scope=col>fuel_system</th><th scope=col>bore</th><th scope=col>stroke</th><th scope=col>compression_ratio</th><th scope=col>horsepower</th><th scope=col>peak_rpm</th><th scope=col>city_mpg</th><th scope=col>highway_mpg</th><th scope=col>price</th></tr>\n",
       "\t<tr><th></th><th scope=col>&lt;int&gt;</th><th scope=col>&lt;chr&gt;</th><th scope=col>&lt;chr&gt;</th><th scope=col>&lt;chr&gt;</th><th scope=col>&lt;chr&gt;</th><th scope=col>&lt;chr&gt;</th><th scope=col>&lt;chr&gt;</th><th scope=col>&lt;chr&gt;</th><th scope=col>&lt;chr&gt;</th><th scope=col>&lt;dbl&gt;</th><th scope=col>⋯</th><th scope=col>&lt;int&gt;</th><th scope=col>&lt;chr&gt;</th><th scope=col>&lt;chr&gt;</th><th scope=col>&lt;chr&gt;</th><th scope=col>&lt;dbl&gt;</th><th scope=col>&lt;chr&gt;</th><th scope=col>&lt;chr&gt;</th><th scope=col>&lt;int&gt;</th><th scope=col>&lt;int&gt;</th><th scope=col>&lt;chr&gt;</th></tr>\n",
       "</thead>\n",
       "<tbody>\n",
       "\t<tr><th scope=row>1</th><td>3</td><td>?  </td><td>alfa-romero</td><td>gas</td><td>std</td><td>two </td><td>convertible</td><td>rwd</td><td>front</td><td> 88.6</td><td>⋯</td><td>130</td><td>mpfi</td><td>3.47</td><td>2.68</td><td> 9.0</td><td>111</td><td>5000</td><td>21</td><td>27</td><td>16500</td></tr>\n",
       "\t<tr><th scope=row>2</th><td>1</td><td>?  </td><td>alfa-romero</td><td>gas</td><td>std</td><td>two </td><td>hatchback  </td><td>rwd</td><td>front</td><td> 94.5</td><td>⋯</td><td>152</td><td>mpfi</td><td>2.68</td><td>3.47</td><td> 9.0</td><td>154</td><td>5000</td><td>19</td><td>26</td><td>16500</td></tr>\n",
       "\t<tr><th scope=row>3</th><td>2</td><td>164</td><td>audi       </td><td>gas</td><td>std</td><td>four</td><td>sedan      </td><td>fwd</td><td>front</td><td> 99.8</td><td>⋯</td><td>109</td><td>mpfi</td><td>3.19</td><td>3.40</td><td>10.0</td><td>102</td><td>5500</td><td>24</td><td>30</td><td>13950</td></tr>\n",
       "\t<tr><th scope=row>4</th><td>2</td><td>164</td><td>audi       </td><td>gas</td><td>std</td><td>four</td><td>sedan      </td><td>4wd</td><td>front</td><td> 99.4</td><td>⋯</td><td>136</td><td>mpfi</td><td>3.19</td><td>3.40</td><td> 8.0</td><td>115</td><td>5500</td><td>18</td><td>22</td><td>17450</td></tr>\n",
       "\t<tr><th scope=row>5</th><td>2</td><td>?  </td><td>audi       </td><td>gas</td><td>std</td><td>two </td><td>sedan      </td><td>fwd</td><td>front</td><td> 99.8</td><td>⋯</td><td>136</td><td>mpfi</td><td>3.19</td><td>3.40</td><td> 8.5</td><td>110</td><td>5500</td><td>19</td><td>25</td><td>15250</td></tr>\n",
       "\t<tr><th scope=row>6</th><td>1</td><td>158</td><td>audi       </td><td>gas</td><td>std</td><td>four</td><td>sedan      </td><td>fwd</td><td>front</td><td>105.8</td><td>⋯</td><td>136</td><td>mpfi</td><td>3.19</td><td>3.40</td><td> 8.5</td><td>110</td><td>5500</td><td>19</td><td>25</td><td>17710</td></tr>\n",
       "</tbody>\n",
       "</table>\n"
      ],
      "text/latex": [
       "A data.frame: 6 × 26\n",
       "\\begin{tabular}{r|lllllllllllllllllllll}\n",
       "  & risk & normalized\\_losses & make & fuel\\_type & aspiration & num\\_doors & body\\_style & drive\\_wheels & engine\\_location & wheel\\_base & ⋯ & engine\\_size & fuel\\_system & bore & stroke & compression\\_ratio & horsepower & peak\\_rpm & city\\_mpg & highway\\_mpg & price\\\\\n",
       "  & <int> & <chr> & <chr> & <chr> & <chr> & <chr> & <chr> & <chr> & <chr> & <dbl> & ⋯ & <int> & <chr> & <chr> & <chr> & <dbl> & <chr> & <chr> & <int> & <int> & <chr>\\\\\n",
       "\\hline\n",
       "\t1 & 3 & ?   & alfa-romero & gas & std & two  & convertible & rwd & front &  88.6 & ⋯ & 130 & mpfi & 3.47 & 2.68 &  9.0 & 111 & 5000 & 21 & 27 & 16500\\\\\n",
       "\t2 & 1 & ?   & alfa-romero & gas & std & two  & hatchback   & rwd & front &  94.5 & ⋯ & 152 & mpfi & 2.68 & 3.47 &  9.0 & 154 & 5000 & 19 & 26 & 16500\\\\\n",
       "\t3 & 2 & 164 & audi        & gas & std & four & sedan       & fwd & front &  99.8 & ⋯ & 109 & mpfi & 3.19 & 3.40 & 10.0 & 102 & 5500 & 24 & 30 & 13950\\\\\n",
       "\t4 & 2 & 164 & audi        & gas & std & four & sedan       & 4wd & front &  99.4 & ⋯ & 136 & mpfi & 3.19 & 3.40 &  8.0 & 115 & 5500 & 18 & 22 & 17450\\\\\n",
       "\t5 & 2 & ?   & audi        & gas & std & two  & sedan       & fwd & front &  99.8 & ⋯ & 136 & mpfi & 3.19 & 3.40 &  8.5 & 110 & 5500 & 19 & 25 & 15250\\\\\n",
       "\t6 & 1 & 158 & audi        & gas & std & four & sedan       & fwd & front & 105.8 & ⋯ & 136 & mpfi & 3.19 & 3.40 &  8.5 & 110 & 5500 & 19 & 25 & 17710\\\\\n",
       "\\end{tabular}\n"
      ],
      "text/markdown": [
       "\n",
       "A data.frame: 6 × 26\n",
       "\n",
       "| <!--/--> | risk &lt;int&gt; | normalized_losses &lt;chr&gt; | make &lt;chr&gt; | fuel_type &lt;chr&gt; | aspiration &lt;chr&gt; | num_doors &lt;chr&gt; | body_style &lt;chr&gt; | drive_wheels &lt;chr&gt; | engine_location &lt;chr&gt; | wheel_base &lt;dbl&gt; | ⋯ ⋯ | engine_size &lt;int&gt; | fuel_system &lt;chr&gt; | bore &lt;chr&gt; | stroke &lt;chr&gt; | compression_ratio &lt;dbl&gt; | horsepower &lt;chr&gt; | peak_rpm &lt;chr&gt; | city_mpg &lt;int&gt; | highway_mpg &lt;int&gt; | price &lt;chr&gt; |\n",
       "|---|---|---|---|---|---|---|---|---|---|---|---|---|---|---|---|---|---|---|---|---|---|\n",
       "| 1 | 3 | ?   | alfa-romero | gas | std | two  | convertible | rwd | front |  88.6 | ⋯ | 130 | mpfi | 3.47 | 2.68 |  9.0 | 111 | 5000 | 21 | 27 | 16500 |\n",
       "| 2 | 1 | ?   | alfa-romero | gas | std | two  | hatchback   | rwd | front |  94.5 | ⋯ | 152 | mpfi | 2.68 | 3.47 |  9.0 | 154 | 5000 | 19 | 26 | 16500 |\n",
       "| 3 | 2 | 164 | audi        | gas | std | four | sedan       | fwd | front |  99.8 | ⋯ | 109 | mpfi | 3.19 | 3.40 | 10.0 | 102 | 5500 | 24 | 30 | 13950 |\n",
       "| 4 | 2 | 164 | audi        | gas | std | four | sedan       | 4wd | front |  99.4 | ⋯ | 136 | mpfi | 3.19 | 3.40 |  8.0 | 115 | 5500 | 18 | 22 | 17450 |\n",
       "| 5 | 2 | ?   | audi        | gas | std | two  | sedan       | fwd | front |  99.8 | ⋯ | 136 | mpfi | 3.19 | 3.40 |  8.5 | 110 | 5500 | 19 | 25 | 15250 |\n",
       "| 6 | 1 | 158 | audi        | gas | std | four | sedan       | fwd | front | 105.8 | ⋯ | 136 | mpfi | 3.19 | 3.40 |  8.5 | 110 | 5500 | 19 | 25 | 17710 |\n",
       "\n"
      ],
      "text/plain": [
       "  risk normalized_losses make        fuel_type aspiration num_doors body_style \n",
       "1 3    ?                 alfa-romero gas       std        two       convertible\n",
       "2 1    ?                 alfa-romero gas       std        two       hatchback  \n",
       "3 2    164               audi        gas       std        four      sedan      \n",
       "4 2    164               audi        gas       std        four      sedan      \n",
       "5 2    ?                 audi        gas       std        two       sedan      \n",
       "6 1    158               audi        gas       std        four      sedan      \n",
       "  drive_wheels engine_location wheel_base ⋯ engine_size fuel_system bore stroke\n",
       "1 rwd          front            88.6      ⋯ 130         mpfi        3.47 2.68  \n",
       "2 rwd          front            94.5      ⋯ 152         mpfi        2.68 3.47  \n",
       "3 fwd          front            99.8      ⋯ 109         mpfi        3.19 3.40  \n",
       "4 4wd          front            99.4      ⋯ 136         mpfi        3.19 3.40  \n",
       "5 fwd          front            99.8      ⋯ 136         mpfi        3.19 3.40  \n",
       "6 fwd          front           105.8      ⋯ 136         mpfi        3.19 3.40  \n",
       "  compression_ratio horsepower peak_rpm city_mpg highway_mpg price\n",
       "1  9.0              111        5000     21       27          16500\n",
       "2  9.0              154        5000     19       26          16500\n",
       "3 10.0              102        5500     24       30          13950\n",
       "4  8.0              115        5500     18       22          17450\n",
       "5  8.5              110        5500     19       25          15250\n",
       "6  8.5              110        5500     19       25          17710"
      ]
     },
     "metadata": {},
     "output_type": "display_data"
    }
   ],
   "source": [
    "head(autos)"
   ]
  },
  {
   "cell_type": "code",
   "execution_count": 9,
   "metadata": {},
   "outputs": [],
   "source": [
    "autos$price[autos$price=='?'] <- NA"
   ]
  },
  {
   "cell_type": "code",
   "execution_count": 12,
   "metadata": {},
   "outputs": [
    {
     "data": {
      "text/html": [
       "<style>\n",
       ".list-inline {list-style: none; margin:0; padding: 0}\n",
       ".list-inline>li {display: inline-block}\n",
       ".list-inline>li:not(:last-child)::after {content: \"\\00b7\"; padding: 0 .5ex}\n",
       "</style>\n",
       "<ol class=list-inline><li>'16500'</li><li>'16500'</li><li>'13950'</li><li>'17450'</li><li>'15250'</li><li>'17710'</li><li>'18920'</li><li>'23875'</li><li>NA</li><li>'16430'</li><li>'16925'</li><li>'20970'</li><li>'21105'</li><li>'24565'</li><li>'30760'</li><li>'41315'</li><li>'36880'</li><li>'5151'</li><li>'6295'</li><li>'6575'</li><li>'5572'</li><li>'6377'</li><li>'7957'</li><li>'6229'</li><li>'6692'</li><li>'7609'</li><li>'8558'</li><li>'8921'</li><li>'12964'</li><li>'6479'</li><li>'6855'</li><li>'5399'</li><li>'6529'</li><li>'7129'</li><li>'7295'</li><li>'7295'</li><li>'7895'</li><li>'9095'</li><li>'8845'</li><li>'10295'</li><li>'12945'</li><li>'10345'</li><li>'6785'</li><li>NA</li><li>NA</li><li>'11048'</li><li>'32250'</li><li>'35550'</li><li>'36000'</li><li>'5195'</li><li>'6095'</li><li>'6795'</li><li>'6695'</li><li>'7395'</li><li>'10945'</li><li>'11845'</li><li>'13645'</li><li>'15645'</li><li>'8845'</li><li>'8495'</li><li>'10595'</li><li>'10245'</li><li>'10795'</li><li>'11245'</li><li>'18280'</li><li>'18344'</li><li>'25552'</li><li>'28248'</li><li>'28176'</li><li>'31600'</li><li>'34184'</li><li>'35056'</li><li>'40960'</li><li>'45400'</li><li>'16503'</li><li>'5389'</li><li>'6189'</li><li>'6669'</li><li>'7689'</li><li>'9959'</li><li>'8499'</li><li>'12629'</li><li>'14869'</li><li>'14489'</li><li>'6989'</li><li>'8189'</li><li>'9279'</li><li>'9279'</li><li>'5499'</li><li>'7099'</li><li>'6649'</li><li>'6849'</li><li>'7349'</li><li>'7299'</li><li>'7799'</li><li>'7499'</li><li>'7999'</li><li>'8249'</li><li>'8949'</li><li>'9549'</li><li>'13499'</li><li>'14399'</li><li>'13499'</li><li>'17199'</li><li>'19699'</li><li>'18399'</li><li>'11900'</li><li>'13200'</li><li>'12440'</li><li>'13860'</li><li>'15580'</li><li>'16900'</li><li>'16695'</li><li>'17075'</li><li>'16630'</li><li>'17950'</li><li>'18150'</li><li>'5572'</li><li>'7957'</li><li>'6229'</li><li>'6692'</li><li>'7609'</li><li>'8921'</li><li>'12764'</li><li>'22018'</li><li>'32528'</li><li>'34028'</li><li>'37028'</li><li>NA</li><li>'9295'</li><li>'9895'</li><li>'11850'</li><li>'12170'</li><li>'15040'</li><li>'15510'</li><li>'18150'</li><li>'18620'</li><li>'5118'</li><li>'7053'</li><li>'7603'</li><li>'7126'</li><li>'7775'</li><li>'9960'</li><li>'9233'</li><li>'11259'</li><li>'7463'</li><li>'10198'</li><li>'8013'</li><li>'11694'</li><li>'5348'</li><li>'6338'</li><li>'6488'</li><li>'6918'</li><li>'7898'</li><li>'8778'</li><li>'6938'</li><li>'7198'</li><li>'7898'</li><li>'7788'</li><li>'7738'</li><li>'8358'</li><li>'9258'</li><li>'8058'</li><li>'8238'</li><li>'9298'</li><li>'9538'</li><li>'8449'</li><li>'9639'</li><li>'9989'</li><li>'11199'</li><li>'11549'</li><li>'17669'</li><li>'8948'</li><li>'10698'</li><li>'9988'</li><li>'10898'</li><li>'11248'</li><li>'16558'</li><li>'15998'</li><li>'15690'</li><li>'15750'</li><li>'7775'</li><li>'7975'</li><li>'7995'</li><li>'8195'</li><li>'8495'</li><li>'9495'</li><li>'9995'</li><li>'11595'</li><li>'9980'</li><li>'13295'</li><li>'13845'</li><li>'12290'</li><li>'12940'</li><li>'13415'</li><li>'15985'</li><li>'16515'</li><li>'18420'</li><li>'18950'</li><li>'16845'</li><li>'19045'</li><li>'21485'</li><li>'22470'</li><li>'22625'</li></ol>\n"
      ],
      "text/latex": [
       "\\begin{enumerate*}\n",
       "\\item '16500'\n",
       "\\item '16500'\n",
       "\\item '13950'\n",
       "\\item '17450'\n",
       "\\item '15250'\n",
       "\\item '17710'\n",
       "\\item '18920'\n",
       "\\item '23875'\n",
       "\\item NA\n",
       "\\item '16430'\n",
       "\\item '16925'\n",
       "\\item '20970'\n",
       "\\item '21105'\n",
       "\\item '24565'\n",
       "\\item '30760'\n",
       "\\item '41315'\n",
       "\\item '36880'\n",
       "\\item '5151'\n",
       "\\item '6295'\n",
       "\\item '6575'\n",
       "\\item '5572'\n",
       "\\item '6377'\n",
       "\\item '7957'\n",
       "\\item '6229'\n",
       "\\item '6692'\n",
       "\\item '7609'\n",
       "\\item '8558'\n",
       "\\item '8921'\n",
       "\\item '12964'\n",
       "\\item '6479'\n",
       "\\item '6855'\n",
       "\\item '5399'\n",
       "\\item '6529'\n",
       "\\item '7129'\n",
       "\\item '7295'\n",
       "\\item '7295'\n",
       "\\item '7895'\n",
       "\\item '9095'\n",
       "\\item '8845'\n",
       "\\item '10295'\n",
       "\\item '12945'\n",
       "\\item '10345'\n",
       "\\item '6785'\n",
       "\\item NA\n",
       "\\item NA\n",
       "\\item '11048'\n",
       "\\item '32250'\n",
       "\\item '35550'\n",
       "\\item '36000'\n",
       "\\item '5195'\n",
       "\\item '6095'\n",
       "\\item '6795'\n",
       "\\item '6695'\n",
       "\\item '7395'\n",
       "\\item '10945'\n",
       "\\item '11845'\n",
       "\\item '13645'\n",
       "\\item '15645'\n",
       "\\item '8845'\n",
       "\\item '8495'\n",
       "\\item '10595'\n",
       "\\item '10245'\n",
       "\\item '10795'\n",
       "\\item '11245'\n",
       "\\item '18280'\n",
       "\\item '18344'\n",
       "\\item '25552'\n",
       "\\item '28248'\n",
       "\\item '28176'\n",
       "\\item '31600'\n",
       "\\item '34184'\n",
       "\\item '35056'\n",
       "\\item '40960'\n",
       "\\item '45400'\n",
       "\\item '16503'\n",
       "\\item '5389'\n",
       "\\item '6189'\n",
       "\\item '6669'\n",
       "\\item '7689'\n",
       "\\item '9959'\n",
       "\\item '8499'\n",
       "\\item '12629'\n",
       "\\item '14869'\n",
       "\\item '14489'\n",
       "\\item '6989'\n",
       "\\item '8189'\n",
       "\\item '9279'\n",
       "\\item '9279'\n",
       "\\item '5499'\n",
       "\\item '7099'\n",
       "\\item '6649'\n",
       "\\item '6849'\n",
       "\\item '7349'\n",
       "\\item '7299'\n",
       "\\item '7799'\n",
       "\\item '7499'\n",
       "\\item '7999'\n",
       "\\item '8249'\n",
       "\\item '8949'\n",
       "\\item '9549'\n",
       "\\item '13499'\n",
       "\\item '14399'\n",
       "\\item '13499'\n",
       "\\item '17199'\n",
       "\\item '19699'\n",
       "\\item '18399'\n",
       "\\item '11900'\n",
       "\\item '13200'\n",
       "\\item '12440'\n",
       "\\item '13860'\n",
       "\\item '15580'\n",
       "\\item '16900'\n",
       "\\item '16695'\n",
       "\\item '17075'\n",
       "\\item '16630'\n",
       "\\item '17950'\n",
       "\\item '18150'\n",
       "\\item '5572'\n",
       "\\item '7957'\n",
       "\\item '6229'\n",
       "\\item '6692'\n",
       "\\item '7609'\n",
       "\\item '8921'\n",
       "\\item '12764'\n",
       "\\item '22018'\n",
       "\\item '32528'\n",
       "\\item '34028'\n",
       "\\item '37028'\n",
       "\\item NA\n",
       "\\item '9295'\n",
       "\\item '9895'\n",
       "\\item '11850'\n",
       "\\item '12170'\n",
       "\\item '15040'\n",
       "\\item '15510'\n",
       "\\item '18150'\n",
       "\\item '18620'\n",
       "\\item '5118'\n",
       "\\item '7053'\n",
       "\\item '7603'\n",
       "\\item '7126'\n",
       "\\item '7775'\n",
       "\\item '9960'\n",
       "\\item '9233'\n",
       "\\item '11259'\n",
       "\\item '7463'\n",
       "\\item '10198'\n",
       "\\item '8013'\n",
       "\\item '11694'\n",
       "\\item '5348'\n",
       "\\item '6338'\n",
       "\\item '6488'\n",
       "\\item '6918'\n",
       "\\item '7898'\n",
       "\\item '8778'\n",
       "\\item '6938'\n",
       "\\item '7198'\n",
       "\\item '7898'\n",
       "\\item '7788'\n",
       "\\item '7738'\n",
       "\\item '8358'\n",
       "\\item '9258'\n",
       "\\item '8058'\n",
       "\\item '8238'\n",
       "\\item '9298'\n",
       "\\item '9538'\n",
       "\\item '8449'\n",
       "\\item '9639'\n",
       "\\item '9989'\n",
       "\\item '11199'\n",
       "\\item '11549'\n",
       "\\item '17669'\n",
       "\\item '8948'\n",
       "\\item '10698'\n",
       "\\item '9988'\n",
       "\\item '10898'\n",
       "\\item '11248'\n",
       "\\item '16558'\n",
       "\\item '15998'\n",
       "\\item '15690'\n",
       "\\item '15750'\n",
       "\\item '7775'\n",
       "\\item '7975'\n",
       "\\item '7995'\n",
       "\\item '8195'\n",
       "\\item '8495'\n",
       "\\item '9495'\n",
       "\\item '9995'\n",
       "\\item '11595'\n",
       "\\item '9980'\n",
       "\\item '13295'\n",
       "\\item '13845'\n",
       "\\item '12290'\n",
       "\\item '12940'\n",
       "\\item '13415'\n",
       "\\item '15985'\n",
       "\\item '16515'\n",
       "\\item '18420'\n",
       "\\item '18950'\n",
       "\\item '16845'\n",
       "\\item '19045'\n",
       "\\item '21485'\n",
       "\\item '22470'\n",
       "\\item '22625'\n",
       "\\end{enumerate*}\n"
      ],
      "text/markdown": [
       "1. '16500'\n",
       "2. '16500'\n",
       "3. '13950'\n",
       "4. '17450'\n",
       "5. '15250'\n",
       "6. '17710'\n",
       "7. '18920'\n",
       "8. '23875'\n",
       "9. NA\n",
       "10. '16430'\n",
       "11. '16925'\n",
       "12. '20970'\n",
       "13. '21105'\n",
       "14. '24565'\n",
       "15. '30760'\n",
       "16. '41315'\n",
       "17. '36880'\n",
       "18. '5151'\n",
       "19. '6295'\n",
       "20. '6575'\n",
       "21. '5572'\n",
       "22. '6377'\n",
       "23. '7957'\n",
       "24. '6229'\n",
       "25. '6692'\n",
       "26. '7609'\n",
       "27. '8558'\n",
       "28. '8921'\n",
       "29. '12964'\n",
       "30. '6479'\n",
       "31. '6855'\n",
       "32. '5399'\n",
       "33. '6529'\n",
       "34. '7129'\n",
       "35. '7295'\n",
       "36. '7295'\n",
       "37. '7895'\n",
       "38. '9095'\n",
       "39. '8845'\n",
       "40. '10295'\n",
       "41. '12945'\n",
       "42. '10345'\n",
       "43. '6785'\n",
       "44. NA\n",
       "45. NA\n",
       "46. '11048'\n",
       "47. '32250'\n",
       "48. '35550'\n",
       "49. '36000'\n",
       "50. '5195'\n",
       "51. '6095'\n",
       "52. '6795'\n",
       "53. '6695'\n",
       "54. '7395'\n",
       "55. '10945'\n",
       "56. '11845'\n",
       "57. '13645'\n",
       "58. '15645'\n",
       "59. '8845'\n",
       "60. '8495'\n",
       "61. '10595'\n",
       "62. '10245'\n",
       "63. '10795'\n",
       "64. '11245'\n",
       "65. '18280'\n",
       "66. '18344'\n",
       "67. '25552'\n",
       "68. '28248'\n",
       "69. '28176'\n",
       "70. '31600'\n",
       "71. '34184'\n",
       "72. '35056'\n",
       "73. '40960'\n",
       "74. '45400'\n",
       "75. '16503'\n",
       "76. '5389'\n",
       "77. '6189'\n",
       "78. '6669'\n",
       "79. '7689'\n",
       "80. '9959'\n",
       "81. '8499'\n",
       "82. '12629'\n",
       "83. '14869'\n",
       "84. '14489'\n",
       "85. '6989'\n",
       "86. '8189'\n",
       "87. '9279'\n",
       "88. '9279'\n",
       "89. '5499'\n",
       "90. '7099'\n",
       "91. '6649'\n",
       "92. '6849'\n",
       "93. '7349'\n",
       "94. '7299'\n",
       "95. '7799'\n",
       "96. '7499'\n",
       "97. '7999'\n",
       "98. '8249'\n",
       "99. '8949'\n",
       "100. '9549'\n",
       "101. '13499'\n",
       "102. '14399'\n",
       "103. '13499'\n",
       "104. '17199'\n",
       "105. '19699'\n",
       "106. '18399'\n",
       "107. '11900'\n",
       "108. '13200'\n",
       "109. '12440'\n",
       "110. '13860'\n",
       "111. '15580'\n",
       "112. '16900'\n",
       "113. '16695'\n",
       "114. '17075'\n",
       "115. '16630'\n",
       "116. '17950'\n",
       "117. '18150'\n",
       "118. '5572'\n",
       "119. '7957'\n",
       "120. '6229'\n",
       "121. '6692'\n",
       "122. '7609'\n",
       "123. '8921'\n",
       "124. '12764'\n",
       "125. '22018'\n",
       "126. '32528'\n",
       "127. '34028'\n",
       "128. '37028'\n",
       "129. NA\n",
       "130. '9295'\n",
       "131. '9895'\n",
       "132. '11850'\n",
       "133. '12170'\n",
       "134. '15040'\n",
       "135. '15510'\n",
       "136. '18150'\n",
       "137. '18620'\n",
       "138. '5118'\n",
       "139. '7053'\n",
       "140. '7603'\n",
       "141. '7126'\n",
       "142. '7775'\n",
       "143. '9960'\n",
       "144. '9233'\n",
       "145. '11259'\n",
       "146. '7463'\n",
       "147. '10198'\n",
       "148. '8013'\n",
       "149. '11694'\n",
       "150. '5348'\n",
       "151. '6338'\n",
       "152. '6488'\n",
       "153. '6918'\n",
       "154. '7898'\n",
       "155. '8778'\n",
       "156. '6938'\n",
       "157. '7198'\n",
       "158. '7898'\n",
       "159. '7788'\n",
       "160. '7738'\n",
       "161. '8358'\n",
       "162. '9258'\n",
       "163. '8058'\n",
       "164. '8238'\n",
       "165. '9298'\n",
       "166. '9538'\n",
       "167. '8449'\n",
       "168. '9639'\n",
       "169. '9989'\n",
       "170. '11199'\n",
       "171. '11549'\n",
       "172. '17669'\n",
       "173. '8948'\n",
       "174. '10698'\n",
       "175. '9988'\n",
       "176. '10898'\n",
       "177. '11248'\n",
       "178. '16558'\n",
       "179. '15998'\n",
       "180. '15690'\n",
       "181. '15750'\n",
       "182. '7775'\n",
       "183. '7975'\n",
       "184. '7995'\n",
       "185. '8195'\n",
       "186. '8495'\n",
       "187. '9495'\n",
       "188. '9995'\n",
       "189. '11595'\n",
       "190. '9980'\n",
       "191. '13295'\n",
       "192. '13845'\n",
       "193. '12290'\n",
       "194. '12940'\n",
       "195. '13415'\n",
       "196. '15985'\n",
       "197. '16515'\n",
       "198. '18420'\n",
       "199. '18950'\n",
       "200. '16845'\n",
       "201. '19045'\n",
       "202. '21485'\n",
       "203. '22470'\n",
       "204. '22625'\n",
       "\n",
       "\n"
      ],
      "text/plain": [
       "  [1] \"16500\" \"16500\" \"13950\" \"17450\" \"15250\" \"17710\" \"18920\" \"23875\" NA     \n",
       " [10] \"16430\" \"16925\" \"20970\" \"21105\" \"24565\" \"30760\" \"41315\" \"36880\" \"5151\" \n",
       " [19] \"6295\"  \"6575\"  \"5572\"  \"6377\"  \"7957\"  \"6229\"  \"6692\"  \"7609\"  \"8558\" \n",
       " [28] \"8921\"  \"12964\" \"6479\"  \"6855\"  \"5399\"  \"6529\"  \"7129\"  \"7295\"  \"7295\" \n",
       " [37] \"7895\"  \"9095\"  \"8845\"  \"10295\" \"12945\" \"10345\" \"6785\"  NA      NA     \n",
       " [46] \"11048\" \"32250\" \"35550\" \"36000\" \"5195\"  \"6095\"  \"6795\"  \"6695\"  \"7395\" \n",
       " [55] \"10945\" \"11845\" \"13645\" \"15645\" \"8845\"  \"8495\"  \"10595\" \"10245\" \"10795\"\n",
       " [64] \"11245\" \"18280\" \"18344\" \"25552\" \"28248\" \"28176\" \"31600\" \"34184\" \"35056\"\n",
       " [73] \"40960\" \"45400\" \"16503\" \"5389\"  \"6189\"  \"6669\"  \"7689\"  \"9959\"  \"8499\" \n",
       " [82] \"12629\" \"14869\" \"14489\" \"6989\"  \"8189\"  \"9279\"  \"9279\"  \"5499\"  \"7099\" \n",
       " [91] \"6649\"  \"6849\"  \"7349\"  \"7299\"  \"7799\"  \"7499\"  \"7999\"  \"8249\"  \"8949\" \n",
       "[100] \"9549\"  \"13499\" \"14399\" \"13499\" \"17199\" \"19699\" \"18399\" \"11900\" \"13200\"\n",
       "[109] \"12440\" \"13860\" \"15580\" \"16900\" \"16695\" \"17075\" \"16630\" \"17950\" \"18150\"\n",
       "[118] \"5572\"  \"7957\"  \"6229\"  \"6692\"  \"7609\"  \"8921\"  \"12764\" \"22018\" \"32528\"\n",
       "[127] \"34028\" \"37028\" NA      \"9295\"  \"9895\"  \"11850\" \"12170\" \"15040\" \"15510\"\n",
       "[136] \"18150\" \"18620\" \"5118\"  \"7053\"  \"7603\"  \"7126\"  \"7775\"  \"9960\"  \"9233\" \n",
       "[145] \"11259\" \"7463\"  \"10198\" \"8013\"  \"11694\" \"5348\"  \"6338\"  \"6488\"  \"6918\" \n",
       "[154] \"7898\"  \"8778\"  \"6938\"  \"7198\"  \"7898\"  \"7788\"  \"7738\"  \"8358\"  \"9258\" \n",
       "[163] \"8058\"  \"8238\"  \"9298\"  \"9538\"  \"8449\"  \"9639\"  \"9989\"  \"11199\" \"11549\"\n",
       "[172] \"17669\" \"8948\"  \"10698\" \"9988\"  \"10898\" \"11248\" \"16558\" \"15998\" \"15690\"\n",
       "[181] \"15750\" \"7775\"  \"7975\"  \"7995\"  \"8195\"  \"8495\"  \"9495\"  \"9995\"  \"11595\"\n",
       "[190] \"9980\"  \"13295\" \"13845\" \"12290\" \"12940\" \"13415\" \"15985\" \"16515\" \"18420\"\n",
       "[199] \"18950\" \"16845\" \"19045\" \"21485\" \"22470\" \"22625\""
      ]
     },
     "metadata": {},
     "output_type": "display_data"
    }
   ],
   "source": [
    "autos$price"
   ]
  },
  {
   "cell_type": "code",
   "execution_count": 13,
   "metadata": {},
   "outputs": [
    {
     "data": {
      "text/html": [
       "<table class=\"dataframe\">\n",
       "<caption>A data.frame: 4 × 26</caption>\n",
       "<thead>\n",
       "\t<tr><th></th><th scope=col>risk</th><th scope=col>normalized_losses</th><th scope=col>make</th><th scope=col>fuel_type</th><th scope=col>aspiration</th><th scope=col>num_doors</th><th scope=col>body_style</th><th scope=col>drive_wheels</th><th scope=col>engine_location</th><th scope=col>wheel_base</th><th scope=col>⋯</th><th scope=col>engine_size</th><th scope=col>fuel_system</th><th scope=col>bore</th><th scope=col>stroke</th><th scope=col>compression_ratio</th><th scope=col>horsepower</th><th scope=col>peak_rpm</th><th scope=col>city_mpg</th><th scope=col>highway_mpg</th><th scope=col>price</th></tr>\n",
       "\t<tr><th></th><th scope=col>&lt;int&gt;</th><th scope=col>&lt;chr&gt;</th><th scope=col>&lt;chr&gt;</th><th scope=col>&lt;chr&gt;</th><th scope=col>&lt;chr&gt;</th><th scope=col>&lt;chr&gt;</th><th scope=col>&lt;chr&gt;</th><th scope=col>&lt;chr&gt;</th><th scope=col>&lt;chr&gt;</th><th scope=col>&lt;dbl&gt;</th><th scope=col>⋯</th><th scope=col>&lt;int&gt;</th><th scope=col>&lt;chr&gt;</th><th scope=col>&lt;chr&gt;</th><th scope=col>&lt;chr&gt;</th><th scope=col>&lt;dbl&gt;</th><th scope=col>&lt;chr&gt;</th><th scope=col>&lt;chr&gt;</th><th scope=col>&lt;int&gt;</th><th scope=col>&lt;int&gt;</th><th scope=col>&lt;chr&gt;</th></tr>\n",
       "</thead>\n",
       "<tbody>\n",
       "\t<tr><th scope=row>9</th><td>0</td><td>?</td><td>audi   </td><td>gas</td><td>turbo</td><td>two </td><td>hatchback</td><td>4wd</td><td>front</td><td>99.5</td><td>⋯</td><td>131</td><td>mpfi</td><td>3.13</td><td>3.40</td><td> 7.0</td><td>160</td><td>5500</td><td>16</td><td>22</td><td>NA</td></tr>\n",
       "\t<tr><th scope=row>44</th><td>1</td><td>?</td><td>isuzu  </td><td>gas</td><td>std  </td><td>two </td><td>sedan    </td><td>fwd</td><td>front</td><td>94.5</td><td>⋯</td><td> 90</td><td>2bbl</td><td>3.03</td><td>3.11</td><td> 9.6</td><td>70 </td><td>5400</td><td>38</td><td>43</td><td>NA</td></tr>\n",
       "\t<tr><th scope=row>45</th><td>0</td><td>?</td><td>isuzu  </td><td>gas</td><td>std  </td><td>four</td><td>sedan    </td><td>fwd</td><td>front</td><td>94.5</td><td>⋯</td><td> 90</td><td>2bbl</td><td>3.03</td><td>3.11</td><td> 9.6</td><td>70 </td><td>5400</td><td>38</td><td>43</td><td>NA</td></tr>\n",
       "\t<tr><th scope=row>129</th><td>1</td><td>?</td><td>porsche</td><td>gas</td><td>std  </td><td>two </td><td>hatchback</td><td>rwd</td><td>front</td><td>98.4</td><td>⋯</td><td>203</td><td>mpfi</td><td>3.94</td><td>3.11</td><td>10.0</td><td>288</td><td>5750</td><td>17</td><td>28</td><td>NA</td></tr>\n",
       "</tbody>\n",
       "</table>\n"
      ],
      "text/latex": [
       "A data.frame: 4 × 26\n",
       "\\begin{tabular}{r|lllllllllllllllllllll}\n",
       "  & risk & normalized\\_losses & make & fuel\\_type & aspiration & num\\_doors & body\\_style & drive\\_wheels & engine\\_location & wheel\\_base & ⋯ & engine\\_size & fuel\\_system & bore & stroke & compression\\_ratio & horsepower & peak\\_rpm & city\\_mpg & highway\\_mpg & price\\\\\n",
       "  & <int> & <chr> & <chr> & <chr> & <chr> & <chr> & <chr> & <chr> & <chr> & <dbl> & ⋯ & <int> & <chr> & <chr> & <chr> & <dbl> & <chr> & <chr> & <int> & <int> & <chr>\\\\\n",
       "\\hline\n",
       "\t9 & 0 & ? & audi    & gas & turbo & two  & hatchback & 4wd & front & 99.5 & ⋯ & 131 & mpfi & 3.13 & 3.40 &  7.0 & 160 & 5500 & 16 & 22 & NA\\\\\n",
       "\t44 & 1 & ? & isuzu   & gas & std   & two  & sedan     & fwd & front & 94.5 & ⋯ &  90 & 2bbl & 3.03 & 3.11 &  9.6 & 70  & 5400 & 38 & 43 & NA\\\\\n",
       "\t45 & 0 & ? & isuzu   & gas & std   & four & sedan     & fwd & front & 94.5 & ⋯ &  90 & 2bbl & 3.03 & 3.11 &  9.6 & 70  & 5400 & 38 & 43 & NA\\\\\n",
       "\t129 & 1 & ? & porsche & gas & std   & two  & hatchback & rwd & front & 98.4 & ⋯ & 203 & mpfi & 3.94 & 3.11 & 10.0 & 288 & 5750 & 17 & 28 & NA\\\\\n",
       "\\end{tabular}\n"
      ],
      "text/markdown": [
       "\n",
       "A data.frame: 4 × 26\n",
       "\n",
       "| <!--/--> | risk &lt;int&gt; | normalized_losses &lt;chr&gt; | make &lt;chr&gt; | fuel_type &lt;chr&gt; | aspiration &lt;chr&gt; | num_doors &lt;chr&gt; | body_style &lt;chr&gt; | drive_wheels &lt;chr&gt; | engine_location &lt;chr&gt; | wheel_base &lt;dbl&gt; | ⋯ ⋯ | engine_size &lt;int&gt; | fuel_system &lt;chr&gt; | bore &lt;chr&gt; | stroke &lt;chr&gt; | compression_ratio &lt;dbl&gt; | horsepower &lt;chr&gt; | peak_rpm &lt;chr&gt; | city_mpg &lt;int&gt; | highway_mpg &lt;int&gt; | price &lt;chr&gt; |\n",
       "|---|---|---|---|---|---|---|---|---|---|---|---|---|---|---|---|---|---|---|---|---|---|\n",
       "| 9 | 0 | ? | audi    | gas | turbo | two  | hatchback | 4wd | front | 99.5 | ⋯ | 131 | mpfi | 3.13 | 3.40 |  7.0 | 160 | 5500 | 16 | 22 | NA |\n",
       "| 44 | 1 | ? | isuzu   | gas | std   | two  | sedan     | fwd | front | 94.5 | ⋯ |  90 | 2bbl | 3.03 | 3.11 |  9.6 | 70  | 5400 | 38 | 43 | NA |\n",
       "| 45 | 0 | ? | isuzu   | gas | std   | four | sedan     | fwd | front | 94.5 | ⋯ |  90 | 2bbl | 3.03 | 3.11 |  9.6 | 70  | 5400 | 38 | 43 | NA |\n",
       "| 129 | 1 | ? | porsche | gas | std   | two  | hatchback | rwd | front | 98.4 | ⋯ | 203 | mpfi | 3.94 | 3.11 | 10.0 | 288 | 5750 | 17 | 28 | NA |\n",
       "\n"
      ],
      "text/plain": [
       "    risk normalized_losses make    fuel_type aspiration num_doors body_style\n",
       "9   0    ?                 audi    gas       turbo      two       hatchback \n",
       "44  1    ?                 isuzu   gas       std        two       sedan     \n",
       "45  0    ?                 isuzu   gas       std        four      sedan     \n",
       "129 1    ?                 porsche gas       std        two       hatchback \n",
       "    drive_wheels engine_location wheel_base ⋯ engine_size fuel_system bore\n",
       "9   4wd          front           99.5       ⋯ 131         mpfi        3.13\n",
       "44  fwd          front           94.5       ⋯  90         2bbl        3.03\n",
       "45  fwd          front           94.5       ⋯  90         2bbl        3.03\n",
       "129 rwd          front           98.4       ⋯ 203         mpfi        3.94\n",
       "    stroke compression_ratio horsepower peak_rpm city_mpg highway_mpg price\n",
       "9   3.40    7.0              160        5500     16       22          NA   \n",
       "44  3.11    9.6              70         5400     38       43          NA   \n",
       "45  3.11    9.6              70         5400     38       43          NA   \n",
       "129 3.11   10.0              288        5750     17       28          NA   "
      ]
     },
     "metadata": {},
     "output_type": "display_data"
    }
   ],
   "source": [
    "autos[is.na(autos$price),]"
   ]
  },
  {
   "cell_type": "markdown",
   "metadata": {},
   "source": [
    "Tenemos que convertir el factor de 'price' y 'horsepower' en valores numéricos:"
   ]
  },
  {
   "cell_type": "code",
   "execution_count": 15,
   "metadata": {},
   "outputs": [],
   "source": [
    "autos$price <- as.numeric(autos$price)\n",
    "autos$horsepower <- as.numeric(autos$horsepower)\n",
    "autos$body_style <- as.factor(autos$body_style)"
   ]
  },
  {
   "cell_type": "code",
   "execution_count": 16,
   "metadata": {},
   "outputs": [
    {
     "data": {
      "text/plain": [
       "      risk         normalized_losses      make            fuel_type        \n",
       " Min.   :-2.0000   Length:204         Length:204         Length:204        \n",
       " 1st Qu.: 0.0000   Class :character   Class :character   Class :character  \n",
       " Median : 1.0000   Mode  :character   Mode  :character   Mode  :character  \n",
       " Mean   : 0.8235                                                           \n",
       " 3rd Qu.: 2.0000                                                           \n",
       " Max.   : 3.0000                                                           \n",
       "                                                                           \n",
       "  aspiration         num_doors               body_style drive_wheels      \n",
       " Length:204         Length:204         convertible: 5   Length:204        \n",
       " Class :character   Class :character   hardtop    : 8   Class :character  \n",
       " Mode  :character   Mode  :character   hatchback  :70   Mode  :character  \n",
       "                                       sedan      :96                     \n",
       "                                       wagon      :25                     \n",
       "                                                                          \n",
       "                                                                          \n",
       " engine_location      wheel_base         length          width      \n",
       " Length:204         Min.   : 86.60   Min.   :141.1   Min.   :60.30  \n",
       " Class :character   1st Qu.: 94.50   1st Qu.:166.3   1st Qu.:64.08  \n",
       " Mode  :character   Median : 97.00   Median :173.2   Median :65.50  \n",
       "                    Mean   : 98.81   Mean   :174.1   Mean   :65.92  \n",
       "                    3rd Qu.:102.40   3rd Qu.:183.2   3rd Qu.:66.90  \n",
       "                    Max.   :120.90   Max.   :208.1   Max.   :72.30  \n",
       "                                                                    \n",
       "     height       curb_weight   engine_type        num_cylinders     \n",
       " Min.   :47.80   Min.   :1488   Length:204         Length:204        \n",
       " 1st Qu.:52.00   1st Qu.:2145   Class :character   Class :character  \n",
       " Median :54.10   Median :2414   Mode  :character   Mode  :character  \n",
       " Mean   :53.75   Mean   :2556                                        \n",
       " 3rd Qu.:55.50   3rd Qu.:2939                                        \n",
       " Max.   :59.80   Max.   :4066                                        \n",
       "                                                                     \n",
       "  engine_size    fuel_system            bore              stroke         \n",
       " Min.   : 61.0   Length:204         Length:204         Length:204        \n",
       " 1st Qu.: 97.0   Class :character   Class :character   Class :character  \n",
       " Median :119.5   Mode  :character   Mode  :character   Mode  :character  \n",
       " Mean   :126.9                                                           \n",
       " 3rd Qu.:142.0                                                           \n",
       " Max.   :326.0                                                           \n",
       "                                                                         \n",
       " compression_ratio   horsepower      peak_rpm            city_mpg    \n",
       " Min.   : 7.000    Min.   : 48.0   Length:204         Min.   :13.00  \n",
       " 1st Qu.: 8.575    1st Qu.: 70.0   Class :character   1st Qu.:19.00  \n",
       " Median : 9.000    Median : 95.0   Mode  :character   Median :24.00  \n",
       " Mean   :10.148    Mean   :104.2                      Mean   :25.24  \n",
       " 3rd Qu.: 9.400    3rd Qu.:116.0                      3rd Qu.:30.00  \n",
       " Max.   :23.000    Max.   :288.0                      Max.   :49.00  \n",
       "                   NA's   :2                                         \n",
       "  highway_mpg        price      \n",
       " Min.   :16.00   Min.   : 5118  \n",
       " 1st Qu.:25.00   1st Qu.: 7775  \n",
       " Median :30.00   Median :10270  \n",
       " Mean   :30.77   Mean   :13206  \n",
       " 3rd Qu.:34.50   3rd Qu.:16501  \n",
       " Max.   :54.00   Max.   :45400  \n",
       "                 NA's   :4      "
      ]
     },
     "metadata": {},
     "output_type": "display_data"
    }
   ],
   "source": [
    "summary(autos)"
   ]
  },
  {
   "cell_type": "markdown",
   "metadata": {
    "collapsed": true
   },
   "source": [
    "#### Dataset cancer esófago\n",
    "\n",
    "\n",
    "Se realizó un estudio retrospectivo de casos y controles de 200 casos masculinos de cáncer de esófago y 778 controles poblacionales en Ille-et-Vilanine (Francia). Los logaritmos de los riesgos relativos de desarrollar la enfermedad aumentan linealmente con el consumo diario de alcohol y tabaco de manera independiente. El efecto combinado de ambos se ajusta con un modelo multiplicativo que se propone. Este modelo podría ser aplicable a otras situaciones. Explica la proporción de sexos y las diferencias urbanas / rurales observadas en Ille-er-Vilaine. \n",
    "\n",
    "http://www.math.umd.edu/~evs/s430.old/Data/ESOPH.dat\n",
    "\n",
    "Columnas:\n",
    "* agegp: grupo de edad\n",
    "* alcgp: consumo de alcohol\n",
    "* tobgp: consumo de tabaco\n",
    "* ncases: número de casos de cancer\n",
    "* ncontrol: población de control\n"
   ]
  },
  {
   "cell_type": "code",
   "execution_count": 28,
   "metadata": {},
   "outputs": [
    {
     "data": {
      "text/html": [
       "<table class=\"dataframe\">\n",
       "<caption>A data.frame: 6 × 5</caption>\n",
       "<thead>\n",
       "\t<tr><th></th><th scope=col>agegp</th><th scope=col>alcgp</th><th scope=col>tobgp</th><th scope=col>ncases</th><th scope=col>ncontrols</th></tr>\n",
       "\t<tr><th></th><th scope=col>&lt;fct&gt;</th><th scope=col>&lt;fct&gt;</th><th scope=col>&lt;fct&gt;</th><th scope=col>&lt;int&gt;</th><th scope=col>&lt;int&gt;</th></tr>\n",
       "</thead>\n",
       "<tbody>\n",
       "\t<tr><th scope=row>1</th><td>25-34</td><td>0-39g/day</td><td>0-9g/day</td><td>0</td><td>40</td></tr>\n",
       "\t<tr><th scope=row>2</th><td>25-34</td><td>0-39g/day</td><td>10-19   </td><td>0</td><td>10</td></tr>\n",
       "\t<tr><th scope=row>3</th><td>25-34</td><td>0-39g/day</td><td>20-29   </td><td>0</td><td> 6</td></tr>\n",
       "\t<tr><th scope=row>4</th><td>25-34</td><td>0-39g/day</td><td>30+     </td><td>0</td><td> 5</td></tr>\n",
       "\t<tr><th scope=row>5</th><td>25-34</td><td>40-79    </td><td>0-9g/day</td><td>0</td><td>27</td></tr>\n",
       "\t<tr><th scope=row>6</th><td>25-34</td><td>40-79    </td><td>10-19   </td><td>0</td><td> 7</td></tr>\n",
       "</tbody>\n",
       "</table>\n"
      ],
      "text/latex": [
       "A data.frame: 6 × 5\n",
       "\\begin{tabular}{r|lllll}\n",
       "  & agegp & alcgp & tobgp & ncases & ncontrols\\\\\n",
       "  & <fct> & <fct> & <fct> & <int> & <int>\\\\\n",
       "\\hline\n",
       "\t1 & 25-34 & 0-39g/day & 0-9g/day & 0 & 40\\\\\n",
       "\t2 & 25-34 & 0-39g/day & 10-19    & 0 & 10\\\\\n",
       "\t3 & 25-34 & 0-39g/day & 20-29    & 0 &  6\\\\\n",
       "\t4 & 25-34 & 0-39g/day & 30+      & 0 &  5\\\\\n",
       "\t5 & 25-34 & 40-79     & 0-9g/day & 0 & 27\\\\\n",
       "\t6 & 25-34 & 40-79     & 10-19    & 0 &  7\\\\\n",
       "\\end{tabular}\n"
      ],
      "text/markdown": [
       "\n",
       "A data.frame: 6 × 5\n",
       "\n",
       "| <!--/--> | agegp &lt;fct&gt; | alcgp &lt;fct&gt; | tobgp &lt;fct&gt; | ncases &lt;int&gt; | ncontrols &lt;int&gt; |\n",
       "|---|---|---|---|---|---|\n",
       "| 1 | 25-34 | 0-39g/day | 0-9g/day | 0 | 40 |\n",
       "| 2 | 25-34 | 0-39g/day | 10-19    | 0 | 10 |\n",
       "| 3 | 25-34 | 0-39g/day | 20-29    | 0 |  6 |\n",
       "| 4 | 25-34 | 0-39g/day | 30+      | 0 |  5 |\n",
       "| 5 | 25-34 | 40-79     | 0-9g/day | 0 | 27 |\n",
       "| 6 | 25-34 | 40-79     | 10-19    | 0 |  7 |\n",
       "\n"
      ],
      "text/plain": [
       "  agegp alcgp     tobgp    ncases ncontrols\n",
       "1 25-34 0-39g/day 0-9g/day 0      40       \n",
       "2 25-34 0-39g/day 10-19    0      10       \n",
       "3 25-34 0-39g/day 20-29    0       6       \n",
       "4 25-34 0-39g/day 30+      0       5       \n",
       "5 25-34 40-79     0-9g/day 0      27       \n",
       "6 25-34 40-79     10-19    0       7       "
      ]
     },
     "metadata": {},
     "output_type": "display_data"
    }
   ],
   "source": [
    "dfcancer<-read.csv(\"data/ESOPH.dat\",skip=43,sep = \"\", stringsAsFactors = T)\n",
    "head(dfcancer)"
   ]
  },
  {
   "cell_type": "code",
   "execution_count": 31,
   "metadata": {},
   "outputs": [
    {
     "data": {
      "text/plain": [
       "   agegp          alcgp         tobgp        ncases         ncontrols    \n",
       " 25-34:15   0-39g/day:23   0-9g/day:24   Min.   : 0.000   Min.   : 1.00  \n",
       " 35-44:15   120+     :21   10-19   :24   1st Qu.: 0.000   1st Qu.: 3.00  \n",
       " 45-54:16   40-79    :23   20-29   :20   Median : 1.000   Median : 6.00  \n",
       " 55-64:16   80-119   :21   30+     :20   Mean   : 2.273   Mean   :11.08  \n",
       " 65-74:15                                3rd Qu.: 4.000   3rd Qu.:14.00  \n",
       " 75+  :11                                Max.   :17.000   Max.   :60.00  "
      ]
     },
     "metadata": {},
     "output_type": "display_data"
    }
   ],
   "source": [
    "summary(dfcancer)"
   ]
  },
  {
   "cell_type": "markdown",
   "metadata": {},
   "source": [
    "En ocasiones podemos convertir los factores en números. Com en este caso que sustituimos los rangos por su valor medio:"
   ]
  },
  {
   "cell_type": "code",
   "execution_count": 29,
   "metadata": {},
   "outputs": [
    {
     "data": {
      "text/html": [
       "<style>\n",
       ".list-inline {list-style: none; margin:0; padding: 0}\n",
       ".list-inline>li {display: inline-block}\n",
       ".list-inline>li:not(:last-child)::after {content: \"\\00b7\"; padding: 0 .5ex}\n",
       "</style>\n",
       "<ol class=list-inline><li>25-34</li><li>35-44</li><li>45-54</li><li>55-64</li><li>65-74</li><li>75+</li></ol>\n",
       "\n",
       "<details>\n",
       "\t<summary style=display:list-item;cursor:pointer>\n",
       "\t\t<strong>Levels</strong>:\n",
       "\t</summary>\n",
       "\t<style>\n",
       "\t.list-inline {list-style: none; margin:0; padding: 0}\n",
       "\t.list-inline>li {display: inline-block}\n",
       "\t.list-inline>li:not(:last-child)::after {content: \"\\00b7\"; padding: 0 .5ex}\n",
       "\t</style>\n",
       "\t<ol class=list-inline><li>'25-34'</li><li>'35-44'</li><li>'45-54'</li><li>'55-64'</li><li>'65-74'</li><li>'75+'</li></ol>\n",
       "</details>"
      ],
      "text/latex": [
       "\\begin{enumerate*}\n",
       "\\item 25-34\n",
       "\\item 35-44\n",
       "\\item 45-54\n",
       "\\item 55-64\n",
       "\\item 65-74\n",
       "\\item 75+\n",
       "\\end{enumerate*}\n",
       "\n",
       "\\emph{Levels}: \\begin{enumerate*}\n",
       "\\item '25-34'\n",
       "\\item '35-44'\n",
       "\\item '45-54'\n",
       "\\item '55-64'\n",
       "\\item '65-74'\n",
       "\\item '75+'\n",
       "\\end{enumerate*}\n"
      ],
      "text/markdown": [
       "1. 25-34\n",
       "2. 35-44\n",
       "3. 45-54\n",
       "4. 55-64\n",
       "5. 65-74\n",
       "6. 75+\n",
       "\n",
       "\n",
       "\n",
       "**Levels**: 1. '25-34'\n",
       "2. '35-44'\n",
       "3. '45-54'\n",
       "4. '55-64'\n",
       "5. '65-74'\n",
       "6. '75+'\n",
       "\n",
       "\n"
      ],
      "text/plain": [
       "[1] 25-34 35-44 45-54 55-64 65-74 75+  \n",
       "Levels: 25-34 35-44 45-54 55-64 65-74 75+"
      ]
     },
     "metadata": {},
     "output_type": "display_data"
    }
   ],
   "source": [
    "unique(dfcancer$agegp)"
   ]
  },
  {
   "cell_type": "code",
   "execution_count": 30,
   "metadata": {},
   "outputs": [
    {
     "data": {
      "text/html": [
       "<style>\n",
       ".list-inline {list-style: none; margin:0; padding: 0}\n",
       ".list-inline>li {display: inline-block}\n",
       ".list-inline>li:not(:last-child)::after {content: \"\\00b7\"; padding: 0 .5ex}\n",
       "</style>\n",
       "<ol class=list-inline><li>1</li><li>2</li><li>3</li><li>4</li><li>5</li><li>6</li></ol>\n"
      ],
      "text/latex": [
       "\\begin{enumerate*}\n",
       "\\item 1\n",
       "\\item 2\n",
       "\\item 3\n",
       "\\item 4\n",
       "\\item 5\n",
       "\\item 6\n",
       "\\end{enumerate*}\n"
      ],
      "text/markdown": [
       "1. 1\n",
       "2. 2\n",
       "3. 3\n",
       "4. 4\n",
       "5. 5\n",
       "6. 6\n",
       "\n",
       "\n"
      ],
      "text/plain": [
       "[1] 1 2 3 4 5 6"
      ]
     },
     "metadata": {},
     "output_type": "display_data"
    }
   ],
   "source": [
    "as.numeric(unique(dfcancer$agegp))"
   ]
  },
  {
   "cell_type": "code",
   "execution_count": 33,
   "metadata": {},
   "outputs": [
    {
     "data": {
      "text/html": [
       "<style>\n",
       ".list-inline {list-style: none; margin:0; padding: 0}\n",
       ".list-inline>li {display: inline-block}\n",
       ".list-inline>li:not(:last-child)::after {content: \"\\00b7\"; padding: 0 .5ex}\n",
       "</style>\n",
       "<ol class=list-inline><li>25-34</li><li>25-34</li><li>25-34</li><li>25-34</li><li>25-34</li><li>25-34</li><li>25-34</li><li>25-34</li><li>25-34</li><li>25-34</li><li>25-34</li><li>25-34</li><li>25-34</li><li>25-34</li><li>25-34</li><li>35-44</li><li>35-44</li><li>35-44</li><li>35-44</li><li>35-44</li><li>35-44</li><li>35-44</li><li>35-44</li><li>35-44</li><li>35-44</li><li>35-44</li><li>35-44</li><li>35-44</li><li>35-44</li><li>35-44</li><li>45-54</li><li>45-54</li><li>45-54</li><li>45-54</li><li>45-54</li><li>45-54</li><li>45-54</li><li>45-54</li><li>45-54</li><li>45-54</li><li>45-54</li><li>45-54</li><li>45-54</li><li>45-54</li><li>45-54</li><li>45-54</li><li>55-64</li><li>55-64</li><li>55-64</li><li>55-64</li><li>55-64</li><li>55-64</li><li>55-64</li><li>55-64</li><li>55-64</li><li>55-64</li><li>55-64</li><li>55-64</li><li>55-64</li><li>55-64</li><li>55-64</li><li>55-64</li><li>65-74</li><li>65-74</li><li>65-74</li><li>65-74</li><li>65-74</li><li>65-74</li><li>65-74</li><li>65-74</li><li>65-74</li><li>65-74</li><li>65-74</li><li>65-74</li><li>65-74</li><li>65-74</li><li>65-74</li><li>75+</li><li>75+</li><li>75+</li><li>75+</li><li>75+</li><li>75+</li><li>75+</li><li>75+</li><li>75+</li><li>75+</li><li>75+</li></ol>\n",
       "\n",
       "<details>\n",
       "\t<summary style=display:list-item;cursor:pointer>\n",
       "\t\t<strong>Levels</strong>:\n",
       "\t</summary>\n",
       "\t<style>\n",
       "\t.list-inline {list-style: none; margin:0; padding: 0}\n",
       "\t.list-inline>li {display: inline-block}\n",
       "\t.list-inline>li:not(:last-child)::after {content: \"\\00b7\"; padding: 0 .5ex}\n",
       "\t</style>\n",
       "\t<ol class=list-inline><li>'25-34'</li><li>'35-44'</li><li>'45-54'</li><li>'55-64'</li><li>'65-74'</li><li>'75+'</li></ol>\n",
       "</details>"
      ],
      "text/latex": [
       "\\begin{enumerate*}\n",
       "\\item 25-34\n",
       "\\item 25-34\n",
       "\\item 25-34\n",
       "\\item 25-34\n",
       "\\item 25-34\n",
       "\\item 25-34\n",
       "\\item 25-34\n",
       "\\item 25-34\n",
       "\\item 25-34\n",
       "\\item 25-34\n",
       "\\item 25-34\n",
       "\\item 25-34\n",
       "\\item 25-34\n",
       "\\item 25-34\n",
       "\\item 25-34\n",
       "\\item 35-44\n",
       "\\item 35-44\n",
       "\\item 35-44\n",
       "\\item 35-44\n",
       "\\item 35-44\n",
       "\\item 35-44\n",
       "\\item 35-44\n",
       "\\item 35-44\n",
       "\\item 35-44\n",
       "\\item 35-44\n",
       "\\item 35-44\n",
       "\\item 35-44\n",
       "\\item 35-44\n",
       "\\item 35-44\n",
       "\\item 35-44\n",
       "\\item 45-54\n",
       "\\item 45-54\n",
       "\\item 45-54\n",
       "\\item 45-54\n",
       "\\item 45-54\n",
       "\\item 45-54\n",
       "\\item 45-54\n",
       "\\item 45-54\n",
       "\\item 45-54\n",
       "\\item 45-54\n",
       "\\item 45-54\n",
       "\\item 45-54\n",
       "\\item 45-54\n",
       "\\item 45-54\n",
       "\\item 45-54\n",
       "\\item 45-54\n",
       "\\item 55-64\n",
       "\\item 55-64\n",
       "\\item 55-64\n",
       "\\item 55-64\n",
       "\\item 55-64\n",
       "\\item 55-64\n",
       "\\item 55-64\n",
       "\\item 55-64\n",
       "\\item 55-64\n",
       "\\item 55-64\n",
       "\\item 55-64\n",
       "\\item 55-64\n",
       "\\item 55-64\n",
       "\\item 55-64\n",
       "\\item 55-64\n",
       "\\item 55-64\n",
       "\\item 65-74\n",
       "\\item 65-74\n",
       "\\item 65-74\n",
       "\\item 65-74\n",
       "\\item 65-74\n",
       "\\item 65-74\n",
       "\\item 65-74\n",
       "\\item 65-74\n",
       "\\item 65-74\n",
       "\\item 65-74\n",
       "\\item 65-74\n",
       "\\item 65-74\n",
       "\\item 65-74\n",
       "\\item 65-74\n",
       "\\item 65-74\n",
       "\\item 75+\n",
       "\\item 75+\n",
       "\\item 75+\n",
       "\\item 75+\n",
       "\\item 75+\n",
       "\\item 75+\n",
       "\\item 75+\n",
       "\\item 75+\n",
       "\\item 75+\n",
       "\\item 75+\n",
       "\\item 75+\n",
       "\\end{enumerate*}\n",
       "\n",
       "\\emph{Levels}: \\begin{enumerate*}\n",
       "\\item '25-34'\n",
       "\\item '35-44'\n",
       "\\item '45-54'\n",
       "\\item '55-64'\n",
       "\\item '65-74'\n",
       "\\item '75+'\n",
       "\\end{enumerate*}\n"
      ],
      "text/markdown": [
       "1. 25-34\n",
       "2. 25-34\n",
       "3. 25-34\n",
       "4. 25-34\n",
       "5. 25-34\n",
       "6. 25-34\n",
       "7. 25-34\n",
       "8. 25-34\n",
       "9. 25-34\n",
       "10. 25-34\n",
       "11. 25-34\n",
       "12. 25-34\n",
       "13. 25-34\n",
       "14. 25-34\n",
       "15. 25-34\n",
       "16. 35-44\n",
       "17. 35-44\n",
       "18. 35-44\n",
       "19. 35-44\n",
       "20. 35-44\n",
       "21. 35-44\n",
       "22. 35-44\n",
       "23. 35-44\n",
       "24. 35-44\n",
       "25. 35-44\n",
       "26. 35-44\n",
       "27. 35-44\n",
       "28. 35-44\n",
       "29. 35-44\n",
       "30. 35-44\n",
       "31. 45-54\n",
       "32. 45-54\n",
       "33. 45-54\n",
       "34. 45-54\n",
       "35. 45-54\n",
       "36. 45-54\n",
       "37. 45-54\n",
       "38. 45-54\n",
       "39. 45-54\n",
       "40. 45-54\n",
       "41. 45-54\n",
       "42. 45-54\n",
       "43. 45-54\n",
       "44. 45-54\n",
       "45. 45-54\n",
       "46. 45-54\n",
       "47. 55-64\n",
       "48. 55-64\n",
       "49. 55-64\n",
       "50. 55-64\n",
       "51. 55-64\n",
       "52. 55-64\n",
       "53. 55-64\n",
       "54. 55-64\n",
       "55. 55-64\n",
       "56. 55-64\n",
       "57. 55-64\n",
       "58. 55-64\n",
       "59. 55-64\n",
       "60. 55-64\n",
       "61. 55-64\n",
       "62. 55-64\n",
       "63. 65-74\n",
       "64. 65-74\n",
       "65. 65-74\n",
       "66. 65-74\n",
       "67. 65-74\n",
       "68. 65-74\n",
       "69. 65-74\n",
       "70. 65-74\n",
       "71. 65-74\n",
       "72. 65-74\n",
       "73. 65-74\n",
       "74. 65-74\n",
       "75. 65-74\n",
       "76. 65-74\n",
       "77. 65-74\n",
       "78. 75+\n",
       "79. 75+\n",
       "80. 75+\n",
       "81. 75+\n",
       "82. 75+\n",
       "83. 75+\n",
       "84. 75+\n",
       "85. 75+\n",
       "86. 75+\n",
       "87. 75+\n",
       "88. 75+\n",
       "\n",
       "\n",
       "\n",
       "**Levels**: 1. '25-34'\n",
       "2. '35-44'\n",
       "3. '45-54'\n",
       "4. '55-64'\n",
       "5. '65-74'\n",
       "6. '75+'\n",
       "\n",
       "\n"
      ],
      "text/plain": [
       " [1] 25-34 25-34 25-34 25-34 25-34 25-34 25-34 25-34 25-34 25-34 25-34 25-34\n",
       "[13] 25-34 25-34 25-34 35-44 35-44 35-44 35-44 35-44 35-44 35-44 35-44 35-44\n",
       "[25] 35-44 35-44 35-44 35-44 35-44 35-44 45-54 45-54 45-54 45-54 45-54 45-54\n",
       "[37] 45-54 45-54 45-54 45-54 45-54 45-54 45-54 45-54 45-54 45-54 55-64 55-64\n",
       "[49] 55-64 55-64 55-64 55-64 55-64 55-64 55-64 55-64 55-64 55-64 55-64 55-64\n",
       "[61] 55-64 55-64 65-74 65-74 65-74 65-74 65-74 65-74 65-74 65-74 65-74 65-74\n",
       "[73] 65-74 65-74 65-74 65-74 65-74 75+   75+   75+   75+   75+   75+   75+  \n",
       "[85] 75+   75+   75+   75+  \n",
       "Levels: 25-34 35-44 45-54 55-64 65-74 75+"
      ]
     },
     "metadata": {},
     "output_type": "display_data"
    }
   ],
   "source": [
    "ageVectors <- c(30, 40, 50, 60, 70, 80)\n",
    "dfcancer$agegp"
   ]
  },
  {
   "cell_type": "code",
   "execution_count": 34,
   "metadata": {},
   "outputs": [
    {
     "data": {
      "text/html": [
       "<style>\n",
       ".list-inline {list-style: none; margin:0; padding: 0}\n",
       ".list-inline>li {display: inline-block}\n",
       ".list-inline>li:not(:last-child)::after {content: \"\\00b7\"; padding: 0 .5ex}\n",
       "</style>\n",
       "<ol class=list-inline><li>1</li><li>1</li><li>1</li><li>1</li><li>1</li><li>1</li><li>1</li><li>1</li><li>1</li><li>1</li><li>1</li><li>1</li><li>1</li><li>1</li><li>1</li><li>2</li><li>2</li><li>2</li><li>2</li><li>2</li><li>2</li><li>2</li><li>2</li><li>2</li><li>2</li><li>2</li><li>2</li><li>2</li><li>2</li><li>2</li><li>3</li><li>3</li><li>3</li><li>3</li><li>3</li><li>3</li><li>3</li><li>3</li><li>3</li><li>3</li><li>3</li><li>3</li><li>3</li><li>3</li><li>3</li><li>3</li><li>4</li><li>4</li><li>4</li><li>4</li><li>4</li><li>4</li><li>4</li><li>4</li><li>4</li><li>4</li><li>4</li><li>4</li><li>4</li><li>4</li><li>4</li><li>4</li><li>5</li><li>5</li><li>5</li><li>5</li><li>5</li><li>5</li><li>5</li><li>5</li><li>5</li><li>5</li><li>5</li><li>5</li><li>5</li><li>5</li><li>5</li><li>6</li><li>6</li><li>6</li><li>6</li><li>6</li><li>6</li><li>6</li><li>6</li><li>6</li><li>6</li><li>6</li></ol>\n"
      ],
      "text/latex": [
       "\\begin{enumerate*}\n",
       "\\item 1\n",
       "\\item 1\n",
       "\\item 1\n",
       "\\item 1\n",
       "\\item 1\n",
       "\\item 1\n",
       "\\item 1\n",
       "\\item 1\n",
       "\\item 1\n",
       "\\item 1\n",
       "\\item 1\n",
       "\\item 1\n",
       "\\item 1\n",
       "\\item 1\n",
       "\\item 1\n",
       "\\item 2\n",
       "\\item 2\n",
       "\\item 2\n",
       "\\item 2\n",
       "\\item 2\n",
       "\\item 2\n",
       "\\item 2\n",
       "\\item 2\n",
       "\\item 2\n",
       "\\item 2\n",
       "\\item 2\n",
       "\\item 2\n",
       "\\item 2\n",
       "\\item 2\n",
       "\\item 2\n",
       "\\item 3\n",
       "\\item 3\n",
       "\\item 3\n",
       "\\item 3\n",
       "\\item 3\n",
       "\\item 3\n",
       "\\item 3\n",
       "\\item 3\n",
       "\\item 3\n",
       "\\item 3\n",
       "\\item 3\n",
       "\\item 3\n",
       "\\item 3\n",
       "\\item 3\n",
       "\\item 3\n",
       "\\item 3\n",
       "\\item 4\n",
       "\\item 4\n",
       "\\item 4\n",
       "\\item 4\n",
       "\\item 4\n",
       "\\item 4\n",
       "\\item 4\n",
       "\\item 4\n",
       "\\item 4\n",
       "\\item 4\n",
       "\\item 4\n",
       "\\item 4\n",
       "\\item 4\n",
       "\\item 4\n",
       "\\item 4\n",
       "\\item 4\n",
       "\\item 5\n",
       "\\item 5\n",
       "\\item 5\n",
       "\\item 5\n",
       "\\item 5\n",
       "\\item 5\n",
       "\\item 5\n",
       "\\item 5\n",
       "\\item 5\n",
       "\\item 5\n",
       "\\item 5\n",
       "\\item 5\n",
       "\\item 5\n",
       "\\item 5\n",
       "\\item 5\n",
       "\\item 6\n",
       "\\item 6\n",
       "\\item 6\n",
       "\\item 6\n",
       "\\item 6\n",
       "\\item 6\n",
       "\\item 6\n",
       "\\item 6\n",
       "\\item 6\n",
       "\\item 6\n",
       "\\item 6\n",
       "\\end{enumerate*}\n"
      ],
      "text/markdown": [
       "1. 1\n",
       "2. 1\n",
       "3. 1\n",
       "4. 1\n",
       "5. 1\n",
       "6. 1\n",
       "7. 1\n",
       "8. 1\n",
       "9. 1\n",
       "10. 1\n",
       "11. 1\n",
       "12. 1\n",
       "13. 1\n",
       "14. 1\n",
       "15. 1\n",
       "16. 2\n",
       "17. 2\n",
       "18. 2\n",
       "19. 2\n",
       "20. 2\n",
       "21. 2\n",
       "22. 2\n",
       "23. 2\n",
       "24. 2\n",
       "25. 2\n",
       "26. 2\n",
       "27. 2\n",
       "28. 2\n",
       "29. 2\n",
       "30. 2\n",
       "31. 3\n",
       "32. 3\n",
       "33. 3\n",
       "34. 3\n",
       "35. 3\n",
       "36. 3\n",
       "37. 3\n",
       "38. 3\n",
       "39. 3\n",
       "40. 3\n",
       "41. 3\n",
       "42. 3\n",
       "43. 3\n",
       "44. 3\n",
       "45. 3\n",
       "46. 3\n",
       "47. 4\n",
       "48. 4\n",
       "49. 4\n",
       "50. 4\n",
       "51. 4\n",
       "52. 4\n",
       "53. 4\n",
       "54. 4\n",
       "55. 4\n",
       "56. 4\n",
       "57. 4\n",
       "58. 4\n",
       "59. 4\n",
       "60. 4\n",
       "61. 4\n",
       "62. 4\n",
       "63. 5\n",
       "64. 5\n",
       "65. 5\n",
       "66. 5\n",
       "67. 5\n",
       "68. 5\n",
       "69. 5\n",
       "70. 5\n",
       "71. 5\n",
       "72. 5\n",
       "73. 5\n",
       "74. 5\n",
       "75. 5\n",
       "76. 5\n",
       "77. 5\n",
       "78. 6\n",
       "79. 6\n",
       "80. 6\n",
       "81. 6\n",
       "82. 6\n",
       "83. 6\n",
       "84. 6\n",
       "85. 6\n",
       "86. 6\n",
       "87. 6\n",
       "88. 6\n",
       "\n",
       "\n"
      ],
      "text/plain": [
       " [1] 1 1 1 1 1 1 1 1 1 1 1 1 1 1 1 2 2 2 2 2 2 2 2 2 2 2 2 2 2 2 3 3 3 3 3 3 3 3\n",
       "[39] 3 3 3 3 3 3 3 3 4 4 4 4 4 4 4 4 4 4 4 4 4 4 4 4 5 5 5 5 5 5 5 5 5 5 5 5 5 5\n",
       "[77] 5 6 6 6 6 6 6 6 6 6 6 6"
      ]
     },
     "metadata": {},
     "output_type": "display_data"
    }
   ],
   "source": [
    "as.numeric(dfcancer$agegp)"
   ]
  },
  {
   "cell_type": "code",
   "execution_count": 35,
   "metadata": {},
   "outputs": [
    {
     "data": {
      "text/html": [
       "<style>\n",
       ".list-inline {list-style: none; margin:0; padding: 0}\n",
       ".list-inline>li {display: inline-block}\n",
       ".list-inline>li:not(:last-child)::after {content: \"\\00b7\"; padding: 0 .5ex}\n",
       "</style>\n",
       "<ol class=list-inline><li>30</li><li>40</li><li>50</li><li>80</li></ol>\n"
      ],
      "text/latex": [
       "\\begin{enumerate*}\n",
       "\\item 30\n",
       "\\item 40\n",
       "\\item 50\n",
       "\\item 80\n",
       "\\end{enumerate*}\n"
      ],
      "text/markdown": [
       "1. 30\n",
       "2. 40\n",
       "3. 50\n",
       "4. 80\n",
       "\n",
       "\n"
      ],
      "text/plain": [
       "[1] 30 40 50 80"
      ]
     },
     "metadata": {},
     "output_type": "display_data"
    }
   ],
   "source": [
    "ageVectors[c(1,2,3,6)]"
   ]
  },
  {
   "cell_type": "markdown",
   "metadata": {},
   "source": [
    "Si le pasamos el vector, entonces podemos asignar ls clases en función del as.numeric para poder meterlos en un intervalo "
   ]
  },
  {
   "cell_type": "code",
   "execution_count": 36,
   "metadata": {},
   "outputs": [
    {
     "data": {
      "text/html": [
       "<style>\n",
       ".list-inline {list-style: none; margin:0; padding: 0}\n",
       ".list-inline>li {display: inline-block}\n",
       ".list-inline>li:not(:last-child)::after {content: \"\\00b7\"; padding: 0 .5ex}\n",
       "</style>\n",
       "<ol class=list-inline><li>30</li><li>30</li><li>30</li><li>30</li><li>30</li><li>30</li><li>30</li><li>30</li><li>30</li><li>30</li><li>30</li><li>30</li><li>30</li><li>30</li><li>30</li><li>40</li><li>40</li><li>40</li><li>40</li><li>40</li><li>40</li><li>40</li><li>40</li><li>40</li><li>40</li><li>40</li><li>40</li><li>40</li><li>40</li><li>40</li><li>50</li><li>50</li><li>50</li><li>50</li><li>50</li><li>50</li><li>50</li><li>50</li><li>50</li><li>50</li><li>50</li><li>50</li><li>50</li><li>50</li><li>50</li><li>50</li><li>60</li><li>60</li><li>60</li><li>60</li><li>60</li><li>60</li><li>60</li><li>60</li><li>60</li><li>60</li><li>60</li><li>60</li><li>60</li><li>60</li><li>60</li><li>60</li><li>70</li><li>70</li><li>70</li><li>70</li><li>70</li><li>70</li><li>70</li><li>70</li><li>70</li><li>70</li><li>70</li><li>70</li><li>70</li><li>70</li><li>70</li><li>80</li><li>80</li><li>80</li><li>80</li><li>80</li><li>80</li><li>80</li><li>80</li><li>80</li><li>80</li><li>80</li></ol>\n"
      ],
      "text/latex": [
       "\\begin{enumerate*}\n",
       "\\item 30\n",
       "\\item 30\n",
       "\\item 30\n",
       "\\item 30\n",
       "\\item 30\n",
       "\\item 30\n",
       "\\item 30\n",
       "\\item 30\n",
       "\\item 30\n",
       "\\item 30\n",
       "\\item 30\n",
       "\\item 30\n",
       "\\item 30\n",
       "\\item 30\n",
       "\\item 30\n",
       "\\item 40\n",
       "\\item 40\n",
       "\\item 40\n",
       "\\item 40\n",
       "\\item 40\n",
       "\\item 40\n",
       "\\item 40\n",
       "\\item 40\n",
       "\\item 40\n",
       "\\item 40\n",
       "\\item 40\n",
       "\\item 40\n",
       "\\item 40\n",
       "\\item 40\n",
       "\\item 40\n",
       "\\item 50\n",
       "\\item 50\n",
       "\\item 50\n",
       "\\item 50\n",
       "\\item 50\n",
       "\\item 50\n",
       "\\item 50\n",
       "\\item 50\n",
       "\\item 50\n",
       "\\item 50\n",
       "\\item 50\n",
       "\\item 50\n",
       "\\item 50\n",
       "\\item 50\n",
       "\\item 50\n",
       "\\item 50\n",
       "\\item 60\n",
       "\\item 60\n",
       "\\item 60\n",
       "\\item 60\n",
       "\\item 60\n",
       "\\item 60\n",
       "\\item 60\n",
       "\\item 60\n",
       "\\item 60\n",
       "\\item 60\n",
       "\\item 60\n",
       "\\item 60\n",
       "\\item 60\n",
       "\\item 60\n",
       "\\item 60\n",
       "\\item 60\n",
       "\\item 70\n",
       "\\item 70\n",
       "\\item 70\n",
       "\\item 70\n",
       "\\item 70\n",
       "\\item 70\n",
       "\\item 70\n",
       "\\item 70\n",
       "\\item 70\n",
       "\\item 70\n",
       "\\item 70\n",
       "\\item 70\n",
       "\\item 70\n",
       "\\item 70\n",
       "\\item 70\n",
       "\\item 80\n",
       "\\item 80\n",
       "\\item 80\n",
       "\\item 80\n",
       "\\item 80\n",
       "\\item 80\n",
       "\\item 80\n",
       "\\item 80\n",
       "\\item 80\n",
       "\\item 80\n",
       "\\item 80\n",
       "\\end{enumerate*}\n"
      ],
      "text/markdown": [
       "1. 30\n",
       "2. 30\n",
       "3. 30\n",
       "4. 30\n",
       "5. 30\n",
       "6. 30\n",
       "7. 30\n",
       "8. 30\n",
       "9. 30\n",
       "10. 30\n",
       "11. 30\n",
       "12. 30\n",
       "13. 30\n",
       "14. 30\n",
       "15. 30\n",
       "16. 40\n",
       "17. 40\n",
       "18. 40\n",
       "19. 40\n",
       "20. 40\n",
       "21. 40\n",
       "22. 40\n",
       "23. 40\n",
       "24. 40\n",
       "25. 40\n",
       "26. 40\n",
       "27. 40\n",
       "28. 40\n",
       "29. 40\n",
       "30. 40\n",
       "31. 50\n",
       "32. 50\n",
       "33. 50\n",
       "34. 50\n",
       "35. 50\n",
       "36. 50\n",
       "37. 50\n",
       "38. 50\n",
       "39. 50\n",
       "40. 50\n",
       "41. 50\n",
       "42. 50\n",
       "43. 50\n",
       "44. 50\n",
       "45. 50\n",
       "46. 50\n",
       "47. 60\n",
       "48. 60\n",
       "49. 60\n",
       "50. 60\n",
       "51. 60\n",
       "52. 60\n",
       "53. 60\n",
       "54. 60\n",
       "55. 60\n",
       "56. 60\n",
       "57. 60\n",
       "58. 60\n",
       "59. 60\n",
       "60. 60\n",
       "61. 60\n",
       "62. 60\n",
       "63. 70\n",
       "64. 70\n",
       "65. 70\n",
       "66. 70\n",
       "67. 70\n",
       "68. 70\n",
       "69. 70\n",
       "70. 70\n",
       "71. 70\n",
       "72. 70\n",
       "73. 70\n",
       "74. 70\n",
       "75. 70\n",
       "76. 70\n",
       "77. 70\n",
       "78. 80\n",
       "79. 80\n",
       "80. 80\n",
       "81. 80\n",
       "82. 80\n",
       "83. 80\n",
       "84. 80\n",
       "85. 80\n",
       "86. 80\n",
       "87. 80\n",
       "88. 80\n",
       "\n",
       "\n"
      ],
      "text/plain": [
       " [1] 30 30 30 30 30 30 30 30 30 30 30 30 30 30 30 40 40 40 40 40 40 40 40 40 40\n",
       "[26] 40 40 40 40 40 50 50 50 50 50 50 50 50 50 50 50 50 50 50 50 50 60 60 60 60\n",
       "[51] 60 60 60 60 60 60 60 60 60 60 60 60 70 70 70 70 70 70 70 70 70 70 70 70 70\n",
       "[76] 70 70 80 80 80 80 80 80 80 80 80 80 80"
      ]
     },
     "metadata": {},
     "output_type": "display_data"
    }
   ],
   "source": [
    "ageVectors[as.numeric(dfcancer$agegp)]"
   ]
  },
  {
   "cell_type": "markdown",
   "metadata": {},
   "source": [
    "Podemos usar esta nueva columna para añadir la reclasificación"
   ]
  },
  {
   "cell_type": "code",
   "execution_count": 37,
   "metadata": {},
   "outputs": [],
   "source": [
    "dfcancer$edad_numerica <- ageVectors[as.numeric(dfcancer$agegp)]"
   ]
  },
  {
   "cell_type": "code",
   "execution_count": 38,
   "metadata": {},
   "outputs": [
    {
     "data": {
      "text/html": [
       "<table class=\"dataframe\">\n",
       "<caption>A data.frame: 6 × 6</caption>\n",
       "<thead>\n",
       "\t<tr><th></th><th scope=col>agegp</th><th scope=col>alcgp</th><th scope=col>tobgp</th><th scope=col>ncases</th><th scope=col>ncontrols</th><th scope=col>edad_numerica</th></tr>\n",
       "\t<tr><th></th><th scope=col>&lt;fct&gt;</th><th scope=col>&lt;fct&gt;</th><th scope=col>&lt;fct&gt;</th><th scope=col>&lt;int&gt;</th><th scope=col>&lt;int&gt;</th><th scope=col>&lt;dbl&gt;</th></tr>\n",
       "</thead>\n",
       "<tbody>\n",
       "\t<tr><th scope=row>83</th><td>75+</td><td>40-79 </td><td>20-29   </td><td>0</td><td>3</td><td>80</td></tr>\n",
       "\t<tr><th scope=row>84</th><td>75+</td><td>40-79 </td><td>30+     </td><td>1</td><td>1</td><td>80</td></tr>\n",
       "\t<tr><th scope=row>85</th><td>75+</td><td>80-119</td><td>0-9g/day</td><td>1</td><td>1</td><td>80</td></tr>\n",
       "\t<tr><th scope=row>86</th><td>75+</td><td>80-119</td><td>10-19   </td><td>1</td><td>1</td><td>80</td></tr>\n",
       "\t<tr><th scope=row>87</th><td>75+</td><td>120+  </td><td>0-9g/day</td><td>2</td><td>2</td><td>80</td></tr>\n",
       "\t<tr><th scope=row>88</th><td>75+</td><td>120+  </td><td>10-19   </td><td>1</td><td>1</td><td>80</td></tr>\n",
       "</tbody>\n",
       "</table>\n"
      ],
      "text/latex": [
       "A data.frame: 6 × 6\n",
       "\\begin{tabular}{r|llllll}\n",
       "  & agegp & alcgp & tobgp & ncases & ncontrols & edad\\_numerica\\\\\n",
       "  & <fct> & <fct> & <fct> & <int> & <int> & <dbl>\\\\\n",
       "\\hline\n",
       "\t83 & 75+ & 40-79  & 20-29    & 0 & 3 & 80\\\\\n",
       "\t84 & 75+ & 40-79  & 30+      & 1 & 1 & 80\\\\\n",
       "\t85 & 75+ & 80-119 & 0-9g/day & 1 & 1 & 80\\\\\n",
       "\t86 & 75+ & 80-119 & 10-19    & 1 & 1 & 80\\\\\n",
       "\t87 & 75+ & 120+   & 0-9g/day & 2 & 2 & 80\\\\\n",
       "\t88 & 75+ & 120+   & 10-19    & 1 & 1 & 80\\\\\n",
       "\\end{tabular}\n"
      ],
      "text/markdown": [
       "\n",
       "A data.frame: 6 × 6\n",
       "\n",
       "| <!--/--> | agegp &lt;fct&gt; | alcgp &lt;fct&gt; | tobgp &lt;fct&gt; | ncases &lt;int&gt; | ncontrols &lt;int&gt; | edad_numerica &lt;dbl&gt; |\n",
       "|---|---|---|---|---|---|---|\n",
       "| 83 | 75+ | 40-79  | 20-29    | 0 | 3 | 80 |\n",
       "| 84 | 75+ | 40-79  | 30+      | 1 | 1 | 80 |\n",
       "| 85 | 75+ | 80-119 | 0-9g/day | 1 | 1 | 80 |\n",
       "| 86 | 75+ | 80-119 | 10-19    | 1 | 1 | 80 |\n",
       "| 87 | 75+ | 120+   | 0-9g/day | 2 | 2 | 80 |\n",
       "| 88 | 75+ | 120+   | 10-19    | 1 | 1 | 80 |\n",
       "\n"
      ],
      "text/plain": [
       "   agegp alcgp  tobgp    ncases ncontrols edad_numerica\n",
       "83 75+   40-79  20-29    0      3         80           \n",
       "84 75+   40-79  30+      1      1         80           \n",
       "85 75+   80-119 0-9g/day 1      1         80           \n",
       "86 75+   80-119 10-19    1      1         80           \n",
       "87 75+   120+   0-9g/day 2      2         80           \n",
       "88 75+   120+   10-19    1      1         80           "
      ]
     },
     "metadata": {},
     "output_type": "display_data"
    }
   ],
   "source": [
    "tail(dfcancer)"
   ]
  },
  {
   "cell_type": "code",
   "execution_count": 39,
   "metadata": {},
   "outputs": [
    {
     "data": {
      "text/plain": [
       "   agegp          alcgp         tobgp        ncases         ncontrols    \n",
       " 25-34:15   0-39g/day:23   0-9g/day:24   Min.   : 0.000   Min.   : 1.00  \n",
       " 35-44:15   120+     :21   10-19   :24   1st Qu.: 0.000   1st Qu.: 3.00  \n",
       " 45-54:16   40-79    :23   20-29   :20   Median : 1.000   Median : 6.00  \n",
       " 55-64:16   80-119   :21   30+     :20   Mean   : 2.273   Mean   :11.08  \n",
       " 65-74:15                                3rd Qu.: 4.000   3rd Qu.:14.00  \n",
       " 75+  :11                                Max.   :17.000   Max.   :60.00  \n",
       " edad_numerica  \n",
       " Min.   :30.00  \n",
       " 1st Qu.:40.00  \n",
       " Median :50.00  \n",
       " Mean   :53.86  \n",
       " 3rd Qu.:70.00  \n",
       " Max.   :80.00  "
      ]
     },
     "metadata": {},
     "output_type": "display_data"
    }
   ],
   "source": [
    "summary(dfcancer)"
   ]
  },
  {
   "cell_type": "markdown",
   "metadata": {},
   "source": [
    "Adicional"
   ]
  },
  {
   "cell_type": "code",
   "execution_count": 41,
   "metadata": {},
   "outputs": [
    {
     "data": {
      "text/plain": [
       "\n",
       "0-39g/day     40-79      120+    80-119 \n",
       "       23        23        21        21 "
      ]
     },
     "metadata": {},
     "output_type": "display_data"
    }
   ],
   "source": [
    "sort(table(dfcancer$alcgp), decreasing = T)"
   ]
  },
  {
   "cell_type": "code",
   "execution_count": 43,
   "metadata": {},
   "outputs": [
    {
     "data": {
      "text/plain": [
       "\n",
       "0-39g/day      120+     40-79    80-119 \n",
       "       23        21        23        21 "
      ]
     },
     "metadata": {},
     "output_type": "display_data"
    }
   ],
   "source": [
    "table(dfcancer$alcgp)"
   ]
  },
  {
   "cell_type": "code",
   "execution_count": null,
   "metadata": {},
   "outputs": [],
   "source": []
  }
 ],
 "metadata": {
  "kernelspec": {
   "display_name": "R",
   "language": "R",
   "name": "ir"
  },
  "language_info": {
   "codemirror_mode": "r",
   "file_extension": ".r",
   "mimetype": "text/x-r-source",
   "name": "R",
   "pygments_lexer": "r",
   "version": "4.1.0"
  }
 },
 "nbformat": 4,
 "nbformat_minor": 1
}
