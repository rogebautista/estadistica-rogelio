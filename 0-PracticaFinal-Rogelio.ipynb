{
 "cells": [
  {
   "cell_type": "code",
   "execution_count": 2,
   "metadata": {},
   "outputs": [],
   "source": [
    "library(ggplot2)\n",
    "options(repr.plot.height=4,repr.plot.width=6)\n",
    "\n",
    "library(dplyr)"
   ]
  },
  {
   "cell_type": "markdown",
   "metadata": {},
   "source": [
    "Cargar los datos en un dataframe llamado: airbnb"
   ]
  },
  {
   "cell_type": "code",
   "execution_count": 3,
   "metadata": {},
   "outputs": [],
   "source": [
    "airbnb<-read.csv('data//airbnb.csv',sep = ',', stringsAsFactors = T)"
   ]
  },
  {
   "cell_type": "markdown",
   "metadata": {},
   "source": [
    "Mostrar las primeras 6 filas del dataframe"
   ]
  },
  {
   "cell_type": "code",
   "execution_count": 4,
   "metadata": {
    "scrolled": true
   },
   "outputs": [
    {
     "data": {
      "text/html": [
       "<table class=\"dataframe\">\n",
       "<caption>A data.frame: 6 × 13</caption>\n",
       "<thead>\n",
       "\t<tr><th></th><th scope=col>Zipcode</th><th scope=col>Neighbourhood.Cleansed</th><th scope=col>Property.Type</th><th scope=col>Room.Type</th><th scope=col>Accommodates</th><th scope=col>Bathrooms</th><th scope=col>Bedrooms</th><th scope=col>Beds</th><th scope=col>Bed.Type</th><th scope=col>Amenities</th><th scope=col>Square.Feet</th><th scope=col>Price</th><th scope=col>Review.Scores.Rating</th></tr>\n",
       "\t<tr><th></th><th scope=col>&lt;fct&gt;</th><th scope=col>&lt;fct&gt;</th><th scope=col>&lt;fct&gt;</th><th scope=col>&lt;fct&gt;</th><th scope=col>&lt;int&gt;</th><th scope=col>&lt;dbl&gt;</th><th scope=col>&lt;int&gt;</th><th scope=col>&lt;int&gt;</th><th scope=col>&lt;fct&gt;</th><th scope=col>&lt;fct&gt;</th><th scope=col>&lt;int&gt;</th><th scope=col>&lt;int&gt;</th><th scope=col>&lt;int&gt;</th></tr>\n",
       "</thead>\n",
       "<tbody>\n",
       "\t<tr><th scope=row>1</th><td>28004</td><td>Universidad</td><td>Apartment</td><td>Private room   </td><td>2</td><td>2</td><td>1</td><td>1</td><td>Real Bed</td><td>TV,Wireless Internet,Kitchen,Pets allowed,Pets live on this property,Buzzer/wireless intercom,Heating,Suitable for events,Washer,First aid kit,Essentials,Lock on bedroom door,Iron                                                                                                                                                                             </td><td> NA</td><td>35</td><td> NA</td></tr>\n",
       "\t<tr><th scope=row>2</th><td>28004</td><td>Universidad</td><td>Apartment</td><td>Entire home/apt</td><td>6</td><td>1</td><td>3</td><td>5</td><td>Real Bed</td><td>TV,Internet,Wireless Internet,Air conditioning,Kitchen,Indoor fireplace,Heating,Family/kid friendly,Washer,Dryer,Smoke detector,Carbon monoxide detector,Essentials,Shampoo                                                                                                                                                                                     </td><td> NA</td><td>92</td><td> 96</td></tr>\n",
       "\t<tr><th scope=row>3</th><td>28004</td><td>Universidad</td><td>Apartment</td><td>Entire home/apt</td><td>3</td><td>1</td><td>2</td><td>2</td><td>Real Bed</td><td>TV,Internet,Wireless Internet,Air conditioning,Kitchen,Doorman,Heating,Family/kid friendly,Washer,Essentials,Shampoo,Hangers,Hair dryer,Iron,Laptop friendly workspace                                                                                                                                                                                          </td><td> NA</td><td>55</td><td> 91</td></tr>\n",
       "\t<tr><th scope=row>4</th><td>28004</td><td>Universidad</td><td>Loft     </td><td>Entire home/apt</td><td>3</td><td>2</td><td>1</td><td>1</td><td>Real Bed</td><td>TV,Internet,Wireless Internet,Air conditioning,Kitchen,Pets allowed,Breakfast,Elevator in building,Indoor fireplace,Buzzer/wireless intercom,Heating,Washer,Essentials,Shampoo,Hangers,Hair dryer,Iron,Laptop friendly workspace,translation missing: en.hosting_amenity_49,translation missing: en.hosting_amenity_50                                          </td><td> NA</td><td>60</td><td>100</td></tr>\n",
       "\t<tr><th scope=row>5</th><td>28015</td><td>Universidad</td><td>Apartment</td><td>Entire home/apt</td><td>5</td><td>1</td><td>1</td><td>1</td><td>Real Bed</td><td>TV,Wireless Internet,Air conditioning,Kitchen,Smoking allowed,Pets allowed,Elevator in building,Heating,Family/kid friendly,Washer,Essentials,Iron                                                                                                                                                                                                              </td><td>538</td><td>75</td><td> 90</td></tr>\n",
       "\t<tr><th scope=row>6</th><td>28004</td><td>Universidad</td><td>Apartment</td><td>Entire home/apt</td><td>2</td><td>1</td><td>0</td><td>1</td><td>Real Bed</td><td>TV,Cable TV,Internet,Wireless Internet,Air conditioning,Wheelchair accessible,Kitchen,Doorman,Elevator in building,Buzzer/wireless intercom,Heating,Washer,Smoke detector,Carbon monoxide detector,First aid kit,Safety card,Fire extinguisher,Essentials,Shampoo,24-hour check-in,Hangers,Hair dryer,Iron,Laptop friendly workspace,Self Check-In,Doorman Entry</td><td> NA</td><td>55</td><td> 95</td></tr>\n",
       "</tbody>\n",
       "</table>\n"
      ],
      "text/latex": [
       "A data.frame: 6 × 13\n",
       "\\begin{tabular}{r|lllllllllllll}\n",
       "  & Zipcode & Neighbourhood.Cleansed & Property.Type & Room.Type & Accommodates & Bathrooms & Bedrooms & Beds & Bed.Type & Amenities & Square.Feet & Price & Review.Scores.Rating\\\\\n",
       "  & <fct> & <fct> & <fct> & <fct> & <int> & <dbl> & <int> & <int> & <fct> & <fct> & <int> & <int> & <int>\\\\\n",
       "\\hline\n",
       "\t1 & 28004 & Universidad & Apartment & Private room    & 2 & 2 & 1 & 1 & Real Bed & TV,Wireless Internet,Kitchen,Pets allowed,Pets live on this property,Buzzer/wireless intercom,Heating,Suitable for events,Washer,First aid kit,Essentials,Lock on bedroom door,Iron                                                                                                                                                                              &  NA & 35 &  NA\\\\\n",
       "\t2 & 28004 & Universidad & Apartment & Entire home/apt & 6 & 1 & 3 & 5 & Real Bed & TV,Internet,Wireless Internet,Air conditioning,Kitchen,Indoor fireplace,Heating,Family/kid friendly,Washer,Dryer,Smoke detector,Carbon monoxide detector,Essentials,Shampoo                                                                                                                                                                                      &  NA & 92 &  96\\\\\n",
       "\t3 & 28004 & Universidad & Apartment & Entire home/apt & 3 & 1 & 2 & 2 & Real Bed & TV,Internet,Wireless Internet,Air conditioning,Kitchen,Doorman,Heating,Family/kid friendly,Washer,Essentials,Shampoo,Hangers,Hair dryer,Iron,Laptop friendly workspace                                                                                                                                                                                           &  NA & 55 &  91\\\\\n",
       "\t4 & 28004 & Universidad & Loft      & Entire home/apt & 3 & 2 & 1 & 1 & Real Bed & TV,Internet,Wireless Internet,Air conditioning,Kitchen,Pets allowed,Breakfast,Elevator in building,Indoor fireplace,Buzzer/wireless intercom,Heating,Washer,Essentials,Shampoo,Hangers,Hair dryer,Iron,Laptop friendly workspace,translation missing: en.hosting\\_amenity\\_49,translation missing: en.hosting\\_amenity\\_50                                           &  NA & 60 & 100\\\\\n",
       "\t5 & 28015 & Universidad & Apartment & Entire home/apt & 5 & 1 & 1 & 1 & Real Bed & TV,Wireless Internet,Air conditioning,Kitchen,Smoking allowed,Pets allowed,Elevator in building,Heating,Family/kid friendly,Washer,Essentials,Iron                                                                                                                                                                                                               & 538 & 75 &  90\\\\\n",
       "\t6 & 28004 & Universidad & Apartment & Entire home/apt & 2 & 1 & 0 & 1 & Real Bed & TV,Cable TV,Internet,Wireless Internet,Air conditioning,Wheelchair accessible,Kitchen,Doorman,Elevator in building,Buzzer/wireless intercom,Heating,Washer,Smoke detector,Carbon monoxide detector,First aid kit,Safety card,Fire extinguisher,Essentials,Shampoo,24-hour check-in,Hangers,Hair dryer,Iron,Laptop friendly workspace,Self Check-In,Doorman Entry &  NA & 55 &  95\\\\\n",
       "\\end{tabular}\n"
      ],
      "text/markdown": [
       "\n",
       "A data.frame: 6 × 13\n",
       "\n",
       "| <!--/--> | Zipcode &lt;fct&gt; | Neighbourhood.Cleansed &lt;fct&gt; | Property.Type &lt;fct&gt; | Room.Type &lt;fct&gt; | Accommodates &lt;int&gt; | Bathrooms &lt;dbl&gt; | Bedrooms &lt;int&gt; | Beds &lt;int&gt; | Bed.Type &lt;fct&gt; | Amenities &lt;fct&gt; | Square.Feet &lt;int&gt; | Price &lt;int&gt; | Review.Scores.Rating &lt;int&gt; |\n",
       "|---|---|---|---|---|---|---|---|---|---|---|---|---|---|\n",
       "| 1 | 28004 | Universidad | Apartment | Private room    | 2 | 2 | 1 | 1 | Real Bed | TV,Wireless Internet,Kitchen,Pets allowed,Pets live on this property,Buzzer/wireless intercom,Heating,Suitable for events,Washer,First aid kit,Essentials,Lock on bedroom door,Iron                                                                                                                                                                              |  NA | 35 |  NA |\n",
       "| 2 | 28004 | Universidad | Apartment | Entire home/apt | 6 | 1 | 3 | 5 | Real Bed | TV,Internet,Wireless Internet,Air conditioning,Kitchen,Indoor fireplace,Heating,Family/kid friendly,Washer,Dryer,Smoke detector,Carbon monoxide detector,Essentials,Shampoo                                                                                                                                                                                      |  NA | 92 |  96 |\n",
       "| 3 | 28004 | Universidad | Apartment | Entire home/apt | 3 | 1 | 2 | 2 | Real Bed | TV,Internet,Wireless Internet,Air conditioning,Kitchen,Doorman,Heating,Family/kid friendly,Washer,Essentials,Shampoo,Hangers,Hair dryer,Iron,Laptop friendly workspace                                                                                                                                                                                           |  NA | 55 |  91 |\n",
       "| 4 | 28004 | Universidad | Loft      | Entire home/apt | 3 | 2 | 1 | 1 | Real Bed | TV,Internet,Wireless Internet,Air conditioning,Kitchen,Pets allowed,Breakfast,Elevator in building,Indoor fireplace,Buzzer/wireless intercom,Heating,Washer,Essentials,Shampoo,Hangers,Hair dryer,Iron,Laptop friendly workspace,translation missing: en.hosting_amenity_49,translation missing: en.hosting_amenity_50                                           |  NA | 60 | 100 |\n",
       "| 5 | 28015 | Universidad | Apartment | Entire home/apt | 5 | 1 | 1 | 1 | Real Bed | TV,Wireless Internet,Air conditioning,Kitchen,Smoking allowed,Pets allowed,Elevator in building,Heating,Family/kid friendly,Washer,Essentials,Iron                                                                                                                                                                                                               | 538 | 75 |  90 |\n",
       "| 6 | 28004 | Universidad | Apartment | Entire home/apt | 2 | 1 | 0 | 1 | Real Bed | TV,Cable TV,Internet,Wireless Internet,Air conditioning,Wheelchair accessible,Kitchen,Doorman,Elevator in building,Buzzer/wireless intercom,Heating,Washer,Smoke detector,Carbon monoxide detector,First aid kit,Safety card,Fire extinguisher,Essentials,Shampoo,24-hour check-in,Hangers,Hair dryer,Iron,Laptop friendly workspace,Self Check-In,Doorman Entry |  NA | 55 |  95 |\n",
       "\n"
      ],
      "text/plain": [
       "  Zipcode Neighbourhood.Cleansed Property.Type Room.Type       Accommodates\n",
       "1 28004   Universidad            Apartment     Private room    2           \n",
       "2 28004   Universidad            Apartment     Entire home/apt 6           \n",
       "3 28004   Universidad            Apartment     Entire home/apt 3           \n",
       "4 28004   Universidad            Loft          Entire home/apt 3           \n",
       "5 28015   Universidad            Apartment     Entire home/apt 5           \n",
       "6 28004   Universidad            Apartment     Entire home/apt 2           \n",
       "  Bathrooms Bedrooms Beds Bed.Type\n",
       "1 2         1        1    Real Bed\n",
       "2 1         3        5    Real Bed\n",
       "3 1         2        2    Real Bed\n",
       "4 2         1        1    Real Bed\n",
       "5 1         1        1    Real Bed\n",
       "6 1         0        1    Real Bed\n",
       "  Amenities                                                                                                                                                                                                                                                                                                                                                       \n",
       "1 TV,Wireless Internet,Kitchen,Pets allowed,Pets live on this property,Buzzer/wireless intercom,Heating,Suitable for events,Washer,First aid kit,Essentials,Lock on bedroom door,Iron                                                                                                                                                                             \n",
       "2 TV,Internet,Wireless Internet,Air conditioning,Kitchen,Indoor fireplace,Heating,Family/kid friendly,Washer,Dryer,Smoke detector,Carbon monoxide detector,Essentials,Shampoo                                                                                                                                                                                     \n",
       "3 TV,Internet,Wireless Internet,Air conditioning,Kitchen,Doorman,Heating,Family/kid friendly,Washer,Essentials,Shampoo,Hangers,Hair dryer,Iron,Laptop friendly workspace                                                                                                                                                                                          \n",
       "4 TV,Internet,Wireless Internet,Air conditioning,Kitchen,Pets allowed,Breakfast,Elevator in building,Indoor fireplace,Buzzer/wireless intercom,Heating,Washer,Essentials,Shampoo,Hangers,Hair dryer,Iron,Laptop friendly workspace,translation missing: en.hosting_amenity_49,translation missing: en.hosting_amenity_50                                          \n",
       "5 TV,Wireless Internet,Air conditioning,Kitchen,Smoking allowed,Pets allowed,Elevator in building,Heating,Family/kid friendly,Washer,Essentials,Iron                                                                                                                                                                                                              \n",
       "6 TV,Cable TV,Internet,Wireless Internet,Air conditioning,Wheelchair accessible,Kitchen,Doorman,Elevator in building,Buzzer/wireless intercom,Heating,Washer,Smoke detector,Carbon monoxide detector,First aid kit,Safety card,Fire extinguisher,Essentials,Shampoo,24-hour check-in,Hangers,Hair dryer,Iron,Laptop friendly workspace,Self Check-In,Doorman Entry\n",
       "  Square.Feet Price Review.Scores.Rating\n",
       "1  NA         35     NA                 \n",
       "2  NA         92     96                 \n",
       "3  NA         55     91                 \n",
       "4  NA         60    100                 \n",
       "5 538         75     90                 \n",
       "6  NA         55     95                 "
      ]
     },
     "metadata": {},
     "output_type": "display_data"
    }
   ],
   "source": [
    "head(airbnb,6)"
   ]
  },
  {
   "cell_type": "markdown",
   "metadata": {},
   "source": [
    "Renombrar las columnas de la siguiente forma:\n",
    "\n",
    "| Nombre original | Nuevo nombre |\n",
    "| - | - |\n",
    "| Zipcode | CodigoPostal |\n",
    "| Neighbourhood.Cleansed | Barrio |\n",
    "| Property.Type\t| TipoPropiedad |\n",
    "| Room.Type | TipoAlquiler |\n",
    "| Accommodates | MaxOcupantes |\n",
    "| Bathrooms\t| NumBanyos |\n",
    "| Bedrooms\t| NumDormitorios |\n",
    "| Beds\t|  NumCamas |\n",
    "| Bed.Type\t| TipoCama |\n",
    "| Amenities | Comodidades |\n",
    "| Square.Feet | PiesCuadrados |\n",
    "| Price\t| Precio |\n",
    "| Review.Scores.Rating | Puntuacion |"
   ]
  },
  {
   "cell_type": "code",
   "execution_count": 5,
   "metadata": {},
   "outputs": [],
   "source": [
    "newnames<-c(\"CodigoPostal\",\"Barrio\",\"TipoPropiedad\",\"TipoAlquiler\",\"MaxOcupantes\",\"NumBanyos\",\n",
    "\"NumDormitorios\",\"NumCamas\",\"TipoCama\",\"Comodidades\",\"PiesCuadrados\",\"Precio\",\"Puntuacion\")\n",
    "colnames(airbnb) <- newnames"
   ]
  },
  {
   "cell_type": "markdown",
   "metadata": {},
   "source": [
    "Crea una nueva columna llamada MetrosCuadrados a partir de la columna PiesCuadrados.\n",
    "\n",
    "Ayuda: 1 pie cuadrado son 0,092903 metros cuadrdados"
   ]
  },
  {
   "cell_type": "code",
   "execution_count": 6,
   "metadata": {},
   "outputs": [
    {
     "data": {
      "text/html": [
       "<table class=\"dataframe\">\n",
       "<caption>A data.frame: 13207 × 13</caption>\n",
       "<thead>\n",
       "\t<tr><th scope=col>CodigoPostal</th><th scope=col>Barrio</th><th scope=col>TipoPropiedad</th><th scope=col>TipoAlquiler</th><th scope=col>MaxOcupantes</th><th scope=col>NumBanyos</th><th scope=col>NumDormitorios</th><th scope=col>NumCamas</th><th scope=col>TipoCama</th><th scope=col>Comodidades</th><th scope=col>PiesCuadrados</th><th scope=col>Precio</th><th scope=col>Puntuacion</th></tr>\n",
       "\t<tr><th scope=col>&lt;fct&gt;</th><th scope=col>&lt;fct&gt;</th><th scope=col>&lt;fct&gt;</th><th scope=col>&lt;fct&gt;</th><th scope=col>&lt;int&gt;</th><th scope=col>&lt;dbl&gt;</th><th scope=col>&lt;int&gt;</th><th scope=col>&lt;int&gt;</th><th scope=col>&lt;fct&gt;</th><th scope=col>&lt;fct&gt;</th><th scope=col>&lt;int&gt;</th><th scope=col>&lt;int&gt;</th><th scope=col>&lt;int&gt;</th></tr>\n",
       "</thead>\n",
       "<tbody>\n",
       "\t<tr><td>28004</td><td>Universidad</td><td>Apartment  </td><td>Private room   </td><td> 2</td><td>2</td><td>1</td><td> 1</td><td>Real Bed</td><td>TV,Wireless Internet,Kitchen,Pets allowed,Pets live on this property,Buzzer/wireless intercom,Heating,Suitable for events,Washer,First aid kit,Essentials,Lock on bedroom door,Iron                                                                                                                                                                             </td><td> NA</td><td> 35</td><td> NA</td></tr>\n",
       "\t<tr><td>28004</td><td>Universidad</td><td>Apartment  </td><td>Entire home/apt</td><td> 6</td><td>1</td><td>3</td><td> 5</td><td>Real Bed</td><td>TV,Internet,Wireless Internet,Air conditioning,Kitchen,Indoor fireplace,Heating,Family/kid friendly,Washer,Dryer,Smoke detector,Carbon monoxide detector,Essentials,Shampoo                                                                                                                                                                                     </td><td> NA</td><td> 92</td><td> 96</td></tr>\n",
       "\t<tr><td>28004</td><td>Universidad</td><td>Apartment  </td><td>Entire home/apt</td><td> 3</td><td>1</td><td>2</td><td> 2</td><td>Real Bed</td><td>TV,Internet,Wireless Internet,Air conditioning,Kitchen,Doorman,Heating,Family/kid friendly,Washer,Essentials,Shampoo,Hangers,Hair dryer,Iron,Laptop friendly workspace                                                                                                                                                                                          </td><td> NA</td><td> 55</td><td> 91</td></tr>\n",
       "\t<tr><td>28004</td><td>Universidad</td><td>Loft       </td><td>Entire home/apt</td><td> 3</td><td>2</td><td>1</td><td> 1</td><td>Real Bed</td><td>TV,Internet,Wireless Internet,Air conditioning,Kitchen,Pets allowed,Breakfast,Elevator in building,Indoor fireplace,Buzzer/wireless intercom,Heating,Washer,Essentials,Shampoo,Hangers,Hair dryer,Iron,Laptop friendly workspace,translation missing: en.hosting_amenity_49,translation missing: en.hosting_amenity_50                                          </td><td> NA</td><td> 60</td><td>100</td></tr>\n",
       "\t<tr><td>28015</td><td>Universidad</td><td>Apartment  </td><td>Entire home/apt</td><td> 5</td><td>1</td><td>1</td><td> 1</td><td>Real Bed</td><td>TV,Wireless Internet,Air conditioning,Kitchen,Smoking allowed,Pets allowed,Elevator in building,Heating,Family/kid friendly,Washer,Essentials,Iron                                                                                                                                                                                                              </td><td>538</td><td> 75</td><td> 90</td></tr>\n",
       "\t<tr><td>28004</td><td>Universidad</td><td>Apartment  </td><td>Entire home/apt</td><td> 2</td><td>1</td><td>0</td><td> 1</td><td>Real Bed</td><td>TV,Cable TV,Internet,Wireless Internet,Air conditioning,Wheelchair accessible,Kitchen,Doorman,Elevator in building,Buzzer/wireless intercom,Heating,Washer,Smoke detector,Carbon monoxide detector,First aid kit,Safety card,Fire extinguisher,Essentials,Shampoo,24-hour check-in,Hangers,Hair dryer,Iron,Laptop friendly workspace,Self Check-In,Doorman Entry</td><td> NA</td><td> 55</td><td> 95</td></tr>\n",
       "\t<tr><td>28004</td><td>Universidad</td><td>House      </td><td>Private room   </td><td> 7</td><td>5</td><td>1</td><td> 7</td><td>Real Bed</td><td>Internet,Wireless Internet,Kitchen,Smoking allowed,Heating,Fire extinguisher,Shampoo,Lock on bedroom door,Hangers,Hair dryer,Iron,translation missing: en.hosting_amenity_49,translation missing: en.hosting_amenity_50                                                                                                                                         </td><td> NA</td><td> 60</td><td> 77</td></tr>\n",
       "\t<tr><td>28004</td><td>Universidad</td><td>Apartment  </td><td>Entire home/apt</td><td> 3</td><td>1</td><td>1</td><td>NA</td><td>Real Bed</td><td>TV,Wireless Internet,Air conditioning,Kitchen,Elevator in building,Buzzer/wireless intercom,Heating,Washer                                                                                                                                                                                                                                                      </td><td> NA</td><td> 70</td><td> 84</td></tr>\n",
       "\t<tr><td>28015</td><td>Universidad</td><td>Apartment  </td><td>Entire home/apt</td><td> 2</td><td>1</td><td>1</td><td> 1</td><td>Real Bed</td><td>TV,Internet,Wireless Internet,Kitchen,Elevator in building,Buzzer/wireless intercom,Heating,Family/kid friendly,Washer,Dryer,Essentials,Shampoo,translation missing: en.hosting_amenity_49                                                                                                                                                                      </td><td>700</td><td> 90</td><td> 98</td></tr>\n",
       "\t<tr><td>28004</td><td>Universidad</td><td>Apartment  </td><td>Entire home/apt</td><td> 4</td><td>2</td><td>2</td><td> 2</td><td>Real Bed</td><td>TV,Wireless Internet,Air conditioning,Kitchen,Elevator in building,Hot tub,Heating,Family/kid friendly,Washer,Dryer,Essentials,Hair dryer,Iron                                                                                                                                                                                                                  </td><td> NA</td><td>155</td><td> NA</td></tr>\n",
       "\t<tr><td>28004</td><td>Universidad</td><td>Apartment  </td><td>Entire home/apt</td><td> 4</td><td>1</td><td>1</td><td> 2</td><td>Real Bed</td><td>TV,Wireless Internet,Air conditioning,Wheelchair accessible,Kitchen,Elevator in building,Buzzer/wireless intercom,Heating,Family/kid friendly,Washer,Essentials,Shampoo                                                                                                                                                                                         </td><td> 40</td><td> 70</td><td> 90</td></tr>\n",
       "\t<tr><td>28004</td><td>Universidad</td><td>Apartment  </td><td>Private room   </td><td> 2</td><td>1</td><td>1</td><td> 1</td><td>Real Bed</td><td>Internet,Wireless Internet,Kitchen,Smoking allowed,Elevator in building,Buzzer/wireless intercom,Heating,Family/kid friendly,Washer,Dryer,First aid kit,Essentials,Shampoo,24-hour check-in,Hangers,Hair dryer,Iron,Laptop friendly workspace                                                                                                                   </td><td> NA</td><td> 39</td><td> 90</td></tr>\n",
       "\t<tr><td>28013</td><td>Sol        </td><td>Apartment  </td><td>Private room   </td><td> 1</td><td>2</td><td>1</td><td> 1</td><td>Real Bed</td><td>TV,Wireless Internet,Air conditioning,Kitchen,Elevator in building,Buzzer/wireless intercom,Heating,Washer,24-hour check-in,Hangers,Laptop friendly workspace,Self Check-In,Doorman Entry                                                                                                                                                                       </td><td> NA</td><td> 39</td><td> 80</td></tr>\n",
       "\t<tr><td>28005</td><td>Sol        </td><td>Apartment  </td><td>Private room   </td><td> 2</td><td>1</td><td>1</td><td> 1</td><td>Real Bed</td><td>TV,Internet,Wireless Internet,Kitchen,Smoking allowed,Pets live on this property,Cat(s),Heating,Washer,Essentials,Shampoo,Hangers,Hair dryer,Iron,Laptop friendly workspace,translation missing: en.hosting_amenity_49,translation missing: en.hosting_amenity_50                                                                                               </td><td> NA</td><td> 46</td><td> 97</td></tr>\n",
       "\t<tr><td>28013</td><td>Sol        </td><td>Apartment  </td><td>Entire home/apt</td><td> 4</td><td>1</td><td>1</td><td> 1</td><td>Real Bed</td><td>TV,Wireless Internet,Air conditioning,Kitchen,Doorman,Elevator in building,Buzzer/wireless intercom,Heating,Family/kid friendly,Suitable for events,Washer,Essentials,Hangers,Hair dryer,Iron                                                                                                                                                                   </td><td>646</td><td> 75</td><td> 91</td></tr>\n",
       "\t<tr><td>28013</td><td>Sol        </td><td>Condominium</td><td>Entire home/apt</td><td> 6</td><td>1</td><td>2</td><td> 3</td><td>Real Bed</td><td>TV,Wireless Internet,Air conditioning,Kitchen,Doorman,Elevator in building,Buzzer/wireless intercom,Heating,Family/kid friendly,Washer,Dryer,Essentials,Shampoo,Hangers,Hair dryer,Iron                                                                                                                                                                         </td><td> NA</td><td>130</td><td>100</td></tr>\n",
       "\t<tr><td>28013</td><td>Sol        </td><td>Apartment  </td><td>Entire home/apt</td><td> 4</td><td>1</td><td>1</td><td> 2</td><td>Real Bed</td><td>TV,Internet,Wireless Internet,Air conditioning,Kitchen,Doorman,Elevator in building,Buzzer/wireless intercom,Heating,Family/kid friendly,Washer,Smoke detector,Carbon monoxide detector,First aid kit,Safety card,Fire extinguisher,Essentials,Shampoo,24-hour check-in,Hangers,Hair dryer,Iron,Laptop friendly workspace                                       </td><td> NA</td><td>100</td><td> 97</td></tr>\n",
       "\t<tr><td>28012</td><td>Sol        </td><td>Apartment  </td><td>Entire home/apt</td><td> 6</td><td>1</td><td>2</td><td> 2</td><td>Real Bed</td><td>TV,Internet,Wireless Internet,Air conditioning,Kitchen,Smoking allowed,Elevator in building,Buzzer/wireless intercom,Heating,Family/kid friendly,Washer,Dryer,Essentials,Shampoo,Hangers,Hair dryer,Iron,Laptop friendly workspace                                                                                                                              </td><td> NA</td><td>160</td><td> 95</td></tr>\n",
       "\t<tr><td>28013</td><td>Sol        </td><td>Apartment  </td><td>Entire home/apt</td><td> 4</td><td>1</td><td>1</td><td> 2</td><td>Real Bed</td><td>TV,Internet,Wireless Internet,Air conditioning,Kitchen,Heating,Washer,Essentials,Hangers,Hair dryer,translation missing: en.hosting_amenity_50                                                                                                                                                                                                                  </td><td> NA</td><td> 49</td><td> 95</td></tr>\n",
       "\t<tr><td>28013</td><td>Sol        </td><td>Apartment  </td><td>Private room   </td><td> 2</td><td>5</td><td>1</td><td> 1</td><td>Real Bed</td><td>TV,Wireless Internet,Air conditioning,Kitchen,Doorman,Elevator in building,Buzzer/wireless intercom,Heating,Washer,Dryer,Smoke detector,Fire extinguisher,Essentials,Lock on bedroom door,24-hour check-in,Hangers,Iron,Laptop friendly workspace,translation missing: en.hosting_amenity_49,translation missing: en.hosting_amenity_50                         </td><td> NA</td><td> 31</td><td> 40</td></tr>\n",
       "\t<tr><td>28013</td><td>Sol        </td><td>Apartment  </td><td>Entire home/apt</td><td> 4</td><td>1</td><td>1</td><td> 2</td><td>Real Bed</td><td>TV,Wireless Internet,Kitchen,Pets allowed,Elevator in building,Heating,Family/kid friendly,Washer,Essentials,Shampoo,Hangers,Hair dryer,Laptop friendly workspace                                                                                                                                                                                               </td><td> NA</td><td> 70</td><td> 88</td></tr>\n",
       "\t<tr><td>28005</td><td>Sol        </td><td>Apartment  </td><td>Entire home/apt</td><td>10</td><td>2</td><td>4</td><td> 7</td><td>Real Bed</td><td>TV,Internet,Wireless Internet,Air conditioning,Kitchen,Heating,Family/kid friendly,Washer,Essentials                                                                                                                                                                                                                                                            </td><td> NA</td><td>210</td><td> 81</td></tr>\n",
       "\t<tr><td>28013</td><td>Sol        </td><td>Apartment  </td><td>Entire home/apt</td><td> 6</td><td>1</td><td>2</td><td> 4</td><td>Real Bed</td><td>TV,Internet,Wireless Internet,Air conditioning,Kitchen,Smoking allowed,Pets allowed,Doorman,Elevator in building,Buzzer/wireless intercom,Heating,Family/kid friendly,Washer,First aid kit,Safety card,Essentials,Shampoo,Hangers,Hair dryer,Iron                                                                                                               </td><td> NA</td><td>120</td><td> 99</td></tr>\n",
       "\t<tr><td>28012</td><td>Sol        </td><td>Apartment  </td><td>Entire home/apt</td><td> 4</td><td>1</td><td>1</td><td> 2</td><td>Real Bed</td><td>TV,Internet,Wireless Internet,Air conditioning,Kitchen,Elevator in building,Heating,Family/kid friendly,Washer,Smoke detector,Carbon monoxide detector,Essentials,Shampoo,24-hour check-in,Hangers,Hair dryer,Iron,Laptop friendly workspace                                                                                                                    </td><td> NA</td><td> 50</td><td> 91</td></tr>\n",
       "\t<tr><td>28012</td><td>Sol        </td><td>Apartment  </td><td>Entire home/apt</td><td> 4</td><td>1</td><td>1</td><td> 1</td><td>Real Bed</td><td>TV,Cable TV,Internet,Wireless Internet,Air conditioning,Kitchen,Elevator in building,Buzzer/wireless intercom,Heating,Family/kid friendly,Washer,Essentials,Hair dryer,Iron                                                                                                                                                                                     </td><td>753</td><td>100</td><td> 87</td></tr>\n",
       "\t<tr><td>28013</td><td>Sol        </td><td>Apartment  </td><td>Entire home/apt</td><td> 4</td><td>1</td><td>1</td><td> 2</td><td>Real Bed</td><td>TV,Internet,Wireless Internet,Air conditioning,Kitchen,Breakfast,Elevator in building,Heating,Family/kid friendly,Washer,First aid kit,Fire extinguisher,Essentials,Shampoo,Hangers,Hair dryer,Iron,Laptop friendly workspace                                                                                                                                   </td><td> NA</td><td> 75</td><td>100</td></tr>\n",
       "\t<tr><td>28014</td><td>Sol        </td><td>Condominium</td><td>Entire home/apt</td><td> 8</td><td>2</td><td>2</td><td> 5</td><td>Real Bed</td><td>TV,Internet,Wireless Internet,Air conditioning,Wheelchair accessible,Kitchen,Doorman,Elevator in building,Buzzer/wireless intercom,Heating,Family/kid friendly,Washer,Smoke detector,Carbon monoxide detector,Essentials,Shampoo,24-hour check-in,Hangers,Hair dryer,Iron,Laptop friendly workspace                                                             </td><td> NA</td><td>155</td><td> 93</td></tr>\n",
       "\t<tr><td>28013</td><td>Sol        </td><td>Apartment  </td><td>Entire home/apt</td><td> 6</td><td>2</td><td>2</td><td> 3</td><td>Real Bed</td><td>TV,Internet,Wireless Internet,Air conditioning,Wheelchair accessible,Kitchen,Doorman,Elevator in building,Buzzer/wireless intercom,Heating,Family/kid friendly,Washer,Dryer,Essentials,Hangers,Hair dryer,Iron                                                                                                                                                  </td><td> NA</td><td>155</td><td> 80</td></tr>\n",
       "\t<tr><td>28012</td><td>Sol        </td><td>Apartment  </td><td>Private room   </td><td> 1</td><td>1</td><td>1</td><td> 1</td><td>Real Bed</td><td>TV,Cable TV,Internet,Wireless Internet,Kitchen,Buzzer/wireless intercom,Heating,Family/kid friendly,Washer,Essentials,Shampoo                                                                                                                                                                                                                                   </td><td> NA</td><td> 15</td><td>100</td></tr>\n",
       "\t<tr><td>28005</td><td>Sol        </td><td>Apartment  </td><td>Entire home/apt</td><td> 8</td><td>1</td><td>3</td><td> 4</td><td>Real Bed</td><td>TV,Internet,Wireless Internet,Kitchen,Breakfast,Elevator in building,Buzzer/wireless intercom,Heating,Family/kid friendly,Washer,Essentials,Shampoo,Hangers,Hair dryer,Iron,Laptop friendly workspace,Self Check-In,Lockbox                                                                                                                                     </td><td> NA</td><td>163</td><td>100</td></tr>\n",
       "\t<tr><td>⋮</td><td>⋮</td><td>⋮</td><td>⋮</td><td>⋮</td><td>⋮</td><td>⋮</td><td>⋮</td><td>⋮</td><td>⋮</td><td>⋮</td><td>⋮</td><td>⋮</td></tr>\n",
       "\t<tr><td>28023</td><td>Valdemarín      </td><td>House      </td><td>Private room   </td><td> 1</td><td>1.0</td><td>0</td><td> 1</td><td>Real Bed     </td><td>TV,Wireless Internet,Air conditioning,Kitchen,Free parking on premises,Breakfast,Heating,Washer,Smoke detector,Essentials,Shampoo,Hangers,Hair dryer,Iron,Laptop friendly workspace,translation missing: en.hosting_amenity_50                                                                                       </td><td> NA</td><td> 50</td><td> NA</td></tr>\n",
       "\t<tr><td>28023</td><td>Aravaca         </td><td>Condominium</td><td>Entire home/apt</td><td> 3</td><td>1.0</td><td>1</td><td> 3</td><td>Real Bed     </td><td>TV,Internet,Wireless Internet,Pool,Kitchen,Free parking on premises,Doorman,Heating,Family/kid friendly,Washer,Essentials,24-hour check-in,Hangers,Iron,Laptop friendly workspace,Private entrance                                                                                                                   </td><td> NA</td><td> 50</td><td>100</td></tr>\n",
       "\t<tr><td>28011</td><td>Puerta del Angel</td><td>Apartment  </td><td>Private room   </td><td> 2</td><td>1.0</td><td>1</td><td> 1</td><td>Real Bed     </td><td>TV,Internet,Wireless Internet,Doorman,Buzzer/wireless intercom,Heating,Family/kid friendly,Washer,Smoke detector,Essentials,Shampoo,Hangers,Hair dryer,Iron,Laptop friendly workspace                                                                                                                                </td><td> NA</td><td> 23</td><td> 94</td></tr>\n",
       "\t<tr><td>28011</td><td>Puerta del Angel</td><td>Other      </td><td>Private room   </td><td> 2</td><td>1.0</td><td>1</td><td> 1</td><td>Real Bed     </td><td>TV,Wireless Internet,Kitchen,Elevator in building,Heating,Family/kid friendly,Washer,Dryer,Shampoo                                                                                                                                                                                                                   </td><td> NA</td><td> 33</td><td> 95</td></tr>\n",
       "\t<tr><td>28011</td><td>Puerta del Angel</td><td>Apartment  </td><td>Private room   </td><td> 3</td><td>1.0</td><td>1</td><td> 2</td><td>Real Bed     </td><td>Internet,Wireless Internet,Kitchen,Free parking on premises,Smoking allowed,Elevator in building,Heating,Family/kid friendly,Fire extinguisher,Essentials,translation missing: en.hosting_amenity_50                                                                                                                 </td><td> NA</td><td> 20</td><td> 88</td></tr>\n",
       "\t<tr><td>28004</td><td>Universidad     </td><td>Other      </td><td>Entire home/apt</td><td> 3</td><td>1.0</td><td>1</td><td> 1</td><td>Real Bed     </td><td>TV,Internet,Wireless Internet,Air conditioning,Kitchen,Smoking allowed,Pets allowed,Elevator in building,Buzzer/wireless intercom,Heating,Family/kid friendly,Washer,Dryer,Fire extinguisher,Essentials,24-hour check-in,Hangers,Hair dryer,Iron                                                                     </td><td> NA</td><td> 43</td><td> 83</td></tr>\n",
       "\t<tr><td>28004</td><td>Universidad     </td><td>Apartment  </td><td>Entire home/apt</td><td> 3</td><td>1.0</td><td>1</td><td> 1</td><td>Real Bed     </td><td>TV,Internet,Wireless Internet,Kitchen,Buzzer/wireless intercom,Heating,Washer,Dryer,Essentials,Shampoo,24-hour check-in,Hangers,Hair dryer,Iron,Laptop friendly workspace,translation missing: en.hosting_amenity_49,translation missing: en.hosting_amenity_50                                                      </td><td> NA</td><td> 80</td><td> 96</td></tr>\n",
       "\t<tr><td>28004</td><td>Universidad     </td><td>Apartment  </td><td>Entire home/apt</td><td> 2</td><td>1.0</td><td>1</td><td> 1</td><td>Real Bed     </td><td>TV,Internet,Wireless Internet,Air conditioning,Kitchen,Elevator in building,Heating,Washer,Dryer,First aid kit,Essentials,Hangers,Hair dryer,Iron,translation missing: en.hosting_amenity_49,translation missing: en.hosting_amenity_50                                                                              </td><td> NA</td><td> 80</td><td> 99</td></tr>\n",
       "\t<tr><td>28015</td><td>Universidad     </td><td>Apartment  </td><td>Entire home/apt</td><td> 4</td><td>1.0</td><td>1</td><td> 2</td><td>Real Bed     </td><td>TV,Internet,Wireless Internet,Air conditioning,Kitchen,Elevator in building,Heating,Family/kid friendly,Washer,Smoke detector,Fire extinguisher,Essentials,Shampoo,Lock on bedroom door,Hangers,Hair dryer,Iron                                                                                                      </td><td> NA</td><td>100</td><td>100</td></tr>\n",
       "\t<tr><td>28015</td><td>Universidad     </td><td>Apartment  </td><td>Entire home/apt</td><td> 2</td><td>1.0</td><td>1</td><td> 2</td><td>Real Bed     </td><td>TV,Wireless Internet,Air conditioning,Kitchen,Elevator in building,Buzzer/wireless intercom,Heating,Family/kid friendly,Washer                                                                                                                                                                                       </td><td>291</td><td> 50</td><td> 87</td></tr>\n",
       "\t<tr><td>28015</td><td>Universidad     </td><td>Apartment  </td><td>Entire home/apt</td><td> 5</td><td>1.0</td><td>2</td><td> 3</td><td>Real Bed     </td><td>TV,Internet,Wireless Internet,Kitchen,Smoking allowed,Elevator in building,Buzzer/wireless intercom,Heating,Family/kid friendly,Washer,First aid kit,Essentials,Shampoo,24-hour check-in,Hangers,Hair dryer,Iron,Laptop friendly workspace                                                                           </td><td> NA</td><td> 85</td><td> 90</td></tr>\n",
       "\t<tr><td>28015</td><td>Universidad     </td><td>Apartment  </td><td>Private room   </td><td> 1</td><td>2.0</td><td>1</td><td> 1</td><td>Real Bed     </td><td>TV,Wireless Internet,Kitchen,Elevator in building,Heating,Washer,Lock on bedroom door,Hangers,Laptop friendly workspace,translation missing: en.hosting_amenity_49,translation missing: en.hosting_amenity_50,Private living room                                                                                    </td><td> NA</td><td> 30</td><td> NA</td></tr>\n",
       "\t<tr><td>28015</td><td>Universidad     </td><td>Apartment  </td><td>Entire home/apt</td><td> 4</td><td>1.0</td><td>1</td><td> 2</td><td>Real Bed     </td><td>TV,Wireless Internet,Air conditioning,Kitchen,Smoking allowed,Heating,Family/kid friendly,Washer,Dryer,Smoke detector,First aid kit,Essentials,Shampoo,Hangers,Hair dryer,Iron                                                                                                                                       </td><td> NA</td><td> 60</td><td>100</td></tr>\n",
       "\t<tr><td>28013</td><td>Universidad     </td><td>Apartment  </td><td>Entire home/apt</td><td> 2</td><td>1.0</td><td>1</td><td> 1</td><td>Real Bed     </td><td>TV,Wireless Internet,Air conditioning,Kitchen,Elevator in building,Heating,Washer,Dryer,Essentials,Shampoo,Hangers,Hair dryer,Iron,Laptop friendly workspace,translation missing: en.hosting_amenity_49,translation missing: en.hosting_amenity_50                                                                   </td><td> NA</td><td>145</td><td> NA</td></tr>\n",
       "\t<tr><td>28004</td><td>Universidad     </td><td>Apartment  </td><td>Entire home/apt</td><td> 4</td><td>1.0</td><td>1</td><td> 2</td><td>Real Bed     </td><td>TV,Internet,Wireless Internet,Air conditioning,Kitchen,Pets allowed,Indoor fireplace,Buzzer/wireless intercom,Heating,Family/kid friendly,Washer,Smoke detector,Carbon monoxide detector,Essentials,Shampoo,24-hour check-in,Hangers,Hair dryer,Iron,Laptop friendly workspace                                       </td><td> NA</td><td> 62</td><td> 91</td></tr>\n",
       "\t<tr><td>28004</td><td>Universidad     </td><td>Apartment  </td><td>Entire home/apt</td><td>14</td><td>5.5</td><td>5</td><td>10</td><td>Real Bed     </td><td>TV,Internet,Wireless Internet,Air conditioning,Kitchen,Smoking allowed,Elevator in building,Indoor fireplace,Family/kid friendly,Washer,Dryer,First aid kit,Fire extinguisher,Essentials                                                                                                                             </td><td> NA</td><td>300</td><td> 94</td></tr>\n",
       "\t<tr><td>28004</td><td>Universidad     </td><td>Apartment  </td><td>Private room   </td><td> 1</td><td>1.0</td><td>1</td><td> 1</td><td>Real Bed     </td><td>Internet,Wireless Internet,Kitchen,Elevator in building,Heating,Washer,Dryer,First aid kit,Essentials,Hangers,Iron,translation missing: en.hosting_amenity_49,translation missing: en.hosting_amenity_50                                                                                                             </td><td>  0</td><td> 35</td><td>100</td></tr>\n",
       "\t<tr><td>28004</td><td>Universidad     </td><td>Apartment  </td><td>Entire home/apt</td><td> 3</td><td>1.0</td><td>1</td><td> 2</td><td>Real Bed     </td><td>TV,Wireless Internet,Kitchen,Buzzer/wireless intercom,Heating,Family/kid friendly,Washer,Smoke detector,Essentials,Shampoo,24-hour check-in,Hangers,Laptop friendly workspace,translation missing: en.hosting_amenity_50                                                                                             </td><td> NA</td><td> 62</td><td> 81</td></tr>\n",
       "\t<tr><td>28004</td><td>Universidad     </td><td>Apartment  </td><td>Private room   </td><td> 2</td><td>1.0</td><td>1</td><td> 1</td><td>Real Bed     </td><td>TV,Internet,Wireless Internet,Smoking allowed,Elevator in building,Heating,Washer,Essentials,Hangers,Hair dryer,Iron,translation missing: en.hosting_amenity_49,translation missing: en.hosting_amenity_50                                                                                                           </td><td> NA</td><td> 45</td><td> 90</td></tr>\n",
       "\t<tr><td>28015</td><td>Universidad     </td><td>Apartment  </td><td>Private room   </td><td> 1</td><td>1.0</td><td>1</td><td> 1</td><td>Real Bed     </td><td>TV,Wireless Internet,Kitchen,Elevator in building,Washer,Lock on bedroom door,Hangers,Laptop friendly workspace,translation missing: en.hosting_amenity_49,translation missing: en.hosting_amenity_50                                                                                                                </td><td> NA</td><td> 31</td><td> NA</td></tr>\n",
       "\t<tr><td>28004</td><td>Universidad     </td><td>Apartment  </td><td>Entire home/apt</td><td> 4</td><td>1.0</td><td>2</td><td> 4</td><td>Pull-out Sofa</td><td>TV,Internet,Wireless Internet,Air conditioning,Kitchen,Smoking allowed,Pets allowed,Elevator in building,Heating,Family/kid friendly,Washer,Dryer,Essentials,Shampoo,Hangers,Hair dryer,Iron                                                                                                                         </td><td> NA</td><td> 90</td><td> 90</td></tr>\n",
       "\t<tr><td>28004</td><td>Universidad     </td><td>Apartment  </td><td>Entire home/apt</td><td> 4</td><td>1.0</td><td>2</td><td> 2</td><td>Real Bed     </td><td>TV,Internet,Wireless Internet,Air conditioning,Kitchen,Smoking allowed,Pets allowed,Buzzer/wireless intercom,Heating,Family/kid friendly,Washer,Dryer,Essentials,Hangers,Hair dryer,Iron                                                                                                                             </td><td> NA</td><td> 70</td><td> 87</td></tr>\n",
       "\t<tr><td>28004</td><td>Universidad     </td><td>Apartment  </td><td>Entire home/apt</td><td> 2</td><td>1.0</td><td>1</td><td> 1</td><td>Real Bed     </td><td>TV,Internet,Wireless Internet,Air conditioning,Kitchen,Smoking allowed,Pets allowed,Elevator in building,Heating,Family/kid friendly,Washer,First aid kit,Fire extinguisher,Essentials,Lock on bedroom door,Hangers,Hair dryer,Iron                                                                                  </td><td> NA</td><td> 40</td><td> 82</td></tr>\n",
       "\t<tr><td>28004</td><td>Universidad     </td><td>Loft       </td><td>Entire home/apt</td><td> 2</td><td>1.0</td><td>1</td><td> 2</td><td>Real Bed     </td><td>Internet,Wireless Internet,Smoking allowed,Breakfast,Elevator in building,Heating,Shampoo,Hangers,Hair dryer,Iron,Laptop friendly workspace,translation missing: en.hosting_amenity_49,translation missing: en.hosting_amenity_50                                                                                    </td><td> NA</td><td> 30</td><td> NA</td></tr>\n",
       "\t<tr><td>28004</td><td>Universidad     </td><td>Apartment  </td><td>Entire home/apt</td><td> 4</td><td>1.0</td><td>1</td><td> 2</td><td>Real Bed     </td><td>TV,Wireless Internet,Air conditioning,Kitchen,Smoking allowed,Pets allowed,Heating,Family/kid friendly,Washer,Fire extinguisher,Essentials,Lock on bedroom door,Hangers,Hair dryer,Iron                                                                                                                              </td><td> NA</td><td> 48</td><td> 83</td></tr>\n",
       "\t<tr><td>28015</td><td>Universidad     </td><td>Apartment  </td><td>Entire home/apt</td><td> 2</td><td>1.0</td><td>1</td><td> 1</td><td>Real Bed     </td><td>TV,Internet,Wireless Internet,Air conditioning,Kitchen,Elevator in building,Buzzer/wireless intercom,Heating,Washer,Dryer,Smoke detector,Fire extinguisher,Essentials,Shampoo,Hangers,Hair dryer,Iron,Laptop friendly workspace,translation missing: en.hosting_amenity_49,translation missing: en.hosting_amenity_50</td><td> NA</td><td> 35</td><td> 90</td></tr>\n",
       "\t<tr><td>28004</td><td>Universidad     </td><td>Apartment  </td><td>Entire home/apt</td><td> 3</td><td>1.0</td><td>1</td><td> 2</td><td>Real Bed     </td><td>TV,Wireless Internet,Air conditioning,Kitchen,Elevator in building,Buzzer/wireless intercom,Heating,Family/kid friendly,Washer,Dryer,Smoke detector,Carbon monoxide detector,Fire extinguisher,Essentials,Shampoo,24-hour check-in,Hangers,Hair dryer,Iron,Laptop friendly workspace                                 </td><td> NA</td><td> 79</td><td> 97</td></tr>\n",
       "\t<tr><td>28013</td><td>Universidad     </td><td>Apartment  </td><td>Entire home/apt</td><td> 4</td><td>1.0</td><td>1</td><td> 1</td><td>Real Bed     </td><td>TV,Wireless Internet,Air conditioning,Pool,Kitchen,Doorman,Gym,Elevator in building,Buzzer/wireless intercom,Heating,Washer,First aid kit,Safety card,Essentials,Shampoo,Hangers,Hair dryer,Iron,Laptop friendly workspace                                                                                           </td><td> NA</td><td>150</td><td>100</td></tr>\n",
       "\t<tr><td>28004</td><td>Universidad     </td><td>Loft       </td><td>Entire home/apt</td><td> 2</td><td>1.0</td><td>0</td><td> 1</td><td>Real Bed     </td><td>TV,Internet,Wireless Internet,Kitchen,Smoking allowed,Pets allowed,Elevator in building,Heating,Family/kid friendly,Washer,First aid kit,Essentials,Shampoo                                                                                                                                                          </td><td> NA</td><td> 80</td><td> 91</td></tr>\n",
       "\t<tr><td>28004</td><td>Universidad     </td><td>Apartment  </td><td>Entire home/apt</td><td> 3</td><td>1.0</td><td>0</td><td> 2</td><td>Real Bed     </td><td>TV,Internet,Wireless Internet,Air conditioning,Kitchen,Heating,Family/kid friendly,Washer                                                                                                                                                                                                                            </td><td> NA</td><td> 69</td><td> 80</td></tr>\n",
       "</tbody>\n",
       "</table>\n"
      ],
      "text/latex": [
       "A data.frame: 13207 × 13\n",
       "\\begin{tabular}{lllllllllllll}\n",
       " CodigoPostal & Barrio & TipoPropiedad & TipoAlquiler & MaxOcupantes & NumBanyos & NumDormitorios & NumCamas & TipoCama & Comodidades & PiesCuadrados & Precio & Puntuacion\\\\\n",
       " <fct> & <fct> & <fct> & <fct> & <int> & <dbl> & <int> & <int> & <fct> & <fct> & <int> & <int> & <int>\\\\\n",
       "\\hline\n",
       "\t 28004 & Universidad & Apartment   & Private room    &  2 & 2 & 1 &  1 & Real Bed & TV,Wireless Internet,Kitchen,Pets allowed,Pets live on this property,Buzzer/wireless intercom,Heating,Suitable for events,Washer,First aid kit,Essentials,Lock on bedroom door,Iron                                                                                                                                                                              &  NA &  35 &  NA\\\\\n",
       "\t 28004 & Universidad & Apartment   & Entire home/apt &  6 & 1 & 3 &  5 & Real Bed & TV,Internet,Wireless Internet,Air conditioning,Kitchen,Indoor fireplace,Heating,Family/kid friendly,Washer,Dryer,Smoke detector,Carbon monoxide detector,Essentials,Shampoo                                                                                                                                                                                      &  NA &  92 &  96\\\\\n",
       "\t 28004 & Universidad & Apartment   & Entire home/apt &  3 & 1 & 2 &  2 & Real Bed & TV,Internet,Wireless Internet,Air conditioning,Kitchen,Doorman,Heating,Family/kid friendly,Washer,Essentials,Shampoo,Hangers,Hair dryer,Iron,Laptop friendly workspace                                                                                                                                                                                           &  NA &  55 &  91\\\\\n",
       "\t 28004 & Universidad & Loft        & Entire home/apt &  3 & 2 & 1 &  1 & Real Bed & TV,Internet,Wireless Internet,Air conditioning,Kitchen,Pets allowed,Breakfast,Elevator in building,Indoor fireplace,Buzzer/wireless intercom,Heating,Washer,Essentials,Shampoo,Hangers,Hair dryer,Iron,Laptop friendly workspace,translation missing: en.hosting\\_amenity\\_49,translation missing: en.hosting\\_amenity\\_50                                           &  NA &  60 & 100\\\\\n",
       "\t 28015 & Universidad & Apartment   & Entire home/apt &  5 & 1 & 1 &  1 & Real Bed & TV,Wireless Internet,Air conditioning,Kitchen,Smoking allowed,Pets allowed,Elevator in building,Heating,Family/kid friendly,Washer,Essentials,Iron                                                                                                                                                                                                               & 538 &  75 &  90\\\\\n",
       "\t 28004 & Universidad & Apartment   & Entire home/apt &  2 & 1 & 0 &  1 & Real Bed & TV,Cable TV,Internet,Wireless Internet,Air conditioning,Wheelchair accessible,Kitchen,Doorman,Elevator in building,Buzzer/wireless intercom,Heating,Washer,Smoke detector,Carbon monoxide detector,First aid kit,Safety card,Fire extinguisher,Essentials,Shampoo,24-hour check-in,Hangers,Hair dryer,Iron,Laptop friendly workspace,Self Check-In,Doorman Entry &  NA &  55 &  95\\\\\n",
       "\t 28004 & Universidad & House       & Private room    &  7 & 5 & 1 &  7 & Real Bed & Internet,Wireless Internet,Kitchen,Smoking allowed,Heating,Fire extinguisher,Shampoo,Lock on bedroom door,Hangers,Hair dryer,Iron,translation missing: en.hosting\\_amenity\\_49,translation missing: en.hosting\\_amenity\\_50                                                                                                                                          &  NA &  60 &  77\\\\\n",
       "\t 28004 & Universidad & Apartment   & Entire home/apt &  3 & 1 & 1 & NA & Real Bed & TV,Wireless Internet,Air conditioning,Kitchen,Elevator in building,Buzzer/wireless intercom,Heating,Washer                                                                                                                                                                                                                                                       &  NA &  70 &  84\\\\\n",
       "\t 28015 & Universidad & Apartment   & Entire home/apt &  2 & 1 & 1 &  1 & Real Bed & TV,Internet,Wireless Internet,Kitchen,Elevator in building,Buzzer/wireless intercom,Heating,Family/kid friendly,Washer,Dryer,Essentials,Shampoo,translation missing: en.hosting\\_amenity\\_49                                                                                                                                                                       & 700 &  90 &  98\\\\\n",
       "\t 28004 & Universidad & Apartment   & Entire home/apt &  4 & 2 & 2 &  2 & Real Bed & TV,Wireless Internet,Air conditioning,Kitchen,Elevator in building,Hot tub,Heating,Family/kid friendly,Washer,Dryer,Essentials,Hair dryer,Iron                                                                                                                                                                                                                   &  NA & 155 &  NA\\\\\n",
       "\t 28004 & Universidad & Apartment   & Entire home/apt &  4 & 1 & 1 &  2 & Real Bed & TV,Wireless Internet,Air conditioning,Wheelchair accessible,Kitchen,Elevator in building,Buzzer/wireless intercom,Heating,Family/kid friendly,Washer,Essentials,Shampoo                                                                                                                                                                                          &  40 &  70 &  90\\\\\n",
       "\t 28004 & Universidad & Apartment   & Private room    &  2 & 1 & 1 &  1 & Real Bed & Internet,Wireless Internet,Kitchen,Smoking allowed,Elevator in building,Buzzer/wireless intercom,Heating,Family/kid friendly,Washer,Dryer,First aid kit,Essentials,Shampoo,24-hour check-in,Hangers,Hair dryer,Iron,Laptop friendly workspace                                                                                                                    &  NA &  39 &  90\\\\\n",
       "\t 28013 & Sol         & Apartment   & Private room    &  1 & 2 & 1 &  1 & Real Bed & TV,Wireless Internet,Air conditioning,Kitchen,Elevator in building,Buzzer/wireless intercom,Heating,Washer,24-hour check-in,Hangers,Laptop friendly workspace,Self Check-In,Doorman Entry                                                                                                                                                                        &  NA &  39 &  80\\\\\n",
       "\t 28005 & Sol         & Apartment   & Private room    &  2 & 1 & 1 &  1 & Real Bed & TV,Internet,Wireless Internet,Kitchen,Smoking allowed,Pets live on this property,Cat(s),Heating,Washer,Essentials,Shampoo,Hangers,Hair dryer,Iron,Laptop friendly workspace,translation missing: en.hosting\\_amenity\\_49,translation missing: en.hosting\\_amenity\\_50                                                                                                &  NA &  46 &  97\\\\\n",
       "\t 28013 & Sol         & Apartment   & Entire home/apt &  4 & 1 & 1 &  1 & Real Bed & TV,Wireless Internet,Air conditioning,Kitchen,Doorman,Elevator in building,Buzzer/wireless intercom,Heating,Family/kid friendly,Suitable for events,Washer,Essentials,Hangers,Hair dryer,Iron                                                                                                                                                                    & 646 &  75 &  91\\\\\n",
       "\t 28013 & Sol         & Condominium & Entire home/apt &  6 & 1 & 2 &  3 & Real Bed & TV,Wireless Internet,Air conditioning,Kitchen,Doorman,Elevator in building,Buzzer/wireless intercom,Heating,Family/kid friendly,Washer,Dryer,Essentials,Shampoo,Hangers,Hair dryer,Iron                                                                                                                                                                          &  NA & 130 & 100\\\\\n",
       "\t 28013 & Sol         & Apartment   & Entire home/apt &  4 & 1 & 1 &  2 & Real Bed & TV,Internet,Wireless Internet,Air conditioning,Kitchen,Doorman,Elevator in building,Buzzer/wireless intercom,Heating,Family/kid friendly,Washer,Smoke detector,Carbon monoxide detector,First aid kit,Safety card,Fire extinguisher,Essentials,Shampoo,24-hour check-in,Hangers,Hair dryer,Iron,Laptop friendly workspace                                        &  NA & 100 &  97\\\\\n",
       "\t 28012 & Sol         & Apartment   & Entire home/apt &  6 & 1 & 2 &  2 & Real Bed & TV,Internet,Wireless Internet,Air conditioning,Kitchen,Smoking allowed,Elevator in building,Buzzer/wireless intercom,Heating,Family/kid friendly,Washer,Dryer,Essentials,Shampoo,Hangers,Hair dryer,Iron,Laptop friendly workspace                                                                                                                               &  NA & 160 &  95\\\\\n",
       "\t 28013 & Sol         & Apartment   & Entire home/apt &  4 & 1 & 1 &  2 & Real Bed & TV,Internet,Wireless Internet,Air conditioning,Kitchen,Heating,Washer,Essentials,Hangers,Hair dryer,translation missing: en.hosting\\_amenity\\_50                                                                                                                                                                                                                   &  NA &  49 &  95\\\\\n",
       "\t 28013 & Sol         & Apartment   & Private room    &  2 & 5 & 1 &  1 & Real Bed & TV,Wireless Internet,Air conditioning,Kitchen,Doorman,Elevator in building,Buzzer/wireless intercom,Heating,Washer,Dryer,Smoke detector,Fire extinguisher,Essentials,Lock on bedroom door,24-hour check-in,Hangers,Iron,Laptop friendly workspace,translation missing: en.hosting\\_amenity\\_49,translation missing: en.hosting\\_amenity\\_50                          &  NA &  31 &  40\\\\\n",
       "\t 28013 & Sol         & Apartment   & Entire home/apt &  4 & 1 & 1 &  2 & Real Bed & TV,Wireless Internet,Kitchen,Pets allowed,Elevator in building,Heating,Family/kid friendly,Washer,Essentials,Shampoo,Hangers,Hair dryer,Laptop friendly workspace                                                                                                                                                                                                &  NA &  70 &  88\\\\\n",
       "\t 28005 & Sol         & Apartment   & Entire home/apt & 10 & 2 & 4 &  7 & Real Bed & TV,Internet,Wireless Internet,Air conditioning,Kitchen,Heating,Family/kid friendly,Washer,Essentials                                                                                                                                                                                                                                                             &  NA & 210 &  81\\\\\n",
       "\t 28013 & Sol         & Apartment   & Entire home/apt &  6 & 1 & 2 &  4 & Real Bed & TV,Internet,Wireless Internet,Air conditioning,Kitchen,Smoking allowed,Pets allowed,Doorman,Elevator in building,Buzzer/wireless intercom,Heating,Family/kid friendly,Washer,First aid kit,Safety card,Essentials,Shampoo,Hangers,Hair dryer,Iron                                                                                                                &  NA & 120 &  99\\\\\n",
       "\t 28012 & Sol         & Apartment   & Entire home/apt &  4 & 1 & 1 &  2 & Real Bed & TV,Internet,Wireless Internet,Air conditioning,Kitchen,Elevator in building,Heating,Family/kid friendly,Washer,Smoke detector,Carbon monoxide detector,Essentials,Shampoo,24-hour check-in,Hangers,Hair dryer,Iron,Laptop friendly workspace                                                                                                                     &  NA &  50 &  91\\\\\n",
       "\t 28012 & Sol         & Apartment   & Entire home/apt &  4 & 1 & 1 &  1 & Real Bed & TV,Cable TV,Internet,Wireless Internet,Air conditioning,Kitchen,Elevator in building,Buzzer/wireless intercom,Heating,Family/kid friendly,Washer,Essentials,Hair dryer,Iron                                                                                                                                                                                      & 753 & 100 &  87\\\\\n",
       "\t 28013 & Sol         & Apartment   & Entire home/apt &  4 & 1 & 1 &  2 & Real Bed & TV,Internet,Wireless Internet,Air conditioning,Kitchen,Breakfast,Elevator in building,Heating,Family/kid friendly,Washer,First aid kit,Fire extinguisher,Essentials,Shampoo,Hangers,Hair dryer,Iron,Laptop friendly workspace                                                                                                                                    &  NA &  75 & 100\\\\\n",
       "\t 28014 & Sol         & Condominium & Entire home/apt &  8 & 2 & 2 &  5 & Real Bed & TV,Internet,Wireless Internet,Air conditioning,Wheelchair accessible,Kitchen,Doorman,Elevator in building,Buzzer/wireless intercom,Heating,Family/kid friendly,Washer,Smoke detector,Carbon monoxide detector,Essentials,Shampoo,24-hour check-in,Hangers,Hair dryer,Iron,Laptop friendly workspace                                                              &  NA & 155 &  93\\\\\n",
       "\t 28013 & Sol         & Apartment   & Entire home/apt &  6 & 2 & 2 &  3 & Real Bed & TV,Internet,Wireless Internet,Air conditioning,Wheelchair accessible,Kitchen,Doorman,Elevator in building,Buzzer/wireless intercom,Heating,Family/kid friendly,Washer,Dryer,Essentials,Hangers,Hair dryer,Iron                                                                                                                                                   &  NA & 155 &  80\\\\\n",
       "\t 28012 & Sol         & Apartment   & Private room    &  1 & 1 & 1 &  1 & Real Bed & TV,Cable TV,Internet,Wireless Internet,Kitchen,Buzzer/wireless intercom,Heating,Family/kid friendly,Washer,Essentials,Shampoo                                                                                                                                                                                                                                    &  NA &  15 & 100\\\\\n",
       "\t 28005 & Sol         & Apartment   & Entire home/apt &  8 & 1 & 3 &  4 & Real Bed & TV,Internet,Wireless Internet,Kitchen,Breakfast,Elevator in building,Buzzer/wireless intercom,Heating,Family/kid friendly,Washer,Essentials,Shampoo,Hangers,Hair dryer,Iron,Laptop friendly workspace,Self Check-In,Lockbox                                                                                                                                      &  NA & 163 & 100\\\\\n",
       "\t ⋮ & ⋮ & ⋮ & ⋮ & ⋮ & ⋮ & ⋮ & ⋮ & ⋮ & ⋮ & ⋮ & ⋮ & ⋮\\\\\n",
       "\t 28023 & Valdemarín       & House       & Private room    &  1 & 1.0 & 0 &  1 & Real Bed      & TV,Wireless Internet,Air conditioning,Kitchen,Free parking on premises,Breakfast,Heating,Washer,Smoke detector,Essentials,Shampoo,Hangers,Hair dryer,Iron,Laptop friendly workspace,translation missing: en.hosting\\_amenity\\_50                                                                                        &  NA &  50 &  NA\\\\\n",
       "\t 28023 & Aravaca          & Condominium & Entire home/apt &  3 & 1.0 & 1 &  3 & Real Bed      & TV,Internet,Wireless Internet,Pool,Kitchen,Free parking on premises,Doorman,Heating,Family/kid friendly,Washer,Essentials,24-hour check-in,Hangers,Iron,Laptop friendly workspace,Private entrance                                                                                                                    &  NA &  50 & 100\\\\\n",
       "\t 28011 & Puerta del Angel & Apartment   & Private room    &  2 & 1.0 & 1 &  1 & Real Bed      & TV,Internet,Wireless Internet,Doorman,Buzzer/wireless intercom,Heating,Family/kid friendly,Washer,Smoke detector,Essentials,Shampoo,Hangers,Hair dryer,Iron,Laptop friendly workspace                                                                                                                                 &  NA &  23 &  94\\\\\n",
       "\t 28011 & Puerta del Angel & Other       & Private room    &  2 & 1.0 & 1 &  1 & Real Bed      & TV,Wireless Internet,Kitchen,Elevator in building,Heating,Family/kid friendly,Washer,Dryer,Shampoo                                                                                                                                                                                                                    &  NA &  33 &  95\\\\\n",
       "\t 28011 & Puerta del Angel & Apartment   & Private room    &  3 & 1.0 & 1 &  2 & Real Bed      & Internet,Wireless Internet,Kitchen,Free parking on premises,Smoking allowed,Elevator in building,Heating,Family/kid friendly,Fire extinguisher,Essentials,translation missing: en.hosting\\_amenity\\_50                                                                                                                  &  NA &  20 &  88\\\\\n",
       "\t 28004 & Universidad      & Other       & Entire home/apt &  3 & 1.0 & 1 &  1 & Real Bed      & TV,Internet,Wireless Internet,Air conditioning,Kitchen,Smoking allowed,Pets allowed,Elevator in building,Buzzer/wireless intercom,Heating,Family/kid friendly,Washer,Dryer,Fire extinguisher,Essentials,24-hour check-in,Hangers,Hair dryer,Iron                                                                      &  NA &  43 &  83\\\\\n",
       "\t 28004 & Universidad      & Apartment   & Entire home/apt &  3 & 1.0 & 1 &  1 & Real Bed      & TV,Internet,Wireless Internet,Kitchen,Buzzer/wireless intercom,Heating,Washer,Dryer,Essentials,Shampoo,24-hour check-in,Hangers,Hair dryer,Iron,Laptop friendly workspace,translation missing: en.hosting\\_amenity\\_49,translation missing: en.hosting\\_amenity\\_50                                                       &  NA &  80 &  96\\\\\n",
       "\t 28004 & Universidad      & Apartment   & Entire home/apt &  2 & 1.0 & 1 &  1 & Real Bed      & TV,Internet,Wireless Internet,Air conditioning,Kitchen,Elevator in building,Heating,Washer,Dryer,First aid kit,Essentials,Hangers,Hair dryer,Iron,translation missing: en.hosting\\_amenity\\_49,translation missing: en.hosting\\_amenity\\_50                                                                               &  NA &  80 &  99\\\\\n",
       "\t 28015 & Universidad      & Apartment   & Entire home/apt &  4 & 1.0 & 1 &  2 & Real Bed      & TV,Internet,Wireless Internet,Air conditioning,Kitchen,Elevator in building,Heating,Family/kid friendly,Washer,Smoke detector,Fire extinguisher,Essentials,Shampoo,Lock on bedroom door,Hangers,Hair dryer,Iron                                                                                                       &  NA & 100 & 100\\\\\n",
       "\t 28015 & Universidad      & Apartment   & Entire home/apt &  2 & 1.0 & 1 &  2 & Real Bed      & TV,Wireless Internet,Air conditioning,Kitchen,Elevator in building,Buzzer/wireless intercom,Heating,Family/kid friendly,Washer                                                                                                                                                                                        & 291 &  50 &  87\\\\\n",
       "\t 28015 & Universidad      & Apartment   & Entire home/apt &  5 & 1.0 & 2 &  3 & Real Bed      & TV,Internet,Wireless Internet,Kitchen,Smoking allowed,Elevator in building,Buzzer/wireless intercom,Heating,Family/kid friendly,Washer,First aid kit,Essentials,Shampoo,24-hour check-in,Hangers,Hair dryer,Iron,Laptop friendly workspace                                                                            &  NA &  85 &  90\\\\\n",
       "\t 28015 & Universidad      & Apartment   & Private room    &  1 & 2.0 & 1 &  1 & Real Bed      & TV,Wireless Internet,Kitchen,Elevator in building,Heating,Washer,Lock on bedroom door,Hangers,Laptop friendly workspace,translation missing: en.hosting\\_amenity\\_49,translation missing: en.hosting\\_amenity\\_50,Private living room                                                                                     &  NA &  30 &  NA\\\\\n",
       "\t 28015 & Universidad      & Apartment   & Entire home/apt &  4 & 1.0 & 1 &  2 & Real Bed      & TV,Wireless Internet,Air conditioning,Kitchen,Smoking allowed,Heating,Family/kid friendly,Washer,Dryer,Smoke detector,First aid kit,Essentials,Shampoo,Hangers,Hair dryer,Iron                                                                                                                                        &  NA &  60 & 100\\\\\n",
       "\t 28013 & Universidad      & Apartment   & Entire home/apt &  2 & 1.0 & 1 &  1 & Real Bed      & TV,Wireless Internet,Air conditioning,Kitchen,Elevator in building,Heating,Washer,Dryer,Essentials,Shampoo,Hangers,Hair dryer,Iron,Laptop friendly workspace,translation missing: en.hosting\\_amenity\\_49,translation missing: en.hosting\\_amenity\\_50                                                                    &  NA & 145 &  NA\\\\\n",
       "\t 28004 & Universidad      & Apartment   & Entire home/apt &  4 & 1.0 & 1 &  2 & Real Bed      & TV,Internet,Wireless Internet,Air conditioning,Kitchen,Pets allowed,Indoor fireplace,Buzzer/wireless intercom,Heating,Family/kid friendly,Washer,Smoke detector,Carbon monoxide detector,Essentials,Shampoo,24-hour check-in,Hangers,Hair dryer,Iron,Laptop friendly workspace                                        &  NA &  62 &  91\\\\\n",
       "\t 28004 & Universidad      & Apartment   & Entire home/apt & 14 & 5.5 & 5 & 10 & Real Bed      & TV,Internet,Wireless Internet,Air conditioning,Kitchen,Smoking allowed,Elevator in building,Indoor fireplace,Family/kid friendly,Washer,Dryer,First aid kit,Fire extinguisher,Essentials                                                                                                                              &  NA & 300 &  94\\\\\n",
       "\t 28004 & Universidad      & Apartment   & Private room    &  1 & 1.0 & 1 &  1 & Real Bed      & Internet,Wireless Internet,Kitchen,Elevator in building,Heating,Washer,Dryer,First aid kit,Essentials,Hangers,Iron,translation missing: en.hosting\\_amenity\\_49,translation missing: en.hosting\\_amenity\\_50                                                                                                              &   0 &  35 & 100\\\\\n",
       "\t 28004 & Universidad      & Apartment   & Entire home/apt &  3 & 1.0 & 1 &  2 & Real Bed      & TV,Wireless Internet,Kitchen,Buzzer/wireless intercom,Heating,Family/kid friendly,Washer,Smoke detector,Essentials,Shampoo,24-hour check-in,Hangers,Laptop friendly workspace,translation missing: en.hosting\\_amenity\\_50                                                                                              &  NA &  62 &  81\\\\\n",
       "\t 28004 & Universidad      & Apartment   & Private room    &  2 & 1.0 & 1 &  1 & Real Bed      & TV,Internet,Wireless Internet,Smoking allowed,Elevator in building,Heating,Washer,Essentials,Hangers,Hair dryer,Iron,translation missing: en.hosting\\_amenity\\_49,translation missing: en.hosting\\_amenity\\_50                                                                                                            &  NA &  45 &  90\\\\\n",
       "\t 28015 & Universidad      & Apartment   & Private room    &  1 & 1.0 & 1 &  1 & Real Bed      & TV,Wireless Internet,Kitchen,Elevator in building,Washer,Lock on bedroom door,Hangers,Laptop friendly workspace,translation missing: en.hosting\\_amenity\\_49,translation missing: en.hosting\\_amenity\\_50                                                                                                                 &  NA &  31 &  NA\\\\\n",
       "\t 28004 & Universidad      & Apartment   & Entire home/apt &  4 & 1.0 & 2 &  4 & Pull-out Sofa & TV,Internet,Wireless Internet,Air conditioning,Kitchen,Smoking allowed,Pets allowed,Elevator in building,Heating,Family/kid friendly,Washer,Dryer,Essentials,Shampoo,Hangers,Hair dryer,Iron                                                                                                                          &  NA &  90 &  90\\\\\n",
       "\t 28004 & Universidad      & Apartment   & Entire home/apt &  4 & 1.0 & 2 &  2 & Real Bed      & TV,Internet,Wireless Internet,Air conditioning,Kitchen,Smoking allowed,Pets allowed,Buzzer/wireless intercom,Heating,Family/kid friendly,Washer,Dryer,Essentials,Hangers,Hair dryer,Iron                                                                                                                              &  NA &  70 &  87\\\\\n",
       "\t 28004 & Universidad      & Apartment   & Entire home/apt &  2 & 1.0 & 1 &  1 & Real Bed      & TV,Internet,Wireless Internet,Air conditioning,Kitchen,Smoking allowed,Pets allowed,Elevator in building,Heating,Family/kid friendly,Washer,First aid kit,Fire extinguisher,Essentials,Lock on bedroom door,Hangers,Hair dryer,Iron                                                                                   &  NA &  40 &  82\\\\\n",
       "\t 28004 & Universidad      & Loft        & Entire home/apt &  2 & 1.0 & 1 &  2 & Real Bed      & Internet,Wireless Internet,Smoking allowed,Breakfast,Elevator in building,Heating,Shampoo,Hangers,Hair dryer,Iron,Laptop friendly workspace,translation missing: en.hosting\\_amenity\\_49,translation missing: en.hosting\\_amenity\\_50                                                                                     &  NA &  30 &  NA\\\\\n",
       "\t 28004 & Universidad      & Apartment   & Entire home/apt &  4 & 1.0 & 1 &  2 & Real Bed      & TV,Wireless Internet,Air conditioning,Kitchen,Smoking allowed,Pets allowed,Heating,Family/kid friendly,Washer,Fire extinguisher,Essentials,Lock on bedroom door,Hangers,Hair dryer,Iron                                                                                                                               &  NA &  48 &  83\\\\\n",
       "\t 28015 & Universidad      & Apartment   & Entire home/apt &  2 & 1.0 & 1 &  1 & Real Bed      & TV,Internet,Wireless Internet,Air conditioning,Kitchen,Elevator in building,Buzzer/wireless intercom,Heating,Washer,Dryer,Smoke detector,Fire extinguisher,Essentials,Shampoo,Hangers,Hair dryer,Iron,Laptop friendly workspace,translation missing: en.hosting\\_amenity\\_49,translation missing: en.hosting\\_amenity\\_50 &  NA &  35 &  90\\\\\n",
       "\t 28004 & Universidad      & Apartment   & Entire home/apt &  3 & 1.0 & 1 &  2 & Real Bed      & TV,Wireless Internet,Air conditioning,Kitchen,Elevator in building,Buzzer/wireless intercom,Heating,Family/kid friendly,Washer,Dryer,Smoke detector,Carbon monoxide detector,Fire extinguisher,Essentials,Shampoo,24-hour check-in,Hangers,Hair dryer,Iron,Laptop friendly workspace                                  &  NA &  79 &  97\\\\\n",
       "\t 28013 & Universidad      & Apartment   & Entire home/apt &  4 & 1.0 & 1 &  1 & Real Bed      & TV,Wireless Internet,Air conditioning,Pool,Kitchen,Doorman,Gym,Elevator in building,Buzzer/wireless intercom,Heating,Washer,First aid kit,Safety card,Essentials,Shampoo,Hangers,Hair dryer,Iron,Laptop friendly workspace                                                                                            &  NA & 150 & 100\\\\\n",
       "\t 28004 & Universidad      & Loft        & Entire home/apt &  2 & 1.0 & 0 &  1 & Real Bed      & TV,Internet,Wireless Internet,Kitchen,Smoking allowed,Pets allowed,Elevator in building,Heating,Family/kid friendly,Washer,First aid kit,Essentials,Shampoo                                                                                                                                                           &  NA &  80 &  91\\\\\n",
       "\t 28004 & Universidad      & Apartment   & Entire home/apt &  3 & 1.0 & 0 &  2 & Real Bed      & TV,Internet,Wireless Internet,Air conditioning,Kitchen,Heating,Family/kid friendly,Washer                                                                                                                                                                                                                             &  NA &  69 &  80\\\\\n",
       "\\end{tabular}\n"
      ],
      "text/markdown": [
       "\n",
       "A data.frame: 13207 × 13\n",
       "\n",
       "| CodigoPostal &lt;fct&gt; | Barrio &lt;fct&gt; | TipoPropiedad &lt;fct&gt; | TipoAlquiler &lt;fct&gt; | MaxOcupantes &lt;int&gt; | NumBanyos &lt;dbl&gt; | NumDormitorios &lt;int&gt; | NumCamas &lt;int&gt; | TipoCama &lt;fct&gt; | Comodidades &lt;fct&gt; | PiesCuadrados &lt;int&gt; | Precio &lt;int&gt; | Puntuacion &lt;int&gt; |\n",
       "|---|---|---|---|---|---|---|---|---|---|---|---|---|\n",
       "| 28004 | Universidad | Apartment   | Private room    |  2 | 2 | 1 |  1 | Real Bed | TV,Wireless Internet,Kitchen,Pets allowed,Pets live on this property,Buzzer/wireless intercom,Heating,Suitable for events,Washer,First aid kit,Essentials,Lock on bedroom door,Iron                                                                                                                                                                              |  NA |  35 |  NA |\n",
       "| 28004 | Universidad | Apartment   | Entire home/apt |  6 | 1 | 3 |  5 | Real Bed | TV,Internet,Wireless Internet,Air conditioning,Kitchen,Indoor fireplace,Heating,Family/kid friendly,Washer,Dryer,Smoke detector,Carbon monoxide detector,Essentials,Shampoo                                                                                                                                                                                      |  NA |  92 |  96 |\n",
       "| 28004 | Universidad | Apartment   | Entire home/apt |  3 | 1 | 2 |  2 | Real Bed | TV,Internet,Wireless Internet,Air conditioning,Kitchen,Doorman,Heating,Family/kid friendly,Washer,Essentials,Shampoo,Hangers,Hair dryer,Iron,Laptop friendly workspace                                                                                                                                                                                           |  NA |  55 |  91 |\n",
       "| 28004 | Universidad | Loft        | Entire home/apt |  3 | 2 | 1 |  1 | Real Bed | TV,Internet,Wireless Internet,Air conditioning,Kitchen,Pets allowed,Breakfast,Elevator in building,Indoor fireplace,Buzzer/wireless intercom,Heating,Washer,Essentials,Shampoo,Hangers,Hair dryer,Iron,Laptop friendly workspace,translation missing: en.hosting_amenity_49,translation missing: en.hosting_amenity_50                                           |  NA |  60 | 100 |\n",
       "| 28015 | Universidad | Apartment   | Entire home/apt |  5 | 1 | 1 |  1 | Real Bed | TV,Wireless Internet,Air conditioning,Kitchen,Smoking allowed,Pets allowed,Elevator in building,Heating,Family/kid friendly,Washer,Essentials,Iron                                                                                                                                                                                                               | 538 |  75 |  90 |\n",
       "| 28004 | Universidad | Apartment   | Entire home/apt |  2 | 1 | 0 |  1 | Real Bed | TV,Cable TV,Internet,Wireless Internet,Air conditioning,Wheelchair accessible,Kitchen,Doorman,Elevator in building,Buzzer/wireless intercom,Heating,Washer,Smoke detector,Carbon monoxide detector,First aid kit,Safety card,Fire extinguisher,Essentials,Shampoo,24-hour check-in,Hangers,Hair dryer,Iron,Laptop friendly workspace,Self Check-In,Doorman Entry |  NA |  55 |  95 |\n",
       "| 28004 | Universidad | House       | Private room    |  7 | 5 | 1 |  7 | Real Bed | Internet,Wireless Internet,Kitchen,Smoking allowed,Heating,Fire extinguisher,Shampoo,Lock on bedroom door,Hangers,Hair dryer,Iron,translation missing: en.hosting_amenity_49,translation missing: en.hosting_amenity_50                                                                                                                                          |  NA |  60 |  77 |\n",
       "| 28004 | Universidad | Apartment   | Entire home/apt |  3 | 1 | 1 | NA | Real Bed | TV,Wireless Internet,Air conditioning,Kitchen,Elevator in building,Buzzer/wireless intercom,Heating,Washer                                                                                                                                                                                                                                                       |  NA |  70 |  84 |\n",
       "| 28015 | Universidad | Apartment   | Entire home/apt |  2 | 1 | 1 |  1 | Real Bed | TV,Internet,Wireless Internet,Kitchen,Elevator in building,Buzzer/wireless intercom,Heating,Family/kid friendly,Washer,Dryer,Essentials,Shampoo,translation missing: en.hosting_amenity_49                                                                                                                                                                       | 700 |  90 |  98 |\n",
       "| 28004 | Universidad | Apartment   | Entire home/apt |  4 | 2 | 2 |  2 | Real Bed | TV,Wireless Internet,Air conditioning,Kitchen,Elevator in building,Hot tub,Heating,Family/kid friendly,Washer,Dryer,Essentials,Hair dryer,Iron                                                                                                                                                                                                                   |  NA | 155 |  NA |\n",
       "| 28004 | Universidad | Apartment   | Entire home/apt |  4 | 1 | 1 |  2 | Real Bed | TV,Wireless Internet,Air conditioning,Wheelchair accessible,Kitchen,Elevator in building,Buzzer/wireless intercom,Heating,Family/kid friendly,Washer,Essentials,Shampoo                                                                                                                                                                                          |  40 |  70 |  90 |\n",
       "| 28004 | Universidad | Apartment   | Private room    |  2 | 1 | 1 |  1 | Real Bed | Internet,Wireless Internet,Kitchen,Smoking allowed,Elevator in building,Buzzer/wireless intercom,Heating,Family/kid friendly,Washer,Dryer,First aid kit,Essentials,Shampoo,24-hour check-in,Hangers,Hair dryer,Iron,Laptop friendly workspace                                                                                                                    |  NA |  39 |  90 |\n",
       "| 28013 | Sol         | Apartment   | Private room    |  1 | 2 | 1 |  1 | Real Bed | TV,Wireless Internet,Air conditioning,Kitchen,Elevator in building,Buzzer/wireless intercom,Heating,Washer,24-hour check-in,Hangers,Laptop friendly workspace,Self Check-In,Doorman Entry                                                                                                                                                                        |  NA |  39 |  80 |\n",
       "| 28005 | Sol         | Apartment   | Private room    |  2 | 1 | 1 |  1 | Real Bed | TV,Internet,Wireless Internet,Kitchen,Smoking allowed,Pets live on this property,Cat(s),Heating,Washer,Essentials,Shampoo,Hangers,Hair dryer,Iron,Laptop friendly workspace,translation missing: en.hosting_amenity_49,translation missing: en.hosting_amenity_50                                                                                                |  NA |  46 |  97 |\n",
       "| 28013 | Sol         | Apartment   | Entire home/apt |  4 | 1 | 1 |  1 | Real Bed | TV,Wireless Internet,Air conditioning,Kitchen,Doorman,Elevator in building,Buzzer/wireless intercom,Heating,Family/kid friendly,Suitable for events,Washer,Essentials,Hangers,Hair dryer,Iron                                                                                                                                                                    | 646 |  75 |  91 |\n",
       "| 28013 | Sol         | Condominium | Entire home/apt |  6 | 1 | 2 |  3 | Real Bed | TV,Wireless Internet,Air conditioning,Kitchen,Doorman,Elevator in building,Buzzer/wireless intercom,Heating,Family/kid friendly,Washer,Dryer,Essentials,Shampoo,Hangers,Hair dryer,Iron                                                                                                                                                                          |  NA | 130 | 100 |\n",
       "| 28013 | Sol         | Apartment   | Entire home/apt |  4 | 1 | 1 |  2 | Real Bed | TV,Internet,Wireless Internet,Air conditioning,Kitchen,Doorman,Elevator in building,Buzzer/wireless intercom,Heating,Family/kid friendly,Washer,Smoke detector,Carbon monoxide detector,First aid kit,Safety card,Fire extinguisher,Essentials,Shampoo,24-hour check-in,Hangers,Hair dryer,Iron,Laptop friendly workspace                                        |  NA | 100 |  97 |\n",
       "| 28012 | Sol         | Apartment   | Entire home/apt |  6 | 1 | 2 |  2 | Real Bed | TV,Internet,Wireless Internet,Air conditioning,Kitchen,Smoking allowed,Elevator in building,Buzzer/wireless intercom,Heating,Family/kid friendly,Washer,Dryer,Essentials,Shampoo,Hangers,Hair dryer,Iron,Laptop friendly workspace                                                                                                                               |  NA | 160 |  95 |\n",
       "| 28013 | Sol         | Apartment   | Entire home/apt |  4 | 1 | 1 |  2 | Real Bed | TV,Internet,Wireless Internet,Air conditioning,Kitchen,Heating,Washer,Essentials,Hangers,Hair dryer,translation missing: en.hosting_amenity_50                                                                                                                                                                                                                   |  NA |  49 |  95 |\n",
       "| 28013 | Sol         | Apartment   | Private room    |  2 | 5 | 1 |  1 | Real Bed | TV,Wireless Internet,Air conditioning,Kitchen,Doorman,Elevator in building,Buzzer/wireless intercom,Heating,Washer,Dryer,Smoke detector,Fire extinguisher,Essentials,Lock on bedroom door,24-hour check-in,Hangers,Iron,Laptop friendly workspace,translation missing: en.hosting_amenity_49,translation missing: en.hosting_amenity_50                          |  NA |  31 |  40 |\n",
       "| 28013 | Sol         | Apartment   | Entire home/apt |  4 | 1 | 1 |  2 | Real Bed | TV,Wireless Internet,Kitchen,Pets allowed,Elevator in building,Heating,Family/kid friendly,Washer,Essentials,Shampoo,Hangers,Hair dryer,Laptop friendly workspace                                                                                                                                                                                                |  NA |  70 |  88 |\n",
       "| 28005 | Sol         | Apartment   | Entire home/apt | 10 | 2 | 4 |  7 | Real Bed | TV,Internet,Wireless Internet,Air conditioning,Kitchen,Heating,Family/kid friendly,Washer,Essentials                                                                                                                                                                                                                                                             |  NA | 210 |  81 |\n",
       "| 28013 | Sol         | Apartment   | Entire home/apt |  6 | 1 | 2 |  4 | Real Bed | TV,Internet,Wireless Internet,Air conditioning,Kitchen,Smoking allowed,Pets allowed,Doorman,Elevator in building,Buzzer/wireless intercom,Heating,Family/kid friendly,Washer,First aid kit,Safety card,Essentials,Shampoo,Hangers,Hair dryer,Iron                                                                                                                |  NA | 120 |  99 |\n",
       "| 28012 | Sol         | Apartment   | Entire home/apt |  4 | 1 | 1 |  2 | Real Bed | TV,Internet,Wireless Internet,Air conditioning,Kitchen,Elevator in building,Heating,Family/kid friendly,Washer,Smoke detector,Carbon monoxide detector,Essentials,Shampoo,24-hour check-in,Hangers,Hair dryer,Iron,Laptop friendly workspace                                                                                                                     |  NA |  50 |  91 |\n",
       "| 28012 | Sol         | Apartment   | Entire home/apt |  4 | 1 | 1 |  1 | Real Bed | TV,Cable TV,Internet,Wireless Internet,Air conditioning,Kitchen,Elevator in building,Buzzer/wireless intercom,Heating,Family/kid friendly,Washer,Essentials,Hair dryer,Iron                                                                                                                                                                                      | 753 | 100 |  87 |\n",
       "| 28013 | Sol         | Apartment   | Entire home/apt |  4 | 1 | 1 |  2 | Real Bed | TV,Internet,Wireless Internet,Air conditioning,Kitchen,Breakfast,Elevator in building,Heating,Family/kid friendly,Washer,First aid kit,Fire extinguisher,Essentials,Shampoo,Hangers,Hair dryer,Iron,Laptop friendly workspace                                                                                                                                    |  NA |  75 | 100 |\n",
       "| 28014 | Sol         | Condominium | Entire home/apt |  8 | 2 | 2 |  5 | Real Bed | TV,Internet,Wireless Internet,Air conditioning,Wheelchair accessible,Kitchen,Doorman,Elevator in building,Buzzer/wireless intercom,Heating,Family/kid friendly,Washer,Smoke detector,Carbon monoxide detector,Essentials,Shampoo,24-hour check-in,Hangers,Hair dryer,Iron,Laptop friendly workspace                                                              |  NA | 155 |  93 |\n",
       "| 28013 | Sol         | Apartment   | Entire home/apt |  6 | 2 | 2 |  3 | Real Bed | TV,Internet,Wireless Internet,Air conditioning,Wheelchair accessible,Kitchen,Doorman,Elevator in building,Buzzer/wireless intercom,Heating,Family/kid friendly,Washer,Dryer,Essentials,Hangers,Hair dryer,Iron                                                                                                                                                   |  NA | 155 |  80 |\n",
       "| 28012 | Sol         | Apartment   | Private room    |  1 | 1 | 1 |  1 | Real Bed | TV,Cable TV,Internet,Wireless Internet,Kitchen,Buzzer/wireless intercom,Heating,Family/kid friendly,Washer,Essentials,Shampoo                                                                                                                                                                                                                                    |  NA |  15 | 100 |\n",
       "| 28005 | Sol         | Apartment   | Entire home/apt |  8 | 1 | 3 |  4 | Real Bed | TV,Internet,Wireless Internet,Kitchen,Breakfast,Elevator in building,Buzzer/wireless intercom,Heating,Family/kid friendly,Washer,Essentials,Shampoo,Hangers,Hair dryer,Iron,Laptop friendly workspace,Self Check-In,Lockbox                                                                                                                                      |  NA | 163 | 100 |\n",
       "| ⋮ | ⋮ | ⋮ | ⋮ | ⋮ | ⋮ | ⋮ | ⋮ | ⋮ | ⋮ | ⋮ | ⋮ | ⋮ |\n",
       "| 28023 | Valdemarín       | House       | Private room    |  1 | 1.0 | 0 |  1 | Real Bed      | TV,Wireless Internet,Air conditioning,Kitchen,Free parking on premises,Breakfast,Heating,Washer,Smoke detector,Essentials,Shampoo,Hangers,Hair dryer,Iron,Laptop friendly workspace,translation missing: en.hosting_amenity_50                                                                                        |  NA |  50 |  NA |\n",
       "| 28023 | Aravaca          | Condominium | Entire home/apt |  3 | 1.0 | 1 |  3 | Real Bed      | TV,Internet,Wireless Internet,Pool,Kitchen,Free parking on premises,Doorman,Heating,Family/kid friendly,Washer,Essentials,24-hour check-in,Hangers,Iron,Laptop friendly workspace,Private entrance                                                                                                                    |  NA |  50 | 100 |\n",
       "| 28011 | Puerta del Angel | Apartment   | Private room    |  2 | 1.0 | 1 |  1 | Real Bed      | TV,Internet,Wireless Internet,Doorman,Buzzer/wireless intercom,Heating,Family/kid friendly,Washer,Smoke detector,Essentials,Shampoo,Hangers,Hair dryer,Iron,Laptop friendly workspace                                                                                                                                 |  NA |  23 |  94 |\n",
       "| 28011 | Puerta del Angel | Other       | Private room    |  2 | 1.0 | 1 |  1 | Real Bed      | TV,Wireless Internet,Kitchen,Elevator in building,Heating,Family/kid friendly,Washer,Dryer,Shampoo                                                                                                                                                                                                                    |  NA |  33 |  95 |\n",
       "| 28011 | Puerta del Angel | Apartment   | Private room    |  3 | 1.0 | 1 |  2 | Real Bed      | Internet,Wireless Internet,Kitchen,Free parking on premises,Smoking allowed,Elevator in building,Heating,Family/kid friendly,Fire extinguisher,Essentials,translation missing: en.hosting_amenity_50                                                                                                                  |  NA |  20 |  88 |\n",
       "| 28004 | Universidad      | Other       | Entire home/apt |  3 | 1.0 | 1 |  1 | Real Bed      | TV,Internet,Wireless Internet,Air conditioning,Kitchen,Smoking allowed,Pets allowed,Elevator in building,Buzzer/wireless intercom,Heating,Family/kid friendly,Washer,Dryer,Fire extinguisher,Essentials,24-hour check-in,Hangers,Hair dryer,Iron                                                                      |  NA |  43 |  83 |\n",
       "| 28004 | Universidad      | Apartment   | Entire home/apt |  3 | 1.0 | 1 |  1 | Real Bed      | TV,Internet,Wireless Internet,Kitchen,Buzzer/wireless intercom,Heating,Washer,Dryer,Essentials,Shampoo,24-hour check-in,Hangers,Hair dryer,Iron,Laptop friendly workspace,translation missing: en.hosting_amenity_49,translation missing: en.hosting_amenity_50                                                       |  NA |  80 |  96 |\n",
       "| 28004 | Universidad      | Apartment   | Entire home/apt |  2 | 1.0 | 1 |  1 | Real Bed      | TV,Internet,Wireless Internet,Air conditioning,Kitchen,Elevator in building,Heating,Washer,Dryer,First aid kit,Essentials,Hangers,Hair dryer,Iron,translation missing: en.hosting_amenity_49,translation missing: en.hosting_amenity_50                                                                               |  NA |  80 |  99 |\n",
       "| 28015 | Universidad      | Apartment   | Entire home/apt |  4 | 1.0 | 1 |  2 | Real Bed      | TV,Internet,Wireless Internet,Air conditioning,Kitchen,Elevator in building,Heating,Family/kid friendly,Washer,Smoke detector,Fire extinguisher,Essentials,Shampoo,Lock on bedroom door,Hangers,Hair dryer,Iron                                                                                                       |  NA | 100 | 100 |\n",
       "| 28015 | Universidad      | Apartment   | Entire home/apt |  2 | 1.0 | 1 |  2 | Real Bed      | TV,Wireless Internet,Air conditioning,Kitchen,Elevator in building,Buzzer/wireless intercom,Heating,Family/kid friendly,Washer                                                                                                                                                                                        | 291 |  50 |  87 |\n",
       "| 28015 | Universidad      | Apartment   | Entire home/apt |  5 | 1.0 | 2 |  3 | Real Bed      | TV,Internet,Wireless Internet,Kitchen,Smoking allowed,Elevator in building,Buzzer/wireless intercom,Heating,Family/kid friendly,Washer,First aid kit,Essentials,Shampoo,24-hour check-in,Hangers,Hair dryer,Iron,Laptop friendly workspace                                                                            |  NA |  85 |  90 |\n",
       "| 28015 | Universidad      | Apartment   | Private room    |  1 | 2.0 | 1 |  1 | Real Bed      | TV,Wireless Internet,Kitchen,Elevator in building,Heating,Washer,Lock on bedroom door,Hangers,Laptop friendly workspace,translation missing: en.hosting_amenity_49,translation missing: en.hosting_amenity_50,Private living room                                                                                     |  NA |  30 |  NA |\n",
       "| 28015 | Universidad      | Apartment   | Entire home/apt |  4 | 1.0 | 1 |  2 | Real Bed      | TV,Wireless Internet,Air conditioning,Kitchen,Smoking allowed,Heating,Family/kid friendly,Washer,Dryer,Smoke detector,First aid kit,Essentials,Shampoo,Hangers,Hair dryer,Iron                                                                                                                                        |  NA |  60 | 100 |\n",
       "| 28013 | Universidad      | Apartment   | Entire home/apt |  2 | 1.0 | 1 |  1 | Real Bed      | TV,Wireless Internet,Air conditioning,Kitchen,Elevator in building,Heating,Washer,Dryer,Essentials,Shampoo,Hangers,Hair dryer,Iron,Laptop friendly workspace,translation missing: en.hosting_amenity_49,translation missing: en.hosting_amenity_50                                                                    |  NA | 145 |  NA |\n",
       "| 28004 | Universidad      | Apartment   | Entire home/apt |  4 | 1.0 | 1 |  2 | Real Bed      | TV,Internet,Wireless Internet,Air conditioning,Kitchen,Pets allowed,Indoor fireplace,Buzzer/wireless intercom,Heating,Family/kid friendly,Washer,Smoke detector,Carbon monoxide detector,Essentials,Shampoo,24-hour check-in,Hangers,Hair dryer,Iron,Laptop friendly workspace                                        |  NA |  62 |  91 |\n",
       "| 28004 | Universidad      | Apartment   | Entire home/apt | 14 | 5.5 | 5 | 10 | Real Bed      | TV,Internet,Wireless Internet,Air conditioning,Kitchen,Smoking allowed,Elevator in building,Indoor fireplace,Family/kid friendly,Washer,Dryer,First aid kit,Fire extinguisher,Essentials                                                                                                                              |  NA | 300 |  94 |\n",
       "| 28004 | Universidad      | Apartment   | Private room    |  1 | 1.0 | 1 |  1 | Real Bed      | Internet,Wireless Internet,Kitchen,Elevator in building,Heating,Washer,Dryer,First aid kit,Essentials,Hangers,Iron,translation missing: en.hosting_amenity_49,translation missing: en.hosting_amenity_50                                                                                                              |   0 |  35 | 100 |\n",
       "| 28004 | Universidad      | Apartment   | Entire home/apt |  3 | 1.0 | 1 |  2 | Real Bed      | TV,Wireless Internet,Kitchen,Buzzer/wireless intercom,Heating,Family/kid friendly,Washer,Smoke detector,Essentials,Shampoo,24-hour check-in,Hangers,Laptop friendly workspace,translation missing: en.hosting_amenity_50                                                                                              |  NA |  62 |  81 |\n",
       "| 28004 | Universidad      | Apartment   | Private room    |  2 | 1.0 | 1 |  1 | Real Bed      | TV,Internet,Wireless Internet,Smoking allowed,Elevator in building,Heating,Washer,Essentials,Hangers,Hair dryer,Iron,translation missing: en.hosting_amenity_49,translation missing: en.hosting_amenity_50                                                                                                            |  NA |  45 |  90 |\n",
       "| 28015 | Universidad      | Apartment   | Private room    |  1 | 1.0 | 1 |  1 | Real Bed      | TV,Wireless Internet,Kitchen,Elevator in building,Washer,Lock on bedroom door,Hangers,Laptop friendly workspace,translation missing: en.hosting_amenity_49,translation missing: en.hosting_amenity_50                                                                                                                 |  NA |  31 |  NA |\n",
       "| 28004 | Universidad      | Apartment   | Entire home/apt |  4 | 1.0 | 2 |  4 | Pull-out Sofa | TV,Internet,Wireless Internet,Air conditioning,Kitchen,Smoking allowed,Pets allowed,Elevator in building,Heating,Family/kid friendly,Washer,Dryer,Essentials,Shampoo,Hangers,Hair dryer,Iron                                                                                                                          |  NA |  90 |  90 |\n",
       "| 28004 | Universidad      | Apartment   | Entire home/apt |  4 | 1.0 | 2 |  2 | Real Bed      | TV,Internet,Wireless Internet,Air conditioning,Kitchen,Smoking allowed,Pets allowed,Buzzer/wireless intercom,Heating,Family/kid friendly,Washer,Dryer,Essentials,Hangers,Hair dryer,Iron                                                                                                                              |  NA |  70 |  87 |\n",
       "| 28004 | Universidad      | Apartment   | Entire home/apt |  2 | 1.0 | 1 |  1 | Real Bed      | TV,Internet,Wireless Internet,Air conditioning,Kitchen,Smoking allowed,Pets allowed,Elevator in building,Heating,Family/kid friendly,Washer,First aid kit,Fire extinguisher,Essentials,Lock on bedroom door,Hangers,Hair dryer,Iron                                                                                   |  NA |  40 |  82 |\n",
       "| 28004 | Universidad      | Loft        | Entire home/apt |  2 | 1.0 | 1 |  2 | Real Bed      | Internet,Wireless Internet,Smoking allowed,Breakfast,Elevator in building,Heating,Shampoo,Hangers,Hair dryer,Iron,Laptop friendly workspace,translation missing: en.hosting_amenity_49,translation missing: en.hosting_amenity_50                                                                                     |  NA |  30 |  NA |\n",
       "| 28004 | Universidad      | Apartment   | Entire home/apt |  4 | 1.0 | 1 |  2 | Real Bed      | TV,Wireless Internet,Air conditioning,Kitchen,Smoking allowed,Pets allowed,Heating,Family/kid friendly,Washer,Fire extinguisher,Essentials,Lock on bedroom door,Hangers,Hair dryer,Iron                                                                                                                               |  NA |  48 |  83 |\n",
       "| 28015 | Universidad      | Apartment   | Entire home/apt |  2 | 1.0 | 1 |  1 | Real Bed      | TV,Internet,Wireless Internet,Air conditioning,Kitchen,Elevator in building,Buzzer/wireless intercom,Heating,Washer,Dryer,Smoke detector,Fire extinguisher,Essentials,Shampoo,Hangers,Hair dryer,Iron,Laptop friendly workspace,translation missing: en.hosting_amenity_49,translation missing: en.hosting_amenity_50 |  NA |  35 |  90 |\n",
       "| 28004 | Universidad      | Apartment   | Entire home/apt |  3 | 1.0 | 1 |  2 | Real Bed      | TV,Wireless Internet,Air conditioning,Kitchen,Elevator in building,Buzzer/wireless intercom,Heating,Family/kid friendly,Washer,Dryer,Smoke detector,Carbon monoxide detector,Fire extinguisher,Essentials,Shampoo,24-hour check-in,Hangers,Hair dryer,Iron,Laptop friendly workspace                                  |  NA |  79 |  97 |\n",
       "| 28013 | Universidad      | Apartment   | Entire home/apt |  4 | 1.0 | 1 |  1 | Real Bed      | TV,Wireless Internet,Air conditioning,Pool,Kitchen,Doorman,Gym,Elevator in building,Buzzer/wireless intercom,Heating,Washer,First aid kit,Safety card,Essentials,Shampoo,Hangers,Hair dryer,Iron,Laptop friendly workspace                                                                                            |  NA | 150 | 100 |\n",
       "| 28004 | Universidad      | Loft        | Entire home/apt |  2 | 1.0 | 0 |  1 | Real Bed      | TV,Internet,Wireless Internet,Kitchen,Smoking allowed,Pets allowed,Elevator in building,Heating,Family/kid friendly,Washer,First aid kit,Essentials,Shampoo                                                                                                                                                           |  NA |  80 |  91 |\n",
       "| 28004 | Universidad      | Apartment   | Entire home/apt |  3 | 1.0 | 0 |  2 | Real Bed      | TV,Internet,Wireless Internet,Air conditioning,Kitchen,Heating,Family/kid friendly,Washer                                                                                                                                                                                                                             |  NA |  69 |  80 |\n",
       "\n"
      ],
      "text/plain": [
       "      CodigoPostal Barrio           TipoPropiedad TipoAlquiler    MaxOcupantes\n",
       "1     28004        Universidad      Apartment     Private room     2          \n",
       "2     28004        Universidad      Apartment     Entire home/apt  6          \n",
       "3     28004        Universidad      Apartment     Entire home/apt  3          \n",
       "4     28004        Universidad      Loft          Entire home/apt  3          \n",
       "5     28015        Universidad      Apartment     Entire home/apt  5          \n",
       "6     28004        Universidad      Apartment     Entire home/apt  2          \n",
       "7     28004        Universidad      House         Private room     7          \n",
       "8     28004        Universidad      Apartment     Entire home/apt  3          \n",
       "9     28015        Universidad      Apartment     Entire home/apt  2          \n",
       "10    28004        Universidad      Apartment     Entire home/apt  4          \n",
       "11    28004        Universidad      Apartment     Entire home/apt  4          \n",
       "12    28004        Universidad      Apartment     Private room     2          \n",
       "13    28013        Sol              Apartment     Private room     1          \n",
       "14    28005        Sol              Apartment     Private room     2          \n",
       "15    28013        Sol              Apartment     Entire home/apt  4          \n",
       "16    28013        Sol              Condominium   Entire home/apt  6          \n",
       "17    28013        Sol              Apartment     Entire home/apt  4          \n",
       "18    28012        Sol              Apartment     Entire home/apt  6          \n",
       "19    28013        Sol              Apartment     Entire home/apt  4          \n",
       "20    28013        Sol              Apartment     Private room     2          \n",
       "21    28013        Sol              Apartment     Entire home/apt  4          \n",
       "22    28005        Sol              Apartment     Entire home/apt 10          \n",
       "23    28013        Sol              Apartment     Entire home/apt  6          \n",
       "24    28012        Sol              Apartment     Entire home/apt  4          \n",
       "25    28012        Sol              Apartment     Entire home/apt  4          \n",
       "26    28013        Sol              Apartment     Entire home/apt  4          \n",
       "27    28014        Sol              Condominium   Entire home/apt  8          \n",
       "28    28013        Sol              Apartment     Entire home/apt  6          \n",
       "29    28012        Sol              Apartment     Private room     1          \n",
       "30    28005        Sol              Apartment     Entire home/apt  8          \n",
       "⋮     ⋮            ⋮                ⋮             ⋮               ⋮           \n",
       "13178 28023        Valdemarín       House         Private room     1          \n",
       "13179 28023        Aravaca          Condominium   Entire home/apt  3          \n",
       "13180 28011        Puerta del Angel Apartment     Private room     2          \n",
       "13181 28011        Puerta del Angel Other         Private room     2          \n",
       "13182 28011        Puerta del Angel Apartment     Private room     3          \n",
       "13183 28004        Universidad      Other         Entire home/apt  3          \n",
       "13184 28004        Universidad      Apartment     Entire home/apt  3          \n",
       "13185 28004        Universidad      Apartment     Entire home/apt  2          \n",
       "13186 28015        Universidad      Apartment     Entire home/apt  4          \n",
       "13187 28015        Universidad      Apartment     Entire home/apt  2          \n",
       "13188 28015        Universidad      Apartment     Entire home/apt  5          \n",
       "13189 28015        Universidad      Apartment     Private room     1          \n",
       "13190 28015        Universidad      Apartment     Entire home/apt  4          \n",
       "13191 28013        Universidad      Apartment     Entire home/apt  2          \n",
       "13192 28004        Universidad      Apartment     Entire home/apt  4          \n",
       "13193 28004        Universidad      Apartment     Entire home/apt 14          \n",
       "13194 28004        Universidad      Apartment     Private room     1          \n",
       "13195 28004        Universidad      Apartment     Entire home/apt  3          \n",
       "13196 28004        Universidad      Apartment     Private room     2          \n",
       "13197 28015        Universidad      Apartment     Private room     1          \n",
       "13198 28004        Universidad      Apartment     Entire home/apt  4          \n",
       "13199 28004        Universidad      Apartment     Entire home/apt  4          \n",
       "13200 28004        Universidad      Apartment     Entire home/apt  2          \n",
       "13201 28004        Universidad      Loft          Entire home/apt  2          \n",
       "13202 28004        Universidad      Apartment     Entire home/apt  4          \n",
       "13203 28015        Universidad      Apartment     Entire home/apt  2          \n",
       "13204 28004        Universidad      Apartment     Entire home/apt  3          \n",
       "13205 28013        Universidad      Apartment     Entire home/apt  4          \n",
       "13206 28004        Universidad      Loft          Entire home/apt  2          \n",
       "13207 28004        Universidad      Apartment     Entire home/apt  3          \n",
       "      NumBanyos NumDormitorios NumCamas TipoCama     \n",
       "1     2         1               1       Real Bed     \n",
       "2     1         3               5       Real Bed     \n",
       "3     1         2               2       Real Bed     \n",
       "4     2         1               1       Real Bed     \n",
       "5     1         1               1       Real Bed     \n",
       "6     1         0               1       Real Bed     \n",
       "7     5         1               7       Real Bed     \n",
       "8     1         1              NA       Real Bed     \n",
       "9     1         1               1       Real Bed     \n",
       "10    2         2               2       Real Bed     \n",
       "11    1         1               2       Real Bed     \n",
       "12    1         1               1       Real Bed     \n",
       "13    2         1               1       Real Bed     \n",
       "14    1         1               1       Real Bed     \n",
       "15    1         1               1       Real Bed     \n",
       "16    1         2               3       Real Bed     \n",
       "17    1         1               2       Real Bed     \n",
       "18    1         2               2       Real Bed     \n",
       "19    1         1               2       Real Bed     \n",
       "20    5         1               1       Real Bed     \n",
       "21    1         1               2       Real Bed     \n",
       "22    2         4               7       Real Bed     \n",
       "23    1         2               4       Real Bed     \n",
       "24    1         1               2       Real Bed     \n",
       "25    1         1               1       Real Bed     \n",
       "26    1         1               2       Real Bed     \n",
       "27    2         2               5       Real Bed     \n",
       "28    2         2               3       Real Bed     \n",
       "29    1         1               1       Real Bed     \n",
       "30    1         3               4       Real Bed     \n",
       "⋮     ⋮         ⋮              ⋮        ⋮            \n",
       "13178 1.0       0               1       Real Bed     \n",
       "13179 1.0       1               3       Real Bed     \n",
       "13180 1.0       1               1       Real Bed     \n",
       "13181 1.0       1               1       Real Bed     \n",
       "13182 1.0       1               2       Real Bed     \n",
       "13183 1.0       1               1       Real Bed     \n",
       "13184 1.0       1               1       Real Bed     \n",
       "13185 1.0       1               1       Real Bed     \n",
       "13186 1.0       1               2       Real Bed     \n",
       "13187 1.0       1               2       Real Bed     \n",
       "13188 1.0       2               3       Real Bed     \n",
       "13189 2.0       1               1       Real Bed     \n",
       "13190 1.0       1               2       Real Bed     \n",
       "13191 1.0       1               1       Real Bed     \n",
       "13192 1.0       1               2       Real Bed     \n",
       "13193 5.5       5              10       Real Bed     \n",
       "13194 1.0       1               1       Real Bed     \n",
       "13195 1.0       1               2       Real Bed     \n",
       "13196 1.0       1               1       Real Bed     \n",
       "13197 1.0       1               1       Real Bed     \n",
       "13198 1.0       2               4       Pull-out Sofa\n",
       "13199 1.0       2               2       Real Bed     \n",
       "13200 1.0       1               1       Real Bed     \n",
       "13201 1.0       1               2       Real Bed     \n",
       "13202 1.0       1               2       Real Bed     \n",
       "13203 1.0       1               1       Real Bed     \n",
       "13204 1.0       1               2       Real Bed     \n",
       "13205 1.0       1               1       Real Bed     \n",
       "13206 1.0       0               1       Real Bed     \n",
       "13207 1.0       0               2       Real Bed     \n",
       "      Comodidades                                                                                                                                                                                                                                                                                                                                                     \n",
       "1     TV,Wireless Internet,Kitchen,Pets allowed,Pets live on this property,Buzzer/wireless intercom,Heating,Suitable for events,Washer,First aid kit,Essentials,Lock on bedroom door,Iron                                                                                                                                                                             \n",
       "2     TV,Internet,Wireless Internet,Air conditioning,Kitchen,Indoor fireplace,Heating,Family/kid friendly,Washer,Dryer,Smoke detector,Carbon monoxide detector,Essentials,Shampoo                                                                                                                                                                                     \n",
       "3     TV,Internet,Wireless Internet,Air conditioning,Kitchen,Doorman,Heating,Family/kid friendly,Washer,Essentials,Shampoo,Hangers,Hair dryer,Iron,Laptop friendly workspace                                                                                                                                                                                          \n",
       "4     TV,Internet,Wireless Internet,Air conditioning,Kitchen,Pets allowed,Breakfast,Elevator in building,Indoor fireplace,Buzzer/wireless intercom,Heating,Washer,Essentials,Shampoo,Hangers,Hair dryer,Iron,Laptop friendly workspace,translation missing: en.hosting_amenity_49,translation missing: en.hosting_amenity_50                                          \n",
       "5     TV,Wireless Internet,Air conditioning,Kitchen,Smoking allowed,Pets allowed,Elevator in building,Heating,Family/kid friendly,Washer,Essentials,Iron                                                                                                                                                                                                              \n",
       "6     TV,Cable TV,Internet,Wireless Internet,Air conditioning,Wheelchair accessible,Kitchen,Doorman,Elevator in building,Buzzer/wireless intercom,Heating,Washer,Smoke detector,Carbon monoxide detector,First aid kit,Safety card,Fire extinguisher,Essentials,Shampoo,24-hour check-in,Hangers,Hair dryer,Iron,Laptop friendly workspace,Self Check-In,Doorman Entry\n",
       "7     Internet,Wireless Internet,Kitchen,Smoking allowed,Heating,Fire extinguisher,Shampoo,Lock on bedroom door,Hangers,Hair dryer,Iron,translation missing: en.hosting_amenity_49,translation missing: en.hosting_amenity_50                                                                                                                                         \n",
       "8     TV,Wireless Internet,Air conditioning,Kitchen,Elevator in building,Buzzer/wireless intercom,Heating,Washer                                                                                                                                                                                                                                                      \n",
       "9     TV,Internet,Wireless Internet,Kitchen,Elevator in building,Buzzer/wireless intercom,Heating,Family/kid friendly,Washer,Dryer,Essentials,Shampoo,translation missing: en.hosting_amenity_49                                                                                                                                                                      \n",
       "10    TV,Wireless Internet,Air conditioning,Kitchen,Elevator in building,Hot tub,Heating,Family/kid friendly,Washer,Dryer,Essentials,Hair dryer,Iron                                                                                                                                                                                                                  \n",
       "11    TV,Wireless Internet,Air conditioning,Wheelchair accessible,Kitchen,Elevator in building,Buzzer/wireless intercom,Heating,Family/kid friendly,Washer,Essentials,Shampoo                                                                                                                                                                                         \n",
       "12    Internet,Wireless Internet,Kitchen,Smoking allowed,Elevator in building,Buzzer/wireless intercom,Heating,Family/kid friendly,Washer,Dryer,First aid kit,Essentials,Shampoo,24-hour check-in,Hangers,Hair dryer,Iron,Laptop friendly workspace                                                                                                                   \n",
       "13    TV,Wireless Internet,Air conditioning,Kitchen,Elevator in building,Buzzer/wireless intercom,Heating,Washer,24-hour check-in,Hangers,Laptop friendly workspace,Self Check-In,Doorman Entry                                                                                                                                                                       \n",
       "14    TV,Internet,Wireless Internet,Kitchen,Smoking allowed,Pets live on this property,Cat(s),Heating,Washer,Essentials,Shampoo,Hangers,Hair dryer,Iron,Laptop friendly workspace,translation missing: en.hosting_amenity_49,translation missing: en.hosting_amenity_50                                                                                               \n",
       "15    TV,Wireless Internet,Air conditioning,Kitchen,Doorman,Elevator in building,Buzzer/wireless intercom,Heating,Family/kid friendly,Suitable for events,Washer,Essentials,Hangers,Hair dryer,Iron                                                                                                                                                                   \n",
       "16    TV,Wireless Internet,Air conditioning,Kitchen,Doorman,Elevator in building,Buzzer/wireless intercom,Heating,Family/kid friendly,Washer,Dryer,Essentials,Shampoo,Hangers,Hair dryer,Iron                                                                                                                                                                         \n",
       "17    TV,Internet,Wireless Internet,Air conditioning,Kitchen,Doorman,Elevator in building,Buzzer/wireless intercom,Heating,Family/kid friendly,Washer,Smoke detector,Carbon monoxide detector,First aid kit,Safety card,Fire extinguisher,Essentials,Shampoo,24-hour check-in,Hangers,Hair dryer,Iron,Laptop friendly workspace                                       \n",
       "18    TV,Internet,Wireless Internet,Air conditioning,Kitchen,Smoking allowed,Elevator in building,Buzzer/wireless intercom,Heating,Family/kid friendly,Washer,Dryer,Essentials,Shampoo,Hangers,Hair dryer,Iron,Laptop friendly workspace                                                                                                                              \n",
       "19    TV,Internet,Wireless Internet,Air conditioning,Kitchen,Heating,Washer,Essentials,Hangers,Hair dryer,translation missing: en.hosting_amenity_50                                                                                                                                                                                                                  \n",
       "20    TV,Wireless Internet,Air conditioning,Kitchen,Doorman,Elevator in building,Buzzer/wireless intercom,Heating,Washer,Dryer,Smoke detector,Fire extinguisher,Essentials,Lock on bedroom door,24-hour check-in,Hangers,Iron,Laptop friendly workspace,translation missing: en.hosting_amenity_49,translation missing: en.hosting_amenity_50                         \n",
       "21    TV,Wireless Internet,Kitchen,Pets allowed,Elevator in building,Heating,Family/kid friendly,Washer,Essentials,Shampoo,Hangers,Hair dryer,Laptop friendly workspace                                                                                                                                                                                               \n",
       "22    TV,Internet,Wireless Internet,Air conditioning,Kitchen,Heating,Family/kid friendly,Washer,Essentials                                                                                                                                                                                                                                                            \n",
       "23    TV,Internet,Wireless Internet,Air conditioning,Kitchen,Smoking allowed,Pets allowed,Doorman,Elevator in building,Buzzer/wireless intercom,Heating,Family/kid friendly,Washer,First aid kit,Safety card,Essentials,Shampoo,Hangers,Hair dryer,Iron                                                                                                               \n",
       "24    TV,Internet,Wireless Internet,Air conditioning,Kitchen,Elevator in building,Heating,Family/kid friendly,Washer,Smoke detector,Carbon monoxide detector,Essentials,Shampoo,24-hour check-in,Hangers,Hair dryer,Iron,Laptop friendly workspace                                                                                                                    \n",
       "25    TV,Cable TV,Internet,Wireless Internet,Air conditioning,Kitchen,Elevator in building,Buzzer/wireless intercom,Heating,Family/kid friendly,Washer,Essentials,Hair dryer,Iron                                                                                                                                                                                     \n",
       "26    TV,Internet,Wireless Internet,Air conditioning,Kitchen,Breakfast,Elevator in building,Heating,Family/kid friendly,Washer,First aid kit,Fire extinguisher,Essentials,Shampoo,Hangers,Hair dryer,Iron,Laptop friendly workspace                                                                                                                                   \n",
       "27    TV,Internet,Wireless Internet,Air conditioning,Wheelchair accessible,Kitchen,Doorman,Elevator in building,Buzzer/wireless intercom,Heating,Family/kid friendly,Washer,Smoke detector,Carbon monoxide detector,Essentials,Shampoo,24-hour check-in,Hangers,Hair dryer,Iron,Laptop friendly workspace                                                             \n",
       "28    TV,Internet,Wireless Internet,Air conditioning,Wheelchair accessible,Kitchen,Doorman,Elevator in building,Buzzer/wireless intercom,Heating,Family/kid friendly,Washer,Dryer,Essentials,Hangers,Hair dryer,Iron                                                                                                                                                  \n",
       "29    TV,Cable TV,Internet,Wireless Internet,Kitchen,Buzzer/wireless intercom,Heating,Family/kid friendly,Washer,Essentials,Shampoo                                                                                                                                                                                                                                   \n",
       "30    TV,Internet,Wireless Internet,Kitchen,Breakfast,Elevator in building,Buzzer/wireless intercom,Heating,Family/kid friendly,Washer,Essentials,Shampoo,Hangers,Hair dryer,Iron,Laptop friendly workspace,Self Check-In,Lockbox                                                                                                                                     \n",
       "⋮     ⋮                                                                                                                                                                                                                                                                                                                                                               \n",
       "13178 TV,Wireless Internet,Air conditioning,Kitchen,Free parking on premises,Breakfast,Heating,Washer,Smoke detector,Essentials,Shampoo,Hangers,Hair dryer,Iron,Laptop friendly workspace,translation missing: en.hosting_amenity_50                                                                                                                                  \n",
       "13179 TV,Internet,Wireless Internet,Pool,Kitchen,Free parking on premises,Doorman,Heating,Family/kid friendly,Washer,Essentials,24-hour check-in,Hangers,Iron,Laptop friendly workspace,Private entrance                                                                                                                                                              \n",
       "13180 TV,Internet,Wireless Internet,Doorman,Buzzer/wireless intercom,Heating,Family/kid friendly,Washer,Smoke detector,Essentials,Shampoo,Hangers,Hair dryer,Iron,Laptop friendly workspace                                                                                                                                                                           \n",
       "13181 TV,Wireless Internet,Kitchen,Elevator in building,Heating,Family/kid friendly,Washer,Dryer,Shampoo                                                                                                                                                                                                                                                              \n",
       "13182 Internet,Wireless Internet,Kitchen,Free parking on premises,Smoking allowed,Elevator in building,Heating,Family/kid friendly,Fire extinguisher,Essentials,translation missing: en.hosting_amenity_50                                                                                                                                                            \n",
       "13183 TV,Internet,Wireless Internet,Air conditioning,Kitchen,Smoking allowed,Pets allowed,Elevator in building,Buzzer/wireless intercom,Heating,Family/kid friendly,Washer,Dryer,Fire extinguisher,Essentials,24-hour check-in,Hangers,Hair dryer,Iron                                                                                                                \n",
       "13184 TV,Internet,Wireless Internet,Kitchen,Buzzer/wireless intercom,Heating,Washer,Dryer,Essentials,Shampoo,24-hour check-in,Hangers,Hair dryer,Iron,Laptop friendly workspace,translation missing: en.hosting_amenity_49,translation missing: en.hosting_amenity_50                                                                                                 \n",
       "13185 TV,Internet,Wireless Internet,Air conditioning,Kitchen,Elevator in building,Heating,Washer,Dryer,First aid kit,Essentials,Hangers,Hair dryer,Iron,translation missing: en.hosting_amenity_49,translation missing: en.hosting_amenity_50                                                                                                                         \n",
       "13186 TV,Internet,Wireless Internet,Air conditioning,Kitchen,Elevator in building,Heating,Family/kid friendly,Washer,Smoke detector,Fire extinguisher,Essentials,Shampoo,Lock on bedroom door,Hangers,Hair dryer,Iron                                                                                                                                                 \n",
       "13187 TV,Wireless Internet,Air conditioning,Kitchen,Elevator in building,Buzzer/wireless intercom,Heating,Family/kid friendly,Washer                                                                                                                                                                                                                                  \n",
       "13188 TV,Internet,Wireless Internet,Kitchen,Smoking allowed,Elevator in building,Buzzer/wireless intercom,Heating,Family/kid friendly,Washer,First aid kit,Essentials,Shampoo,24-hour check-in,Hangers,Hair dryer,Iron,Laptop friendly workspace                                                                                                                      \n",
       "13189 TV,Wireless Internet,Kitchen,Elevator in building,Heating,Washer,Lock on bedroom door,Hangers,Laptop friendly workspace,translation missing: en.hosting_amenity_49,translation missing: en.hosting_amenity_50,Private living room                                                                                                                               \n",
       "13190 TV,Wireless Internet,Air conditioning,Kitchen,Smoking allowed,Heating,Family/kid friendly,Washer,Dryer,Smoke detector,First aid kit,Essentials,Shampoo,Hangers,Hair dryer,Iron                                                                                                                                                                                  \n",
       "13191 TV,Wireless Internet,Air conditioning,Kitchen,Elevator in building,Heating,Washer,Dryer,Essentials,Shampoo,Hangers,Hair dryer,Iron,Laptop friendly workspace,translation missing: en.hosting_amenity_49,translation missing: en.hosting_amenity_50                                                                                                              \n",
       "13192 TV,Internet,Wireless Internet,Air conditioning,Kitchen,Pets allowed,Indoor fireplace,Buzzer/wireless intercom,Heating,Family/kid friendly,Washer,Smoke detector,Carbon monoxide detector,Essentials,Shampoo,24-hour check-in,Hangers,Hair dryer,Iron,Laptop friendly workspace                                                                                  \n",
       "13193 TV,Internet,Wireless Internet,Air conditioning,Kitchen,Smoking allowed,Elevator in building,Indoor fireplace,Family/kid friendly,Washer,Dryer,First aid kit,Fire extinguisher,Essentials                                                                                                                                                                        \n",
       "13194 Internet,Wireless Internet,Kitchen,Elevator in building,Heating,Washer,Dryer,First aid kit,Essentials,Hangers,Iron,translation missing: en.hosting_amenity_49,translation missing: en.hosting_amenity_50                                                                                                                                                        \n",
       "13195 TV,Wireless Internet,Kitchen,Buzzer/wireless intercom,Heating,Family/kid friendly,Washer,Smoke detector,Essentials,Shampoo,24-hour check-in,Hangers,Laptop friendly workspace,translation missing: en.hosting_amenity_50                                                                                                                                        \n",
       "13196 TV,Internet,Wireless Internet,Smoking allowed,Elevator in building,Heating,Washer,Essentials,Hangers,Hair dryer,Iron,translation missing: en.hosting_amenity_49,translation missing: en.hosting_amenity_50                                                                                                                                                      \n",
       "13197 TV,Wireless Internet,Kitchen,Elevator in building,Washer,Lock on bedroom door,Hangers,Laptop friendly workspace,translation missing: en.hosting_amenity_49,translation missing: en.hosting_amenity_50                                                                                                                                                           \n",
       "13198 TV,Internet,Wireless Internet,Air conditioning,Kitchen,Smoking allowed,Pets allowed,Elevator in building,Heating,Family/kid friendly,Washer,Dryer,Essentials,Shampoo,Hangers,Hair dryer,Iron                                                                                                                                                                    \n",
       "13199 TV,Internet,Wireless Internet,Air conditioning,Kitchen,Smoking allowed,Pets allowed,Buzzer/wireless intercom,Heating,Family/kid friendly,Washer,Dryer,Essentials,Hangers,Hair dryer,Iron                                                                                                                                                                        \n",
       "13200 TV,Internet,Wireless Internet,Air conditioning,Kitchen,Smoking allowed,Pets allowed,Elevator in building,Heating,Family/kid friendly,Washer,First aid kit,Fire extinguisher,Essentials,Lock on bedroom door,Hangers,Hair dryer,Iron                                                                                                                             \n",
       "13201 Internet,Wireless Internet,Smoking allowed,Breakfast,Elevator in building,Heating,Shampoo,Hangers,Hair dryer,Iron,Laptop friendly workspace,translation missing: en.hosting_amenity_49,translation missing: en.hosting_amenity_50                                                                                                                               \n",
       "13202 TV,Wireless Internet,Air conditioning,Kitchen,Smoking allowed,Pets allowed,Heating,Family/kid friendly,Washer,Fire extinguisher,Essentials,Lock on bedroom door,Hangers,Hair dryer,Iron                                                                                                                                                                         \n",
       "13203 TV,Internet,Wireless Internet,Air conditioning,Kitchen,Elevator in building,Buzzer/wireless intercom,Heating,Washer,Dryer,Smoke detector,Fire extinguisher,Essentials,Shampoo,Hangers,Hair dryer,Iron,Laptop friendly workspace,translation missing: en.hosting_amenity_49,translation missing: en.hosting_amenity_50                                           \n",
       "13204 TV,Wireless Internet,Air conditioning,Kitchen,Elevator in building,Buzzer/wireless intercom,Heating,Family/kid friendly,Washer,Dryer,Smoke detector,Carbon monoxide detector,Fire extinguisher,Essentials,Shampoo,24-hour check-in,Hangers,Hair dryer,Iron,Laptop friendly workspace                                                                            \n",
       "13205 TV,Wireless Internet,Air conditioning,Pool,Kitchen,Doorman,Gym,Elevator in building,Buzzer/wireless intercom,Heating,Washer,First aid kit,Safety card,Essentials,Shampoo,Hangers,Hair dryer,Iron,Laptop friendly workspace                                                                                                                                      \n",
       "13206 TV,Internet,Wireless Internet,Kitchen,Smoking allowed,Pets allowed,Elevator in building,Heating,Family/kid friendly,Washer,First aid kit,Essentials,Shampoo                                                                                                                                                                                                     \n",
       "13207 TV,Internet,Wireless Internet,Air conditioning,Kitchen,Heating,Family/kid friendly,Washer                                                                                                                                                                                                                                                                       \n",
       "      PiesCuadrados Precio Puntuacion\n",
       "1      NA            35     NA       \n",
       "2      NA            92     96       \n",
       "3      NA            55     91       \n",
       "4      NA            60    100       \n",
       "5     538            75     90       \n",
       "6      NA            55     95       \n",
       "7      NA            60     77       \n",
       "8      NA            70     84       \n",
       "9     700            90     98       \n",
       "10     NA           155     NA       \n",
       "11     40            70     90       \n",
       "12     NA            39     90       \n",
       "13     NA            39     80       \n",
       "14     NA            46     97       \n",
       "15    646            75     91       \n",
       "16     NA           130    100       \n",
       "17     NA           100     97       \n",
       "18     NA           160     95       \n",
       "19     NA            49     95       \n",
       "20     NA            31     40       \n",
       "21     NA            70     88       \n",
       "22     NA           210     81       \n",
       "23     NA           120     99       \n",
       "24     NA            50     91       \n",
       "25    753           100     87       \n",
       "26     NA            75    100       \n",
       "27     NA           155     93       \n",
       "28     NA           155     80       \n",
       "29     NA            15    100       \n",
       "30     NA           163    100       \n",
       "⋮     ⋮             ⋮      ⋮         \n",
       "13178  NA            50     NA       \n",
       "13179  NA            50    100       \n",
       "13180  NA            23     94       \n",
       "13181  NA            33     95       \n",
       "13182  NA            20     88       \n",
       "13183  NA            43     83       \n",
       "13184  NA            80     96       \n",
       "13185  NA            80     99       \n",
       "13186  NA           100    100       \n",
       "13187 291            50     87       \n",
       "13188  NA            85     90       \n",
       "13189  NA            30     NA       \n",
       "13190  NA            60    100       \n",
       "13191  NA           145     NA       \n",
       "13192  NA            62     91       \n",
       "13193  NA           300     94       \n",
       "13194   0            35    100       \n",
       "13195  NA            62     81       \n",
       "13196  NA            45     90       \n",
       "13197  NA            31     NA       \n",
       "13198  NA            90     90       \n",
       "13199  NA            70     87       \n",
       "13200  NA            40     82       \n",
       "13201  NA            30     NA       \n",
       "13202  NA            48     83       \n",
       "13203  NA            35     90       \n",
       "13204  NA            79     97       \n",
       "13205  NA           150    100       \n",
       "13206  NA            80     91       \n",
       "13207  NA            69     80       "
      ]
     },
     "metadata": {},
     "output_type": "display_data"
    }
   ],
   "source": [
    "airbnb"
   ]
  },
  {
   "cell_type": "code",
   "execution_count": 7,
   "metadata": {},
   "outputs": [],
   "source": [
    "#airbnb %>% select(PiesCuadrados)"
   ]
  },
  {
   "cell_type": "code",
   "execution_count": 8,
   "metadata": {},
   "outputs": [],
   "source": [
    "#airbnb <- airbnb %>%\n",
    "#  mutate(MetrosCuadrados = PiesCuadrados*0,3048)\n",
    "\n",
    "airbnb$MetrosCuadrados <- airbnb$PiesCuadrados * 0.453592"
   ]
  },
  {
   "cell_type": "code",
   "execution_count": 9,
   "metadata": {},
   "outputs": [
    {
     "data": {
      "text/html": [
       "<table class=\"dataframe\">\n",
       "<caption>A data.frame: 6 × 14</caption>\n",
       "<thead>\n",
       "\t<tr><th></th><th scope=col>CodigoPostal</th><th scope=col>Barrio</th><th scope=col>TipoPropiedad</th><th scope=col>TipoAlquiler</th><th scope=col>MaxOcupantes</th><th scope=col>NumBanyos</th><th scope=col>NumDormitorios</th><th scope=col>NumCamas</th><th scope=col>TipoCama</th><th scope=col>Comodidades</th><th scope=col>PiesCuadrados</th><th scope=col>Precio</th><th scope=col>Puntuacion</th><th scope=col>MetrosCuadrados</th></tr>\n",
       "\t<tr><th></th><th scope=col>&lt;fct&gt;</th><th scope=col>&lt;fct&gt;</th><th scope=col>&lt;fct&gt;</th><th scope=col>&lt;fct&gt;</th><th scope=col>&lt;int&gt;</th><th scope=col>&lt;dbl&gt;</th><th scope=col>&lt;int&gt;</th><th scope=col>&lt;int&gt;</th><th scope=col>&lt;fct&gt;</th><th scope=col>&lt;fct&gt;</th><th scope=col>&lt;int&gt;</th><th scope=col>&lt;int&gt;</th><th scope=col>&lt;int&gt;</th><th scope=col>&lt;dbl&gt;</th></tr>\n",
       "</thead>\n",
       "<tbody>\n",
       "\t<tr><th scope=row>1</th><td>28004</td><td>Universidad</td><td>Apartment</td><td>Private room   </td><td>2</td><td>2</td><td>1</td><td>1</td><td>Real Bed</td><td>TV,Wireless Internet,Kitchen,Pets allowed,Pets live on this property,Buzzer/wireless intercom,Heating,Suitable for events,Washer,First aid kit,Essentials,Lock on bedroom door,Iron                                                                                                                                                                             </td><td> NA</td><td>35</td><td> NA</td><td>      NA</td></tr>\n",
       "\t<tr><th scope=row>2</th><td>28004</td><td>Universidad</td><td>Apartment</td><td>Entire home/apt</td><td>6</td><td>1</td><td>3</td><td>5</td><td>Real Bed</td><td>TV,Internet,Wireless Internet,Air conditioning,Kitchen,Indoor fireplace,Heating,Family/kid friendly,Washer,Dryer,Smoke detector,Carbon monoxide detector,Essentials,Shampoo                                                                                                                                                                                     </td><td> NA</td><td>92</td><td> 96</td><td>      NA</td></tr>\n",
       "\t<tr><th scope=row>3</th><td>28004</td><td>Universidad</td><td>Apartment</td><td>Entire home/apt</td><td>3</td><td>1</td><td>2</td><td>2</td><td>Real Bed</td><td>TV,Internet,Wireless Internet,Air conditioning,Kitchen,Doorman,Heating,Family/kid friendly,Washer,Essentials,Shampoo,Hangers,Hair dryer,Iron,Laptop friendly workspace                                                                                                                                                                                          </td><td> NA</td><td>55</td><td> 91</td><td>      NA</td></tr>\n",
       "\t<tr><th scope=row>4</th><td>28004</td><td>Universidad</td><td>Loft     </td><td>Entire home/apt</td><td>3</td><td>2</td><td>1</td><td>1</td><td>Real Bed</td><td>TV,Internet,Wireless Internet,Air conditioning,Kitchen,Pets allowed,Breakfast,Elevator in building,Indoor fireplace,Buzzer/wireless intercom,Heating,Washer,Essentials,Shampoo,Hangers,Hair dryer,Iron,Laptop friendly workspace,translation missing: en.hosting_amenity_49,translation missing: en.hosting_amenity_50                                          </td><td> NA</td><td>60</td><td>100</td><td>      NA</td></tr>\n",
       "\t<tr><th scope=row>5</th><td>28015</td><td>Universidad</td><td>Apartment</td><td>Entire home/apt</td><td>5</td><td>1</td><td>1</td><td>1</td><td>Real Bed</td><td>TV,Wireless Internet,Air conditioning,Kitchen,Smoking allowed,Pets allowed,Elevator in building,Heating,Family/kid friendly,Washer,Essentials,Iron                                                                                                                                                                                                              </td><td>538</td><td>75</td><td> 90</td><td>244.0325</td></tr>\n",
       "\t<tr><th scope=row>6</th><td>28004</td><td>Universidad</td><td>Apartment</td><td>Entire home/apt</td><td>2</td><td>1</td><td>0</td><td>1</td><td>Real Bed</td><td>TV,Cable TV,Internet,Wireless Internet,Air conditioning,Wheelchair accessible,Kitchen,Doorman,Elevator in building,Buzzer/wireless intercom,Heating,Washer,Smoke detector,Carbon monoxide detector,First aid kit,Safety card,Fire extinguisher,Essentials,Shampoo,24-hour check-in,Hangers,Hair dryer,Iron,Laptop friendly workspace,Self Check-In,Doorman Entry</td><td> NA</td><td>55</td><td> 95</td><td>      NA</td></tr>\n",
       "</tbody>\n",
       "</table>\n"
      ],
      "text/latex": [
       "A data.frame: 6 × 14\n",
       "\\begin{tabular}{r|llllllllllllll}\n",
       "  & CodigoPostal & Barrio & TipoPropiedad & TipoAlquiler & MaxOcupantes & NumBanyos & NumDormitorios & NumCamas & TipoCama & Comodidades & PiesCuadrados & Precio & Puntuacion & MetrosCuadrados\\\\\n",
       "  & <fct> & <fct> & <fct> & <fct> & <int> & <dbl> & <int> & <int> & <fct> & <fct> & <int> & <int> & <int> & <dbl>\\\\\n",
       "\\hline\n",
       "\t1 & 28004 & Universidad & Apartment & Private room    & 2 & 2 & 1 & 1 & Real Bed & TV,Wireless Internet,Kitchen,Pets allowed,Pets live on this property,Buzzer/wireless intercom,Heating,Suitable for events,Washer,First aid kit,Essentials,Lock on bedroom door,Iron                                                                                                                                                                              &  NA & 35 &  NA &       NA\\\\\n",
       "\t2 & 28004 & Universidad & Apartment & Entire home/apt & 6 & 1 & 3 & 5 & Real Bed & TV,Internet,Wireless Internet,Air conditioning,Kitchen,Indoor fireplace,Heating,Family/kid friendly,Washer,Dryer,Smoke detector,Carbon monoxide detector,Essentials,Shampoo                                                                                                                                                                                      &  NA & 92 &  96 &       NA\\\\\n",
       "\t3 & 28004 & Universidad & Apartment & Entire home/apt & 3 & 1 & 2 & 2 & Real Bed & TV,Internet,Wireless Internet,Air conditioning,Kitchen,Doorman,Heating,Family/kid friendly,Washer,Essentials,Shampoo,Hangers,Hair dryer,Iron,Laptop friendly workspace                                                                                                                                                                                           &  NA & 55 &  91 &       NA\\\\\n",
       "\t4 & 28004 & Universidad & Loft      & Entire home/apt & 3 & 2 & 1 & 1 & Real Bed & TV,Internet,Wireless Internet,Air conditioning,Kitchen,Pets allowed,Breakfast,Elevator in building,Indoor fireplace,Buzzer/wireless intercom,Heating,Washer,Essentials,Shampoo,Hangers,Hair dryer,Iron,Laptop friendly workspace,translation missing: en.hosting\\_amenity\\_49,translation missing: en.hosting\\_amenity\\_50                                           &  NA & 60 & 100 &       NA\\\\\n",
       "\t5 & 28015 & Universidad & Apartment & Entire home/apt & 5 & 1 & 1 & 1 & Real Bed & TV,Wireless Internet,Air conditioning,Kitchen,Smoking allowed,Pets allowed,Elevator in building,Heating,Family/kid friendly,Washer,Essentials,Iron                                                                                                                                                                                                               & 538 & 75 &  90 & 244.0325\\\\\n",
       "\t6 & 28004 & Universidad & Apartment & Entire home/apt & 2 & 1 & 0 & 1 & Real Bed & TV,Cable TV,Internet,Wireless Internet,Air conditioning,Wheelchair accessible,Kitchen,Doorman,Elevator in building,Buzzer/wireless intercom,Heating,Washer,Smoke detector,Carbon monoxide detector,First aid kit,Safety card,Fire extinguisher,Essentials,Shampoo,24-hour check-in,Hangers,Hair dryer,Iron,Laptop friendly workspace,Self Check-In,Doorman Entry &  NA & 55 &  95 &       NA\\\\\n",
       "\\end{tabular}\n"
      ],
      "text/markdown": [
       "\n",
       "A data.frame: 6 × 14\n",
       "\n",
       "| <!--/--> | CodigoPostal &lt;fct&gt; | Barrio &lt;fct&gt; | TipoPropiedad &lt;fct&gt; | TipoAlquiler &lt;fct&gt; | MaxOcupantes &lt;int&gt; | NumBanyos &lt;dbl&gt; | NumDormitorios &lt;int&gt; | NumCamas &lt;int&gt; | TipoCama &lt;fct&gt; | Comodidades &lt;fct&gt; | PiesCuadrados &lt;int&gt; | Precio &lt;int&gt; | Puntuacion &lt;int&gt; | MetrosCuadrados &lt;dbl&gt; |\n",
       "|---|---|---|---|---|---|---|---|---|---|---|---|---|---|---|\n",
       "| 1 | 28004 | Universidad | Apartment | Private room    | 2 | 2 | 1 | 1 | Real Bed | TV,Wireless Internet,Kitchen,Pets allowed,Pets live on this property,Buzzer/wireless intercom,Heating,Suitable for events,Washer,First aid kit,Essentials,Lock on bedroom door,Iron                                                                                                                                                                              |  NA | 35 |  NA |       NA |\n",
       "| 2 | 28004 | Universidad | Apartment | Entire home/apt | 6 | 1 | 3 | 5 | Real Bed | TV,Internet,Wireless Internet,Air conditioning,Kitchen,Indoor fireplace,Heating,Family/kid friendly,Washer,Dryer,Smoke detector,Carbon monoxide detector,Essentials,Shampoo                                                                                                                                                                                      |  NA | 92 |  96 |       NA |\n",
       "| 3 | 28004 | Universidad | Apartment | Entire home/apt | 3 | 1 | 2 | 2 | Real Bed | TV,Internet,Wireless Internet,Air conditioning,Kitchen,Doorman,Heating,Family/kid friendly,Washer,Essentials,Shampoo,Hangers,Hair dryer,Iron,Laptop friendly workspace                                                                                                                                                                                           |  NA | 55 |  91 |       NA |\n",
       "| 4 | 28004 | Universidad | Loft      | Entire home/apt | 3 | 2 | 1 | 1 | Real Bed | TV,Internet,Wireless Internet,Air conditioning,Kitchen,Pets allowed,Breakfast,Elevator in building,Indoor fireplace,Buzzer/wireless intercom,Heating,Washer,Essentials,Shampoo,Hangers,Hair dryer,Iron,Laptop friendly workspace,translation missing: en.hosting_amenity_49,translation missing: en.hosting_amenity_50                                           |  NA | 60 | 100 |       NA |\n",
       "| 5 | 28015 | Universidad | Apartment | Entire home/apt | 5 | 1 | 1 | 1 | Real Bed | TV,Wireless Internet,Air conditioning,Kitchen,Smoking allowed,Pets allowed,Elevator in building,Heating,Family/kid friendly,Washer,Essentials,Iron                                                                                                                                                                                                               | 538 | 75 |  90 | 244.0325 |\n",
       "| 6 | 28004 | Universidad | Apartment | Entire home/apt | 2 | 1 | 0 | 1 | Real Bed | TV,Cable TV,Internet,Wireless Internet,Air conditioning,Wheelchair accessible,Kitchen,Doorman,Elevator in building,Buzzer/wireless intercom,Heating,Washer,Smoke detector,Carbon monoxide detector,First aid kit,Safety card,Fire extinguisher,Essentials,Shampoo,24-hour check-in,Hangers,Hair dryer,Iron,Laptop friendly workspace,Self Check-In,Doorman Entry |  NA | 55 |  95 |       NA |\n",
       "\n"
      ],
      "text/plain": [
       "  CodigoPostal Barrio      TipoPropiedad TipoAlquiler    MaxOcupantes NumBanyos\n",
       "1 28004        Universidad Apartment     Private room    2            2        \n",
       "2 28004        Universidad Apartment     Entire home/apt 6            1        \n",
       "3 28004        Universidad Apartment     Entire home/apt 3            1        \n",
       "4 28004        Universidad Loft          Entire home/apt 3            2        \n",
       "5 28015        Universidad Apartment     Entire home/apt 5            1        \n",
       "6 28004        Universidad Apartment     Entire home/apt 2            1        \n",
       "  NumDormitorios NumCamas TipoCama\n",
       "1 1              1        Real Bed\n",
       "2 3              5        Real Bed\n",
       "3 2              2        Real Bed\n",
       "4 1              1        Real Bed\n",
       "5 1              1        Real Bed\n",
       "6 0              1        Real Bed\n",
       "  Comodidades                                                                                                                                                                                                                                                                                                                                                     \n",
       "1 TV,Wireless Internet,Kitchen,Pets allowed,Pets live on this property,Buzzer/wireless intercom,Heating,Suitable for events,Washer,First aid kit,Essentials,Lock on bedroom door,Iron                                                                                                                                                                             \n",
       "2 TV,Internet,Wireless Internet,Air conditioning,Kitchen,Indoor fireplace,Heating,Family/kid friendly,Washer,Dryer,Smoke detector,Carbon monoxide detector,Essentials,Shampoo                                                                                                                                                                                     \n",
       "3 TV,Internet,Wireless Internet,Air conditioning,Kitchen,Doorman,Heating,Family/kid friendly,Washer,Essentials,Shampoo,Hangers,Hair dryer,Iron,Laptop friendly workspace                                                                                                                                                                                          \n",
       "4 TV,Internet,Wireless Internet,Air conditioning,Kitchen,Pets allowed,Breakfast,Elevator in building,Indoor fireplace,Buzzer/wireless intercom,Heating,Washer,Essentials,Shampoo,Hangers,Hair dryer,Iron,Laptop friendly workspace,translation missing: en.hosting_amenity_49,translation missing: en.hosting_amenity_50                                          \n",
       "5 TV,Wireless Internet,Air conditioning,Kitchen,Smoking allowed,Pets allowed,Elevator in building,Heating,Family/kid friendly,Washer,Essentials,Iron                                                                                                                                                                                                              \n",
       "6 TV,Cable TV,Internet,Wireless Internet,Air conditioning,Wheelchair accessible,Kitchen,Doorman,Elevator in building,Buzzer/wireless intercom,Heating,Washer,Smoke detector,Carbon monoxide detector,First aid kit,Safety card,Fire extinguisher,Essentials,Shampoo,24-hour check-in,Hangers,Hair dryer,Iron,Laptop friendly workspace,Self Check-In,Doorman Entry\n",
       "  PiesCuadrados Precio Puntuacion MetrosCuadrados\n",
       "1  NA           35      NA              NA       \n",
       "2  NA           92      96              NA       \n",
       "3  NA           55      91              NA       \n",
       "4  NA           60     100              NA       \n",
       "5 538           75      90        244.0325       \n",
       "6  NA           55      95              NA       "
      ]
     },
     "metadata": {},
     "output_type": "display_data"
    }
   ],
   "source": [
    "head(airbnb,6)"
   ]
  },
  {
   "cell_type": "markdown",
   "metadata": {},
   "source": [
    "Miremos el código postal. Es una variable con entradas erroneas.\n",
    "Hay valores como '', '-'  y '28' que deberían ser considerados como NA.\n",
    "Así mismo también debería ser NA todos los que no compiencen por 28, ya que estamos con códigos postales de Madrid\n",
    "\n",
    "El código postal 28002, 28004 y 28051 tienen entradas repetidas. \n",
    "Por ejemplo las entradas 28002\\n20882 deberían ir dnetro de 28002\n",
    "\n",
    "El codigo 2804 debería ser 28004, 2805 deberia ser 28005 y 2815 juncto con 2815 debería ser 28015\n",
    "\n",
    "Limpia los datos de la columna Codigo Postal"
   ]
  },
  {
   "cell_type": "code",
   "execution_count": 84,
   "metadata": {},
   "outputs": [],
   "source": [
    "?substring"
   ]
  },
  {
   "cell_type": "code",
   "execution_count": 87,
   "metadata": {},
   "outputs": [
    {
     "data": {
      "text/html": [
       "TRUE"
      ],
      "text/latex": [
       "TRUE"
      ],
      "text/markdown": [
       "TRUE"
      ],
      "text/plain": [
       "[1] TRUE"
      ]
     },
     "metadata": {},
     "output_type": "display_data"
    }
   ],
   "source": [
    "grep(\"28002\\n20882\", pattern=\"\\n\") == 1"
   ]
  },
  {
   "cell_type": "code",
   "execution_count": 68,
   "metadata": {},
   "outputs": [
    {
     "data": {
      "text/html": [
       "<table class=\"dataframe\">\n",
       "<caption>A data.frame: 12760 × 14</caption>\n",
       "<thead>\n",
       "\t<tr><th scope=col>CodigoPostal</th><th scope=col>Barrio</th><th scope=col>TipoPropiedad</th><th scope=col>TipoAlquiler</th><th scope=col>MaxOcupantes</th><th scope=col>NumBanyos</th><th scope=col>NumDormitorios</th><th scope=col>NumCamas</th><th scope=col>TipoCama</th><th scope=col>Comodidades</th><th scope=col>PiesCuadrados</th><th scope=col>Precio</th><th scope=col>Puntuacion</th><th scope=col>MetrosCuadrados</th></tr>\n",
       "\t<tr><th scope=col>&lt;fct&gt;</th><th scope=col>&lt;fct&gt;</th><th scope=col>&lt;fct&gt;</th><th scope=col>&lt;fct&gt;</th><th scope=col>&lt;int&gt;</th><th scope=col>&lt;dbl&gt;</th><th scope=col>&lt;int&gt;</th><th scope=col>&lt;int&gt;</th><th scope=col>&lt;fct&gt;</th><th scope=col>&lt;fct&gt;</th><th scope=col>&lt;int&gt;</th><th scope=col>&lt;int&gt;</th><th scope=col>&lt;int&gt;</th><th scope=col>&lt;dbl&gt;</th></tr>\n",
       "</thead>\n",
       "<tbody>\n",
       "\t<tr><td>28004</td><td>Universidad</td><td>Apartment  </td><td>Private room   </td><td> 2</td><td>2</td><td>1</td><td> 1</td><td>Real Bed</td><td>TV,Wireless Internet,Kitchen,Pets allowed,Pets live on this property,Buzzer/wireless intercom,Heating,Suitable for events,Washer,First aid kit,Essentials,Lock on bedroom door,Iron                                                                                                                                                                             </td><td> NA</td><td> 35</td><td> NA</td><td>       NA</td></tr>\n",
       "\t<tr><td>28004</td><td>Universidad</td><td>Apartment  </td><td>Entire home/apt</td><td> 6</td><td>1</td><td>3</td><td> 5</td><td>Real Bed</td><td>TV,Internet,Wireless Internet,Air conditioning,Kitchen,Indoor fireplace,Heating,Family/kid friendly,Washer,Dryer,Smoke detector,Carbon monoxide detector,Essentials,Shampoo                                                                                                                                                                                     </td><td> NA</td><td> 92</td><td> 96</td><td>       NA</td></tr>\n",
       "\t<tr><td>28004</td><td>Universidad</td><td>Apartment  </td><td>Entire home/apt</td><td> 3</td><td>1</td><td>2</td><td> 2</td><td>Real Bed</td><td>TV,Internet,Wireless Internet,Air conditioning,Kitchen,Doorman,Heating,Family/kid friendly,Washer,Essentials,Shampoo,Hangers,Hair dryer,Iron,Laptop friendly workspace                                                                                                                                                                                          </td><td> NA</td><td> 55</td><td> 91</td><td>       NA</td></tr>\n",
       "\t<tr><td>28004</td><td>Universidad</td><td>Loft       </td><td>Entire home/apt</td><td> 3</td><td>2</td><td>1</td><td> 1</td><td>Real Bed</td><td>TV,Internet,Wireless Internet,Air conditioning,Kitchen,Pets allowed,Breakfast,Elevator in building,Indoor fireplace,Buzzer/wireless intercom,Heating,Washer,Essentials,Shampoo,Hangers,Hair dryer,Iron,Laptop friendly workspace,translation missing: en.hosting_amenity_49,translation missing: en.hosting_amenity_50                                          </td><td> NA</td><td> 60</td><td>100</td><td>       NA</td></tr>\n",
       "\t<tr><td>28015</td><td>Universidad</td><td>Apartment  </td><td>Entire home/apt</td><td> 5</td><td>1</td><td>1</td><td> 1</td><td>Real Bed</td><td>TV,Wireless Internet,Air conditioning,Kitchen,Smoking allowed,Pets allowed,Elevator in building,Heating,Family/kid friendly,Washer,Essentials,Iron                                                                                                                                                                                                              </td><td>538</td><td> 75</td><td> 90</td><td>244.03250</td></tr>\n",
       "\t<tr><td>28004</td><td>Universidad</td><td>Apartment  </td><td>Entire home/apt</td><td> 2</td><td>1</td><td>0</td><td> 1</td><td>Real Bed</td><td>TV,Cable TV,Internet,Wireless Internet,Air conditioning,Wheelchair accessible,Kitchen,Doorman,Elevator in building,Buzzer/wireless intercom,Heating,Washer,Smoke detector,Carbon monoxide detector,First aid kit,Safety card,Fire extinguisher,Essentials,Shampoo,24-hour check-in,Hangers,Hair dryer,Iron,Laptop friendly workspace,Self Check-In,Doorman Entry</td><td> NA</td><td> 55</td><td> 95</td><td>       NA</td></tr>\n",
       "\t<tr><td>28004</td><td>Universidad</td><td>House      </td><td>Private room   </td><td> 7</td><td>5</td><td>1</td><td> 7</td><td>Real Bed</td><td>Internet,Wireless Internet,Kitchen,Smoking allowed,Heating,Fire extinguisher,Shampoo,Lock on bedroom door,Hangers,Hair dryer,Iron,translation missing: en.hosting_amenity_49,translation missing: en.hosting_amenity_50                                                                                                                                         </td><td> NA</td><td> 60</td><td> 77</td><td>       NA</td></tr>\n",
       "\t<tr><td>28004</td><td>Universidad</td><td>Apartment  </td><td>Entire home/apt</td><td> 3</td><td>1</td><td>1</td><td>NA</td><td>Real Bed</td><td>TV,Wireless Internet,Air conditioning,Kitchen,Elevator in building,Buzzer/wireless intercom,Heating,Washer                                                                                                                                                                                                                                                      </td><td> NA</td><td> 70</td><td> 84</td><td>       NA</td></tr>\n",
       "\t<tr><td>28015</td><td>Universidad</td><td>Apartment  </td><td>Entire home/apt</td><td> 2</td><td>1</td><td>1</td><td> 1</td><td>Real Bed</td><td>TV,Internet,Wireless Internet,Kitchen,Elevator in building,Buzzer/wireless intercom,Heating,Family/kid friendly,Washer,Dryer,Essentials,Shampoo,translation missing: en.hosting_amenity_49                                                                                                                                                                      </td><td>700</td><td> 90</td><td> 98</td><td>317.51440</td></tr>\n",
       "\t<tr><td>28004</td><td>Universidad</td><td>Apartment  </td><td>Entire home/apt</td><td> 4</td><td>2</td><td>2</td><td> 2</td><td>Real Bed</td><td>TV,Wireless Internet,Air conditioning,Kitchen,Elevator in building,Hot tub,Heating,Family/kid friendly,Washer,Dryer,Essentials,Hair dryer,Iron                                                                                                                                                                                                                  </td><td> NA</td><td>155</td><td> NA</td><td>       NA</td></tr>\n",
       "\t<tr><td>28004</td><td>Universidad</td><td>Apartment  </td><td>Entire home/apt</td><td> 4</td><td>1</td><td>1</td><td> 2</td><td>Real Bed</td><td>TV,Wireless Internet,Air conditioning,Wheelchair accessible,Kitchen,Elevator in building,Buzzer/wireless intercom,Heating,Family/kid friendly,Washer,Essentials,Shampoo                                                                                                                                                                                         </td><td> 40</td><td> 70</td><td> 90</td><td> 18.14368</td></tr>\n",
       "\t<tr><td>28004</td><td>Universidad</td><td>Apartment  </td><td>Private room   </td><td> 2</td><td>1</td><td>1</td><td> 1</td><td>Real Bed</td><td>Internet,Wireless Internet,Kitchen,Smoking allowed,Elevator in building,Buzzer/wireless intercom,Heating,Family/kid friendly,Washer,Dryer,First aid kit,Essentials,Shampoo,24-hour check-in,Hangers,Hair dryer,Iron,Laptop friendly workspace                                                                                                                   </td><td> NA</td><td> 39</td><td> 90</td><td>       NA</td></tr>\n",
       "\t<tr><td>28013</td><td>Sol        </td><td>Apartment  </td><td>Private room   </td><td> 1</td><td>2</td><td>1</td><td> 1</td><td>Real Bed</td><td>TV,Wireless Internet,Air conditioning,Kitchen,Elevator in building,Buzzer/wireless intercom,Heating,Washer,24-hour check-in,Hangers,Laptop friendly workspace,Self Check-In,Doorman Entry                                                                                                                                                                       </td><td> NA</td><td> 39</td><td> 80</td><td>       NA</td></tr>\n",
       "\t<tr><td>28005</td><td>Sol        </td><td>Apartment  </td><td>Private room   </td><td> 2</td><td>1</td><td>1</td><td> 1</td><td>Real Bed</td><td>TV,Internet,Wireless Internet,Kitchen,Smoking allowed,Pets live on this property,Cat(s),Heating,Washer,Essentials,Shampoo,Hangers,Hair dryer,Iron,Laptop friendly workspace,translation missing: en.hosting_amenity_49,translation missing: en.hosting_amenity_50                                                                                               </td><td> NA</td><td> 46</td><td> 97</td><td>       NA</td></tr>\n",
       "\t<tr><td>28013</td><td>Sol        </td><td>Apartment  </td><td>Entire home/apt</td><td> 4</td><td>1</td><td>1</td><td> 1</td><td>Real Bed</td><td>TV,Wireless Internet,Air conditioning,Kitchen,Doorman,Elevator in building,Buzzer/wireless intercom,Heating,Family/kid friendly,Suitable for events,Washer,Essentials,Hangers,Hair dryer,Iron                                                                                                                                                                   </td><td>646</td><td> 75</td><td> 91</td><td>293.02043</td></tr>\n",
       "\t<tr><td>28013</td><td>Sol        </td><td>Condominium</td><td>Entire home/apt</td><td> 6</td><td>1</td><td>2</td><td> 3</td><td>Real Bed</td><td>TV,Wireless Internet,Air conditioning,Kitchen,Doorman,Elevator in building,Buzzer/wireless intercom,Heating,Family/kid friendly,Washer,Dryer,Essentials,Shampoo,Hangers,Hair dryer,Iron                                                                                                                                                                         </td><td> NA</td><td>130</td><td>100</td><td>       NA</td></tr>\n",
       "\t<tr><td>28013</td><td>Sol        </td><td>Apartment  </td><td>Entire home/apt</td><td> 4</td><td>1</td><td>1</td><td> 2</td><td>Real Bed</td><td>TV,Internet,Wireless Internet,Air conditioning,Kitchen,Doorman,Elevator in building,Buzzer/wireless intercom,Heating,Family/kid friendly,Washer,Smoke detector,Carbon monoxide detector,First aid kit,Safety card,Fire extinguisher,Essentials,Shampoo,24-hour check-in,Hangers,Hair dryer,Iron,Laptop friendly workspace                                       </td><td> NA</td><td>100</td><td> 97</td><td>       NA</td></tr>\n",
       "\t<tr><td>28012</td><td>Sol        </td><td>Apartment  </td><td>Entire home/apt</td><td> 6</td><td>1</td><td>2</td><td> 2</td><td>Real Bed</td><td>TV,Internet,Wireless Internet,Air conditioning,Kitchen,Smoking allowed,Elevator in building,Buzzer/wireless intercom,Heating,Family/kid friendly,Washer,Dryer,Essentials,Shampoo,Hangers,Hair dryer,Iron,Laptop friendly workspace                                                                                                                              </td><td> NA</td><td>160</td><td> 95</td><td>       NA</td></tr>\n",
       "\t<tr><td>28013</td><td>Sol        </td><td>Apartment  </td><td>Entire home/apt</td><td> 4</td><td>1</td><td>1</td><td> 2</td><td>Real Bed</td><td>TV,Internet,Wireless Internet,Air conditioning,Kitchen,Heating,Washer,Essentials,Hangers,Hair dryer,translation missing: en.hosting_amenity_50                                                                                                                                                                                                                  </td><td> NA</td><td> 49</td><td> 95</td><td>       NA</td></tr>\n",
       "\t<tr><td>28013</td><td>Sol        </td><td>Apartment  </td><td>Private room   </td><td> 2</td><td>5</td><td>1</td><td> 1</td><td>Real Bed</td><td>TV,Wireless Internet,Air conditioning,Kitchen,Doorman,Elevator in building,Buzzer/wireless intercom,Heating,Washer,Dryer,Smoke detector,Fire extinguisher,Essentials,Lock on bedroom door,24-hour check-in,Hangers,Iron,Laptop friendly workspace,translation missing: en.hosting_amenity_49,translation missing: en.hosting_amenity_50                         </td><td> NA</td><td> 31</td><td> 40</td><td>       NA</td></tr>\n",
       "\t<tr><td>28013</td><td>Sol        </td><td>Apartment  </td><td>Entire home/apt</td><td> 4</td><td>1</td><td>1</td><td> 2</td><td>Real Bed</td><td>TV,Wireless Internet,Kitchen,Pets allowed,Elevator in building,Heating,Family/kid friendly,Washer,Essentials,Shampoo,Hangers,Hair dryer,Laptop friendly workspace                                                                                                                                                                                               </td><td> NA</td><td> 70</td><td> 88</td><td>       NA</td></tr>\n",
       "\t<tr><td>28005</td><td>Sol        </td><td>Apartment  </td><td>Entire home/apt</td><td>10</td><td>2</td><td>4</td><td> 7</td><td>Real Bed</td><td>TV,Internet,Wireless Internet,Air conditioning,Kitchen,Heating,Family/kid friendly,Washer,Essentials                                                                                                                                                                                                                                                            </td><td> NA</td><td>210</td><td> 81</td><td>       NA</td></tr>\n",
       "\t<tr><td>28013</td><td>Sol        </td><td>Apartment  </td><td>Entire home/apt</td><td> 6</td><td>1</td><td>2</td><td> 4</td><td>Real Bed</td><td>TV,Internet,Wireless Internet,Air conditioning,Kitchen,Smoking allowed,Pets allowed,Doorman,Elevator in building,Buzzer/wireless intercom,Heating,Family/kid friendly,Washer,First aid kit,Safety card,Essentials,Shampoo,Hangers,Hair dryer,Iron                                                                                                               </td><td> NA</td><td>120</td><td> 99</td><td>       NA</td></tr>\n",
       "\t<tr><td>28012</td><td>Sol        </td><td>Apartment  </td><td>Entire home/apt</td><td> 4</td><td>1</td><td>1</td><td> 2</td><td>Real Bed</td><td>TV,Internet,Wireless Internet,Air conditioning,Kitchen,Elevator in building,Heating,Family/kid friendly,Washer,Smoke detector,Carbon monoxide detector,Essentials,Shampoo,24-hour check-in,Hangers,Hair dryer,Iron,Laptop friendly workspace                                                                                                                    </td><td> NA</td><td> 50</td><td> 91</td><td>       NA</td></tr>\n",
       "\t<tr><td>28012</td><td>Sol        </td><td>Apartment  </td><td>Entire home/apt</td><td> 4</td><td>1</td><td>1</td><td> 1</td><td>Real Bed</td><td>TV,Cable TV,Internet,Wireless Internet,Air conditioning,Kitchen,Elevator in building,Buzzer/wireless intercom,Heating,Family/kid friendly,Washer,Essentials,Hair dryer,Iron                                                                                                                                                                                     </td><td>753</td><td>100</td><td> 87</td><td>341.55478</td></tr>\n",
       "\t<tr><td>28013</td><td>Sol        </td><td>Apartment  </td><td>Entire home/apt</td><td> 4</td><td>1</td><td>1</td><td> 2</td><td>Real Bed</td><td>TV,Internet,Wireless Internet,Air conditioning,Kitchen,Breakfast,Elevator in building,Heating,Family/kid friendly,Washer,First aid kit,Fire extinguisher,Essentials,Shampoo,Hangers,Hair dryer,Iron,Laptop friendly workspace                                                                                                                                   </td><td> NA</td><td> 75</td><td>100</td><td>       NA</td></tr>\n",
       "\t<tr><td>28014</td><td>Sol        </td><td>Condominium</td><td>Entire home/apt</td><td> 8</td><td>2</td><td>2</td><td> 5</td><td>Real Bed</td><td>TV,Internet,Wireless Internet,Air conditioning,Wheelchair accessible,Kitchen,Doorman,Elevator in building,Buzzer/wireless intercom,Heating,Family/kid friendly,Washer,Smoke detector,Carbon monoxide detector,Essentials,Shampoo,24-hour check-in,Hangers,Hair dryer,Iron,Laptop friendly workspace                                                             </td><td> NA</td><td>155</td><td> 93</td><td>       NA</td></tr>\n",
       "\t<tr><td>28013</td><td>Sol        </td><td>Apartment  </td><td>Entire home/apt</td><td> 6</td><td>2</td><td>2</td><td> 3</td><td>Real Bed</td><td>TV,Internet,Wireless Internet,Air conditioning,Wheelchair accessible,Kitchen,Doorman,Elevator in building,Buzzer/wireless intercom,Heating,Family/kid friendly,Washer,Dryer,Essentials,Hangers,Hair dryer,Iron                                                                                                                                                  </td><td> NA</td><td>155</td><td> 80</td><td>       NA</td></tr>\n",
       "\t<tr><td>28012</td><td>Sol        </td><td>Apartment  </td><td>Private room   </td><td> 1</td><td>1</td><td>1</td><td> 1</td><td>Real Bed</td><td>TV,Cable TV,Internet,Wireless Internet,Kitchen,Buzzer/wireless intercom,Heating,Family/kid friendly,Washer,Essentials,Shampoo                                                                                                                                                                                                                                   </td><td> NA</td><td> 15</td><td>100</td><td>       NA</td></tr>\n",
       "\t<tr><td>28005</td><td>Sol        </td><td>Apartment  </td><td>Entire home/apt</td><td> 8</td><td>1</td><td>3</td><td> 4</td><td>Real Bed</td><td>TV,Internet,Wireless Internet,Kitchen,Breakfast,Elevator in building,Buzzer/wireless intercom,Heating,Family/kid friendly,Washer,Essentials,Shampoo,Hangers,Hair dryer,Iron,Laptop friendly workspace,Self Check-In,Lockbox                                                                                                                                     </td><td> NA</td><td>163</td><td>100</td><td>       NA</td></tr>\n",
       "\t<tr><td>⋮</td><td>⋮</td><td>⋮</td><td>⋮</td><td>⋮</td><td>⋮</td><td>⋮</td><td>⋮</td><td>⋮</td><td>⋮</td><td>⋮</td><td>⋮</td><td>⋮</td><td>⋮</td></tr>\n",
       "\t<tr><td>28023</td><td>Valdemarín      </td><td>House      </td><td>Private room   </td><td> 1</td><td>1.0</td><td>0</td><td> 1</td><td>Real Bed     </td><td>TV,Wireless Internet,Air conditioning,Kitchen,Free parking on premises,Breakfast,Heating,Washer,Smoke detector,Essentials,Shampoo,Hangers,Hair dryer,Iron,Laptop friendly workspace,translation missing: en.hosting_amenity_50                                                                                       </td><td> NA</td><td> 50</td><td> NA</td><td>      NA</td></tr>\n",
       "\t<tr><td>28023</td><td>Aravaca         </td><td>Condominium</td><td>Entire home/apt</td><td> 3</td><td>1.0</td><td>1</td><td> 3</td><td>Real Bed     </td><td>TV,Internet,Wireless Internet,Pool,Kitchen,Free parking on premises,Doorman,Heating,Family/kid friendly,Washer,Essentials,24-hour check-in,Hangers,Iron,Laptop friendly workspace,Private entrance                                                                                                                   </td><td> NA</td><td> 50</td><td>100</td><td>      NA</td></tr>\n",
       "\t<tr><td>28011</td><td>Puerta del Angel</td><td>Apartment  </td><td>Private room   </td><td> 2</td><td>1.0</td><td>1</td><td> 1</td><td>Real Bed     </td><td>TV,Internet,Wireless Internet,Doorman,Buzzer/wireless intercom,Heating,Family/kid friendly,Washer,Smoke detector,Essentials,Shampoo,Hangers,Hair dryer,Iron,Laptop friendly workspace                                                                                                                                </td><td> NA</td><td> 23</td><td> 94</td><td>      NA</td></tr>\n",
       "\t<tr><td>28011</td><td>Puerta del Angel</td><td>Other      </td><td>Private room   </td><td> 2</td><td>1.0</td><td>1</td><td> 1</td><td>Real Bed     </td><td>TV,Wireless Internet,Kitchen,Elevator in building,Heating,Family/kid friendly,Washer,Dryer,Shampoo                                                                                                                                                                                                                   </td><td> NA</td><td> 33</td><td> 95</td><td>      NA</td></tr>\n",
       "\t<tr><td>28011</td><td>Puerta del Angel</td><td>Apartment  </td><td>Private room   </td><td> 3</td><td>1.0</td><td>1</td><td> 2</td><td>Real Bed     </td><td>Internet,Wireless Internet,Kitchen,Free parking on premises,Smoking allowed,Elevator in building,Heating,Family/kid friendly,Fire extinguisher,Essentials,translation missing: en.hosting_amenity_50                                                                                                                 </td><td> NA</td><td> 20</td><td> 88</td><td>      NA</td></tr>\n",
       "\t<tr><td>28004</td><td>Universidad     </td><td>Other      </td><td>Entire home/apt</td><td> 3</td><td>1.0</td><td>1</td><td> 1</td><td>Real Bed     </td><td>TV,Internet,Wireless Internet,Air conditioning,Kitchen,Smoking allowed,Pets allowed,Elevator in building,Buzzer/wireless intercom,Heating,Family/kid friendly,Washer,Dryer,Fire extinguisher,Essentials,24-hour check-in,Hangers,Hair dryer,Iron                                                                     </td><td> NA</td><td> 43</td><td> 83</td><td>      NA</td></tr>\n",
       "\t<tr><td>28004</td><td>Universidad     </td><td>Apartment  </td><td>Entire home/apt</td><td> 3</td><td>1.0</td><td>1</td><td> 1</td><td>Real Bed     </td><td>TV,Internet,Wireless Internet,Kitchen,Buzzer/wireless intercom,Heating,Washer,Dryer,Essentials,Shampoo,24-hour check-in,Hangers,Hair dryer,Iron,Laptop friendly workspace,translation missing: en.hosting_amenity_49,translation missing: en.hosting_amenity_50                                                      </td><td> NA</td><td> 80</td><td> 96</td><td>      NA</td></tr>\n",
       "\t<tr><td>28004</td><td>Universidad     </td><td>Apartment  </td><td>Entire home/apt</td><td> 2</td><td>1.0</td><td>1</td><td> 1</td><td>Real Bed     </td><td>TV,Internet,Wireless Internet,Air conditioning,Kitchen,Elevator in building,Heating,Washer,Dryer,First aid kit,Essentials,Hangers,Hair dryer,Iron,translation missing: en.hosting_amenity_49,translation missing: en.hosting_amenity_50                                                                              </td><td> NA</td><td> 80</td><td> 99</td><td>      NA</td></tr>\n",
       "\t<tr><td>28015</td><td>Universidad     </td><td>Apartment  </td><td>Entire home/apt</td><td> 4</td><td>1.0</td><td>1</td><td> 2</td><td>Real Bed     </td><td>TV,Internet,Wireless Internet,Air conditioning,Kitchen,Elevator in building,Heating,Family/kid friendly,Washer,Smoke detector,Fire extinguisher,Essentials,Shampoo,Lock on bedroom door,Hangers,Hair dryer,Iron                                                                                                      </td><td> NA</td><td>100</td><td>100</td><td>      NA</td></tr>\n",
       "\t<tr><td>28015</td><td>Universidad     </td><td>Apartment  </td><td>Entire home/apt</td><td> 2</td><td>1.0</td><td>1</td><td> 2</td><td>Real Bed     </td><td>TV,Wireless Internet,Air conditioning,Kitchen,Elevator in building,Buzzer/wireless intercom,Heating,Family/kid friendly,Washer                                                                                                                                                                                       </td><td>291</td><td> 50</td><td> 87</td><td>131.9953</td></tr>\n",
       "\t<tr><td>28015</td><td>Universidad     </td><td>Apartment  </td><td>Entire home/apt</td><td> 5</td><td>1.0</td><td>2</td><td> 3</td><td>Real Bed     </td><td>TV,Internet,Wireless Internet,Kitchen,Smoking allowed,Elevator in building,Buzzer/wireless intercom,Heating,Family/kid friendly,Washer,First aid kit,Essentials,Shampoo,24-hour check-in,Hangers,Hair dryer,Iron,Laptop friendly workspace                                                                           </td><td> NA</td><td> 85</td><td> 90</td><td>      NA</td></tr>\n",
       "\t<tr><td>28015</td><td>Universidad     </td><td>Apartment  </td><td>Private room   </td><td> 1</td><td>2.0</td><td>1</td><td> 1</td><td>Real Bed     </td><td>TV,Wireless Internet,Kitchen,Elevator in building,Heating,Washer,Lock on bedroom door,Hangers,Laptop friendly workspace,translation missing: en.hosting_amenity_49,translation missing: en.hosting_amenity_50,Private living room                                                                                    </td><td> NA</td><td> 30</td><td> NA</td><td>      NA</td></tr>\n",
       "\t<tr><td>28015</td><td>Universidad     </td><td>Apartment  </td><td>Entire home/apt</td><td> 4</td><td>1.0</td><td>1</td><td> 2</td><td>Real Bed     </td><td>TV,Wireless Internet,Air conditioning,Kitchen,Smoking allowed,Heating,Family/kid friendly,Washer,Dryer,Smoke detector,First aid kit,Essentials,Shampoo,Hangers,Hair dryer,Iron                                                                                                                                       </td><td> NA</td><td> 60</td><td>100</td><td>      NA</td></tr>\n",
       "\t<tr><td>28013</td><td>Universidad     </td><td>Apartment  </td><td>Entire home/apt</td><td> 2</td><td>1.0</td><td>1</td><td> 1</td><td>Real Bed     </td><td>TV,Wireless Internet,Air conditioning,Kitchen,Elevator in building,Heating,Washer,Dryer,Essentials,Shampoo,Hangers,Hair dryer,Iron,Laptop friendly workspace,translation missing: en.hosting_amenity_49,translation missing: en.hosting_amenity_50                                                                   </td><td> NA</td><td>145</td><td> NA</td><td>      NA</td></tr>\n",
       "\t<tr><td>28004</td><td>Universidad     </td><td>Apartment  </td><td>Entire home/apt</td><td> 4</td><td>1.0</td><td>1</td><td> 2</td><td>Real Bed     </td><td>TV,Internet,Wireless Internet,Air conditioning,Kitchen,Pets allowed,Indoor fireplace,Buzzer/wireless intercom,Heating,Family/kid friendly,Washer,Smoke detector,Carbon monoxide detector,Essentials,Shampoo,24-hour check-in,Hangers,Hair dryer,Iron,Laptop friendly workspace                                       </td><td> NA</td><td> 62</td><td> 91</td><td>      NA</td></tr>\n",
       "\t<tr><td>28004</td><td>Universidad     </td><td>Apartment  </td><td>Entire home/apt</td><td>14</td><td>5.5</td><td>5</td><td>10</td><td>Real Bed     </td><td>TV,Internet,Wireless Internet,Air conditioning,Kitchen,Smoking allowed,Elevator in building,Indoor fireplace,Family/kid friendly,Washer,Dryer,First aid kit,Fire extinguisher,Essentials                                                                                                                             </td><td> NA</td><td>300</td><td> 94</td><td>      NA</td></tr>\n",
       "\t<tr><td>28004</td><td>Universidad     </td><td>Apartment  </td><td>Private room   </td><td> 1</td><td>1.0</td><td>1</td><td> 1</td><td>Real Bed     </td><td>Internet,Wireless Internet,Kitchen,Elevator in building,Heating,Washer,Dryer,First aid kit,Essentials,Hangers,Iron,translation missing: en.hosting_amenity_49,translation missing: en.hosting_amenity_50                                                                                                             </td><td>  0</td><td> 35</td><td>100</td><td>  0.0000</td></tr>\n",
       "\t<tr><td>28004</td><td>Universidad     </td><td>Apartment  </td><td>Entire home/apt</td><td> 3</td><td>1.0</td><td>1</td><td> 2</td><td>Real Bed     </td><td>TV,Wireless Internet,Kitchen,Buzzer/wireless intercom,Heating,Family/kid friendly,Washer,Smoke detector,Essentials,Shampoo,24-hour check-in,Hangers,Laptop friendly workspace,translation missing: en.hosting_amenity_50                                                                                             </td><td> NA</td><td> 62</td><td> 81</td><td>      NA</td></tr>\n",
       "\t<tr><td>28004</td><td>Universidad     </td><td>Apartment  </td><td>Private room   </td><td> 2</td><td>1.0</td><td>1</td><td> 1</td><td>Real Bed     </td><td>TV,Internet,Wireless Internet,Smoking allowed,Elevator in building,Heating,Washer,Essentials,Hangers,Hair dryer,Iron,translation missing: en.hosting_amenity_49,translation missing: en.hosting_amenity_50                                                                                                           </td><td> NA</td><td> 45</td><td> 90</td><td>      NA</td></tr>\n",
       "\t<tr><td>28015</td><td>Universidad     </td><td>Apartment  </td><td>Private room   </td><td> 1</td><td>1.0</td><td>1</td><td> 1</td><td>Real Bed     </td><td>TV,Wireless Internet,Kitchen,Elevator in building,Washer,Lock on bedroom door,Hangers,Laptop friendly workspace,translation missing: en.hosting_amenity_49,translation missing: en.hosting_amenity_50                                                                                                                </td><td> NA</td><td> 31</td><td> NA</td><td>      NA</td></tr>\n",
       "\t<tr><td>28004</td><td>Universidad     </td><td>Apartment  </td><td>Entire home/apt</td><td> 4</td><td>1.0</td><td>2</td><td> 4</td><td>Pull-out Sofa</td><td>TV,Internet,Wireless Internet,Air conditioning,Kitchen,Smoking allowed,Pets allowed,Elevator in building,Heating,Family/kid friendly,Washer,Dryer,Essentials,Shampoo,Hangers,Hair dryer,Iron                                                                                                                         </td><td> NA</td><td> 90</td><td> 90</td><td>      NA</td></tr>\n",
       "\t<tr><td>28004</td><td>Universidad     </td><td>Apartment  </td><td>Entire home/apt</td><td> 4</td><td>1.0</td><td>2</td><td> 2</td><td>Real Bed     </td><td>TV,Internet,Wireless Internet,Air conditioning,Kitchen,Smoking allowed,Pets allowed,Buzzer/wireless intercom,Heating,Family/kid friendly,Washer,Dryer,Essentials,Hangers,Hair dryer,Iron                                                                                                                             </td><td> NA</td><td> 70</td><td> 87</td><td>      NA</td></tr>\n",
       "\t<tr><td>28004</td><td>Universidad     </td><td>Apartment  </td><td>Entire home/apt</td><td> 2</td><td>1.0</td><td>1</td><td> 1</td><td>Real Bed     </td><td>TV,Internet,Wireless Internet,Air conditioning,Kitchen,Smoking allowed,Pets allowed,Elevator in building,Heating,Family/kid friendly,Washer,First aid kit,Fire extinguisher,Essentials,Lock on bedroom door,Hangers,Hair dryer,Iron                                                                                  </td><td> NA</td><td> 40</td><td> 82</td><td>      NA</td></tr>\n",
       "\t<tr><td>28004</td><td>Universidad     </td><td>Loft       </td><td>Entire home/apt</td><td> 2</td><td>1.0</td><td>1</td><td> 2</td><td>Real Bed     </td><td>Internet,Wireless Internet,Smoking allowed,Breakfast,Elevator in building,Heating,Shampoo,Hangers,Hair dryer,Iron,Laptop friendly workspace,translation missing: en.hosting_amenity_49,translation missing: en.hosting_amenity_50                                                                                    </td><td> NA</td><td> 30</td><td> NA</td><td>      NA</td></tr>\n",
       "\t<tr><td>28004</td><td>Universidad     </td><td>Apartment  </td><td>Entire home/apt</td><td> 4</td><td>1.0</td><td>1</td><td> 2</td><td>Real Bed     </td><td>TV,Wireless Internet,Air conditioning,Kitchen,Smoking allowed,Pets allowed,Heating,Family/kid friendly,Washer,Fire extinguisher,Essentials,Lock on bedroom door,Hangers,Hair dryer,Iron                                                                                                                              </td><td> NA</td><td> 48</td><td> 83</td><td>      NA</td></tr>\n",
       "\t<tr><td>28015</td><td>Universidad     </td><td>Apartment  </td><td>Entire home/apt</td><td> 2</td><td>1.0</td><td>1</td><td> 1</td><td>Real Bed     </td><td>TV,Internet,Wireless Internet,Air conditioning,Kitchen,Elevator in building,Buzzer/wireless intercom,Heating,Washer,Dryer,Smoke detector,Fire extinguisher,Essentials,Shampoo,Hangers,Hair dryer,Iron,Laptop friendly workspace,translation missing: en.hosting_amenity_49,translation missing: en.hosting_amenity_50</td><td> NA</td><td> 35</td><td> 90</td><td>      NA</td></tr>\n",
       "\t<tr><td>28004</td><td>Universidad     </td><td>Apartment  </td><td>Entire home/apt</td><td> 3</td><td>1.0</td><td>1</td><td> 2</td><td>Real Bed     </td><td>TV,Wireless Internet,Air conditioning,Kitchen,Elevator in building,Buzzer/wireless intercom,Heating,Family/kid friendly,Washer,Dryer,Smoke detector,Carbon monoxide detector,Fire extinguisher,Essentials,Shampoo,24-hour check-in,Hangers,Hair dryer,Iron,Laptop friendly workspace                                 </td><td> NA</td><td> 79</td><td> 97</td><td>      NA</td></tr>\n",
       "\t<tr><td>28013</td><td>Universidad     </td><td>Apartment  </td><td>Entire home/apt</td><td> 4</td><td>1.0</td><td>1</td><td> 1</td><td>Real Bed     </td><td>TV,Wireless Internet,Air conditioning,Pool,Kitchen,Doorman,Gym,Elevator in building,Buzzer/wireless intercom,Heating,Washer,First aid kit,Safety card,Essentials,Shampoo,Hangers,Hair dryer,Iron,Laptop friendly workspace                                                                                           </td><td> NA</td><td>150</td><td>100</td><td>      NA</td></tr>\n",
       "\t<tr><td>28004</td><td>Universidad     </td><td>Loft       </td><td>Entire home/apt</td><td> 2</td><td>1.0</td><td>0</td><td> 1</td><td>Real Bed     </td><td>TV,Internet,Wireless Internet,Kitchen,Smoking allowed,Pets allowed,Elevator in building,Heating,Family/kid friendly,Washer,First aid kit,Essentials,Shampoo                                                                                                                                                          </td><td> NA</td><td> 80</td><td> 91</td><td>      NA</td></tr>\n",
       "\t<tr><td>28004</td><td>Universidad     </td><td>Apartment  </td><td>Entire home/apt</td><td> 3</td><td>1.0</td><td>0</td><td> 2</td><td>Real Bed     </td><td>TV,Internet,Wireless Internet,Air conditioning,Kitchen,Heating,Family/kid friendly,Washer                                                                                                                                                                                                                            </td><td> NA</td><td> 69</td><td> 80</td><td>      NA</td></tr>\n",
       "</tbody>\n",
       "</table>\n"
      ],
      "text/latex": [
       "A data.frame: 12760 × 14\n",
       "\\begin{tabular}{llllllllllllll}\n",
       " CodigoPostal & Barrio & TipoPropiedad & TipoAlquiler & MaxOcupantes & NumBanyos & NumDormitorios & NumCamas & TipoCama & Comodidades & PiesCuadrados & Precio & Puntuacion & MetrosCuadrados\\\\\n",
       " <fct> & <fct> & <fct> & <fct> & <int> & <dbl> & <int> & <int> & <fct> & <fct> & <int> & <int> & <int> & <dbl>\\\\\n",
       "\\hline\n",
       "\t 28004 & Universidad & Apartment   & Private room    &  2 & 2 & 1 &  1 & Real Bed & TV,Wireless Internet,Kitchen,Pets allowed,Pets live on this property,Buzzer/wireless intercom,Heating,Suitable for events,Washer,First aid kit,Essentials,Lock on bedroom door,Iron                                                                                                                                                                              &  NA &  35 &  NA &        NA\\\\\n",
       "\t 28004 & Universidad & Apartment   & Entire home/apt &  6 & 1 & 3 &  5 & Real Bed & TV,Internet,Wireless Internet,Air conditioning,Kitchen,Indoor fireplace,Heating,Family/kid friendly,Washer,Dryer,Smoke detector,Carbon monoxide detector,Essentials,Shampoo                                                                                                                                                                                      &  NA &  92 &  96 &        NA\\\\\n",
       "\t 28004 & Universidad & Apartment   & Entire home/apt &  3 & 1 & 2 &  2 & Real Bed & TV,Internet,Wireless Internet,Air conditioning,Kitchen,Doorman,Heating,Family/kid friendly,Washer,Essentials,Shampoo,Hangers,Hair dryer,Iron,Laptop friendly workspace                                                                                                                                                                                           &  NA &  55 &  91 &        NA\\\\\n",
       "\t 28004 & Universidad & Loft        & Entire home/apt &  3 & 2 & 1 &  1 & Real Bed & TV,Internet,Wireless Internet,Air conditioning,Kitchen,Pets allowed,Breakfast,Elevator in building,Indoor fireplace,Buzzer/wireless intercom,Heating,Washer,Essentials,Shampoo,Hangers,Hair dryer,Iron,Laptop friendly workspace,translation missing: en.hosting\\_amenity\\_49,translation missing: en.hosting\\_amenity\\_50                                           &  NA &  60 & 100 &        NA\\\\\n",
       "\t 28015 & Universidad & Apartment   & Entire home/apt &  5 & 1 & 1 &  1 & Real Bed & TV,Wireless Internet,Air conditioning,Kitchen,Smoking allowed,Pets allowed,Elevator in building,Heating,Family/kid friendly,Washer,Essentials,Iron                                                                                                                                                                                                               & 538 &  75 &  90 & 244.03250\\\\\n",
       "\t 28004 & Universidad & Apartment   & Entire home/apt &  2 & 1 & 0 &  1 & Real Bed & TV,Cable TV,Internet,Wireless Internet,Air conditioning,Wheelchair accessible,Kitchen,Doorman,Elevator in building,Buzzer/wireless intercom,Heating,Washer,Smoke detector,Carbon monoxide detector,First aid kit,Safety card,Fire extinguisher,Essentials,Shampoo,24-hour check-in,Hangers,Hair dryer,Iron,Laptop friendly workspace,Self Check-In,Doorman Entry &  NA &  55 &  95 &        NA\\\\\n",
       "\t 28004 & Universidad & House       & Private room    &  7 & 5 & 1 &  7 & Real Bed & Internet,Wireless Internet,Kitchen,Smoking allowed,Heating,Fire extinguisher,Shampoo,Lock on bedroom door,Hangers,Hair dryer,Iron,translation missing: en.hosting\\_amenity\\_49,translation missing: en.hosting\\_amenity\\_50                                                                                                                                          &  NA &  60 &  77 &        NA\\\\\n",
       "\t 28004 & Universidad & Apartment   & Entire home/apt &  3 & 1 & 1 & NA & Real Bed & TV,Wireless Internet,Air conditioning,Kitchen,Elevator in building,Buzzer/wireless intercom,Heating,Washer                                                                                                                                                                                                                                                       &  NA &  70 &  84 &        NA\\\\\n",
       "\t 28015 & Universidad & Apartment   & Entire home/apt &  2 & 1 & 1 &  1 & Real Bed & TV,Internet,Wireless Internet,Kitchen,Elevator in building,Buzzer/wireless intercom,Heating,Family/kid friendly,Washer,Dryer,Essentials,Shampoo,translation missing: en.hosting\\_amenity\\_49                                                                                                                                                                       & 700 &  90 &  98 & 317.51440\\\\\n",
       "\t 28004 & Universidad & Apartment   & Entire home/apt &  4 & 2 & 2 &  2 & Real Bed & TV,Wireless Internet,Air conditioning,Kitchen,Elevator in building,Hot tub,Heating,Family/kid friendly,Washer,Dryer,Essentials,Hair dryer,Iron                                                                                                                                                                                                                   &  NA & 155 &  NA &        NA\\\\\n",
       "\t 28004 & Universidad & Apartment   & Entire home/apt &  4 & 1 & 1 &  2 & Real Bed & TV,Wireless Internet,Air conditioning,Wheelchair accessible,Kitchen,Elevator in building,Buzzer/wireless intercom,Heating,Family/kid friendly,Washer,Essentials,Shampoo                                                                                                                                                                                          &  40 &  70 &  90 &  18.14368\\\\\n",
       "\t 28004 & Universidad & Apartment   & Private room    &  2 & 1 & 1 &  1 & Real Bed & Internet,Wireless Internet,Kitchen,Smoking allowed,Elevator in building,Buzzer/wireless intercom,Heating,Family/kid friendly,Washer,Dryer,First aid kit,Essentials,Shampoo,24-hour check-in,Hangers,Hair dryer,Iron,Laptop friendly workspace                                                                                                                    &  NA &  39 &  90 &        NA\\\\\n",
       "\t 28013 & Sol         & Apartment   & Private room    &  1 & 2 & 1 &  1 & Real Bed & TV,Wireless Internet,Air conditioning,Kitchen,Elevator in building,Buzzer/wireless intercom,Heating,Washer,24-hour check-in,Hangers,Laptop friendly workspace,Self Check-In,Doorman Entry                                                                                                                                                                        &  NA &  39 &  80 &        NA\\\\\n",
       "\t 28005 & Sol         & Apartment   & Private room    &  2 & 1 & 1 &  1 & Real Bed & TV,Internet,Wireless Internet,Kitchen,Smoking allowed,Pets live on this property,Cat(s),Heating,Washer,Essentials,Shampoo,Hangers,Hair dryer,Iron,Laptop friendly workspace,translation missing: en.hosting\\_amenity\\_49,translation missing: en.hosting\\_amenity\\_50                                                                                                &  NA &  46 &  97 &        NA\\\\\n",
       "\t 28013 & Sol         & Apartment   & Entire home/apt &  4 & 1 & 1 &  1 & Real Bed & TV,Wireless Internet,Air conditioning,Kitchen,Doorman,Elevator in building,Buzzer/wireless intercom,Heating,Family/kid friendly,Suitable for events,Washer,Essentials,Hangers,Hair dryer,Iron                                                                                                                                                                    & 646 &  75 &  91 & 293.02043\\\\\n",
       "\t 28013 & Sol         & Condominium & Entire home/apt &  6 & 1 & 2 &  3 & Real Bed & TV,Wireless Internet,Air conditioning,Kitchen,Doorman,Elevator in building,Buzzer/wireless intercom,Heating,Family/kid friendly,Washer,Dryer,Essentials,Shampoo,Hangers,Hair dryer,Iron                                                                                                                                                                          &  NA & 130 & 100 &        NA\\\\\n",
       "\t 28013 & Sol         & Apartment   & Entire home/apt &  4 & 1 & 1 &  2 & Real Bed & TV,Internet,Wireless Internet,Air conditioning,Kitchen,Doorman,Elevator in building,Buzzer/wireless intercom,Heating,Family/kid friendly,Washer,Smoke detector,Carbon monoxide detector,First aid kit,Safety card,Fire extinguisher,Essentials,Shampoo,24-hour check-in,Hangers,Hair dryer,Iron,Laptop friendly workspace                                        &  NA & 100 &  97 &        NA\\\\\n",
       "\t 28012 & Sol         & Apartment   & Entire home/apt &  6 & 1 & 2 &  2 & Real Bed & TV,Internet,Wireless Internet,Air conditioning,Kitchen,Smoking allowed,Elevator in building,Buzzer/wireless intercom,Heating,Family/kid friendly,Washer,Dryer,Essentials,Shampoo,Hangers,Hair dryer,Iron,Laptop friendly workspace                                                                                                                               &  NA & 160 &  95 &        NA\\\\\n",
       "\t 28013 & Sol         & Apartment   & Entire home/apt &  4 & 1 & 1 &  2 & Real Bed & TV,Internet,Wireless Internet,Air conditioning,Kitchen,Heating,Washer,Essentials,Hangers,Hair dryer,translation missing: en.hosting\\_amenity\\_50                                                                                                                                                                                                                   &  NA &  49 &  95 &        NA\\\\\n",
       "\t 28013 & Sol         & Apartment   & Private room    &  2 & 5 & 1 &  1 & Real Bed & TV,Wireless Internet,Air conditioning,Kitchen,Doorman,Elevator in building,Buzzer/wireless intercom,Heating,Washer,Dryer,Smoke detector,Fire extinguisher,Essentials,Lock on bedroom door,24-hour check-in,Hangers,Iron,Laptop friendly workspace,translation missing: en.hosting\\_amenity\\_49,translation missing: en.hosting\\_amenity\\_50                          &  NA &  31 &  40 &        NA\\\\\n",
       "\t 28013 & Sol         & Apartment   & Entire home/apt &  4 & 1 & 1 &  2 & Real Bed & TV,Wireless Internet,Kitchen,Pets allowed,Elevator in building,Heating,Family/kid friendly,Washer,Essentials,Shampoo,Hangers,Hair dryer,Laptop friendly workspace                                                                                                                                                                                                &  NA &  70 &  88 &        NA\\\\\n",
       "\t 28005 & Sol         & Apartment   & Entire home/apt & 10 & 2 & 4 &  7 & Real Bed & TV,Internet,Wireless Internet,Air conditioning,Kitchen,Heating,Family/kid friendly,Washer,Essentials                                                                                                                                                                                                                                                             &  NA & 210 &  81 &        NA\\\\\n",
       "\t 28013 & Sol         & Apartment   & Entire home/apt &  6 & 1 & 2 &  4 & Real Bed & TV,Internet,Wireless Internet,Air conditioning,Kitchen,Smoking allowed,Pets allowed,Doorman,Elevator in building,Buzzer/wireless intercom,Heating,Family/kid friendly,Washer,First aid kit,Safety card,Essentials,Shampoo,Hangers,Hair dryer,Iron                                                                                                                &  NA & 120 &  99 &        NA\\\\\n",
       "\t 28012 & Sol         & Apartment   & Entire home/apt &  4 & 1 & 1 &  2 & Real Bed & TV,Internet,Wireless Internet,Air conditioning,Kitchen,Elevator in building,Heating,Family/kid friendly,Washer,Smoke detector,Carbon monoxide detector,Essentials,Shampoo,24-hour check-in,Hangers,Hair dryer,Iron,Laptop friendly workspace                                                                                                                     &  NA &  50 &  91 &        NA\\\\\n",
       "\t 28012 & Sol         & Apartment   & Entire home/apt &  4 & 1 & 1 &  1 & Real Bed & TV,Cable TV,Internet,Wireless Internet,Air conditioning,Kitchen,Elevator in building,Buzzer/wireless intercom,Heating,Family/kid friendly,Washer,Essentials,Hair dryer,Iron                                                                                                                                                                                      & 753 & 100 &  87 & 341.55478\\\\\n",
       "\t 28013 & Sol         & Apartment   & Entire home/apt &  4 & 1 & 1 &  2 & Real Bed & TV,Internet,Wireless Internet,Air conditioning,Kitchen,Breakfast,Elevator in building,Heating,Family/kid friendly,Washer,First aid kit,Fire extinguisher,Essentials,Shampoo,Hangers,Hair dryer,Iron,Laptop friendly workspace                                                                                                                                    &  NA &  75 & 100 &        NA\\\\\n",
       "\t 28014 & Sol         & Condominium & Entire home/apt &  8 & 2 & 2 &  5 & Real Bed & TV,Internet,Wireless Internet,Air conditioning,Wheelchair accessible,Kitchen,Doorman,Elevator in building,Buzzer/wireless intercom,Heating,Family/kid friendly,Washer,Smoke detector,Carbon monoxide detector,Essentials,Shampoo,24-hour check-in,Hangers,Hair dryer,Iron,Laptop friendly workspace                                                              &  NA & 155 &  93 &        NA\\\\\n",
       "\t 28013 & Sol         & Apartment   & Entire home/apt &  6 & 2 & 2 &  3 & Real Bed & TV,Internet,Wireless Internet,Air conditioning,Wheelchair accessible,Kitchen,Doorman,Elevator in building,Buzzer/wireless intercom,Heating,Family/kid friendly,Washer,Dryer,Essentials,Hangers,Hair dryer,Iron                                                                                                                                                   &  NA & 155 &  80 &        NA\\\\\n",
       "\t 28012 & Sol         & Apartment   & Private room    &  1 & 1 & 1 &  1 & Real Bed & TV,Cable TV,Internet,Wireless Internet,Kitchen,Buzzer/wireless intercom,Heating,Family/kid friendly,Washer,Essentials,Shampoo                                                                                                                                                                                                                                    &  NA &  15 & 100 &        NA\\\\\n",
       "\t 28005 & Sol         & Apartment   & Entire home/apt &  8 & 1 & 3 &  4 & Real Bed & TV,Internet,Wireless Internet,Kitchen,Breakfast,Elevator in building,Buzzer/wireless intercom,Heating,Family/kid friendly,Washer,Essentials,Shampoo,Hangers,Hair dryer,Iron,Laptop friendly workspace,Self Check-In,Lockbox                                                                                                                                      &  NA & 163 & 100 &        NA\\\\\n",
       "\t ⋮ & ⋮ & ⋮ & ⋮ & ⋮ & ⋮ & ⋮ & ⋮ & ⋮ & ⋮ & ⋮ & ⋮ & ⋮ & ⋮\\\\\n",
       "\t 28023 & Valdemarín       & House       & Private room    &  1 & 1.0 & 0 &  1 & Real Bed      & TV,Wireless Internet,Air conditioning,Kitchen,Free parking on premises,Breakfast,Heating,Washer,Smoke detector,Essentials,Shampoo,Hangers,Hair dryer,Iron,Laptop friendly workspace,translation missing: en.hosting\\_amenity\\_50                                                                                        &  NA &  50 &  NA &       NA\\\\\n",
       "\t 28023 & Aravaca          & Condominium & Entire home/apt &  3 & 1.0 & 1 &  3 & Real Bed      & TV,Internet,Wireless Internet,Pool,Kitchen,Free parking on premises,Doorman,Heating,Family/kid friendly,Washer,Essentials,24-hour check-in,Hangers,Iron,Laptop friendly workspace,Private entrance                                                                                                                    &  NA &  50 & 100 &       NA\\\\\n",
       "\t 28011 & Puerta del Angel & Apartment   & Private room    &  2 & 1.0 & 1 &  1 & Real Bed      & TV,Internet,Wireless Internet,Doorman,Buzzer/wireless intercom,Heating,Family/kid friendly,Washer,Smoke detector,Essentials,Shampoo,Hangers,Hair dryer,Iron,Laptop friendly workspace                                                                                                                                 &  NA &  23 &  94 &       NA\\\\\n",
       "\t 28011 & Puerta del Angel & Other       & Private room    &  2 & 1.0 & 1 &  1 & Real Bed      & TV,Wireless Internet,Kitchen,Elevator in building,Heating,Family/kid friendly,Washer,Dryer,Shampoo                                                                                                                                                                                                                    &  NA &  33 &  95 &       NA\\\\\n",
       "\t 28011 & Puerta del Angel & Apartment   & Private room    &  3 & 1.0 & 1 &  2 & Real Bed      & Internet,Wireless Internet,Kitchen,Free parking on premises,Smoking allowed,Elevator in building,Heating,Family/kid friendly,Fire extinguisher,Essentials,translation missing: en.hosting\\_amenity\\_50                                                                                                                  &  NA &  20 &  88 &       NA\\\\\n",
       "\t 28004 & Universidad      & Other       & Entire home/apt &  3 & 1.0 & 1 &  1 & Real Bed      & TV,Internet,Wireless Internet,Air conditioning,Kitchen,Smoking allowed,Pets allowed,Elevator in building,Buzzer/wireless intercom,Heating,Family/kid friendly,Washer,Dryer,Fire extinguisher,Essentials,24-hour check-in,Hangers,Hair dryer,Iron                                                                      &  NA &  43 &  83 &       NA\\\\\n",
       "\t 28004 & Universidad      & Apartment   & Entire home/apt &  3 & 1.0 & 1 &  1 & Real Bed      & TV,Internet,Wireless Internet,Kitchen,Buzzer/wireless intercom,Heating,Washer,Dryer,Essentials,Shampoo,24-hour check-in,Hangers,Hair dryer,Iron,Laptop friendly workspace,translation missing: en.hosting\\_amenity\\_49,translation missing: en.hosting\\_amenity\\_50                                                       &  NA &  80 &  96 &       NA\\\\\n",
       "\t 28004 & Universidad      & Apartment   & Entire home/apt &  2 & 1.0 & 1 &  1 & Real Bed      & TV,Internet,Wireless Internet,Air conditioning,Kitchen,Elevator in building,Heating,Washer,Dryer,First aid kit,Essentials,Hangers,Hair dryer,Iron,translation missing: en.hosting\\_amenity\\_49,translation missing: en.hosting\\_amenity\\_50                                                                               &  NA &  80 &  99 &       NA\\\\\n",
       "\t 28015 & Universidad      & Apartment   & Entire home/apt &  4 & 1.0 & 1 &  2 & Real Bed      & TV,Internet,Wireless Internet,Air conditioning,Kitchen,Elevator in building,Heating,Family/kid friendly,Washer,Smoke detector,Fire extinguisher,Essentials,Shampoo,Lock on bedroom door,Hangers,Hair dryer,Iron                                                                                                       &  NA & 100 & 100 &       NA\\\\\n",
       "\t 28015 & Universidad      & Apartment   & Entire home/apt &  2 & 1.0 & 1 &  2 & Real Bed      & TV,Wireless Internet,Air conditioning,Kitchen,Elevator in building,Buzzer/wireless intercom,Heating,Family/kid friendly,Washer                                                                                                                                                                                        & 291 &  50 &  87 & 131.9953\\\\\n",
       "\t 28015 & Universidad      & Apartment   & Entire home/apt &  5 & 1.0 & 2 &  3 & Real Bed      & TV,Internet,Wireless Internet,Kitchen,Smoking allowed,Elevator in building,Buzzer/wireless intercom,Heating,Family/kid friendly,Washer,First aid kit,Essentials,Shampoo,24-hour check-in,Hangers,Hair dryer,Iron,Laptop friendly workspace                                                                            &  NA &  85 &  90 &       NA\\\\\n",
       "\t 28015 & Universidad      & Apartment   & Private room    &  1 & 2.0 & 1 &  1 & Real Bed      & TV,Wireless Internet,Kitchen,Elevator in building,Heating,Washer,Lock on bedroom door,Hangers,Laptop friendly workspace,translation missing: en.hosting\\_amenity\\_49,translation missing: en.hosting\\_amenity\\_50,Private living room                                                                                     &  NA &  30 &  NA &       NA\\\\\n",
       "\t 28015 & Universidad      & Apartment   & Entire home/apt &  4 & 1.0 & 1 &  2 & Real Bed      & TV,Wireless Internet,Air conditioning,Kitchen,Smoking allowed,Heating,Family/kid friendly,Washer,Dryer,Smoke detector,First aid kit,Essentials,Shampoo,Hangers,Hair dryer,Iron                                                                                                                                        &  NA &  60 & 100 &       NA\\\\\n",
       "\t 28013 & Universidad      & Apartment   & Entire home/apt &  2 & 1.0 & 1 &  1 & Real Bed      & TV,Wireless Internet,Air conditioning,Kitchen,Elevator in building,Heating,Washer,Dryer,Essentials,Shampoo,Hangers,Hair dryer,Iron,Laptop friendly workspace,translation missing: en.hosting\\_amenity\\_49,translation missing: en.hosting\\_amenity\\_50                                                                    &  NA & 145 &  NA &       NA\\\\\n",
       "\t 28004 & Universidad      & Apartment   & Entire home/apt &  4 & 1.0 & 1 &  2 & Real Bed      & TV,Internet,Wireless Internet,Air conditioning,Kitchen,Pets allowed,Indoor fireplace,Buzzer/wireless intercom,Heating,Family/kid friendly,Washer,Smoke detector,Carbon monoxide detector,Essentials,Shampoo,24-hour check-in,Hangers,Hair dryer,Iron,Laptop friendly workspace                                        &  NA &  62 &  91 &       NA\\\\\n",
       "\t 28004 & Universidad      & Apartment   & Entire home/apt & 14 & 5.5 & 5 & 10 & Real Bed      & TV,Internet,Wireless Internet,Air conditioning,Kitchen,Smoking allowed,Elevator in building,Indoor fireplace,Family/kid friendly,Washer,Dryer,First aid kit,Fire extinguisher,Essentials                                                                                                                              &  NA & 300 &  94 &       NA\\\\\n",
       "\t 28004 & Universidad      & Apartment   & Private room    &  1 & 1.0 & 1 &  1 & Real Bed      & Internet,Wireless Internet,Kitchen,Elevator in building,Heating,Washer,Dryer,First aid kit,Essentials,Hangers,Iron,translation missing: en.hosting\\_amenity\\_49,translation missing: en.hosting\\_amenity\\_50                                                                                                              &   0 &  35 & 100 &   0.0000\\\\\n",
       "\t 28004 & Universidad      & Apartment   & Entire home/apt &  3 & 1.0 & 1 &  2 & Real Bed      & TV,Wireless Internet,Kitchen,Buzzer/wireless intercom,Heating,Family/kid friendly,Washer,Smoke detector,Essentials,Shampoo,24-hour check-in,Hangers,Laptop friendly workspace,translation missing: en.hosting\\_amenity\\_50                                                                                              &  NA &  62 &  81 &       NA\\\\\n",
       "\t 28004 & Universidad      & Apartment   & Private room    &  2 & 1.0 & 1 &  1 & Real Bed      & TV,Internet,Wireless Internet,Smoking allowed,Elevator in building,Heating,Washer,Essentials,Hangers,Hair dryer,Iron,translation missing: en.hosting\\_amenity\\_49,translation missing: en.hosting\\_amenity\\_50                                                                                                            &  NA &  45 &  90 &       NA\\\\\n",
       "\t 28015 & Universidad      & Apartment   & Private room    &  1 & 1.0 & 1 &  1 & Real Bed      & TV,Wireless Internet,Kitchen,Elevator in building,Washer,Lock on bedroom door,Hangers,Laptop friendly workspace,translation missing: en.hosting\\_amenity\\_49,translation missing: en.hosting\\_amenity\\_50                                                                                                                 &  NA &  31 &  NA &       NA\\\\\n",
       "\t 28004 & Universidad      & Apartment   & Entire home/apt &  4 & 1.0 & 2 &  4 & Pull-out Sofa & TV,Internet,Wireless Internet,Air conditioning,Kitchen,Smoking allowed,Pets allowed,Elevator in building,Heating,Family/kid friendly,Washer,Dryer,Essentials,Shampoo,Hangers,Hair dryer,Iron                                                                                                                          &  NA &  90 &  90 &       NA\\\\\n",
       "\t 28004 & Universidad      & Apartment   & Entire home/apt &  4 & 1.0 & 2 &  2 & Real Bed      & TV,Internet,Wireless Internet,Air conditioning,Kitchen,Smoking allowed,Pets allowed,Buzzer/wireless intercom,Heating,Family/kid friendly,Washer,Dryer,Essentials,Hangers,Hair dryer,Iron                                                                                                                              &  NA &  70 &  87 &       NA\\\\\n",
       "\t 28004 & Universidad      & Apartment   & Entire home/apt &  2 & 1.0 & 1 &  1 & Real Bed      & TV,Internet,Wireless Internet,Air conditioning,Kitchen,Smoking allowed,Pets allowed,Elevator in building,Heating,Family/kid friendly,Washer,First aid kit,Fire extinguisher,Essentials,Lock on bedroom door,Hangers,Hair dryer,Iron                                                                                   &  NA &  40 &  82 &       NA\\\\\n",
       "\t 28004 & Universidad      & Loft        & Entire home/apt &  2 & 1.0 & 1 &  2 & Real Bed      & Internet,Wireless Internet,Smoking allowed,Breakfast,Elevator in building,Heating,Shampoo,Hangers,Hair dryer,Iron,Laptop friendly workspace,translation missing: en.hosting\\_amenity\\_49,translation missing: en.hosting\\_amenity\\_50                                                                                     &  NA &  30 &  NA &       NA\\\\\n",
       "\t 28004 & Universidad      & Apartment   & Entire home/apt &  4 & 1.0 & 1 &  2 & Real Bed      & TV,Wireless Internet,Air conditioning,Kitchen,Smoking allowed,Pets allowed,Heating,Family/kid friendly,Washer,Fire extinguisher,Essentials,Lock on bedroom door,Hangers,Hair dryer,Iron                                                                                                                               &  NA &  48 &  83 &       NA\\\\\n",
       "\t 28015 & Universidad      & Apartment   & Entire home/apt &  2 & 1.0 & 1 &  1 & Real Bed      & TV,Internet,Wireless Internet,Air conditioning,Kitchen,Elevator in building,Buzzer/wireless intercom,Heating,Washer,Dryer,Smoke detector,Fire extinguisher,Essentials,Shampoo,Hangers,Hair dryer,Iron,Laptop friendly workspace,translation missing: en.hosting\\_amenity\\_49,translation missing: en.hosting\\_amenity\\_50 &  NA &  35 &  90 &       NA\\\\\n",
       "\t 28004 & Universidad      & Apartment   & Entire home/apt &  3 & 1.0 & 1 &  2 & Real Bed      & TV,Wireless Internet,Air conditioning,Kitchen,Elevator in building,Buzzer/wireless intercom,Heating,Family/kid friendly,Washer,Dryer,Smoke detector,Carbon monoxide detector,Fire extinguisher,Essentials,Shampoo,24-hour check-in,Hangers,Hair dryer,Iron,Laptop friendly workspace                                  &  NA &  79 &  97 &       NA\\\\\n",
       "\t 28013 & Universidad      & Apartment   & Entire home/apt &  4 & 1.0 & 1 &  1 & Real Bed      & TV,Wireless Internet,Air conditioning,Pool,Kitchen,Doorman,Gym,Elevator in building,Buzzer/wireless intercom,Heating,Washer,First aid kit,Safety card,Essentials,Shampoo,Hangers,Hair dryer,Iron,Laptop friendly workspace                                                                                            &  NA & 150 & 100 &       NA\\\\\n",
       "\t 28004 & Universidad      & Loft        & Entire home/apt &  2 & 1.0 & 0 &  1 & Real Bed      & TV,Internet,Wireless Internet,Kitchen,Smoking allowed,Pets allowed,Elevator in building,Heating,Family/kid friendly,Washer,First aid kit,Essentials,Shampoo                                                                                                                                                           &  NA &  80 &  91 &       NA\\\\\n",
       "\t 28004 & Universidad      & Apartment   & Entire home/apt &  3 & 1.0 & 0 &  2 & Real Bed      & TV,Internet,Wireless Internet,Air conditioning,Kitchen,Heating,Family/kid friendly,Washer                                                                                                                                                                                                                             &  NA &  69 &  80 &       NA\\\\\n",
       "\\end{tabular}\n"
      ],
      "text/markdown": [
       "\n",
       "A data.frame: 12760 × 14\n",
       "\n",
       "| CodigoPostal &lt;fct&gt; | Barrio &lt;fct&gt; | TipoPropiedad &lt;fct&gt; | TipoAlquiler &lt;fct&gt; | MaxOcupantes &lt;int&gt; | NumBanyos &lt;dbl&gt; | NumDormitorios &lt;int&gt; | NumCamas &lt;int&gt; | TipoCama &lt;fct&gt; | Comodidades &lt;fct&gt; | PiesCuadrados &lt;int&gt; | Precio &lt;int&gt; | Puntuacion &lt;int&gt; | MetrosCuadrados &lt;dbl&gt; |\n",
       "|---|---|---|---|---|---|---|---|---|---|---|---|---|---|\n",
       "| 28004 | Universidad | Apartment   | Private room    |  2 | 2 | 1 |  1 | Real Bed | TV,Wireless Internet,Kitchen,Pets allowed,Pets live on this property,Buzzer/wireless intercom,Heating,Suitable for events,Washer,First aid kit,Essentials,Lock on bedroom door,Iron                                                                                                                                                                              |  NA |  35 |  NA |        NA |\n",
       "| 28004 | Universidad | Apartment   | Entire home/apt |  6 | 1 | 3 |  5 | Real Bed | TV,Internet,Wireless Internet,Air conditioning,Kitchen,Indoor fireplace,Heating,Family/kid friendly,Washer,Dryer,Smoke detector,Carbon monoxide detector,Essentials,Shampoo                                                                                                                                                                                      |  NA |  92 |  96 |        NA |\n",
       "| 28004 | Universidad | Apartment   | Entire home/apt |  3 | 1 | 2 |  2 | Real Bed | TV,Internet,Wireless Internet,Air conditioning,Kitchen,Doorman,Heating,Family/kid friendly,Washer,Essentials,Shampoo,Hangers,Hair dryer,Iron,Laptop friendly workspace                                                                                                                                                                                           |  NA |  55 |  91 |        NA |\n",
       "| 28004 | Universidad | Loft        | Entire home/apt |  3 | 2 | 1 |  1 | Real Bed | TV,Internet,Wireless Internet,Air conditioning,Kitchen,Pets allowed,Breakfast,Elevator in building,Indoor fireplace,Buzzer/wireless intercom,Heating,Washer,Essentials,Shampoo,Hangers,Hair dryer,Iron,Laptop friendly workspace,translation missing: en.hosting_amenity_49,translation missing: en.hosting_amenity_50                                           |  NA |  60 | 100 |        NA |\n",
       "| 28015 | Universidad | Apartment   | Entire home/apt |  5 | 1 | 1 |  1 | Real Bed | TV,Wireless Internet,Air conditioning,Kitchen,Smoking allowed,Pets allowed,Elevator in building,Heating,Family/kid friendly,Washer,Essentials,Iron                                                                                                                                                                                                               | 538 |  75 |  90 | 244.03250 |\n",
       "| 28004 | Universidad | Apartment   | Entire home/apt |  2 | 1 | 0 |  1 | Real Bed | TV,Cable TV,Internet,Wireless Internet,Air conditioning,Wheelchair accessible,Kitchen,Doorman,Elevator in building,Buzzer/wireless intercom,Heating,Washer,Smoke detector,Carbon monoxide detector,First aid kit,Safety card,Fire extinguisher,Essentials,Shampoo,24-hour check-in,Hangers,Hair dryer,Iron,Laptop friendly workspace,Self Check-In,Doorman Entry |  NA |  55 |  95 |        NA |\n",
       "| 28004 | Universidad | House       | Private room    |  7 | 5 | 1 |  7 | Real Bed | Internet,Wireless Internet,Kitchen,Smoking allowed,Heating,Fire extinguisher,Shampoo,Lock on bedroom door,Hangers,Hair dryer,Iron,translation missing: en.hosting_amenity_49,translation missing: en.hosting_amenity_50                                                                                                                                          |  NA |  60 |  77 |        NA |\n",
       "| 28004 | Universidad | Apartment   | Entire home/apt |  3 | 1 | 1 | NA | Real Bed | TV,Wireless Internet,Air conditioning,Kitchen,Elevator in building,Buzzer/wireless intercom,Heating,Washer                                                                                                                                                                                                                                                       |  NA |  70 |  84 |        NA |\n",
       "| 28015 | Universidad | Apartment   | Entire home/apt |  2 | 1 | 1 |  1 | Real Bed | TV,Internet,Wireless Internet,Kitchen,Elevator in building,Buzzer/wireless intercom,Heating,Family/kid friendly,Washer,Dryer,Essentials,Shampoo,translation missing: en.hosting_amenity_49                                                                                                                                                                       | 700 |  90 |  98 | 317.51440 |\n",
       "| 28004 | Universidad | Apartment   | Entire home/apt |  4 | 2 | 2 |  2 | Real Bed | TV,Wireless Internet,Air conditioning,Kitchen,Elevator in building,Hot tub,Heating,Family/kid friendly,Washer,Dryer,Essentials,Hair dryer,Iron                                                                                                                                                                                                                   |  NA | 155 |  NA |        NA |\n",
       "| 28004 | Universidad | Apartment   | Entire home/apt |  4 | 1 | 1 |  2 | Real Bed | TV,Wireless Internet,Air conditioning,Wheelchair accessible,Kitchen,Elevator in building,Buzzer/wireless intercom,Heating,Family/kid friendly,Washer,Essentials,Shampoo                                                                                                                                                                                          |  40 |  70 |  90 |  18.14368 |\n",
       "| 28004 | Universidad | Apartment   | Private room    |  2 | 1 | 1 |  1 | Real Bed | Internet,Wireless Internet,Kitchen,Smoking allowed,Elevator in building,Buzzer/wireless intercom,Heating,Family/kid friendly,Washer,Dryer,First aid kit,Essentials,Shampoo,24-hour check-in,Hangers,Hair dryer,Iron,Laptop friendly workspace                                                                                                                    |  NA |  39 |  90 |        NA |\n",
       "| 28013 | Sol         | Apartment   | Private room    |  1 | 2 | 1 |  1 | Real Bed | TV,Wireless Internet,Air conditioning,Kitchen,Elevator in building,Buzzer/wireless intercom,Heating,Washer,24-hour check-in,Hangers,Laptop friendly workspace,Self Check-In,Doorman Entry                                                                                                                                                                        |  NA |  39 |  80 |        NA |\n",
       "| 28005 | Sol         | Apartment   | Private room    |  2 | 1 | 1 |  1 | Real Bed | TV,Internet,Wireless Internet,Kitchen,Smoking allowed,Pets live on this property,Cat(s),Heating,Washer,Essentials,Shampoo,Hangers,Hair dryer,Iron,Laptop friendly workspace,translation missing: en.hosting_amenity_49,translation missing: en.hosting_amenity_50                                                                                                |  NA |  46 |  97 |        NA |\n",
       "| 28013 | Sol         | Apartment   | Entire home/apt |  4 | 1 | 1 |  1 | Real Bed | TV,Wireless Internet,Air conditioning,Kitchen,Doorman,Elevator in building,Buzzer/wireless intercom,Heating,Family/kid friendly,Suitable for events,Washer,Essentials,Hangers,Hair dryer,Iron                                                                                                                                                                    | 646 |  75 |  91 | 293.02043 |\n",
       "| 28013 | Sol         | Condominium | Entire home/apt |  6 | 1 | 2 |  3 | Real Bed | TV,Wireless Internet,Air conditioning,Kitchen,Doorman,Elevator in building,Buzzer/wireless intercom,Heating,Family/kid friendly,Washer,Dryer,Essentials,Shampoo,Hangers,Hair dryer,Iron                                                                                                                                                                          |  NA | 130 | 100 |        NA |\n",
       "| 28013 | Sol         | Apartment   | Entire home/apt |  4 | 1 | 1 |  2 | Real Bed | TV,Internet,Wireless Internet,Air conditioning,Kitchen,Doorman,Elevator in building,Buzzer/wireless intercom,Heating,Family/kid friendly,Washer,Smoke detector,Carbon monoxide detector,First aid kit,Safety card,Fire extinguisher,Essentials,Shampoo,24-hour check-in,Hangers,Hair dryer,Iron,Laptop friendly workspace                                        |  NA | 100 |  97 |        NA |\n",
       "| 28012 | Sol         | Apartment   | Entire home/apt |  6 | 1 | 2 |  2 | Real Bed | TV,Internet,Wireless Internet,Air conditioning,Kitchen,Smoking allowed,Elevator in building,Buzzer/wireless intercom,Heating,Family/kid friendly,Washer,Dryer,Essentials,Shampoo,Hangers,Hair dryer,Iron,Laptop friendly workspace                                                                                                                               |  NA | 160 |  95 |        NA |\n",
       "| 28013 | Sol         | Apartment   | Entire home/apt |  4 | 1 | 1 |  2 | Real Bed | TV,Internet,Wireless Internet,Air conditioning,Kitchen,Heating,Washer,Essentials,Hangers,Hair dryer,translation missing: en.hosting_amenity_50                                                                                                                                                                                                                   |  NA |  49 |  95 |        NA |\n",
       "| 28013 | Sol         | Apartment   | Private room    |  2 | 5 | 1 |  1 | Real Bed | TV,Wireless Internet,Air conditioning,Kitchen,Doorman,Elevator in building,Buzzer/wireless intercom,Heating,Washer,Dryer,Smoke detector,Fire extinguisher,Essentials,Lock on bedroom door,24-hour check-in,Hangers,Iron,Laptop friendly workspace,translation missing: en.hosting_amenity_49,translation missing: en.hosting_amenity_50                          |  NA |  31 |  40 |        NA |\n",
       "| 28013 | Sol         | Apartment   | Entire home/apt |  4 | 1 | 1 |  2 | Real Bed | TV,Wireless Internet,Kitchen,Pets allowed,Elevator in building,Heating,Family/kid friendly,Washer,Essentials,Shampoo,Hangers,Hair dryer,Laptop friendly workspace                                                                                                                                                                                                |  NA |  70 |  88 |        NA |\n",
       "| 28005 | Sol         | Apartment   | Entire home/apt | 10 | 2 | 4 |  7 | Real Bed | TV,Internet,Wireless Internet,Air conditioning,Kitchen,Heating,Family/kid friendly,Washer,Essentials                                                                                                                                                                                                                                                             |  NA | 210 |  81 |        NA |\n",
       "| 28013 | Sol         | Apartment   | Entire home/apt |  6 | 1 | 2 |  4 | Real Bed | TV,Internet,Wireless Internet,Air conditioning,Kitchen,Smoking allowed,Pets allowed,Doorman,Elevator in building,Buzzer/wireless intercom,Heating,Family/kid friendly,Washer,First aid kit,Safety card,Essentials,Shampoo,Hangers,Hair dryer,Iron                                                                                                                |  NA | 120 |  99 |        NA |\n",
       "| 28012 | Sol         | Apartment   | Entire home/apt |  4 | 1 | 1 |  2 | Real Bed | TV,Internet,Wireless Internet,Air conditioning,Kitchen,Elevator in building,Heating,Family/kid friendly,Washer,Smoke detector,Carbon monoxide detector,Essentials,Shampoo,24-hour check-in,Hangers,Hair dryer,Iron,Laptop friendly workspace                                                                                                                     |  NA |  50 |  91 |        NA |\n",
       "| 28012 | Sol         | Apartment   | Entire home/apt |  4 | 1 | 1 |  1 | Real Bed | TV,Cable TV,Internet,Wireless Internet,Air conditioning,Kitchen,Elevator in building,Buzzer/wireless intercom,Heating,Family/kid friendly,Washer,Essentials,Hair dryer,Iron                                                                                                                                                                                      | 753 | 100 |  87 | 341.55478 |\n",
       "| 28013 | Sol         | Apartment   | Entire home/apt |  4 | 1 | 1 |  2 | Real Bed | TV,Internet,Wireless Internet,Air conditioning,Kitchen,Breakfast,Elevator in building,Heating,Family/kid friendly,Washer,First aid kit,Fire extinguisher,Essentials,Shampoo,Hangers,Hair dryer,Iron,Laptop friendly workspace                                                                                                                                    |  NA |  75 | 100 |        NA |\n",
       "| 28014 | Sol         | Condominium | Entire home/apt |  8 | 2 | 2 |  5 | Real Bed | TV,Internet,Wireless Internet,Air conditioning,Wheelchair accessible,Kitchen,Doorman,Elevator in building,Buzzer/wireless intercom,Heating,Family/kid friendly,Washer,Smoke detector,Carbon monoxide detector,Essentials,Shampoo,24-hour check-in,Hangers,Hair dryer,Iron,Laptop friendly workspace                                                              |  NA | 155 |  93 |        NA |\n",
       "| 28013 | Sol         | Apartment   | Entire home/apt |  6 | 2 | 2 |  3 | Real Bed | TV,Internet,Wireless Internet,Air conditioning,Wheelchair accessible,Kitchen,Doorman,Elevator in building,Buzzer/wireless intercom,Heating,Family/kid friendly,Washer,Dryer,Essentials,Hangers,Hair dryer,Iron                                                                                                                                                   |  NA | 155 |  80 |        NA |\n",
       "| 28012 | Sol         | Apartment   | Private room    |  1 | 1 | 1 |  1 | Real Bed | TV,Cable TV,Internet,Wireless Internet,Kitchen,Buzzer/wireless intercom,Heating,Family/kid friendly,Washer,Essentials,Shampoo                                                                                                                                                                                                                                    |  NA |  15 | 100 |        NA |\n",
       "| 28005 | Sol         | Apartment   | Entire home/apt |  8 | 1 | 3 |  4 | Real Bed | TV,Internet,Wireless Internet,Kitchen,Breakfast,Elevator in building,Buzzer/wireless intercom,Heating,Family/kid friendly,Washer,Essentials,Shampoo,Hangers,Hair dryer,Iron,Laptop friendly workspace,Self Check-In,Lockbox                                                                                                                                      |  NA | 163 | 100 |        NA |\n",
       "| ⋮ | ⋮ | ⋮ | ⋮ | ⋮ | ⋮ | ⋮ | ⋮ | ⋮ | ⋮ | ⋮ | ⋮ | ⋮ | ⋮ |\n",
       "| 28023 | Valdemarín       | House       | Private room    |  1 | 1.0 | 0 |  1 | Real Bed      | TV,Wireless Internet,Air conditioning,Kitchen,Free parking on premises,Breakfast,Heating,Washer,Smoke detector,Essentials,Shampoo,Hangers,Hair dryer,Iron,Laptop friendly workspace,translation missing: en.hosting_amenity_50                                                                                        |  NA |  50 |  NA |       NA |\n",
       "| 28023 | Aravaca          | Condominium | Entire home/apt |  3 | 1.0 | 1 |  3 | Real Bed      | TV,Internet,Wireless Internet,Pool,Kitchen,Free parking on premises,Doorman,Heating,Family/kid friendly,Washer,Essentials,24-hour check-in,Hangers,Iron,Laptop friendly workspace,Private entrance                                                                                                                    |  NA |  50 | 100 |       NA |\n",
       "| 28011 | Puerta del Angel | Apartment   | Private room    |  2 | 1.0 | 1 |  1 | Real Bed      | TV,Internet,Wireless Internet,Doorman,Buzzer/wireless intercom,Heating,Family/kid friendly,Washer,Smoke detector,Essentials,Shampoo,Hangers,Hair dryer,Iron,Laptop friendly workspace                                                                                                                                 |  NA |  23 |  94 |       NA |\n",
       "| 28011 | Puerta del Angel | Other       | Private room    |  2 | 1.0 | 1 |  1 | Real Bed      | TV,Wireless Internet,Kitchen,Elevator in building,Heating,Family/kid friendly,Washer,Dryer,Shampoo                                                                                                                                                                                                                    |  NA |  33 |  95 |       NA |\n",
       "| 28011 | Puerta del Angel | Apartment   | Private room    |  3 | 1.0 | 1 |  2 | Real Bed      | Internet,Wireless Internet,Kitchen,Free parking on premises,Smoking allowed,Elevator in building,Heating,Family/kid friendly,Fire extinguisher,Essentials,translation missing: en.hosting_amenity_50                                                                                                                  |  NA |  20 |  88 |       NA |\n",
       "| 28004 | Universidad      | Other       | Entire home/apt |  3 | 1.0 | 1 |  1 | Real Bed      | TV,Internet,Wireless Internet,Air conditioning,Kitchen,Smoking allowed,Pets allowed,Elevator in building,Buzzer/wireless intercom,Heating,Family/kid friendly,Washer,Dryer,Fire extinguisher,Essentials,24-hour check-in,Hangers,Hair dryer,Iron                                                                      |  NA |  43 |  83 |       NA |\n",
       "| 28004 | Universidad      | Apartment   | Entire home/apt |  3 | 1.0 | 1 |  1 | Real Bed      | TV,Internet,Wireless Internet,Kitchen,Buzzer/wireless intercom,Heating,Washer,Dryer,Essentials,Shampoo,24-hour check-in,Hangers,Hair dryer,Iron,Laptop friendly workspace,translation missing: en.hosting_amenity_49,translation missing: en.hosting_amenity_50                                                       |  NA |  80 |  96 |       NA |\n",
       "| 28004 | Universidad      | Apartment   | Entire home/apt |  2 | 1.0 | 1 |  1 | Real Bed      | TV,Internet,Wireless Internet,Air conditioning,Kitchen,Elevator in building,Heating,Washer,Dryer,First aid kit,Essentials,Hangers,Hair dryer,Iron,translation missing: en.hosting_amenity_49,translation missing: en.hosting_amenity_50                                                                               |  NA |  80 |  99 |       NA |\n",
       "| 28015 | Universidad      | Apartment   | Entire home/apt |  4 | 1.0 | 1 |  2 | Real Bed      | TV,Internet,Wireless Internet,Air conditioning,Kitchen,Elevator in building,Heating,Family/kid friendly,Washer,Smoke detector,Fire extinguisher,Essentials,Shampoo,Lock on bedroom door,Hangers,Hair dryer,Iron                                                                                                       |  NA | 100 | 100 |       NA |\n",
       "| 28015 | Universidad      | Apartment   | Entire home/apt |  2 | 1.0 | 1 |  2 | Real Bed      | TV,Wireless Internet,Air conditioning,Kitchen,Elevator in building,Buzzer/wireless intercom,Heating,Family/kid friendly,Washer                                                                                                                                                                                        | 291 |  50 |  87 | 131.9953 |\n",
       "| 28015 | Universidad      | Apartment   | Entire home/apt |  5 | 1.0 | 2 |  3 | Real Bed      | TV,Internet,Wireless Internet,Kitchen,Smoking allowed,Elevator in building,Buzzer/wireless intercom,Heating,Family/kid friendly,Washer,First aid kit,Essentials,Shampoo,24-hour check-in,Hangers,Hair dryer,Iron,Laptop friendly workspace                                                                            |  NA |  85 |  90 |       NA |\n",
       "| 28015 | Universidad      | Apartment   | Private room    |  1 | 2.0 | 1 |  1 | Real Bed      | TV,Wireless Internet,Kitchen,Elevator in building,Heating,Washer,Lock on bedroom door,Hangers,Laptop friendly workspace,translation missing: en.hosting_amenity_49,translation missing: en.hosting_amenity_50,Private living room                                                                                     |  NA |  30 |  NA |       NA |\n",
       "| 28015 | Universidad      | Apartment   | Entire home/apt |  4 | 1.0 | 1 |  2 | Real Bed      | TV,Wireless Internet,Air conditioning,Kitchen,Smoking allowed,Heating,Family/kid friendly,Washer,Dryer,Smoke detector,First aid kit,Essentials,Shampoo,Hangers,Hair dryer,Iron                                                                                                                                        |  NA |  60 | 100 |       NA |\n",
       "| 28013 | Universidad      | Apartment   | Entire home/apt |  2 | 1.0 | 1 |  1 | Real Bed      | TV,Wireless Internet,Air conditioning,Kitchen,Elevator in building,Heating,Washer,Dryer,Essentials,Shampoo,Hangers,Hair dryer,Iron,Laptop friendly workspace,translation missing: en.hosting_amenity_49,translation missing: en.hosting_amenity_50                                                                    |  NA | 145 |  NA |       NA |\n",
       "| 28004 | Universidad      | Apartment   | Entire home/apt |  4 | 1.0 | 1 |  2 | Real Bed      | TV,Internet,Wireless Internet,Air conditioning,Kitchen,Pets allowed,Indoor fireplace,Buzzer/wireless intercom,Heating,Family/kid friendly,Washer,Smoke detector,Carbon monoxide detector,Essentials,Shampoo,24-hour check-in,Hangers,Hair dryer,Iron,Laptop friendly workspace                                        |  NA |  62 |  91 |       NA |\n",
       "| 28004 | Universidad      | Apartment   | Entire home/apt | 14 | 5.5 | 5 | 10 | Real Bed      | TV,Internet,Wireless Internet,Air conditioning,Kitchen,Smoking allowed,Elevator in building,Indoor fireplace,Family/kid friendly,Washer,Dryer,First aid kit,Fire extinguisher,Essentials                                                                                                                              |  NA | 300 |  94 |       NA |\n",
       "| 28004 | Universidad      | Apartment   | Private room    |  1 | 1.0 | 1 |  1 | Real Bed      | Internet,Wireless Internet,Kitchen,Elevator in building,Heating,Washer,Dryer,First aid kit,Essentials,Hangers,Iron,translation missing: en.hosting_amenity_49,translation missing: en.hosting_amenity_50                                                                                                              |   0 |  35 | 100 |   0.0000 |\n",
       "| 28004 | Universidad      | Apartment   | Entire home/apt |  3 | 1.0 | 1 |  2 | Real Bed      | TV,Wireless Internet,Kitchen,Buzzer/wireless intercom,Heating,Family/kid friendly,Washer,Smoke detector,Essentials,Shampoo,24-hour check-in,Hangers,Laptop friendly workspace,translation missing: en.hosting_amenity_50                                                                                              |  NA |  62 |  81 |       NA |\n",
       "| 28004 | Universidad      | Apartment   | Private room    |  2 | 1.0 | 1 |  1 | Real Bed      | TV,Internet,Wireless Internet,Smoking allowed,Elevator in building,Heating,Washer,Essentials,Hangers,Hair dryer,Iron,translation missing: en.hosting_amenity_49,translation missing: en.hosting_amenity_50                                                                                                            |  NA |  45 |  90 |       NA |\n",
       "| 28015 | Universidad      | Apartment   | Private room    |  1 | 1.0 | 1 |  1 | Real Bed      | TV,Wireless Internet,Kitchen,Elevator in building,Washer,Lock on bedroom door,Hangers,Laptop friendly workspace,translation missing: en.hosting_amenity_49,translation missing: en.hosting_amenity_50                                                                                                                 |  NA |  31 |  NA |       NA |\n",
       "| 28004 | Universidad      | Apartment   | Entire home/apt |  4 | 1.0 | 2 |  4 | Pull-out Sofa | TV,Internet,Wireless Internet,Air conditioning,Kitchen,Smoking allowed,Pets allowed,Elevator in building,Heating,Family/kid friendly,Washer,Dryer,Essentials,Shampoo,Hangers,Hair dryer,Iron                                                                                                                          |  NA |  90 |  90 |       NA |\n",
       "| 28004 | Universidad      | Apartment   | Entire home/apt |  4 | 1.0 | 2 |  2 | Real Bed      | TV,Internet,Wireless Internet,Air conditioning,Kitchen,Smoking allowed,Pets allowed,Buzzer/wireless intercom,Heating,Family/kid friendly,Washer,Dryer,Essentials,Hangers,Hair dryer,Iron                                                                                                                              |  NA |  70 |  87 |       NA |\n",
       "| 28004 | Universidad      | Apartment   | Entire home/apt |  2 | 1.0 | 1 |  1 | Real Bed      | TV,Internet,Wireless Internet,Air conditioning,Kitchen,Smoking allowed,Pets allowed,Elevator in building,Heating,Family/kid friendly,Washer,First aid kit,Fire extinguisher,Essentials,Lock on bedroom door,Hangers,Hair dryer,Iron                                                                                   |  NA |  40 |  82 |       NA |\n",
       "| 28004 | Universidad      | Loft        | Entire home/apt |  2 | 1.0 | 1 |  2 | Real Bed      | Internet,Wireless Internet,Smoking allowed,Breakfast,Elevator in building,Heating,Shampoo,Hangers,Hair dryer,Iron,Laptop friendly workspace,translation missing: en.hosting_amenity_49,translation missing: en.hosting_amenity_50                                                                                     |  NA |  30 |  NA |       NA |\n",
       "| 28004 | Universidad      | Apartment   | Entire home/apt |  4 | 1.0 | 1 |  2 | Real Bed      | TV,Wireless Internet,Air conditioning,Kitchen,Smoking allowed,Pets allowed,Heating,Family/kid friendly,Washer,Fire extinguisher,Essentials,Lock on bedroom door,Hangers,Hair dryer,Iron                                                                                                                               |  NA |  48 |  83 |       NA |\n",
       "| 28015 | Universidad      | Apartment   | Entire home/apt |  2 | 1.0 | 1 |  1 | Real Bed      | TV,Internet,Wireless Internet,Air conditioning,Kitchen,Elevator in building,Buzzer/wireless intercom,Heating,Washer,Dryer,Smoke detector,Fire extinguisher,Essentials,Shampoo,Hangers,Hair dryer,Iron,Laptop friendly workspace,translation missing: en.hosting_amenity_49,translation missing: en.hosting_amenity_50 |  NA |  35 |  90 |       NA |\n",
       "| 28004 | Universidad      | Apartment   | Entire home/apt |  3 | 1.0 | 1 |  2 | Real Bed      | TV,Wireless Internet,Air conditioning,Kitchen,Elevator in building,Buzzer/wireless intercom,Heating,Family/kid friendly,Washer,Dryer,Smoke detector,Carbon monoxide detector,Fire extinguisher,Essentials,Shampoo,24-hour check-in,Hangers,Hair dryer,Iron,Laptop friendly workspace                                  |  NA |  79 |  97 |       NA |\n",
       "| 28013 | Universidad      | Apartment   | Entire home/apt |  4 | 1.0 | 1 |  1 | Real Bed      | TV,Wireless Internet,Air conditioning,Pool,Kitchen,Doorman,Gym,Elevator in building,Buzzer/wireless intercom,Heating,Washer,First aid kit,Safety card,Essentials,Shampoo,Hangers,Hair dryer,Iron,Laptop friendly workspace                                                                                            |  NA | 150 | 100 |       NA |\n",
       "| 28004 | Universidad      | Loft        | Entire home/apt |  2 | 1.0 | 0 |  1 | Real Bed      | TV,Internet,Wireless Internet,Kitchen,Smoking allowed,Pets allowed,Elevator in building,Heating,Family/kid friendly,Washer,First aid kit,Essentials,Shampoo                                                                                                                                                           |  NA |  80 |  91 |       NA |\n",
       "| 28004 | Universidad      | Apartment   | Entire home/apt |  3 | 1.0 | 0 |  2 | Real Bed      | TV,Internet,Wireless Internet,Air conditioning,Kitchen,Heating,Family/kid friendly,Washer                                                                                                                                                                                                                             |  NA |  69 |  80 |       NA |\n",
       "\n"
      ],
      "text/plain": [
       "      CodigoPostal Barrio           TipoPropiedad TipoAlquiler    MaxOcupantes\n",
       "1     28004        Universidad      Apartment     Private room     2          \n",
       "2     28004        Universidad      Apartment     Entire home/apt  6          \n",
       "3     28004        Universidad      Apartment     Entire home/apt  3          \n",
       "4     28004        Universidad      Loft          Entire home/apt  3          \n",
       "5     28015        Universidad      Apartment     Entire home/apt  5          \n",
       "6     28004        Universidad      Apartment     Entire home/apt  2          \n",
       "7     28004        Universidad      House         Private room     7          \n",
       "8     28004        Universidad      Apartment     Entire home/apt  3          \n",
       "9     28015        Universidad      Apartment     Entire home/apt  2          \n",
       "10    28004        Universidad      Apartment     Entire home/apt  4          \n",
       "11    28004        Universidad      Apartment     Entire home/apt  4          \n",
       "12    28004        Universidad      Apartment     Private room     2          \n",
       "13    28013        Sol              Apartment     Private room     1          \n",
       "14    28005        Sol              Apartment     Private room     2          \n",
       "15    28013        Sol              Apartment     Entire home/apt  4          \n",
       "16    28013        Sol              Condominium   Entire home/apt  6          \n",
       "17    28013        Sol              Apartment     Entire home/apt  4          \n",
       "18    28012        Sol              Apartment     Entire home/apt  6          \n",
       "19    28013        Sol              Apartment     Entire home/apt  4          \n",
       "20    28013        Sol              Apartment     Private room     2          \n",
       "21    28013        Sol              Apartment     Entire home/apt  4          \n",
       "22    28005        Sol              Apartment     Entire home/apt 10          \n",
       "23    28013        Sol              Apartment     Entire home/apt  6          \n",
       "24    28012        Sol              Apartment     Entire home/apt  4          \n",
       "25    28012        Sol              Apartment     Entire home/apt  4          \n",
       "26    28013        Sol              Apartment     Entire home/apt  4          \n",
       "27    28014        Sol              Condominium   Entire home/apt  8          \n",
       "28    28013        Sol              Apartment     Entire home/apt  6          \n",
       "29    28012        Sol              Apartment     Private room     1          \n",
       "30    28005        Sol              Apartment     Entire home/apt  8          \n",
       "⋮     ⋮            ⋮                ⋮             ⋮               ⋮           \n",
       "12731 28023        Valdemarín       House         Private room     1          \n",
       "12732 28023        Aravaca          Condominium   Entire home/apt  3          \n",
       "12733 28011        Puerta del Angel Apartment     Private room     2          \n",
       "12734 28011        Puerta del Angel Other         Private room     2          \n",
       "12735 28011        Puerta del Angel Apartment     Private room     3          \n",
       "12736 28004        Universidad      Other         Entire home/apt  3          \n",
       "12737 28004        Universidad      Apartment     Entire home/apt  3          \n",
       "12738 28004        Universidad      Apartment     Entire home/apt  2          \n",
       "12739 28015        Universidad      Apartment     Entire home/apt  4          \n",
       "12740 28015        Universidad      Apartment     Entire home/apt  2          \n",
       "12741 28015        Universidad      Apartment     Entire home/apt  5          \n",
       "12742 28015        Universidad      Apartment     Private room     1          \n",
       "12743 28015        Universidad      Apartment     Entire home/apt  4          \n",
       "12744 28013        Universidad      Apartment     Entire home/apt  2          \n",
       "12745 28004        Universidad      Apartment     Entire home/apt  4          \n",
       "12746 28004        Universidad      Apartment     Entire home/apt 14          \n",
       "12747 28004        Universidad      Apartment     Private room     1          \n",
       "12748 28004        Universidad      Apartment     Entire home/apt  3          \n",
       "12749 28004        Universidad      Apartment     Private room     2          \n",
       "12750 28015        Universidad      Apartment     Private room     1          \n",
       "12751 28004        Universidad      Apartment     Entire home/apt  4          \n",
       "12752 28004        Universidad      Apartment     Entire home/apt  4          \n",
       "12753 28004        Universidad      Apartment     Entire home/apt  2          \n",
       "12754 28004        Universidad      Loft          Entire home/apt  2          \n",
       "12755 28004        Universidad      Apartment     Entire home/apt  4          \n",
       "12756 28015        Universidad      Apartment     Entire home/apt  2          \n",
       "12757 28004        Universidad      Apartment     Entire home/apt  3          \n",
       "12758 28013        Universidad      Apartment     Entire home/apt  4          \n",
       "12759 28004        Universidad      Loft          Entire home/apt  2          \n",
       "12760 28004        Universidad      Apartment     Entire home/apt  3          \n",
       "      NumBanyos NumDormitorios NumCamas TipoCama     \n",
       "1     2         1               1       Real Bed     \n",
       "2     1         3               5       Real Bed     \n",
       "3     1         2               2       Real Bed     \n",
       "4     2         1               1       Real Bed     \n",
       "5     1         1               1       Real Bed     \n",
       "6     1         0               1       Real Bed     \n",
       "7     5         1               7       Real Bed     \n",
       "8     1         1              NA       Real Bed     \n",
       "9     1         1               1       Real Bed     \n",
       "10    2         2               2       Real Bed     \n",
       "11    1         1               2       Real Bed     \n",
       "12    1         1               1       Real Bed     \n",
       "13    2         1               1       Real Bed     \n",
       "14    1         1               1       Real Bed     \n",
       "15    1         1               1       Real Bed     \n",
       "16    1         2               3       Real Bed     \n",
       "17    1         1               2       Real Bed     \n",
       "18    1         2               2       Real Bed     \n",
       "19    1         1               2       Real Bed     \n",
       "20    5         1               1       Real Bed     \n",
       "21    1         1               2       Real Bed     \n",
       "22    2         4               7       Real Bed     \n",
       "23    1         2               4       Real Bed     \n",
       "24    1         1               2       Real Bed     \n",
       "25    1         1               1       Real Bed     \n",
       "26    1         1               2       Real Bed     \n",
       "27    2         2               5       Real Bed     \n",
       "28    2         2               3       Real Bed     \n",
       "29    1         1               1       Real Bed     \n",
       "30    1         3               4       Real Bed     \n",
       "⋮     ⋮         ⋮              ⋮        ⋮            \n",
       "12731 1.0       0               1       Real Bed     \n",
       "12732 1.0       1               3       Real Bed     \n",
       "12733 1.0       1               1       Real Bed     \n",
       "12734 1.0       1               1       Real Bed     \n",
       "12735 1.0       1               2       Real Bed     \n",
       "12736 1.0       1               1       Real Bed     \n",
       "12737 1.0       1               1       Real Bed     \n",
       "12738 1.0       1               1       Real Bed     \n",
       "12739 1.0       1               2       Real Bed     \n",
       "12740 1.0       1               2       Real Bed     \n",
       "12741 1.0       2               3       Real Bed     \n",
       "12742 2.0       1               1       Real Bed     \n",
       "12743 1.0       1               2       Real Bed     \n",
       "12744 1.0       1               1       Real Bed     \n",
       "12745 1.0       1               2       Real Bed     \n",
       "12746 5.5       5              10       Real Bed     \n",
       "12747 1.0       1               1       Real Bed     \n",
       "12748 1.0       1               2       Real Bed     \n",
       "12749 1.0       1               1       Real Bed     \n",
       "12750 1.0       1               1       Real Bed     \n",
       "12751 1.0       2               4       Pull-out Sofa\n",
       "12752 1.0       2               2       Real Bed     \n",
       "12753 1.0       1               1       Real Bed     \n",
       "12754 1.0       1               2       Real Bed     \n",
       "12755 1.0       1               2       Real Bed     \n",
       "12756 1.0       1               1       Real Bed     \n",
       "12757 1.0       1               2       Real Bed     \n",
       "12758 1.0       1               1       Real Bed     \n",
       "12759 1.0       0               1       Real Bed     \n",
       "12760 1.0       0               2       Real Bed     \n",
       "      Comodidades                                                                                                                                                                                                                                                                                                                                                     \n",
       "1     TV,Wireless Internet,Kitchen,Pets allowed,Pets live on this property,Buzzer/wireless intercom,Heating,Suitable for events,Washer,First aid kit,Essentials,Lock on bedroom door,Iron                                                                                                                                                                             \n",
       "2     TV,Internet,Wireless Internet,Air conditioning,Kitchen,Indoor fireplace,Heating,Family/kid friendly,Washer,Dryer,Smoke detector,Carbon monoxide detector,Essentials,Shampoo                                                                                                                                                                                     \n",
       "3     TV,Internet,Wireless Internet,Air conditioning,Kitchen,Doorman,Heating,Family/kid friendly,Washer,Essentials,Shampoo,Hangers,Hair dryer,Iron,Laptop friendly workspace                                                                                                                                                                                          \n",
       "4     TV,Internet,Wireless Internet,Air conditioning,Kitchen,Pets allowed,Breakfast,Elevator in building,Indoor fireplace,Buzzer/wireless intercom,Heating,Washer,Essentials,Shampoo,Hangers,Hair dryer,Iron,Laptop friendly workspace,translation missing: en.hosting_amenity_49,translation missing: en.hosting_amenity_50                                          \n",
       "5     TV,Wireless Internet,Air conditioning,Kitchen,Smoking allowed,Pets allowed,Elevator in building,Heating,Family/kid friendly,Washer,Essentials,Iron                                                                                                                                                                                                              \n",
       "6     TV,Cable TV,Internet,Wireless Internet,Air conditioning,Wheelchair accessible,Kitchen,Doorman,Elevator in building,Buzzer/wireless intercom,Heating,Washer,Smoke detector,Carbon monoxide detector,First aid kit,Safety card,Fire extinguisher,Essentials,Shampoo,24-hour check-in,Hangers,Hair dryer,Iron,Laptop friendly workspace,Self Check-In,Doorman Entry\n",
       "7     Internet,Wireless Internet,Kitchen,Smoking allowed,Heating,Fire extinguisher,Shampoo,Lock on bedroom door,Hangers,Hair dryer,Iron,translation missing: en.hosting_amenity_49,translation missing: en.hosting_amenity_50                                                                                                                                         \n",
       "8     TV,Wireless Internet,Air conditioning,Kitchen,Elevator in building,Buzzer/wireless intercom,Heating,Washer                                                                                                                                                                                                                                                      \n",
       "9     TV,Internet,Wireless Internet,Kitchen,Elevator in building,Buzzer/wireless intercom,Heating,Family/kid friendly,Washer,Dryer,Essentials,Shampoo,translation missing: en.hosting_amenity_49                                                                                                                                                                      \n",
       "10    TV,Wireless Internet,Air conditioning,Kitchen,Elevator in building,Hot tub,Heating,Family/kid friendly,Washer,Dryer,Essentials,Hair dryer,Iron                                                                                                                                                                                                                  \n",
       "11    TV,Wireless Internet,Air conditioning,Wheelchair accessible,Kitchen,Elevator in building,Buzzer/wireless intercom,Heating,Family/kid friendly,Washer,Essentials,Shampoo                                                                                                                                                                                         \n",
       "12    Internet,Wireless Internet,Kitchen,Smoking allowed,Elevator in building,Buzzer/wireless intercom,Heating,Family/kid friendly,Washer,Dryer,First aid kit,Essentials,Shampoo,24-hour check-in,Hangers,Hair dryer,Iron,Laptop friendly workspace                                                                                                                   \n",
       "13    TV,Wireless Internet,Air conditioning,Kitchen,Elevator in building,Buzzer/wireless intercom,Heating,Washer,24-hour check-in,Hangers,Laptop friendly workspace,Self Check-In,Doorman Entry                                                                                                                                                                       \n",
       "14    TV,Internet,Wireless Internet,Kitchen,Smoking allowed,Pets live on this property,Cat(s),Heating,Washer,Essentials,Shampoo,Hangers,Hair dryer,Iron,Laptop friendly workspace,translation missing: en.hosting_amenity_49,translation missing: en.hosting_amenity_50                                                                                               \n",
       "15    TV,Wireless Internet,Air conditioning,Kitchen,Doorman,Elevator in building,Buzzer/wireless intercom,Heating,Family/kid friendly,Suitable for events,Washer,Essentials,Hangers,Hair dryer,Iron                                                                                                                                                                   \n",
       "16    TV,Wireless Internet,Air conditioning,Kitchen,Doorman,Elevator in building,Buzzer/wireless intercom,Heating,Family/kid friendly,Washer,Dryer,Essentials,Shampoo,Hangers,Hair dryer,Iron                                                                                                                                                                         \n",
       "17    TV,Internet,Wireless Internet,Air conditioning,Kitchen,Doorman,Elevator in building,Buzzer/wireless intercom,Heating,Family/kid friendly,Washer,Smoke detector,Carbon monoxide detector,First aid kit,Safety card,Fire extinguisher,Essentials,Shampoo,24-hour check-in,Hangers,Hair dryer,Iron,Laptop friendly workspace                                       \n",
       "18    TV,Internet,Wireless Internet,Air conditioning,Kitchen,Smoking allowed,Elevator in building,Buzzer/wireless intercom,Heating,Family/kid friendly,Washer,Dryer,Essentials,Shampoo,Hangers,Hair dryer,Iron,Laptop friendly workspace                                                                                                                              \n",
       "19    TV,Internet,Wireless Internet,Air conditioning,Kitchen,Heating,Washer,Essentials,Hangers,Hair dryer,translation missing: en.hosting_amenity_50                                                                                                                                                                                                                  \n",
       "20    TV,Wireless Internet,Air conditioning,Kitchen,Doorman,Elevator in building,Buzzer/wireless intercom,Heating,Washer,Dryer,Smoke detector,Fire extinguisher,Essentials,Lock on bedroom door,24-hour check-in,Hangers,Iron,Laptop friendly workspace,translation missing: en.hosting_amenity_49,translation missing: en.hosting_amenity_50                         \n",
       "21    TV,Wireless Internet,Kitchen,Pets allowed,Elevator in building,Heating,Family/kid friendly,Washer,Essentials,Shampoo,Hangers,Hair dryer,Laptop friendly workspace                                                                                                                                                                                               \n",
       "22    TV,Internet,Wireless Internet,Air conditioning,Kitchen,Heating,Family/kid friendly,Washer,Essentials                                                                                                                                                                                                                                                            \n",
       "23    TV,Internet,Wireless Internet,Air conditioning,Kitchen,Smoking allowed,Pets allowed,Doorman,Elevator in building,Buzzer/wireless intercom,Heating,Family/kid friendly,Washer,First aid kit,Safety card,Essentials,Shampoo,Hangers,Hair dryer,Iron                                                                                                               \n",
       "24    TV,Internet,Wireless Internet,Air conditioning,Kitchen,Elevator in building,Heating,Family/kid friendly,Washer,Smoke detector,Carbon monoxide detector,Essentials,Shampoo,24-hour check-in,Hangers,Hair dryer,Iron,Laptop friendly workspace                                                                                                                    \n",
       "25    TV,Cable TV,Internet,Wireless Internet,Air conditioning,Kitchen,Elevator in building,Buzzer/wireless intercom,Heating,Family/kid friendly,Washer,Essentials,Hair dryer,Iron                                                                                                                                                                                     \n",
       "26    TV,Internet,Wireless Internet,Air conditioning,Kitchen,Breakfast,Elevator in building,Heating,Family/kid friendly,Washer,First aid kit,Fire extinguisher,Essentials,Shampoo,Hangers,Hair dryer,Iron,Laptop friendly workspace                                                                                                                                   \n",
       "27    TV,Internet,Wireless Internet,Air conditioning,Wheelchair accessible,Kitchen,Doorman,Elevator in building,Buzzer/wireless intercom,Heating,Family/kid friendly,Washer,Smoke detector,Carbon monoxide detector,Essentials,Shampoo,24-hour check-in,Hangers,Hair dryer,Iron,Laptop friendly workspace                                                             \n",
       "28    TV,Internet,Wireless Internet,Air conditioning,Wheelchair accessible,Kitchen,Doorman,Elevator in building,Buzzer/wireless intercom,Heating,Family/kid friendly,Washer,Dryer,Essentials,Hangers,Hair dryer,Iron                                                                                                                                                  \n",
       "29    TV,Cable TV,Internet,Wireless Internet,Kitchen,Buzzer/wireless intercom,Heating,Family/kid friendly,Washer,Essentials,Shampoo                                                                                                                                                                                                                                   \n",
       "30    TV,Internet,Wireless Internet,Kitchen,Breakfast,Elevator in building,Buzzer/wireless intercom,Heating,Family/kid friendly,Washer,Essentials,Shampoo,Hangers,Hair dryer,Iron,Laptop friendly workspace,Self Check-In,Lockbox                                                                                                                                     \n",
       "⋮     ⋮                                                                                                                                                                                                                                                                                                                                                               \n",
       "12731 TV,Wireless Internet,Air conditioning,Kitchen,Free parking on premises,Breakfast,Heating,Washer,Smoke detector,Essentials,Shampoo,Hangers,Hair dryer,Iron,Laptop friendly workspace,translation missing: en.hosting_amenity_50                                                                                                                                  \n",
       "12732 TV,Internet,Wireless Internet,Pool,Kitchen,Free parking on premises,Doorman,Heating,Family/kid friendly,Washer,Essentials,24-hour check-in,Hangers,Iron,Laptop friendly workspace,Private entrance                                                                                                                                                              \n",
       "12733 TV,Internet,Wireless Internet,Doorman,Buzzer/wireless intercom,Heating,Family/kid friendly,Washer,Smoke detector,Essentials,Shampoo,Hangers,Hair dryer,Iron,Laptop friendly workspace                                                                                                                                                                           \n",
       "12734 TV,Wireless Internet,Kitchen,Elevator in building,Heating,Family/kid friendly,Washer,Dryer,Shampoo                                                                                                                                                                                                                                                              \n",
       "12735 Internet,Wireless Internet,Kitchen,Free parking on premises,Smoking allowed,Elevator in building,Heating,Family/kid friendly,Fire extinguisher,Essentials,translation missing: en.hosting_amenity_50                                                                                                                                                            \n",
       "12736 TV,Internet,Wireless Internet,Air conditioning,Kitchen,Smoking allowed,Pets allowed,Elevator in building,Buzzer/wireless intercom,Heating,Family/kid friendly,Washer,Dryer,Fire extinguisher,Essentials,24-hour check-in,Hangers,Hair dryer,Iron                                                                                                                \n",
       "12737 TV,Internet,Wireless Internet,Kitchen,Buzzer/wireless intercom,Heating,Washer,Dryer,Essentials,Shampoo,24-hour check-in,Hangers,Hair dryer,Iron,Laptop friendly workspace,translation missing: en.hosting_amenity_49,translation missing: en.hosting_amenity_50                                                                                                 \n",
       "12738 TV,Internet,Wireless Internet,Air conditioning,Kitchen,Elevator in building,Heating,Washer,Dryer,First aid kit,Essentials,Hangers,Hair dryer,Iron,translation missing: en.hosting_amenity_49,translation missing: en.hosting_amenity_50                                                                                                                         \n",
       "12739 TV,Internet,Wireless Internet,Air conditioning,Kitchen,Elevator in building,Heating,Family/kid friendly,Washer,Smoke detector,Fire extinguisher,Essentials,Shampoo,Lock on bedroom door,Hangers,Hair dryer,Iron                                                                                                                                                 \n",
       "12740 TV,Wireless Internet,Air conditioning,Kitchen,Elevator in building,Buzzer/wireless intercom,Heating,Family/kid friendly,Washer                                                                                                                                                                                                                                  \n",
       "12741 TV,Internet,Wireless Internet,Kitchen,Smoking allowed,Elevator in building,Buzzer/wireless intercom,Heating,Family/kid friendly,Washer,First aid kit,Essentials,Shampoo,24-hour check-in,Hangers,Hair dryer,Iron,Laptop friendly workspace                                                                                                                      \n",
       "12742 TV,Wireless Internet,Kitchen,Elevator in building,Heating,Washer,Lock on bedroom door,Hangers,Laptop friendly workspace,translation missing: en.hosting_amenity_49,translation missing: en.hosting_amenity_50,Private living room                                                                                                                               \n",
       "12743 TV,Wireless Internet,Air conditioning,Kitchen,Smoking allowed,Heating,Family/kid friendly,Washer,Dryer,Smoke detector,First aid kit,Essentials,Shampoo,Hangers,Hair dryer,Iron                                                                                                                                                                                  \n",
       "12744 TV,Wireless Internet,Air conditioning,Kitchen,Elevator in building,Heating,Washer,Dryer,Essentials,Shampoo,Hangers,Hair dryer,Iron,Laptop friendly workspace,translation missing: en.hosting_amenity_49,translation missing: en.hosting_amenity_50                                                                                                              \n",
       "12745 TV,Internet,Wireless Internet,Air conditioning,Kitchen,Pets allowed,Indoor fireplace,Buzzer/wireless intercom,Heating,Family/kid friendly,Washer,Smoke detector,Carbon monoxide detector,Essentials,Shampoo,24-hour check-in,Hangers,Hair dryer,Iron,Laptop friendly workspace                                                                                  \n",
       "12746 TV,Internet,Wireless Internet,Air conditioning,Kitchen,Smoking allowed,Elevator in building,Indoor fireplace,Family/kid friendly,Washer,Dryer,First aid kit,Fire extinguisher,Essentials                                                                                                                                                                        \n",
       "12747 Internet,Wireless Internet,Kitchen,Elevator in building,Heating,Washer,Dryer,First aid kit,Essentials,Hangers,Iron,translation missing: en.hosting_amenity_49,translation missing: en.hosting_amenity_50                                                                                                                                                        \n",
       "12748 TV,Wireless Internet,Kitchen,Buzzer/wireless intercom,Heating,Family/kid friendly,Washer,Smoke detector,Essentials,Shampoo,24-hour check-in,Hangers,Laptop friendly workspace,translation missing: en.hosting_amenity_50                                                                                                                                        \n",
       "12749 TV,Internet,Wireless Internet,Smoking allowed,Elevator in building,Heating,Washer,Essentials,Hangers,Hair dryer,Iron,translation missing: en.hosting_amenity_49,translation missing: en.hosting_amenity_50                                                                                                                                                      \n",
       "12750 TV,Wireless Internet,Kitchen,Elevator in building,Washer,Lock on bedroom door,Hangers,Laptop friendly workspace,translation missing: en.hosting_amenity_49,translation missing: en.hosting_amenity_50                                                                                                                                                           \n",
       "12751 TV,Internet,Wireless Internet,Air conditioning,Kitchen,Smoking allowed,Pets allowed,Elevator in building,Heating,Family/kid friendly,Washer,Dryer,Essentials,Shampoo,Hangers,Hair dryer,Iron                                                                                                                                                                    \n",
       "12752 TV,Internet,Wireless Internet,Air conditioning,Kitchen,Smoking allowed,Pets allowed,Buzzer/wireless intercom,Heating,Family/kid friendly,Washer,Dryer,Essentials,Hangers,Hair dryer,Iron                                                                                                                                                                        \n",
       "12753 TV,Internet,Wireless Internet,Air conditioning,Kitchen,Smoking allowed,Pets allowed,Elevator in building,Heating,Family/kid friendly,Washer,First aid kit,Fire extinguisher,Essentials,Lock on bedroom door,Hangers,Hair dryer,Iron                                                                                                                             \n",
       "12754 Internet,Wireless Internet,Smoking allowed,Breakfast,Elevator in building,Heating,Shampoo,Hangers,Hair dryer,Iron,Laptop friendly workspace,translation missing: en.hosting_amenity_49,translation missing: en.hosting_amenity_50                                                                                                                               \n",
       "12755 TV,Wireless Internet,Air conditioning,Kitchen,Smoking allowed,Pets allowed,Heating,Family/kid friendly,Washer,Fire extinguisher,Essentials,Lock on bedroom door,Hangers,Hair dryer,Iron                                                                                                                                                                         \n",
       "12756 TV,Internet,Wireless Internet,Air conditioning,Kitchen,Elevator in building,Buzzer/wireless intercom,Heating,Washer,Dryer,Smoke detector,Fire extinguisher,Essentials,Shampoo,Hangers,Hair dryer,Iron,Laptop friendly workspace,translation missing: en.hosting_amenity_49,translation missing: en.hosting_amenity_50                                           \n",
       "12757 TV,Wireless Internet,Air conditioning,Kitchen,Elevator in building,Buzzer/wireless intercom,Heating,Family/kid friendly,Washer,Dryer,Smoke detector,Carbon monoxide detector,Fire extinguisher,Essentials,Shampoo,24-hour check-in,Hangers,Hair dryer,Iron,Laptop friendly workspace                                                                            \n",
       "12758 TV,Wireless Internet,Air conditioning,Pool,Kitchen,Doorman,Gym,Elevator in building,Buzzer/wireless intercom,Heating,Washer,First aid kit,Safety card,Essentials,Shampoo,Hangers,Hair dryer,Iron,Laptop friendly workspace                                                                                                                                      \n",
       "12759 TV,Internet,Wireless Internet,Kitchen,Smoking allowed,Pets allowed,Elevator in building,Heating,Family/kid friendly,Washer,First aid kit,Essentials,Shampoo                                                                                                                                                                                                     \n",
       "12760 TV,Internet,Wireless Internet,Air conditioning,Kitchen,Heating,Family/kid friendly,Washer                                                                                                                                                                                                                                                                       \n",
       "      PiesCuadrados Precio Puntuacion MetrosCuadrados\n",
       "1      NA            35     NA               NA      \n",
       "2      NA            92     96               NA      \n",
       "3      NA            55     91               NA      \n",
       "4      NA            60    100               NA      \n",
       "5     538            75     90        244.03250      \n",
       "6      NA            55     95               NA      \n",
       "7      NA            60     77               NA      \n",
       "8      NA            70     84               NA      \n",
       "9     700            90     98        317.51440      \n",
       "10     NA           155     NA               NA      \n",
       "11     40            70     90         18.14368      \n",
       "12     NA            39     90               NA      \n",
       "13     NA            39     80               NA      \n",
       "14     NA            46     97               NA      \n",
       "15    646            75     91        293.02043      \n",
       "16     NA           130    100               NA      \n",
       "17     NA           100     97               NA      \n",
       "18     NA           160     95               NA      \n",
       "19     NA            49     95               NA      \n",
       "20     NA            31     40               NA      \n",
       "21     NA            70     88               NA      \n",
       "22     NA           210     81               NA      \n",
       "23     NA           120     99               NA      \n",
       "24     NA            50     91               NA      \n",
       "25    753           100     87        341.55478      \n",
       "26     NA            75    100               NA      \n",
       "27     NA           155     93               NA      \n",
       "28     NA           155     80               NA      \n",
       "29     NA            15    100               NA      \n",
       "30     NA           163    100               NA      \n",
       "⋮     ⋮             ⋮      ⋮          ⋮              \n",
       "12731  NA            50     NA              NA       \n",
       "12732  NA            50    100              NA       \n",
       "12733  NA            23     94              NA       \n",
       "12734  NA            33     95              NA       \n",
       "12735  NA            20     88              NA       \n",
       "12736  NA            43     83              NA       \n",
       "12737  NA            80     96              NA       \n",
       "12738  NA            80     99              NA       \n",
       "12739  NA           100    100              NA       \n",
       "12740 291            50     87        131.9953       \n",
       "12741  NA            85     90              NA       \n",
       "12742  NA            30     NA              NA       \n",
       "12743  NA            60    100              NA       \n",
       "12744  NA           145     NA              NA       \n",
       "12745  NA            62     91              NA       \n",
       "12746  NA           300     94              NA       \n",
       "12747   0            35    100          0.0000       \n",
       "12748  NA            62     81              NA       \n",
       "12749  NA            45     90              NA       \n",
       "12750  NA            31     NA              NA       \n",
       "12751  NA            90     90              NA       \n",
       "12752  NA            70     87              NA       \n",
       "12753  NA            40     82              NA       \n",
       "12754  NA            30     NA              NA       \n",
       "12755  NA            48     83              NA       \n",
       "12756  NA            35     90              NA       \n",
       "12757  NA            79     97              NA       \n",
       "12758  NA           150    100              NA       \n",
       "12759  NA            80     91              NA       \n",
       "12760  NA            69     80              NA       "
      ]
     },
     "metadata": {},
     "output_type": "display_data"
    }
   ],
   "source": [
    "#table(substring(airbnb$CodigoPostal,1,2))\n",
    "#table(substring(airbnb$CodigoPostal,1,2) == 28)\n",
    "filter(airbnb, substring(airbnb$CodigoPostal,1,2) == 28)"
   ]
  },
  {
   "cell_type": "code",
   "execution_count": 16,
   "metadata": {},
   "outputs": [
    {
     "data": {
      "text/html": [
       "<table class=\"dataframe\">\n",
       "<caption>A data.frame: 1 × 1</caption>\n",
       "<thead>\n",
       "\t<tr><th scope=col>n</th></tr>\n",
       "\t<tr><th scope=col>&lt;int&gt;</th></tr>\n",
       "</thead>\n",
       "<tbody>\n",
       "\t<tr><td>439</td></tr>\n",
       "</tbody>\n",
       "</table>\n"
      ],
      "text/latex": [
       "A data.frame: 1 × 1\n",
       "\\begin{tabular}{l}\n",
       " n\\\\\n",
       " <int>\\\\\n",
       "\\hline\n",
       "\t 439\\\\\n",
       "\\end{tabular}\n"
      ],
      "text/markdown": [
       "\n",
       "A data.frame: 1 × 1\n",
       "\n",
       "| n &lt;int&gt; |\n",
       "|---|\n",
       "| 439 |\n",
       "\n"
      ],
      "text/plain": [
       "  n  \n",
       "1 439"
      ]
     },
     "metadata": {},
     "output_type": "display_data"
    }
   ],
   "source": [
    "count(filter(airbnb, CodigoPostal == \"\"))"
   ]
  },
  {
   "cell_type": "code",
   "execution_count": 18,
   "metadata": {
    "scrolled": true
   },
   "outputs": [
    {
     "data": {
      "text/html": [
       "<table class=\"dataframe\">\n",
       "<caption>A data.frame: 1 × 14</caption>\n",
       "<thead>\n",
       "\t<tr><th scope=col>CodigoPostal</th><th scope=col>Barrio</th><th scope=col>TipoPropiedad</th><th scope=col>TipoAlquiler</th><th scope=col>MaxOcupantes</th><th scope=col>NumBanyos</th><th scope=col>NumDormitorios</th><th scope=col>NumCamas</th><th scope=col>TipoCama</th><th scope=col>Comodidades</th><th scope=col>PiesCuadrados</th><th scope=col>Precio</th><th scope=col>Puntuacion</th><th scope=col>MetrosCuadrados</th></tr>\n",
       "\t<tr><th scope=col>&lt;fct&gt;</th><th scope=col>&lt;fct&gt;</th><th scope=col>&lt;fct&gt;</th><th scope=col>&lt;fct&gt;</th><th scope=col>&lt;int&gt;</th><th scope=col>&lt;dbl&gt;</th><th scope=col>&lt;int&gt;</th><th scope=col>&lt;int&gt;</th><th scope=col>&lt;fct&gt;</th><th scope=col>&lt;fct&gt;</th><th scope=col>&lt;int&gt;</th><th scope=col>&lt;int&gt;</th><th scope=col>&lt;int&gt;</th><th scope=col>&lt;dbl&gt;</th></tr>\n",
       "</thead>\n",
       "<tbody>\n",
       "\t<tr><td>-</td><td>Recoletos</td><td>House</td><td>Entire home/apt</td><td>10</td><td>6</td><td>4</td><td>9</td><td>Real Bed</td><td></td><td>NA</td><td>NA</td><td>NA</td><td>NA</td></tr>\n",
       "</tbody>\n",
       "</table>\n"
      ],
      "text/latex": [
       "A data.frame: 1 × 14\n",
       "\\begin{tabular}{llllllllllllll}\n",
       " CodigoPostal & Barrio & TipoPropiedad & TipoAlquiler & MaxOcupantes & NumBanyos & NumDormitorios & NumCamas & TipoCama & Comodidades & PiesCuadrados & Precio & Puntuacion & MetrosCuadrados\\\\\n",
       " <fct> & <fct> & <fct> & <fct> & <int> & <dbl> & <int> & <int> & <fct> & <fct> & <int> & <int> & <int> & <dbl>\\\\\n",
       "\\hline\n",
       "\t - & Recoletos & House & Entire home/apt & 10 & 6 & 4 & 9 & Real Bed &  & NA & NA & NA & NA\\\\\n",
       "\\end{tabular}\n"
      ],
      "text/markdown": [
       "\n",
       "A data.frame: 1 × 14\n",
       "\n",
       "| CodigoPostal &lt;fct&gt; | Barrio &lt;fct&gt; | TipoPropiedad &lt;fct&gt; | TipoAlquiler &lt;fct&gt; | MaxOcupantes &lt;int&gt; | NumBanyos &lt;dbl&gt; | NumDormitorios &lt;int&gt; | NumCamas &lt;int&gt; | TipoCama &lt;fct&gt; | Comodidades &lt;fct&gt; | PiesCuadrados &lt;int&gt; | Precio &lt;int&gt; | Puntuacion &lt;int&gt; | MetrosCuadrados &lt;dbl&gt; |\n",
       "|---|---|---|---|---|---|---|---|---|---|---|---|---|---|\n",
       "| - | Recoletos | House | Entire home/apt | 10 | 6 | 4 | 9 | Real Bed | <!----> | NA | NA | NA | NA |\n",
       "\n"
      ],
      "text/plain": [
       "  CodigoPostal Barrio    TipoPropiedad TipoAlquiler    MaxOcupantes NumBanyos\n",
       "1 -            Recoletos House         Entire home/apt 10           6        \n",
       "  NumDormitorios NumCamas TipoCama Comodidades PiesCuadrados Precio Puntuacion\n",
       "1 4              9        Real Bed             NA            NA     NA        \n",
       "  MetrosCuadrados\n",
       "1 NA             "
      ]
     },
     "metadata": {},
     "output_type": "display_data"
    }
   ],
   "source": [
    "filter(airbnb, CodigoPostal == \"-\")"
   ]
  },
  {
   "cell_type": "code",
   "execution_count": 19,
   "metadata": {},
   "outputs": [
    {
     "data": {
      "text/html": [
       "<table class=\"dataframe\">\n",
       "<caption>A data.frame: 1 × 1</caption>\n",
       "<thead>\n",
       "\t<tr><th scope=col>n</th></tr>\n",
       "\t<tr><th scope=col>&lt;int&gt;</th></tr>\n",
       "</thead>\n",
       "<tbody>\n",
       "\t<tr><td>1</td></tr>\n",
       "</tbody>\n",
       "</table>\n"
      ],
      "text/latex": [
       "A data.frame: 1 × 1\n",
       "\\begin{tabular}{l}\n",
       " n\\\\\n",
       " <int>\\\\\n",
       "\\hline\n",
       "\t 1\\\\\n",
       "\\end{tabular}\n"
      ],
      "text/markdown": [
       "\n",
       "A data.frame: 1 × 1\n",
       "\n",
       "| n &lt;int&gt; |\n",
       "|---|\n",
       "| 1 |\n",
       "\n"
      ],
      "text/plain": [
       "  n\n",
       "1 1"
      ]
     },
     "metadata": {},
     "output_type": "display_data"
    }
   ],
   "source": [
    "count(filter(airbnb, CodigoPostal == \"28\"))"
   ]
  },
  {
   "cell_type": "code",
   "execution_count": 92,
   "metadata": {},
   "outputs": [
    {
     "data": {
      "text/html": [
       "<table class=\"dataframe\">\n",
       "<caption>A data.frame: 1 × 14</caption>\n",
       "<thead>\n",
       "\t<tr><th scope=col>CodigoPostal</th><th scope=col>Barrio</th><th scope=col>TipoPropiedad</th><th scope=col>TipoAlquiler</th><th scope=col>MaxOcupantes</th><th scope=col>NumBanyos</th><th scope=col>NumDormitorios</th><th scope=col>NumCamas</th><th scope=col>TipoCama</th><th scope=col>Comodidades</th><th scope=col>PiesCuadrados</th><th scope=col>Precio</th><th scope=col>Puntuacion</th><th scope=col>MetrosCuadrados</th></tr>\n",
       "\t<tr><th scope=col>&lt;fct&gt;</th><th scope=col>&lt;fct&gt;</th><th scope=col>&lt;fct&gt;</th><th scope=col>&lt;fct&gt;</th><th scope=col>&lt;int&gt;</th><th scope=col>&lt;dbl&gt;</th><th scope=col>&lt;int&gt;</th><th scope=col>&lt;int&gt;</th><th scope=col>&lt;fct&gt;</th><th scope=col>&lt;fct&gt;</th><th scope=col>&lt;int&gt;</th><th scope=col>&lt;int&gt;</th><th scope=col>&lt;int&gt;</th><th scope=col>&lt;dbl&gt;</th></tr>\n",
       "</thead>\n",
       "<tbody>\n",
       "\t<tr><td>28002\n",
       "28002</td><td>Prosperidad</td><td>Apartment</td><td>Private room</td><td>2</td><td>1</td><td>1</td><td>1</td><td>Real Bed</td><td>TV,Internet,Wireless Internet,Air conditioning,Wheelchair accessible,Kitchen,Free parking on premises,Doorman,Elevator in building,Indoor fireplace,Buzzer/wireless intercom,Heating,Washer,First aid kit,Fire extinguisher,Essentials,Shampoo,Lock on bedroom door,Hangers,Hair dryer,Iron,Laptop friendly workspace</td><td>NA</td><td>70</td><td>100</td><td>NA</td></tr>\n",
       "</tbody>\n",
       "</table>\n"
      ],
      "text/latex": [
       "A data.frame: 1 × 14\n",
       "\\begin{tabular}{llllllllllllll}\n",
       " CodigoPostal & Barrio & TipoPropiedad & TipoAlquiler & MaxOcupantes & NumBanyos & NumDormitorios & NumCamas & TipoCama & Comodidades & PiesCuadrados & Precio & Puntuacion & MetrosCuadrados\\\\\n",
       " <fct> & <fct> & <fct> & <fct> & <int> & <dbl> & <int> & <int> & <fct> & <fct> & <int> & <int> & <int> & <dbl>\\\\\n",
       "\\hline\n",
       "\t 28002\n",
       "28002 & Prosperidad & Apartment & Private room & 2 & 1 & 1 & 1 & Real Bed & TV,Internet,Wireless Internet,Air conditioning,Wheelchair accessible,Kitchen,Free parking on premises,Doorman,Elevator in building,Indoor fireplace,Buzzer/wireless intercom,Heating,Washer,First aid kit,Fire extinguisher,Essentials,Shampoo,Lock on bedroom door,Hangers,Hair dryer,Iron,Laptop friendly workspace & NA & 70 & 100 & NA\\\\\n",
       "\\end{tabular}\n"
      ],
      "text/markdown": [
       "\n",
       "A data.frame: 1 × 14\n",
       "\n",
       "| CodigoPostal &lt;fct&gt; | Barrio &lt;fct&gt; | TipoPropiedad &lt;fct&gt; | TipoAlquiler &lt;fct&gt; | MaxOcupantes &lt;int&gt; | NumBanyos &lt;dbl&gt; | NumDormitorios &lt;int&gt; | NumCamas &lt;int&gt; | TipoCama &lt;fct&gt; | Comodidades &lt;fct&gt; | PiesCuadrados &lt;int&gt; | Precio &lt;int&gt; | Puntuacion &lt;int&gt; | MetrosCuadrados &lt;dbl&gt; |\n",
       "|---|---|---|---|---|---|---|---|---|---|---|---|---|---|\n",
       "| 28002\n",
       "28002 | Prosperidad | Apartment | Private room | 2 | 1 | 1 | 1 | Real Bed | TV,Internet,Wireless Internet,Air conditioning,Wheelchair accessible,Kitchen,Free parking on premises,Doorman,Elevator in building,Indoor fireplace,Buzzer/wireless intercom,Heating,Washer,First aid kit,Fire extinguisher,Essentials,Shampoo,Lock on bedroom door,Hangers,Hair dryer,Iron,Laptop friendly workspace | NA | 70 | 100 | NA |\n",
       "\n"
      ],
      "text/plain": [
       "  CodigoPostal Barrio      TipoPropiedad TipoAlquiler MaxOcupantes NumBanyos\n",
       "1 28002\\n28002 Prosperidad Apartment     Private room 2            1        \n",
       "  NumDormitorios NumCamas TipoCama\n",
       "1 1              1        Real Bed\n",
       "  Comodidades                                                                                                                                                                                                                                                                                                          \n",
       "1 TV,Internet,Wireless Internet,Air conditioning,Wheelchair accessible,Kitchen,Free parking on premises,Doorman,Elevator in building,Indoor fireplace,Buzzer/wireless intercom,Heating,Washer,First aid kit,Fire extinguisher,Essentials,Shampoo,Lock on bedroom door,Hangers,Hair dryer,Iron,Laptop friendly workspace\n",
       "  PiesCuadrados Precio Puntuacion MetrosCuadrados\n",
       "1 NA            70     100        NA             "
      ]
     },
     "metadata": {},
     "output_type": "display_data"
    }
   ],
   "source": [
    "filter(airbnb, CodigoPostal == \"28002\\n28002\")"
   ]
  },
  {
   "cell_type": "code",
   "execution_count": 93,
   "metadata": {},
   "outputs": [
    {
     "data": {
      "text/html": [
       "<table class=\"dataframe\">\n",
       "<caption>A data.frame: 1 × 1</caption>\n",
       "<thead>\n",
       "\t<tr><th scope=col>n</th></tr>\n",
       "\t<tr><th scope=col>&lt;int&gt;</th></tr>\n",
       "</thead>\n",
       "<tbody>\n",
       "\t<tr><td>170</td></tr>\n",
       "</tbody>\n",
       "</table>\n"
      ],
      "text/latex": [
       "A data.frame: 1 × 1\n",
       "\\begin{tabular}{l}\n",
       " n\\\\\n",
       " <int>\\\\\n",
       "\\hline\n",
       "\t 170\\\\\n",
       "\\end{tabular}\n"
      ],
      "text/markdown": [
       "\n",
       "A data.frame: 1 × 1\n",
       "\n",
       "| n &lt;int&gt; |\n",
       "|---|\n",
       "| 170 |\n",
       "\n"
      ],
      "text/plain": [
       "  n  \n",
       "1 170"
      ]
     },
     "metadata": {},
     "output_type": "display_data"
    }
   ],
   "source": [
    "count(filter(airbnb, CodigoPostal == \"28002\"))"
   ]
  },
  {
   "cell_type": "code",
   "execution_count": 98,
   "metadata": {},
   "outputs": [
    {
     "data": {
      "text/html": [
       "<table class=\"dataframe\">\n",
       "<caption>A data.frame: 1 × 1</caption>\n",
       "<thead>\n",
       "\t<tr><th scope=col>n</th></tr>\n",
       "\t<tr><th scope=col>&lt;int&gt;</th></tr>\n",
       "</thead>\n",
       "<tbody>\n",
       "\t<tr><td>171</td></tr>\n",
       "</tbody>\n",
       "</table>\n"
      ],
      "text/latex": [
       "A data.frame: 1 × 1\n",
       "\\begin{tabular}{l}\n",
       " n\\\\\n",
       " <int>\\\\\n",
       "\\hline\n",
       "\t 171\\\\\n",
       "\\end{tabular}\n"
      ],
      "text/markdown": [
       "\n",
       "A data.frame: 1 × 1\n",
       "\n",
       "| n &lt;int&gt; |\n",
       "|---|\n",
       "| 171 |\n",
       "\n"
      ],
      "text/plain": [
       "  n  \n",
       "1 171"
      ]
     },
     "metadata": {},
     "output_type": "display_data"
    }
   ],
   "source": [
    "count(filter(airbnb, substring(as.character(airbnb$CodigoPostal),1,5) == '28002'))"
   ]
  },
  {
   "cell_type": "code",
   "execution_count": 10,
   "metadata": {},
   "outputs": [],
   "source": [
    "airbnb$CodigoPostal[airbnb$CodigoPostal==''] <- NA"
   ]
  },
  {
   "cell_type": "code",
   "execution_count": null,
   "metadata": {},
   "outputs": [],
   "source": [
    "#Miremos el código postal. Es una variable con entradas erroneas. \n",
    "#Hay valores como '', '-' y '28' que deberían ser considerados como NA. \n",
    "#Así mismo también debería ser NA todos los que no compiencen por 28, \n",
    "#ya que estamos con códigos postales de Madrid\n",
    "\n",
    "#El código postal 28002, 28004 y 28051 tienen entradas repetidas. \n",
    "#Por ejemplo las entradas 28002\\n20882 deberían ir dnetro de 28002\n",
    "\n",
    "#El codigo 2804 debería ser 28004, 2805 deberia ser 28005 y 2815 juncto con 2815 debería ser 28015\n",
    "\n",
    "#Limpia los datos de la columna Codigo Postal"
   ]
  },
  {
   "cell_type": "markdown",
   "metadata": {},
   "source": [
    "Una vez limpios los datos ¿Cuales son los códigos postales que tenemos? "
   ]
  },
  {
   "cell_type": "code",
   "execution_count": 60,
   "metadata": {},
   "outputs": [
    {
     "name": "stdout",
     "output_type": "stream",
     "text": [
      "[1] \"28002\\n20882\"\n"
     ]
    }
   ],
   "source": [
    "print(\"28002\\n20882\")"
   ]
  },
  {
   "cell_type": "markdown",
   "metadata": {},
   "source": [
    "¿Cuales son los 5 códigos postales con más entradas? ¿Y con menos? ¿Cuantas entradas tienen?"
   ]
  },
  {
   "cell_type": "code",
   "execution_count": null,
   "metadata": {},
   "outputs": [],
   "source": []
  },
  {
   "cell_type": "markdown",
   "metadata": {},
   "source": [
    "¿Cuales son los barrios que hay en el código postal 28012?"
   ]
  },
  {
   "cell_type": "code",
   "execution_count": null,
   "metadata": {},
   "outputs": [],
   "source": []
  },
  {
   "cell_type": "markdown",
   "metadata": {},
   "source": [
    "¿Cuantas entradas hay en cada uno de esos barrios para el codigo postal 28012?"
   ]
  },
  {
   "cell_type": "code",
   "execution_count": null,
   "metadata": {},
   "outputs": [],
   "source": [
    "\n"
   ]
  },
  {
   "cell_type": "markdown",
   "metadata": {},
   "source": [
    "¿Cuantos barrios hay en todo el dataset airbnb? ¿Cuales son?"
   ]
  },
  {
   "cell_type": "code",
   "execution_count": null,
   "metadata": {},
   "outputs": [],
   "source": []
  },
  {
   "cell_type": "markdown",
   "metadata": {},
   "source": [
    "¿Cuales son los 5 barrios que tienen mayor número entradas?"
   ]
  },
  {
   "cell_type": "code",
   "execution_count": null,
   "metadata": {},
   "outputs": [],
   "source": []
  },
  {
   "cell_type": "markdown",
   "metadata": {},
   "source": [
    "¿Cuantos Tipos de Alquiler diferentes hay? ¿Cuales son? ¿Cuantas entradas en el dataframe hay por cada tipo?"
   ]
  },
  {
   "cell_type": "code",
   "execution_count": null,
   "metadata": {},
   "outputs": [],
   "source": []
  },
  {
   "cell_type": "markdown",
   "metadata": {},
   "source": [
    "## Second section"
   ]
  },
  {
   "cell_type": "markdown",
   "metadata": {},
   "source": [
    "Muestra el diagrama de cajas del precio para cada uno de los diferentes Tipos de Alquiler"
   ]
  },
  {
   "cell_type": "code",
   "execution_count": null,
   "metadata": {},
   "outputs": [],
   "source": []
  },
  {
   "cell_type": "markdown",
   "metadata": {},
   "source": [
    "Cual es el precio medio de alquiler de cada uno, la diferencia que hay ¿es estadísticamente significativa?\n",
    "¿Con que test lo comprobarías?"
   ]
  },
  {
   "cell_type": "code",
   "execution_count": null,
   "metadata": {},
   "outputs": [],
   "source": []
  },
  {
   "cell_type": "markdown",
   "metadata": {},
   "source": [
    "Filtra el dataframe cuyos tipo de alquiler sea  'Entire home/apt' y guardalo en un dataframe llamado \n",
    "*airbnb_entire*.\n",
    "Estas serán las entradas que tienen un alquiler del piso completo."
   ]
  },
  {
   "cell_type": "code",
   "execution_count": null,
   "metadata": {},
   "outputs": [],
   "source": []
  },
  {
   "cell_type": "markdown",
   "metadata": {},
   "source": [
    "¿Cuales son los 5 barrios que tienen un mayor número de apartamentos enteros en alquiler?\n",
    "Nota: Mirar solo en airbnb_entire. A partir de este punto y hasta que se diga lo contrario partiremos de airbnb_entire."
   ]
  },
  {
   "cell_type": "code",
   "execution_count": null,
   "metadata": {},
   "outputs": [],
   "source": []
  },
  {
   "cell_type": "markdown",
   "metadata": {},
   "source": [
    "¿Cuales son los 5 barrios que tienen un mayor precio medio de alquiler para apartamentos enteros (es decir, del dataframe airbnb_entire)?\n",
    "\n",
    "¿Cual es su precio medio?\n",
    "\n",
    "Ayuda: Usa la función aggregate `aggregate(.~colname,df,mean,na.rm=TRUE)`"
   ]
  },
  {
   "cell_type": "code",
   "execution_count": null,
   "metadata": {},
   "outputs": [],
   "source": []
  },
  {
   "cell_type": "markdown",
   "metadata": {},
   "source": [
    "¿Cuantos apartamentos hay en cada uno de esos barrios?\n",
    "\n",
    "Mostrar una dataframe con el nombre del barrio, el precio y el número de entradas.\n",
    "\n",
    "Ayuda: Podeis crear un nuevo dataframe con las columnas \"Barrio\" y \"Freq\" que contenga el número de entradas en cada barrio y hacer un merge con el dataframe del punto anterior."
   ]
  },
  {
   "cell_type": "code",
   "execution_count": null,
   "metadata": {},
   "outputs": [],
   "source": []
  },
  {
   "cell_type": "markdown",
   "metadata": {},
   "source": [
    "Partiendo del dataframe anterior, muestra los 5 barrios con mayor precio, pero que tengan más de 100 entradas de alquiler."
   ]
  },
  {
   "cell_type": "code",
   "execution_count": null,
   "metadata": {},
   "outputs": [],
   "source": []
  },
  {
   "cell_type": "markdown",
   "metadata": {},
   "source": [
    "Dibuja el diagrama de densidad de distribución de los diferentes precios. Serían 5 gráficas, una por cada barrio."
   ]
  },
  {
   "cell_type": "code",
   "execution_count": null,
   "metadata": {},
   "outputs": [],
   "source": []
  },
  {
   "cell_type": "markdown",
   "metadata": {},
   "source": [
    "Calcula el tamaño medio, en metros cuadrados, para los 5 barrios anteriores y muestralo en el mismo dataframe junto con el precio y número de entradas"
   ]
  },
  {
   "cell_type": "code",
   "execution_count": null,
   "metadata": {},
   "outputs": [],
   "source": []
  },
  {
   "cell_type": "markdown",
   "metadata": {},
   "source": [
    "Dibuja el diagrama de densidad de distribución de los diferentes tamaños de apartamentos. Serían 5 gráficas, una por cada barrio."
   ]
  },
  {
   "cell_type": "code",
   "execution_count": null,
   "metadata": {},
   "outputs": [],
   "source": []
  },
  {
   "cell_type": "markdown",
   "metadata": {},
   "source": [
    "Esta claro que las medias de metros cuadrados de cada uno de estos 5 barrios parecen ser diferentes, pero ¿son estadísticamente diferentes?\n",
    "¿Que test habría que usar para comprobarlo?"
   ]
  },
  {
   "cell_type": "code",
   "execution_count": null,
   "metadata": {},
   "outputs": [],
   "source": []
  },
  {
   "cell_type": "markdown",
   "metadata": {},
   "source": [
    "Para únicamente los pisos de alquiler en el barrio de Sol:\n",
    "\n",
    "``barrio_sol<-subset(airbnb_entire,Barrio==\"Sol\")``\n",
    "\n",
    "Calcular un modelo lineal que combine alguna de estas variables:\n",
    "* NumBanyos\n",
    "* NumDormitorios\n",
    "* MaxOcupantes\n",
    "* MetrosCuadrados"
   ]
  },
  {
   "cell_type": "code",
   "execution_count": null,
   "metadata": {},
   "outputs": [],
   "source": []
  },
  {
   "cell_type": "markdown",
   "metadata": {},
   "source": [
    "Primero calculamos la correlación para ver como se relacionan estas variables entre sí."
   ]
  },
  {
   "cell_type": "code",
   "execution_count": null,
   "metadata": {},
   "outputs": [],
   "source": []
  },
  {
   "cell_type": "markdown",
   "metadata": {},
   "source": [
    "Se observa que la correlación entre el número de dormitorios y los metros cuadrados es sorprendentemente baja.\n",
    "¿Son de fiar esos números?\n",
    "\n",
    "Mediante un histograma o curvas de densidad podemos descartar números que notienen sentido en el dataframe barrio_sol,\n",
    "para tener una matriz de correlación que tenga mayor sentido.\n"
   ]
  },
  {
   "cell_type": "code",
   "execution_count": null,
   "metadata": {},
   "outputs": [],
   "source": []
  },
  {
   "cell_type": "markdown",
   "metadata": {},
   "source": [
    "Una vez que hayamos filtrado los datos correspondientes calcular el valor o la combinación de valores que mejor nos permite obtener el precio de un inmueble."
   ]
  },
  {
   "cell_type": "code",
   "execution_count": null,
   "metadata": {},
   "outputs": [],
   "source": []
  },
  {
   "cell_type": "markdown",
   "metadata": {},
   "source": [
    "¿Que variable es más fiable para conocer el precio de un inmueble, el número de habitaciones o los metros cuadrados?"
   ]
  },
  {
   "cell_type": "code",
   "execution_count": null,
   "metadata": {},
   "outputs": [],
   "source": []
  },
  {
   "cell_type": "markdown",
   "metadata": {},
   "source": [
    "Responde con su correspondiente margen de error del 95%, ¿cuantos euros incrementa el precio del alquiler por cada metro cuadrado extra del piso?"
   ]
  },
  {
   "cell_type": "code",
   "execution_count": null,
   "metadata": {},
   "outputs": [],
   "source": []
  },
  {
   "cell_type": "markdown",
   "metadata": {},
   "source": [
    "Responde con su correspondiente margen de error del 95%, ¿cuantos euros incrementa el precio del alquiler por cada habitación?"
   ]
  },
  {
   "cell_type": "code",
   "execution_count": null,
   "metadata": {},
   "outputs": [],
   "source": []
  },
  {
   "cell_type": "markdown",
   "metadata": {},
   "source": [
    "¿Cual es la probabilidad de encontrar, en el barrio de Sol, un apartamento en alquiler con 3 dormitorios?\n",
    "¿Cual es el intervalo de confianza de esa probabilidad?"
   ]
  },
  {
   "cell_type": "code",
   "execution_count": null,
   "metadata": {},
   "outputs": [],
   "source": []
  },
  {
   "cell_type": "code",
   "execution_count": null,
   "metadata": {},
   "outputs": [],
   "source": []
  }
 ],
 "metadata": {
  "kernelspec": {
   "display_name": "R",
   "language": "R",
   "name": "ir"
  },
  "language_info": {
   "codemirror_mode": "r",
   "file_extension": ".r",
   "mimetype": "text/x-r-source",
   "name": "R",
   "pygments_lexer": "r",
   "version": "4.1.0"
  }
 },
 "nbformat": 4,
 "nbformat_minor": 2
}
