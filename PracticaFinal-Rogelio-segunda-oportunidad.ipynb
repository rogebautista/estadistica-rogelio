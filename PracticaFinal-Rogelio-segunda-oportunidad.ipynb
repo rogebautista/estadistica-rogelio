{
 "cells": [
  {
   "cell_type": "code",
   "execution_count": 38,
   "metadata": {
    "pycharm": {
     "is_executing": true,
     "name": "#%%\n"
    }
   },
   "outputs": [],
   "source": [
    "library(ggplot2)\n",
    "options(repr.plot.height=4,repr.plot.width=6)\n",
    "library(dplyr)"
   ]
  },
  {
   "cell_type": "markdown",
   "metadata": {
    "pycharm": {
     "name": "#%% md\n"
    }
   },
   "source": [
    "Cargar los datos en un dataframe llamado: airbnb"
   ]
  },
  {
   "cell_type": "code",
   "execution_count": 27,
   "metadata": {
    "pycharm": {
     "name": "#%%\n"
    }
   },
   "outputs": [],
   "source": [
    "airbnb<-read.csv('data//airbnb.csv',sep = ',', stringsAsFactors = T)"
   ]
  },
  {
   "cell_type": "markdown",
   "metadata": {
    "pycharm": {
     "name": "#%% md\n"
    }
   },
   "source": [
    "Mostrar las primeras 6 filas del dataframe"
   ]
  },
  {
   "cell_type": "code",
   "execution_count": 28,
   "metadata": {
    "pycharm": {
     "name": "#%%\n"
    },
    "scrolled": true
   },
   "outputs": [
    {
     "data": {
      "text/html": [
       "<table class=\"dataframe\">\n",
       "<caption>A data.frame: 6 × 13</caption>\n",
       "<thead>\n",
       "\t<tr><th></th><th scope=col>Zipcode</th><th scope=col>Neighbourhood.Cleansed</th><th scope=col>Property.Type</th><th scope=col>Room.Type</th><th scope=col>Accommodates</th><th scope=col>Bathrooms</th><th scope=col>Bedrooms</th><th scope=col>Beds</th><th scope=col>Bed.Type</th><th scope=col>Amenities</th><th scope=col>Square.Feet</th><th scope=col>Price</th><th scope=col>Review.Scores.Rating</th></tr>\n",
       "\t<tr><th></th><th scope=col>&lt;fct&gt;</th><th scope=col>&lt;fct&gt;</th><th scope=col>&lt;fct&gt;</th><th scope=col>&lt;fct&gt;</th><th scope=col>&lt;int&gt;</th><th scope=col>&lt;dbl&gt;</th><th scope=col>&lt;int&gt;</th><th scope=col>&lt;int&gt;</th><th scope=col>&lt;fct&gt;</th><th scope=col>&lt;fct&gt;</th><th scope=col>&lt;int&gt;</th><th scope=col>&lt;int&gt;</th><th scope=col>&lt;int&gt;</th></tr>\n",
       "</thead>\n",
       "<tbody>\n",
       "\t<tr><th scope=row>1</th><td>28004</td><td>Universidad</td><td>Apartment</td><td>Private room   </td><td>2</td><td>2</td><td>1</td><td>1</td><td>Real Bed</td><td>TV,Wireless Internet,Kitchen,Pets allowed,Pets live on this property,Buzzer/wireless intercom,Heating,Suitable for events,Washer,First aid kit,Essentials,Lock on bedroom door,Iron                                                                                                                                                                             </td><td> NA</td><td>35</td><td> NA</td></tr>\n",
       "\t<tr><th scope=row>2</th><td>28004</td><td>Universidad</td><td>Apartment</td><td>Entire home/apt</td><td>6</td><td>1</td><td>3</td><td>5</td><td>Real Bed</td><td>TV,Internet,Wireless Internet,Air conditioning,Kitchen,Indoor fireplace,Heating,Family/kid friendly,Washer,Dryer,Smoke detector,Carbon monoxide detector,Essentials,Shampoo                                                                                                                                                                                     </td><td> NA</td><td>92</td><td> 96</td></tr>\n",
       "\t<tr><th scope=row>3</th><td>28004</td><td>Universidad</td><td>Apartment</td><td>Entire home/apt</td><td>3</td><td>1</td><td>2</td><td>2</td><td>Real Bed</td><td>TV,Internet,Wireless Internet,Air conditioning,Kitchen,Doorman,Heating,Family/kid friendly,Washer,Essentials,Shampoo,Hangers,Hair dryer,Iron,Laptop friendly workspace                                                                                                                                                                                          </td><td> NA</td><td>55</td><td> 91</td></tr>\n",
       "\t<tr><th scope=row>4</th><td>28004</td><td>Universidad</td><td>Loft     </td><td>Entire home/apt</td><td>3</td><td>2</td><td>1</td><td>1</td><td>Real Bed</td><td>TV,Internet,Wireless Internet,Air conditioning,Kitchen,Pets allowed,Breakfast,Elevator in building,Indoor fireplace,Buzzer/wireless intercom,Heating,Washer,Essentials,Shampoo,Hangers,Hair dryer,Iron,Laptop friendly workspace,translation missing: en.hosting_amenity_49,translation missing: en.hosting_amenity_50                                          </td><td> NA</td><td>60</td><td>100</td></tr>\n",
       "\t<tr><th scope=row>5</th><td>28015</td><td>Universidad</td><td>Apartment</td><td>Entire home/apt</td><td>5</td><td>1</td><td>1</td><td>1</td><td>Real Bed</td><td>TV,Wireless Internet,Air conditioning,Kitchen,Smoking allowed,Pets allowed,Elevator in building,Heating,Family/kid friendly,Washer,Essentials,Iron                                                                                                                                                                                                              </td><td>538</td><td>75</td><td> 90</td></tr>\n",
       "\t<tr><th scope=row>6</th><td>28004</td><td>Universidad</td><td>Apartment</td><td>Entire home/apt</td><td>2</td><td>1</td><td>0</td><td>1</td><td>Real Bed</td><td>TV,Cable TV,Internet,Wireless Internet,Air conditioning,Wheelchair accessible,Kitchen,Doorman,Elevator in building,Buzzer/wireless intercom,Heating,Washer,Smoke detector,Carbon monoxide detector,First aid kit,Safety card,Fire extinguisher,Essentials,Shampoo,24-hour check-in,Hangers,Hair dryer,Iron,Laptop friendly workspace,Self Check-In,Doorman Entry</td><td> NA</td><td>55</td><td> 95</td></tr>\n",
       "</tbody>\n",
       "</table>\n"
      ],
      "text/latex": [
       "A data.frame: 6 × 13\n",
       "\\begin{tabular}{r|lllllllllllll}\n",
       "  & Zipcode & Neighbourhood.Cleansed & Property.Type & Room.Type & Accommodates & Bathrooms & Bedrooms & Beds & Bed.Type & Amenities & Square.Feet & Price & Review.Scores.Rating\\\\\n",
       "  & <fct> & <fct> & <fct> & <fct> & <int> & <dbl> & <int> & <int> & <fct> & <fct> & <int> & <int> & <int>\\\\\n",
       "\\hline\n",
       "\t1 & 28004 & Universidad & Apartment & Private room    & 2 & 2 & 1 & 1 & Real Bed & TV,Wireless Internet,Kitchen,Pets allowed,Pets live on this property,Buzzer/wireless intercom,Heating,Suitable for events,Washer,First aid kit,Essentials,Lock on bedroom door,Iron                                                                                                                                                                              &  NA & 35 &  NA\\\\\n",
       "\t2 & 28004 & Universidad & Apartment & Entire home/apt & 6 & 1 & 3 & 5 & Real Bed & TV,Internet,Wireless Internet,Air conditioning,Kitchen,Indoor fireplace,Heating,Family/kid friendly,Washer,Dryer,Smoke detector,Carbon monoxide detector,Essentials,Shampoo                                                                                                                                                                                      &  NA & 92 &  96\\\\\n",
       "\t3 & 28004 & Universidad & Apartment & Entire home/apt & 3 & 1 & 2 & 2 & Real Bed & TV,Internet,Wireless Internet,Air conditioning,Kitchen,Doorman,Heating,Family/kid friendly,Washer,Essentials,Shampoo,Hangers,Hair dryer,Iron,Laptop friendly workspace                                                                                                                                                                                           &  NA & 55 &  91\\\\\n",
       "\t4 & 28004 & Universidad & Loft      & Entire home/apt & 3 & 2 & 1 & 1 & Real Bed & TV,Internet,Wireless Internet,Air conditioning,Kitchen,Pets allowed,Breakfast,Elevator in building,Indoor fireplace,Buzzer/wireless intercom,Heating,Washer,Essentials,Shampoo,Hangers,Hair dryer,Iron,Laptop friendly workspace,translation missing: en.hosting\\_amenity\\_49,translation missing: en.hosting\\_amenity\\_50                                           &  NA & 60 & 100\\\\\n",
       "\t5 & 28015 & Universidad & Apartment & Entire home/apt & 5 & 1 & 1 & 1 & Real Bed & TV,Wireless Internet,Air conditioning,Kitchen,Smoking allowed,Pets allowed,Elevator in building,Heating,Family/kid friendly,Washer,Essentials,Iron                                                                                                                                                                                                               & 538 & 75 &  90\\\\\n",
       "\t6 & 28004 & Universidad & Apartment & Entire home/apt & 2 & 1 & 0 & 1 & Real Bed & TV,Cable TV,Internet,Wireless Internet,Air conditioning,Wheelchair accessible,Kitchen,Doorman,Elevator in building,Buzzer/wireless intercom,Heating,Washer,Smoke detector,Carbon monoxide detector,First aid kit,Safety card,Fire extinguisher,Essentials,Shampoo,24-hour check-in,Hangers,Hair dryer,Iron,Laptop friendly workspace,Self Check-In,Doorman Entry &  NA & 55 &  95\\\\\n",
       "\\end{tabular}\n"
      ],
      "text/markdown": [
       "\n",
       "A data.frame: 6 × 13\n",
       "\n",
       "| <!--/--> | Zipcode &lt;fct&gt; | Neighbourhood.Cleansed &lt;fct&gt; | Property.Type &lt;fct&gt; | Room.Type &lt;fct&gt; | Accommodates &lt;int&gt; | Bathrooms &lt;dbl&gt; | Bedrooms &lt;int&gt; | Beds &lt;int&gt; | Bed.Type &lt;fct&gt; | Amenities &lt;fct&gt; | Square.Feet &lt;int&gt; | Price &lt;int&gt; | Review.Scores.Rating &lt;int&gt; |\n",
       "|---|---|---|---|---|---|---|---|---|---|---|---|---|---|\n",
       "| 1 | 28004 | Universidad | Apartment | Private room    | 2 | 2 | 1 | 1 | Real Bed | TV,Wireless Internet,Kitchen,Pets allowed,Pets live on this property,Buzzer/wireless intercom,Heating,Suitable for events,Washer,First aid kit,Essentials,Lock on bedroom door,Iron                                                                                                                                                                              |  NA | 35 |  NA |\n",
       "| 2 | 28004 | Universidad | Apartment | Entire home/apt | 6 | 1 | 3 | 5 | Real Bed | TV,Internet,Wireless Internet,Air conditioning,Kitchen,Indoor fireplace,Heating,Family/kid friendly,Washer,Dryer,Smoke detector,Carbon monoxide detector,Essentials,Shampoo                                                                                                                                                                                      |  NA | 92 |  96 |\n",
       "| 3 | 28004 | Universidad | Apartment | Entire home/apt | 3 | 1 | 2 | 2 | Real Bed | TV,Internet,Wireless Internet,Air conditioning,Kitchen,Doorman,Heating,Family/kid friendly,Washer,Essentials,Shampoo,Hangers,Hair dryer,Iron,Laptop friendly workspace                                                                                                                                                                                           |  NA | 55 |  91 |\n",
       "| 4 | 28004 | Universidad | Loft      | Entire home/apt | 3 | 2 | 1 | 1 | Real Bed | TV,Internet,Wireless Internet,Air conditioning,Kitchen,Pets allowed,Breakfast,Elevator in building,Indoor fireplace,Buzzer/wireless intercom,Heating,Washer,Essentials,Shampoo,Hangers,Hair dryer,Iron,Laptop friendly workspace,translation missing: en.hosting_amenity_49,translation missing: en.hosting_amenity_50                                           |  NA | 60 | 100 |\n",
       "| 5 | 28015 | Universidad | Apartment | Entire home/apt | 5 | 1 | 1 | 1 | Real Bed | TV,Wireless Internet,Air conditioning,Kitchen,Smoking allowed,Pets allowed,Elevator in building,Heating,Family/kid friendly,Washer,Essentials,Iron                                                                                                                                                                                                               | 538 | 75 |  90 |\n",
       "| 6 | 28004 | Universidad | Apartment | Entire home/apt | 2 | 1 | 0 | 1 | Real Bed | TV,Cable TV,Internet,Wireless Internet,Air conditioning,Wheelchair accessible,Kitchen,Doorman,Elevator in building,Buzzer/wireless intercom,Heating,Washer,Smoke detector,Carbon monoxide detector,First aid kit,Safety card,Fire extinguisher,Essentials,Shampoo,24-hour check-in,Hangers,Hair dryer,Iron,Laptop friendly workspace,Self Check-In,Doorman Entry |  NA | 55 |  95 |\n",
       "\n"
      ],
      "text/plain": [
       "  Zipcode Neighbourhood.Cleansed Property.Type Room.Type       Accommodates\n",
       "1 28004   Universidad            Apartment     Private room    2           \n",
       "2 28004   Universidad            Apartment     Entire home/apt 6           \n",
       "3 28004   Universidad            Apartment     Entire home/apt 3           \n",
       "4 28004   Universidad            Loft          Entire home/apt 3           \n",
       "5 28015   Universidad            Apartment     Entire home/apt 5           \n",
       "6 28004   Universidad            Apartment     Entire home/apt 2           \n",
       "  Bathrooms Bedrooms Beds Bed.Type\n",
       "1 2         1        1    Real Bed\n",
       "2 1         3        5    Real Bed\n",
       "3 1         2        2    Real Bed\n",
       "4 2         1        1    Real Bed\n",
       "5 1         1        1    Real Bed\n",
       "6 1         0        1    Real Bed\n",
       "  Amenities                                                                                                                                                                                                                                                                                                                                                       \n",
       "1 TV,Wireless Internet,Kitchen,Pets allowed,Pets live on this property,Buzzer/wireless intercom,Heating,Suitable for events,Washer,First aid kit,Essentials,Lock on bedroom door,Iron                                                                                                                                                                             \n",
       "2 TV,Internet,Wireless Internet,Air conditioning,Kitchen,Indoor fireplace,Heating,Family/kid friendly,Washer,Dryer,Smoke detector,Carbon monoxide detector,Essentials,Shampoo                                                                                                                                                                                     \n",
       "3 TV,Internet,Wireless Internet,Air conditioning,Kitchen,Doorman,Heating,Family/kid friendly,Washer,Essentials,Shampoo,Hangers,Hair dryer,Iron,Laptop friendly workspace                                                                                                                                                                                          \n",
       "4 TV,Internet,Wireless Internet,Air conditioning,Kitchen,Pets allowed,Breakfast,Elevator in building,Indoor fireplace,Buzzer/wireless intercom,Heating,Washer,Essentials,Shampoo,Hangers,Hair dryer,Iron,Laptop friendly workspace,translation missing: en.hosting_amenity_49,translation missing: en.hosting_amenity_50                                          \n",
       "5 TV,Wireless Internet,Air conditioning,Kitchen,Smoking allowed,Pets allowed,Elevator in building,Heating,Family/kid friendly,Washer,Essentials,Iron                                                                                                                                                                                                              \n",
       "6 TV,Cable TV,Internet,Wireless Internet,Air conditioning,Wheelchair accessible,Kitchen,Doorman,Elevator in building,Buzzer/wireless intercom,Heating,Washer,Smoke detector,Carbon monoxide detector,First aid kit,Safety card,Fire extinguisher,Essentials,Shampoo,24-hour check-in,Hangers,Hair dryer,Iron,Laptop friendly workspace,Self Check-In,Doorman Entry\n",
       "  Square.Feet Price Review.Scores.Rating\n",
       "1  NA         35     NA                 \n",
       "2  NA         92     96                 \n",
       "3  NA         55     91                 \n",
       "4  NA         60    100                 \n",
       "5 538         75     90                 \n",
       "6  NA         55     95                 "
      ]
     },
     "metadata": {},
     "output_type": "display_data"
    }
   ],
   "source": [
    "head(airbnb, 6)"
   ]
  },
  {
   "cell_type": "markdown",
   "metadata": {
    "pycharm": {
     "name": "#%% md\n"
    }
   },
   "source": [
    "Renombrar las columnas de la siguiente forma:\n",
    "\n",
    "| Nombre original | Nuevo nombre |\n",
    "| - | - |\n",
    "| Zipcode | CodigoPostal |\n",
    "| Neighbourhood.Cleansed | Barrio |\n",
    "| Property.Type\t| TipoPropiedad |\n",
    "| Room.Type | TipoAlquiler |\n",
    "| Accommodates | MaxOcupantes |\n",
    "| Bathrooms\t| NumBanyos |\n",
    "| Bedrooms\t| NumDormitorios |\n",
    "| Beds\t|  NumCamas |\n",
    "| Bed.Type\t| TipoCama |\n",
    "| Amenities | Comodidades |\n",
    "| Square.Feet | PiesCuadrados |\n",
    "| Price\t| Precio |\n",
    "| Review.Scores.Rating | Puntuacion |"
   ]
  },
  {
   "cell_type": "code",
   "execution_count": 29,
   "metadata": {
    "pycharm": {
     "name": "#%%\n"
    }
   },
   "outputs": [
    {
     "data": {
      "text/html": [
       "<table class=\"dataframe\">\n",
       "<caption>A data.frame: 3 × 13</caption>\n",
       "<thead>\n",
       "\t<tr><th></th><th scope=col>CodigoPostal</th><th scope=col>Barrio</th><th scope=col>TipoPropiedad</th><th scope=col>TipoAlquiler</th><th scope=col>MaxOcupantes</th><th scope=col>NumBanyos</th><th scope=col>NumDormitorios</th><th scope=col>NumCamas</th><th scope=col>TipoCama</th><th scope=col>Comodidades</th><th scope=col>PiesCuadrados</th><th scope=col>Precio</th><th scope=col>Puntuacion</th></tr>\n",
       "\t<tr><th></th><th scope=col>&lt;fct&gt;</th><th scope=col>&lt;fct&gt;</th><th scope=col>&lt;fct&gt;</th><th scope=col>&lt;fct&gt;</th><th scope=col>&lt;int&gt;</th><th scope=col>&lt;dbl&gt;</th><th scope=col>&lt;int&gt;</th><th scope=col>&lt;int&gt;</th><th scope=col>&lt;fct&gt;</th><th scope=col>&lt;fct&gt;</th><th scope=col>&lt;int&gt;</th><th scope=col>&lt;int&gt;</th><th scope=col>&lt;int&gt;</th></tr>\n",
       "</thead>\n",
       "<tbody>\n",
       "\t<tr><th scope=row>1</th><td>28004</td><td>Universidad</td><td>Apartment</td><td>Private room   </td><td>2</td><td>2</td><td>1</td><td>1</td><td>Real Bed</td><td>TV,Wireless Internet,Kitchen,Pets allowed,Pets live on this property,Buzzer/wireless intercom,Heating,Suitable for events,Washer,First aid kit,Essentials,Lock on bedroom door,Iron</td><td>NA</td><td>35</td><td>NA</td></tr>\n",
       "\t<tr><th scope=row>2</th><td>28004</td><td>Universidad</td><td>Apartment</td><td>Entire home/apt</td><td>6</td><td>1</td><td>3</td><td>5</td><td>Real Bed</td><td>TV,Internet,Wireless Internet,Air conditioning,Kitchen,Indoor fireplace,Heating,Family/kid friendly,Washer,Dryer,Smoke detector,Carbon monoxide detector,Essentials,Shampoo        </td><td>NA</td><td>92</td><td>96</td></tr>\n",
       "\t<tr><th scope=row>3</th><td>28004</td><td>Universidad</td><td>Apartment</td><td>Entire home/apt</td><td>3</td><td>1</td><td>2</td><td>2</td><td>Real Bed</td><td>TV,Internet,Wireless Internet,Air conditioning,Kitchen,Doorman,Heating,Family/kid friendly,Washer,Essentials,Shampoo,Hangers,Hair dryer,Iron,Laptop friendly workspace             </td><td>NA</td><td>55</td><td>91</td></tr>\n",
       "</tbody>\n",
       "</table>\n"
      ],
      "text/latex": [
       "A data.frame: 3 × 13\n",
       "\\begin{tabular}{r|lllllllllllll}\n",
       "  & CodigoPostal & Barrio & TipoPropiedad & TipoAlquiler & MaxOcupantes & NumBanyos & NumDormitorios & NumCamas & TipoCama & Comodidades & PiesCuadrados & Precio & Puntuacion\\\\\n",
       "  & <fct> & <fct> & <fct> & <fct> & <int> & <dbl> & <int> & <int> & <fct> & <fct> & <int> & <int> & <int>\\\\\n",
       "\\hline\n",
       "\t1 & 28004 & Universidad & Apartment & Private room    & 2 & 2 & 1 & 1 & Real Bed & TV,Wireless Internet,Kitchen,Pets allowed,Pets live on this property,Buzzer/wireless intercom,Heating,Suitable for events,Washer,First aid kit,Essentials,Lock on bedroom door,Iron & NA & 35 & NA\\\\\n",
       "\t2 & 28004 & Universidad & Apartment & Entire home/apt & 6 & 1 & 3 & 5 & Real Bed & TV,Internet,Wireless Internet,Air conditioning,Kitchen,Indoor fireplace,Heating,Family/kid friendly,Washer,Dryer,Smoke detector,Carbon monoxide detector,Essentials,Shampoo         & NA & 92 & 96\\\\\n",
       "\t3 & 28004 & Universidad & Apartment & Entire home/apt & 3 & 1 & 2 & 2 & Real Bed & TV,Internet,Wireless Internet,Air conditioning,Kitchen,Doorman,Heating,Family/kid friendly,Washer,Essentials,Shampoo,Hangers,Hair dryer,Iron,Laptop friendly workspace              & NA & 55 & 91\\\\\n",
       "\\end{tabular}\n"
      ],
      "text/markdown": [
       "\n",
       "A data.frame: 3 × 13\n",
       "\n",
       "| <!--/--> | CodigoPostal &lt;fct&gt; | Barrio &lt;fct&gt; | TipoPropiedad &lt;fct&gt; | TipoAlquiler &lt;fct&gt; | MaxOcupantes &lt;int&gt; | NumBanyos &lt;dbl&gt; | NumDormitorios &lt;int&gt; | NumCamas &lt;int&gt; | TipoCama &lt;fct&gt; | Comodidades &lt;fct&gt; | PiesCuadrados &lt;int&gt; | Precio &lt;int&gt; | Puntuacion &lt;int&gt; |\n",
       "|---|---|---|---|---|---|---|---|---|---|---|---|---|---|\n",
       "| 1 | 28004 | Universidad | Apartment | Private room    | 2 | 2 | 1 | 1 | Real Bed | TV,Wireless Internet,Kitchen,Pets allowed,Pets live on this property,Buzzer/wireless intercom,Heating,Suitable for events,Washer,First aid kit,Essentials,Lock on bedroom door,Iron | NA | 35 | NA |\n",
       "| 2 | 28004 | Universidad | Apartment | Entire home/apt | 6 | 1 | 3 | 5 | Real Bed | TV,Internet,Wireless Internet,Air conditioning,Kitchen,Indoor fireplace,Heating,Family/kid friendly,Washer,Dryer,Smoke detector,Carbon monoxide detector,Essentials,Shampoo         | NA | 92 | 96 |\n",
       "| 3 | 28004 | Universidad | Apartment | Entire home/apt | 3 | 1 | 2 | 2 | Real Bed | TV,Internet,Wireless Internet,Air conditioning,Kitchen,Doorman,Heating,Family/kid friendly,Washer,Essentials,Shampoo,Hangers,Hair dryer,Iron,Laptop friendly workspace              | NA | 55 | 91 |\n",
       "\n"
      ],
      "text/plain": [
       "  CodigoPostal Barrio      TipoPropiedad TipoAlquiler    MaxOcupantes NumBanyos\n",
       "1 28004        Universidad Apartment     Private room    2            2        \n",
       "2 28004        Universidad Apartment     Entire home/apt 6            1        \n",
       "3 28004        Universidad Apartment     Entire home/apt 3            1        \n",
       "  NumDormitorios NumCamas TipoCama\n",
       "1 1              1        Real Bed\n",
       "2 3              5        Real Bed\n",
       "3 2              2        Real Bed\n",
       "  Comodidades                                                                                                                                                                        \n",
       "1 TV,Wireless Internet,Kitchen,Pets allowed,Pets live on this property,Buzzer/wireless intercom,Heating,Suitable for events,Washer,First aid kit,Essentials,Lock on bedroom door,Iron\n",
       "2 TV,Internet,Wireless Internet,Air conditioning,Kitchen,Indoor fireplace,Heating,Family/kid friendly,Washer,Dryer,Smoke detector,Carbon monoxide detector,Essentials,Shampoo        \n",
       "3 TV,Internet,Wireless Internet,Air conditioning,Kitchen,Doorman,Heating,Family/kid friendly,Washer,Essentials,Shampoo,Hangers,Hair dryer,Iron,Laptop friendly workspace             \n",
       "  PiesCuadrados Precio Puntuacion\n",
       "1 NA            35     NA        \n",
       "2 NA            92     96        \n",
       "3 NA            55     91        "
      ]
     },
     "metadata": {},
     "output_type": "display_data"
    }
   ],
   "source": [
    "newnames<-c(\"CodigoPostal\",\"Barrio\",\"TipoPropiedad\",\"TipoAlquiler\",\"MaxOcupantes\",\"NumBanyos\",\n",
    "\"NumDormitorios\",\"NumCamas\",\"TipoCama\",\"Comodidades\",\"PiesCuadrados\",\"Precio\",\"Puntuacion\")\n",
    "colnames(airbnb) <- newnames\n",
    "\n",
    "head(airbnb, 3)"
   ]
  },
  {
   "cell_type": "markdown",
   "metadata": {
    "pycharm": {
     "name": "#%% md\n"
    }
   },
   "source": [
    "Crea una nueva columna llamada MetrosCuadrados a partir de la columna PiesCuadrados.\n",
    "\n",
    "Ayuda: 1 pie cuadrado son 0,092903 metros cuadrdados"
   ]
  },
  {
   "cell_type": "code",
   "execution_count": 30,
   "metadata": {
    "pycharm": {
     "name": "#%%\n"
    }
   },
   "outputs": [],
   "source": [
    "airbnb$MetrosCuadrados <- airbnb$PiesCuadrados * 0.092903"
   ]
  },
  {
   "cell_type": "markdown",
   "metadata": {
    "pycharm": {
     "name": "#%% md\n"
    }
   },
   "source": [
    "Miremos el código postal. Es una variable con entradas erroneas.\n",
    "Hay valores como '', '-'  y '28' que deberían ser considerados como NA.\n",
    "Así mismo también debería ser NA todos los que no compiencen por 28, ya que estamos con códigos postales de Madrid\n",
    "\n",
    "El código postal 28002, 28004 y 28051 tienen entradas repetidas. \n",
    "Por ejemplo las entradas 28002\\n20882 deberían ir dnetro de 28002\n",
    "\n",
    "El codigo 2804 debería ser 28004, 2805 deberia ser 28005 y 2815 juncto con 2815 debería ser 28015\n",
    "\n",
    "Limpia los datos de la columna Codigo Postal"
   ]
  },
  {
   "cell_type": "code",
   "execution_count": 34,
   "metadata": {
    "pycharm": {
     "name": "#%%\n"
    }
   },
   "outputs": [],
   "source": [
    "# Tomando la sugerencia de los comentarios en la primer revisión\n",
    "library(stringr)\n",
    "airbnb$CodigoPostal[airbnb$CodigoPostal %in% c('','-','28')]<-NA\n",
    "airbnb$CodigoPostal[!grepl(\"^28\",airbnb$CodigoPostal)]<-NA\n",
    "airbnb$CodigoPostal <- str_replace_all(airbnb$CodigoPostal, \"28002\\n28002\", \"28002\")\n",
    "airbnb$CodigoPostal <- str_replace_all(airbnb$CodigoPostal, \"28051\\n28051\", \"28002\")\n",
    "airbnb$CodigoPostal[airbnb$CodigoPostal=='2815'] <- '28015'\n",
    "airbnb$CodigoPostal[airbnb$CodigoPostal=='2804'] <- '28004'\n",
    "airbnb$CodigoPostal[airbnb$CodigoPostal=='2805'] <- '28005'"
   ]
  },
  {
   "cell_type": "markdown",
   "metadata": {
    "pycharm": {
     "name": "#%% md\n"
    }
   },
   "source": [
    "Una vez limpios los datos ¿Cuales son los códigos postales que tenemos? "
   ]
  },
  {
   "cell_type": "code",
   "execution_count": 35,
   "metadata": {
    "pycharm": {
     "name": "#%%\n"
    }
   },
   "outputs": [
    {
     "data": {
      "text/html": [
       "<style>\n",
       ".list-inline {list-style: none; margin:0; padding: 0}\n",
       ".list-inline>li {display: inline-block}\n",
       ".list-inline>li:not(:last-child)::after {content: \"\\00b7\"; padding: 0 .5ex}\n",
       "</style>\n",
       "<ol class=list-inline><li>'28004'</li><li>'28015'</li><li>'28013'</li><li>'28005'</li><li>'28012'</li><li>'28014'</li><li>'28045'</li><li>NA</li><li>'28007'</li><li>'28028'</li><li>'28009'</li><li>'28001'</li><li>'28006'</li><li>'28010'</li><li>'28002'</li><li>'28034'</li><li>'28050'</li><li>'28008'</li><li>'28011'</li><li>'28049'</li><li>'28038'</li><li>'28053'</li><li>'28047'</li><li>'28025'</li><li>'28019'</li><li>'28024'</li><li>'28016'</li><li>'28036'</li><li>'28046'</li><li>'28039'</li><li>'28020'</li><li>'28003'</li><li>'28029'</li><li>'28054'</li><li>'28041'</li><li>'28026'</li><li>'28058'</li><li>'28018'</li><li>'28030'</li><li>'28017'</li><li>'28027'</li><li>'28043'</li><li>'28033'</li><li>'28055'</li><li>'28021'</li><li>'28032'</li><li>'28037'</li><li>'28022'</li><li>'28042'</li><li>'28094'</li><li>'280013'</li><li>'28035'</li><li>'28040'</li><li>'28031'</li><li>'28044'</li><li>'28105'</li><li>'28023'</li><li>'28051'</li><li>'28850'</li><li>'28048'</li><li>'28056'</li><li>'28060'</li><li>'28052'</li></ol>\n"
      ],
      "text/latex": [
       "\\begin{enumerate*}\n",
       "\\item '28004'\n",
       "\\item '28015'\n",
       "\\item '28013'\n",
       "\\item '28005'\n",
       "\\item '28012'\n",
       "\\item '28014'\n",
       "\\item '28045'\n",
       "\\item NA\n",
       "\\item '28007'\n",
       "\\item '28028'\n",
       "\\item '28009'\n",
       "\\item '28001'\n",
       "\\item '28006'\n",
       "\\item '28010'\n",
       "\\item '28002'\n",
       "\\item '28034'\n",
       "\\item '28050'\n",
       "\\item '28008'\n",
       "\\item '28011'\n",
       "\\item '28049'\n",
       "\\item '28038'\n",
       "\\item '28053'\n",
       "\\item '28047'\n",
       "\\item '28025'\n",
       "\\item '28019'\n",
       "\\item '28024'\n",
       "\\item '28016'\n",
       "\\item '28036'\n",
       "\\item '28046'\n",
       "\\item '28039'\n",
       "\\item '28020'\n",
       "\\item '28003'\n",
       "\\item '28029'\n",
       "\\item '28054'\n",
       "\\item '28041'\n",
       "\\item '28026'\n",
       "\\item '28058'\n",
       "\\item '28018'\n",
       "\\item '28030'\n",
       "\\item '28017'\n",
       "\\item '28027'\n",
       "\\item '28043'\n",
       "\\item '28033'\n",
       "\\item '28055'\n",
       "\\item '28021'\n",
       "\\item '28032'\n",
       "\\item '28037'\n",
       "\\item '28022'\n",
       "\\item '28042'\n",
       "\\item '28094'\n",
       "\\item '280013'\n",
       "\\item '28035'\n",
       "\\item '28040'\n",
       "\\item '28031'\n",
       "\\item '28044'\n",
       "\\item '28105'\n",
       "\\item '28023'\n",
       "\\item '28051'\n",
       "\\item '28850'\n",
       "\\item '28048'\n",
       "\\item '28056'\n",
       "\\item '28060'\n",
       "\\item '28052'\n",
       "\\end{enumerate*}\n"
      ],
      "text/markdown": [
       "1. '28004'\n",
       "2. '28015'\n",
       "3. '28013'\n",
       "4. '28005'\n",
       "5. '28012'\n",
       "6. '28014'\n",
       "7. '28045'\n",
       "8. NA\n",
       "9. '28007'\n",
       "10. '28028'\n",
       "11. '28009'\n",
       "12. '28001'\n",
       "13. '28006'\n",
       "14. '28010'\n",
       "15. '28002'\n",
       "16. '28034'\n",
       "17. '28050'\n",
       "18. '28008'\n",
       "19. '28011'\n",
       "20. '28049'\n",
       "21. '28038'\n",
       "22. '28053'\n",
       "23. '28047'\n",
       "24. '28025'\n",
       "25. '28019'\n",
       "26. '28024'\n",
       "27. '28016'\n",
       "28. '28036'\n",
       "29. '28046'\n",
       "30. '28039'\n",
       "31. '28020'\n",
       "32. '28003'\n",
       "33. '28029'\n",
       "34. '28054'\n",
       "35. '28041'\n",
       "36. '28026'\n",
       "37. '28058'\n",
       "38. '28018'\n",
       "39. '28030'\n",
       "40. '28017'\n",
       "41. '28027'\n",
       "42. '28043'\n",
       "43. '28033'\n",
       "44. '28055'\n",
       "45. '28021'\n",
       "46. '28032'\n",
       "47. '28037'\n",
       "48. '28022'\n",
       "49. '28042'\n",
       "50. '28094'\n",
       "51. '280013'\n",
       "52. '28035'\n",
       "53. '28040'\n",
       "54. '28031'\n",
       "55. '28044'\n",
       "56. '28105'\n",
       "57. '28023'\n",
       "58. '28051'\n",
       "59. '28850'\n",
       "60. '28048'\n",
       "61. '28056'\n",
       "62. '28060'\n",
       "63. '28052'\n",
       "\n",
       "\n"
      ],
      "text/plain": [
       " [1] \"28004\"  \"28015\"  \"28013\"  \"28005\"  \"28012\"  \"28014\"  \"28045\"  NA      \n",
       " [9] \"28007\"  \"28028\"  \"28009\"  \"28001\"  \"28006\"  \"28010\"  \"28002\"  \"28034\" \n",
       "[17] \"28050\"  \"28008\"  \"28011\"  \"28049\"  \"28038\"  \"28053\"  \"28047\"  \"28025\" \n",
       "[25] \"28019\"  \"28024\"  \"28016\"  \"28036\"  \"28046\"  \"28039\"  \"28020\"  \"28003\" \n",
       "[33] \"28029\"  \"28054\"  \"28041\"  \"28026\"  \"28058\"  \"28018\"  \"28030\"  \"28017\" \n",
       "[41] \"28027\"  \"28043\"  \"28033\"  \"28055\"  \"28021\"  \"28032\"  \"28037\"  \"28022\" \n",
       "[49] \"28042\"  \"28094\"  \"280013\" \"28035\"  \"28040\"  \"28031\"  \"28044\"  \"28105\" \n",
       "[57] \"28023\"  \"28051\"  \"28850\"  \"28048\"  \"28056\"  \"28060\"  \"28052\" "
      ]
     },
     "metadata": {},
     "output_type": "display_data"
    }
   ],
   "source": [
    "unique(airbnb$CodigoPostal)"
   ]
  },
  {
   "cell_type": "markdown",
   "metadata": {
    "pycharm": {
     "name": "#%% md\n"
    }
   },
   "source": [
    "¿Cuales son los 5 códigos postales con más entradas? ¿Y con menos? ¿Cuantas entradas tienen?"
   ]
  },
  {
   "cell_type": "code",
   "execution_count": 37,
   "metadata": {
    "pycharm": {
     "name": "#%%\n"
    }
   },
   "outputs": [
    {
     "data": {
      "text/html": [
       "<table class=\"dataframe\">\n",
       "<caption>A data.frame: 5 × 2</caption>\n",
       "<thead>\n",
       "\t<tr><th></th><th scope=col>CodigoPostal</th><th scope=col>n</th></tr>\n",
       "\t<tr><th></th><th scope=col>&lt;chr&gt;</th><th scope=col>&lt;int&gt;</th></tr>\n",
       "</thead>\n",
       "<tbody>\n",
       "\t<tr><th scope=row>1</th><td>28012</td><td>2060</td></tr>\n",
       "\t<tr><th scope=row>2</th><td>28004</td><td>1795</td></tr>\n",
       "\t<tr><th scope=row>3</th><td>28005</td><td>1195</td></tr>\n",
       "\t<tr><th scope=row>4</th><td>28013</td><td>1019</td></tr>\n",
       "\t<tr><th scope=row>5</th><td>28014</td><td> 630</td></tr>\n",
       "</tbody>\n",
       "</table>\n"
      ],
      "text/latex": [
       "A data.frame: 5 × 2\n",
       "\\begin{tabular}{r|ll}\n",
       "  & CodigoPostal & n\\\\\n",
       "  & <chr> & <int>\\\\\n",
       "\\hline\n",
       "\t1 & 28012 & 2060\\\\\n",
       "\t2 & 28004 & 1795\\\\\n",
       "\t3 & 28005 & 1195\\\\\n",
       "\t4 & 28013 & 1019\\\\\n",
       "\t5 & 28014 &  630\\\\\n",
       "\\end{tabular}\n"
      ],
      "text/markdown": [
       "\n",
       "A data.frame: 5 × 2\n",
       "\n",
       "| <!--/--> | CodigoPostal &lt;chr&gt; | n &lt;int&gt; |\n",
       "|---|---|---|\n",
       "| 1 | 28012 | 2060 |\n",
       "| 2 | 28004 | 1795 |\n",
       "| 3 | 28005 | 1195 |\n",
       "| 4 | 28013 | 1019 |\n",
       "| 5 | 28014 |  630 |\n",
       "\n"
      ],
      "text/plain": [
       "  CodigoPostal n   \n",
       "1 28012        2060\n",
       "2 28004        1795\n",
       "3 28005        1195\n",
       "4 28013        1019\n",
       "5 28014         630"
      ]
     },
     "metadata": {},
     "output_type": "display_data"
    },
    {
     "data": {
      "text/html": [
       "<table class=\"dataframe\">\n",
       "<caption>A data.frame: 5 × 2</caption>\n",
       "<thead>\n",
       "\t<tr><th></th><th scope=col>CodigoPostal</th><th scope=col>n</th></tr>\n",
       "\t<tr><th></th><th scope=col>&lt;chr&gt;</th><th scope=col>&lt;int&gt;</th></tr>\n",
       "</thead>\n",
       "<tbody>\n",
       "\t<tr><th scope=row>59</th><td>28058</td><td>1</td></tr>\n",
       "\t<tr><th scope=row>60</th><td>28060</td><td>1</td></tr>\n",
       "\t<tr><th scope=row>61</th><td>28094</td><td>1</td></tr>\n",
       "\t<tr><th scope=row>62</th><td>28105</td><td>1</td></tr>\n",
       "\t<tr><th scope=row>63</th><td>28850</td><td>1</td></tr>\n",
       "</tbody>\n",
       "</table>\n"
      ],
      "text/latex": [
       "A data.frame: 5 × 2\n",
       "\\begin{tabular}{r|ll}\n",
       "  & CodigoPostal & n\\\\\n",
       "  & <chr> & <int>\\\\\n",
       "\\hline\n",
       "\t59 & 28058 & 1\\\\\n",
       "\t60 & 28060 & 1\\\\\n",
       "\t61 & 28094 & 1\\\\\n",
       "\t62 & 28105 & 1\\\\\n",
       "\t63 & 28850 & 1\\\\\n",
       "\\end{tabular}\n"
      ],
      "text/markdown": [
       "\n",
       "A data.frame: 5 × 2\n",
       "\n",
       "| <!--/--> | CodigoPostal &lt;chr&gt; | n &lt;int&gt; |\n",
       "|---|---|---|\n",
       "| 59 | 28058 | 1 |\n",
       "| 60 | 28060 | 1 |\n",
       "| 61 | 28094 | 1 |\n",
       "| 62 | 28105 | 1 |\n",
       "| 63 | 28850 | 1 |\n",
       "\n"
      ],
      "text/plain": [
       "   CodigoPostal n\n",
       "59 28058        1\n",
       "60 28060        1\n",
       "61 28094        1\n",
       "62 28105        1\n",
       "63 28850        1"
      ]
     },
     "metadata": {},
     "output_type": "display_data"
    }
   ],
   "source": [
    "\n",
    "codigos_postales <- airbnb %>% count(CodigoPostal, sort = TRUE)\n",
    "head(codigos_postales, 5)\n",
    "tail(codigos_postales, 5)"
   ]
  },
  {
   "cell_type": "markdown",
   "metadata": {
    "pycharm": {
     "name": "#%% md\n"
    }
   },
   "source": [
    "¿Cuales son los barrios que hay en el código postal 28012?"
   ]
  },
  {
   "cell_type": "code",
   "execution_count": 40,
   "metadata": {
    "pycharm": {
     "name": "#%%\n"
    }
   },
   "outputs": [
    {
     "data": {
      "text/html": [
       "<style>\n",
       ".list-inline {list-style: none; margin:0; padding: 0}\n",
       ".list-inline>li {display: inline-block}\n",
       ".list-inline>li:not(:last-child)::after {content: \"\\00b7\"; padding: 0 .5ex}\n",
       "</style>\n",
       "<ol class=list-inline><li>Sol</li><li>Acacias</li><li>&lt;NA&gt;</li><li>Palos de Moguer</li><li>Embajadores</li><li>Cortes</li><li>Palacio</li><li>Universidad</li><li>Delicias</li><li>Arapiles</li><li>Atocha</li><li>Goya</li></ol>\n",
       "\n",
       "<details>\n",
       "\t<summary style=display:list-item;cursor:pointer>\n",
       "\t\t<strong>Levels</strong>:\n",
       "\t</summary>\n",
       "\t<style>\n",
       "\t.list-inline {list-style: none; margin:0; padding: 0}\n",
       "\t.list-inline>li {display: inline-block}\n",
       "\t.list-inline>li:not(:last-child)::after {content: \"\\00b7\"; padding: 0 .5ex}\n",
       "\t</style>\n",
       "\t<ol class=list-inline><li>'Abrantes'</li><li>'Acacias'</li><li>'Adelfas'</li><li>'Aeropuerto'</li><li>'Aguilas'</li><li>'Alameda de Osuna'</li><li>'Almagro'</li><li>'Almenara'</li><li>'Almendrales'</li><li>'Aluche'</li><li>'Ambroz'</li><li>'Amposta'</li><li>'Apostol Santiago'</li><li>'Arapiles'</li><li>'Aravaca'</li><li>'Arcos'</li><li>'Argüelles'</li><li>'Atocha'</li><li>'Bellas Vistas'</li><li>'Berruguete'</li><li>'Buenavista'</li><li>'Butarque'</li><li>'Campamento'</li><li>'Canillas'</li><li>'Canillejas'</li><li>'Cármenes'</li><li>'Casa de Campo'</li><li>'Casco Histórico de Barajas'</li><li>'Casco Histórico de Vallecas'</li><li>'Casco Histórico de Vicálvaro'</li><li>'Castellana'</li><li>'Castilla'</li><li>'Castillejos'</li><li>'Chopera'</li><li>'Ciudad Jardín'</li><li>'Ciudad Universitaria'</li><li>'Colina'</li><li>'Comillas'</li><li>'Concepción'</li><li>'Corralejos'</li><li>'Cortes'</li><li>'Costillares'</li><li>'Cuatro Caminos'</li><li>'Cuatro Vientos'</li><li>'Delicias'</li><li>'El Goloso'</li><li>'El Plantío'</li><li>'El Viso'</li><li>'Embajadores'</li><li>'Entrevías'</li><li>'Estrella'</li><li>'Fontarrón'</li><li>'Fuente del Berro'</li><li>'Fuentelareina'</li><li>'Gaztambide'</li><li>'Goya'</li><li>'Guindalera'</li><li>'Hellín'</li><li>'Hispanoamérica'</li><li>'Ibiza'</li><li>'Imperial'</li><li>'Jerónimos'</li><li>'Justicia'</li><li>'La Paz'</li><li>'Legazpi'</li><li>'Lista'</li><li>'Los Angeles'</li><li>'Los Rosales'</li><li>'Lucero'</li><li>'Marroquina'</li><li>'Media Legua'</li><li>'Mirasierra'</li><li>'Moscardó'</li><li>'Niño Jesús'</li><li>'Nueva España'</li><li>'Numancia'</li><li>'Opañel'</li><li>'Orcasitas'</li><li>'Orcasur'</li><li>'Pacífico'</li><li>'Palacio'</li><li>'Palomas'</li><li>'Palomeras Bajas'</li><li>'Palomeras Sureste'</li><li>'Palos de Moguer'</li><li>'Pavones'</li><li>'Peñagrande'</li><li>'Pilar'</li><li>'Pinar del Rey'</li><li>'Piovera'</li><li>'Portazgo'</li><li>'Pradolongo'</li><li>'Prosperidad'</li><li>'Pueblo Nuevo'</li><li>'Puerta Bonita'</li><li>'Puerta del Angel'</li><li>'Quintana'</li><li>'Recoletos'</li><li>'Rejas'</li><li>'Rios Rosas'</li><li>'Rosas'</li><li>'Salvador'</li><li>'San Andrés'</li><li>'San Cristobal'</li><li>'San Diego'</li><li>'San Fermín'</li><li>'San Isidro'</li><li>'San Juan Bautista'</li><li>'San Pascual'</li><li>'Santa Eugenia'</li><li>'Simancas'</li><li>'Sol'</li><li>'Timón'</li><li>'Trafalgar'</li><li>'Universidad'</li><li>'Valdeacederas'</li><li>'Valdefuentes'</li><li>'Valdemarín'</li><li>'Valdezarza'</li><li>'Vallehermoso'</li><li>'Valverde'</li><li>'Ventas'</li><li>'Vinateros'</li><li>'Vista Alegre'</li><li>'Zofío'</li></ol>\n",
       "</details>"
      ],
      "text/latex": [
       "\\begin{enumerate*}\n",
       "\\item Sol\n",
       "\\item Acacias\n",
       "\\item <NA>\n",
       "\\item Palos de Moguer\n",
       "\\item Embajadores\n",
       "\\item Cortes\n",
       "\\item Palacio\n",
       "\\item Universidad\n",
       "\\item Delicias\n",
       "\\item Arapiles\n",
       "\\item Atocha\n",
       "\\item Goya\n",
       "\\end{enumerate*}\n",
       "\n",
       "\\emph{Levels}: \\begin{enumerate*}\n",
       "\\item 'Abrantes'\n",
       "\\item 'Acacias'\n",
       "\\item 'Adelfas'\n",
       "\\item 'Aeropuerto'\n",
       "\\item 'Aguilas'\n",
       "\\item 'Alameda de Osuna'\n",
       "\\item 'Almagro'\n",
       "\\item 'Almenara'\n",
       "\\item 'Almendrales'\n",
       "\\item 'Aluche'\n",
       "\\item 'Ambroz'\n",
       "\\item 'Amposta'\n",
       "\\item 'Apostol Santiago'\n",
       "\\item 'Arapiles'\n",
       "\\item 'Aravaca'\n",
       "\\item 'Arcos'\n",
       "\\item 'Argüelles'\n",
       "\\item 'Atocha'\n",
       "\\item 'Bellas Vistas'\n",
       "\\item 'Berruguete'\n",
       "\\item 'Buenavista'\n",
       "\\item 'Butarque'\n",
       "\\item 'Campamento'\n",
       "\\item 'Canillas'\n",
       "\\item 'Canillejas'\n",
       "\\item 'Cármenes'\n",
       "\\item 'Casa de Campo'\n",
       "\\item 'Casco Histórico de Barajas'\n",
       "\\item 'Casco Histórico de Vallecas'\n",
       "\\item 'Casco Histórico de Vicálvaro'\n",
       "\\item 'Castellana'\n",
       "\\item 'Castilla'\n",
       "\\item 'Castillejos'\n",
       "\\item 'Chopera'\n",
       "\\item 'Ciudad Jardín'\n",
       "\\item 'Ciudad Universitaria'\n",
       "\\item 'Colina'\n",
       "\\item 'Comillas'\n",
       "\\item 'Concepción'\n",
       "\\item 'Corralejos'\n",
       "\\item 'Cortes'\n",
       "\\item 'Costillares'\n",
       "\\item 'Cuatro Caminos'\n",
       "\\item 'Cuatro Vientos'\n",
       "\\item 'Delicias'\n",
       "\\item 'El Goloso'\n",
       "\\item 'El Plantío'\n",
       "\\item 'El Viso'\n",
       "\\item 'Embajadores'\n",
       "\\item 'Entrevías'\n",
       "\\item 'Estrella'\n",
       "\\item 'Fontarrón'\n",
       "\\item 'Fuente del Berro'\n",
       "\\item 'Fuentelareina'\n",
       "\\item 'Gaztambide'\n",
       "\\item 'Goya'\n",
       "\\item 'Guindalera'\n",
       "\\item 'Hellín'\n",
       "\\item 'Hispanoamérica'\n",
       "\\item 'Ibiza'\n",
       "\\item 'Imperial'\n",
       "\\item 'Jerónimos'\n",
       "\\item 'Justicia'\n",
       "\\item 'La Paz'\n",
       "\\item 'Legazpi'\n",
       "\\item 'Lista'\n",
       "\\item 'Los Angeles'\n",
       "\\item 'Los Rosales'\n",
       "\\item 'Lucero'\n",
       "\\item 'Marroquina'\n",
       "\\item 'Media Legua'\n",
       "\\item 'Mirasierra'\n",
       "\\item 'Moscardó'\n",
       "\\item 'Niño Jesús'\n",
       "\\item 'Nueva España'\n",
       "\\item 'Numancia'\n",
       "\\item 'Opañel'\n",
       "\\item 'Orcasitas'\n",
       "\\item 'Orcasur'\n",
       "\\item 'Pacífico'\n",
       "\\item 'Palacio'\n",
       "\\item 'Palomas'\n",
       "\\item 'Palomeras Bajas'\n",
       "\\item 'Palomeras Sureste'\n",
       "\\item 'Palos de Moguer'\n",
       "\\item 'Pavones'\n",
       "\\item 'Peñagrande'\n",
       "\\item 'Pilar'\n",
       "\\item 'Pinar del Rey'\n",
       "\\item 'Piovera'\n",
       "\\item 'Portazgo'\n",
       "\\item 'Pradolongo'\n",
       "\\item 'Prosperidad'\n",
       "\\item 'Pueblo Nuevo'\n",
       "\\item 'Puerta Bonita'\n",
       "\\item 'Puerta del Angel'\n",
       "\\item 'Quintana'\n",
       "\\item 'Recoletos'\n",
       "\\item 'Rejas'\n",
       "\\item 'Rios Rosas'\n",
       "\\item 'Rosas'\n",
       "\\item 'Salvador'\n",
       "\\item 'San Andrés'\n",
       "\\item 'San Cristobal'\n",
       "\\item 'San Diego'\n",
       "\\item 'San Fermín'\n",
       "\\item 'San Isidro'\n",
       "\\item 'San Juan Bautista'\n",
       "\\item 'San Pascual'\n",
       "\\item 'Santa Eugenia'\n",
       "\\item 'Simancas'\n",
       "\\item 'Sol'\n",
       "\\item 'Timón'\n",
       "\\item 'Trafalgar'\n",
       "\\item 'Universidad'\n",
       "\\item 'Valdeacederas'\n",
       "\\item 'Valdefuentes'\n",
       "\\item 'Valdemarín'\n",
       "\\item 'Valdezarza'\n",
       "\\item 'Vallehermoso'\n",
       "\\item 'Valverde'\n",
       "\\item 'Ventas'\n",
       "\\item 'Vinateros'\n",
       "\\item 'Vista Alegre'\n",
       "\\item 'Zofío'\n",
       "\\end{enumerate*}\n"
      ],
      "text/markdown": [
       "1. Sol\n",
       "2. Acacias\n",
       "3. &lt;NA&gt;\n",
       "4. Palos de Moguer\n",
       "5. Embajadores\n",
       "6. Cortes\n",
       "7. Palacio\n",
       "8. Universidad\n",
       "9. Delicias\n",
       "10. Arapiles\n",
       "11. Atocha\n",
       "12. Goya\n",
       "\n",
       "\n",
       "\n",
       "**Levels**: 1. 'Abrantes'\n",
       "2. 'Acacias'\n",
       "3. 'Adelfas'\n",
       "4. 'Aeropuerto'\n",
       "5. 'Aguilas'\n",
       "6. 'Alameda de Osuna'\n",
       "7. 'Almagro'\n",
       "8. 'Almenara'\n",
       "9. 'Almendrales'\n",
       "10. 'Aluche'\n",
       "11. 'Ambroz'\n",
       "12. 'Amposta'\n",
       "13. 'Apostol Santiago'\n",
       "14. 'Arapiles'\n",
       "15. 'Aravaca'\n",
       "16. 'Arcos'\n",
       "17. 'Argüelles'\n",
       "18. 'Atocha'\n",
       "19. 'Bellas Vistas'\n",
       "20. 'Berruguete'\n",
       "21. 'Buenavista'\n",
       "22. 'Butarque'\n",
       "23. 'Campamento'\n",
       "24. 'Canillas'\n",
       "25. 'Canillejas'\n",
       "26. 'Cármenes'\n",
       "27. 'Casa de Campo'\n",
       "28. 'Casco Histórico de Barajas'\n",
       "29. 'Casco Histórico de Vallecas'\n",
       "30. 'Casco Histórico de Vicálvaro'\n",
       "31. 'Castellana'\n",
       "32. 'Castilla'\n",
       "33. 'Castillejos'\n",
       "34. 'Chopera'\n",
       "35. 'Ciudad Jardín'\n",
       "36. 'Ciudad Universitaria'\n",
       "37. 'Colina'\n",
       "38. 'Comillas'\n",
       "39. 'Concepción'\n",
       "40. 'Corralejos'\n",
       "41. 'Cortes'\n",
       "42. 'Costillares'\n",
       "43. 'Cuatro Caminos'\n",
       "44. 'Cuatro Vientos'\n",
       "45. 'Delicias'\n",
       "46. 'El Goloso'\n",
       "47. 'El Plantío'\n",
       "48. 'El Viso'\n",
       "49. 'Embajadores'\n",
       "50. 'Entrevías'\n",
       "51. 'Estrella'\n",
       "52. 'Fontarrón'\n",
       "53. 'Fuente del Berro'\n",
       "54. 'Fuentelareina'\n",
       "55. 'Gaztambide'\n",
       "56. 'Goya'\n",
       "57. 'Guindalera'\n",
       "58. 'Hellín'\n",
       "59. 'Hispanoamérica'\n",
       "60. 'Ibiza'\n",
       "61. 'Imperial'\n",
       "62. 'Jerónimos'\n",
       "63. 'Justicia'\n",
       "64. 'La Paz'\n",
       "65. 'Legazpi'\n",
       "66. 'Lista'\n",
       "67. 'Los Angeles'\n",
       "68. 'Los Rosales'\n",
       "69. 'Lucero'\n",
       "70. 'Marroquina'\n",
       "71. 'Media Legua'\n",
       "72. 'Mirasierra'\n",
       "73. 'Moscardó'\n",
       "74. 'Niño Jesús'\n",
       "75. 'Nueva España'\n",
       "76. 'Numancia'\n",
       "77. 'Opañel'\n",
       "78. 'Orcasitas'\n",
       "79. 'Orcasur'\n",
       "80. 'Pacífico'\n",
       "81. 'Palacio'\n",
       "82. 'Palomas'\n",
       "83. 'Palomeras Bajas'\n",
       "84. 'Palomeras Sureste'\n",
       "85. 'Palos de Moguer'\n",
       "86. 'Pavones'\n",
       "87. 'Peñagrande'\n",
       "88. 'Pilar'\n",
       "89. 'Pinar del Rey'\n",
       "90. 'Piovera'\n",
       "91. 'Portazgo'\n",
       "92. 'Pradolongo'\n",
       "93. 'Prosperidad'\n",
       "94. 'Pueblo Nuevo'\n",
       "95. 'Puerta Bonita'\n",
       "96. 'Puerta del Angel'\n",
       "97. 'Quintana'\n",
       "98. 'Recoletos'\n",
       "99. 'Rejas'\n",
       "100. 'Rios Rosas'\n",
       "101. 'Rosas'\n",
       "102. 'Salvador'\n",
       "103. 'San Andrés'\n",
       "104. 'San Cristobal'\n",
       "105. 'San Diego'\n",
       "106. 'San Fermín'\n",
       "107. 'San Isidro'\n",
       "108. 'San Juan Bautista'\n",
       "109. 'San Pascual'\n",
       "110. 'Santa Eugenia'\n",
       "111. 'Simancas'\n",
       "112. 'Sol'\n",
       "113. 'Timón'\n",
       "114. 'Trafalgar'\n",
       "115. 'Universidad'\n",
       "116. 'Valdeacederas'\n",
       "117. 'Valdefuentes'\n",
       "118. 'Valdemarín'\n",
       "119. 'Valdezarza'\n",
       "120. 'Vallehermoso'\n",
       "121. 'Valverde'\n",
       "122. 'Ventas'\n",
       "123. 'Vinateros'\n",
       "124. 'Vista Alegre'\n",
       "125. 'Zofío'\n",
       "\n",
       "\n"
      ],
      "text/plain": [
       " [1] Sol             Acacias         <NA>            Palos de Moguer\n",
       " [5] Embajadores     Cortes          Palacio         Universidad    \n",
       " [9] Delicias        Arapiles        Atocha          Goya           \n",
       "125 Levels: Abrantes Acacias Adelfas Aeropuerto Aguilas ... Zofío"
      ]
     },
     "metadata": {},
     "output_type": "display_data"
    }
   ],
   "source": [
    "barrios_28012 <- unique(airbnb$Barrio[airbnb$CodigoPostal == \"28012\"])\n",
    "barrios_28012"
   ]
  },
  {
   "cell_type": "markdown",
   "metadata": {
    "pycharm": {
     "name": "#%% md\n"
    }
   },
   "source": [
    "¿Cuantas entradas hay en cada uno de esos barrios para el codigo postal 28012?"
   ]
  },
  {
   "cell_type": "code",
   "execution_count": 41,
   "metadata": {
    "pycharm": {
     "name": "#%%\n"
    }
   },
   "outputs": [
    {
     "data": {
      "text/html": [
       "<table class=\"dataframe\">\n",
       "<caption>A data.frame: 11 × 2</caption>\n",
       "<thead>\n",
       "\t<tr><th scope=col>Barrio</th><th scope=col>n</th></tr>\n",
       "\t<tr><th scope=col>&lt;fct&gt;</th><th scope=col>&lt;int&gt;</th></tr>\n",
       "</thead>\n",
       "<tbody>\n",
       "\t<tr><td>Acacias        </td><td>  13</td></tr>\n",
       "\t<tr><td>Arapiles       </td><td>   1</td></tr>\n",
       "\t<tr><td>Atocha         </td><td>   1</td></tr>\n",
       "\t<tr><td>Cortes         </td><td> 216</td></tr>\n",
       "\t<tr><td>Delicias       </td><td>   1</td></tr>\n",
       "\t<tr><td>Embajadores    </td><td>1449</td></tr>\n",
       "\t<tr><td>Goya           </td><td>   1</td></tr>\n",
       "\t<tr><td>Palacio        </td><td>  27</td></tr>\n",
       "\t<tr><td>Palos de Moguer</td><td>  46</td></tr>\n",
       "\t<tr><td>Sol            </td><td> 301</td></tr>\n",
       "\t<tr><td>Universidad    </td><td>   4</td></tr>\n",
       "</tbody>\n",
       "</table>\n"
      ],
      "text/latex": [
       "A data.frame: 11 × 2\n",
       "\\begin{tabular}{ll}\n",
       " Barrio & n\\\\\n",
       " <fct> & <int>\\\\\n",
       "\\hline\n",
       "\t Acacias         &   13\\\\\n",
       "\t Arapiles        &    1\\\\\n",
       "\t Atocha          &    1\\\\\n",
       "\t Cortes          &  216\\\\\n",
       "\t Delicias        &    1\\\\\n",
       "\t Embajadores     & 1449\\\\\n",
       "\t Goya            &    1\\\\\n",
       "\t Palacio         &   27\\\\\n",
       "\t Palos de Moguer &   46\\\\\n",
       "\t Sol             &  301\\\\\n",
       "\t Universidad     &    4\\\\\n",
       "\\end{tabular}\n"
      ],
      "text/markdown": [
       "\n",
       "A data.frame: 11 × 2\n",
       "\n",
       "| Barrio &lt;fct&gt; | n &lt;int&gt; |\n",
       "|---|---|\n",
       "| Acacias         |   13 |\n",
       "| Arapiles        |    1 |\n",
       "| Atocha          |    1 |\n",
       "| Cortes          |  216 |\n",
       "| Delicias        |    1 |\n",
       "| Embajadores     | 1449 |\n",
       "| Goya            |    1 |\n",
       "| Palacio         |   27 |\n",
       "| Palos de Moguer |   46 |\n",
       "| Sol             |  301 |\n",
       "| Universidad     |    4 |\n",
       "\n"
      ],
      "text/plain": [
       "   Barrio          n   \n",
       "1  Acacias           13\n",
       "2  Arapiles           1\n",
       "3  Atocha             1\n",
       "4  Cortes           216\n",
       "5  Delicias           1\n",
       "6  Embajadores     1449\n",
       "7  Goya               1\n",
       "8  Palacio           27\n",
       "9  Palos de Moguer   46\n",
       "10 Sol              301\n",
       "11 Universidad        4"
      ]
     },
     "metadata": {},
     "output_type": "display_data"
    }
   ],
   "source": [
    "airbnb %>% filter(CodigoPostal == \"28012\") %>% count(Barrio)"
   ]
  },
  {
   "cell_type": "markdown",
   "metadata": {
    "pycharm": {
     "name": "#%% md\n"
    }
   },
   "source": [
    "¿Cuantos barrios hay en todo el dataset airbnb? ¿Cuales son?"
   ]
  },
  {
   "cell_type": "code",
   "execution_count": 43,
   "metadata": {
    "pycharm": {
     "name": "#%%\n"
    }
   },
   "outputs": [
    {
     "name": "stdout",
     "output_type": "stream",
     "text": [
      "Cantidad de barrios 125"
     ]
    },
    {
     "data": {
      "text/html": [
       "<style>\n",
       ".list-inline {list-style: none; margin:0; padding: 0}\n",
       ".list-inline>li {display: inline-block}\n",
       ".list-inline>li:not(:last-child)::after {content: \"\\00b7\"; padding: 0 .5ex}\n",
       "</style>\n",
       "<ol class=list-inline><li>Universidad</li><li>Sol</li><li>Imperial</li><li>Acacias</li><li>Chopera</li><li>Delicias</li><li>Palos de Moguer</li><li>Embajadores</li><li>Cortes</li><li>Atocha</li><li>Pacífico</li><li>Adelfas</li><li>Estrella</li><li>Ibiza</li><li>Jerónimos</li><li>Niño Jesús</li><li>Palacio</li><li>Justicia</li><li>Recoletos</li><li>Goya</li><li>Fuente del Berro</li><li>Arapiles</li><li>Trafalgar</li><li>Almagro</li><li>Guindalera</li><li>Lista</li><li>Castellana</li><li>El Viso</li><li>Prosperidad</li><li>Valverde</li><li>Casa de Campo</li><li>El Goloso</li><li>Numancia</li><li>Cármenes</li><li>Puerta del Angel</li><li>Lucero</li><li>Aluche</li><li>San Isidro</li><li>Campamento</li><li>Comillas</li><li>Opañel</li><li>Vista Alegre</li><li>Ciudad Jardín</li><li>Hispanoamérica</li><li>Nueva España</li><li>Castilla</li><li>Bellas Vistas</li><li>Cuatro Caminos</li><li>Castillejos</li><li>Vallehermoso</li><li>Almenara</li><li>Valdeacederas</li><li>Berruguete</li><li>Gaztambide</li><li>Rios Rosas</li><li>Peñagrande</li><li>Argüelles</li><li>Puerta Bonita</li><li>Buenavista</li><li>Abrantes</li><li>Orcasur</li><li>San Fermín</li><li>Almendrales</li><li>Pradolongo</li><li>Portazgo</li><li>Entrevías</li><li>San Diego</li><li>Palomeras Bajas</li><li>Fontarrón</li><li>Vinateros</li><li>Ventas</li><li>Pueblo Nuevo</li><li>Quintana</li><li>Concepción</li><li>San Juan Bautista</li><li>Costillares</li><li>Piovera</li><li>Canillas</li><li>Pinar del Rey</li><li>Apostol Santiago</li><li>San Andrés</li><li>Valdefuentes</li><li>Butarque</li><li>Los Angeles</li><li>Casco Histórico de Vicálvaro</li><li>Simancas</li><li>Rejas</li><li>Salvador</li><li>Casco Histórico de Barajas</li><li>Pilar</li><li>La Paz</li><li>Mirasierra</li><li>Ciudad Universitaria</li><li>Moscardó</li><li>Palomeras Sureste</li><li>Marroquina</li><li>Media Legua</li><li>Los Rosales</li><li>Casco Histórico de Vallecas</li><li>Timón</li><li>Corralejos</li><li>Cuatro Vientos</li><li>Colina</li><li>San Cristobal</li><li>Alameda de Osuna</li><li>Aeropuerto</li><li>Palomas</li><li>Zofío</li><li>Aguilas</li><li>Legazpi</li><li>Fuentelareina</li><li>Aravaca</li><li>Ambroz</li><li>Canillejas</li><li>Valdezarza</li><li>Amposta</li><li>San Pascual</li><li>Santa Eugenia</li><li>Arcos</li><li>Rosas</li><li>Valdemarín</li><li>El Plantío</li><li>Hellín</li><li>Pavones</li><li>Orcasitas</li></ol>\n",
       "\n",
       "<details>\n",
       "\t<summary style=display:list-item;cursor:pointer>\n",
       "\t\t<strong>Levels</strong>:\n",
       "\t</summary>\n",
       "\t<style>\n",
       "\t.list-inline {list-style: none; margin:0; padding: 0}\n",
       "\t.list-inline>li {display: inline-block}\n",
       "\t.list-inline>li:not(:last-child)::after {content: \"\\00b7\"; padding: 0 .5ex}\n",
       "\t</style>\n",
       "\t<ol class=list-inline><li>'Abrantes'</li><li>'Acacias'</li><li>'Adelfas'</li><li>'Aeropuerto'</li><li>'Aguilas'</li><li>'Alameda de Osuna'</li><li>'Almagro'</li><li>'Almenara'</li><li>'Almendrales'</li><li>'Aluche'</li><li>'Ambroz'</li><li>'Amposta'</li><li>'Apostol Santiago'</li><li>'Arapiles'</li><li>'Aravaca'</li><li>'Arcos'</li><li>'Argüelles'</li><li>'Atocha'</li><li>'Bellas Vistas'</li><li>'Berruguete'</li><li>'Buenavista'</li><li>'Butarque'</li><li>'Campamento'</li><li>'Canillas'</li><li>'Canillejas'</li><li>'Cármenes'</li><li>'Casa de Campo'</li><li>'Casco Histórico de Barajas'</li><li>'Casco Histórico de Vallecas'</li><li>'Casco Histórico de Vicálvaro'</li><li>'Castellana'</li><li>'Castilla'</li><li>'Castillejos'</li><li>'Chopera'</li><li>'Ciudad Jardín'</li><li>'Ciudad Universitaria'</li><li>'Colina'</li><li>'Comillas'</li><li>'Concepción'</li><li>'Corralejos'</li><li>'Cortes'</li><li>'Costillares'</li><li>'Cuatro Caminos'</li><li>'Cuatro Vientos'</li><li>'Delicias'</li><li>'El Goloso'</li><li>'El Plantío'</li><li>'El Viso'</li><li>'Embajadores'</li><li>'Entrevías'</li><li>'Estrella'</li><li>'Fontarrón'</li><li>'Fuente del Berro'</li><li>'Fuentelareina'</li><li>'Gaztambide'</li><li>'Goya'</li><li>'Guindalera'</li><li>'Hellín'</li><li>'Hispanoamérica'</li><li>'Ibiza'</li><li>'Imperial'</li><li>'Jerónimos'</li><li>'Justicia'</li><li>'La Paz'</li><li>'Legazpi'</li><li>'Lista'</li><li>'Los Angeles'</li><li>'Los Rosales'</li><li>'Lucero'</li><li>'Marroquina'</li><li>'Media Legua'</li><li>'Mirasierra'</li><li>'Moscardó'</li><li>'Niño Jesús'</li><li>'Nueva España'</li><li>'Numancia'</li><li>'Opañel'</li><li>'Orcasitas'</li><li>'Orcasur'</li><li>'Pacífico'</li><li>'Palacio'</li><li>'Palomas'</li><li>'Palomeras Bajas'</li><li>'Palomeras Sureste'</li><li>'Palos de Moguer'</li><li>'Pavones'</li><li>'Peñagrande'</li><li>'Pilar'</li><li>'Pinar del Rey'</li><li>'Piovera'</li><li>'Portazgo'</li><li>'Pradolongo'</li><li>'Prosperidad'</li><li>'Pueblo Nuevo'</li><li>'Puerta Bonita'</li><li>'Puerta del Angel'</li><li>'Quintana'</li><li>'Recoletos'</li><li>'Rejas'</li><li>'Rios Rosas'</li><li>'Rosas'</li><li>'Salvador'</li><li>'San Andrés'</li><li>'San Cristobal'</li><li>'San Diego'</li><li>'San Fermín'</li><li>'San Isidro'</li><li>'San Juan Bautista'</li><li>'San Pascual'</li><li>'Santa Eugenia'</li><li>'Simancas'</li><li>'Sol'</li><li>'Timón'</li><li>'Trafalgar'</li><li>'Universidad'</li><li>'Valdeacederas'</li><li>'Valdefuentes'</li><li>'Valdemarín'</li><li>'Valdezarza'</li><li>'Vallehermoso'</li><li>'Valverde'</li><li>'Ventas'</li><li>'Vinateros'</li><li>'Vista Alegre'</li><li>'Zofío'</li></ol>\n",
       "</details>"
      ],
      "text/latex": [
       "\\begin{enumerate*}\n",
       "\\item Universidad\n",
       "\\item Sol\n",
       "\\item Imperial\n",
       "\\item Acacias\n",
       "\\item Chopera\n",
       "\\item Delicias\n",
       "\\item Palos de Moguer\n",
       "\\item Embajadores\n",
       "\\item Cortes\n",
       "\\item Atocha\n",
       "\\item Pacífico\n",
       "\\item Adelfas\n",
       "\\item Estrella\n",
       "\\item Ibiza\n",
       "\\item Jerónimos\n",
       "\\item Niño Jesús\n",
       "\\item Palacio\n",
       "\\item Justicia\n",
       "\\item Recoletos\n",
       "\\item Goya\n",
       "\\item Fuente del Berro\n",
       "\\item Arapiles\n",
       "\\item Trafalgar\n",
       "\\item Almagro\n",
       "\\item Guindalera\n",
       "\\item Lista\n",
       "\\item Castellana\n",
       "\\item El Viso\n",
       "\\item Prosperidad\n",
       "\\item Valverde\n",
       "\\item Casa de Campo\n",
       "\\item El Goloso\n",
       "\\item Numancia\n",
       "\\item Cármenes\n",
       "\\item Puerta del Angel\n",
       "\\item Lucero\n",
       "\\item Aluche\n",
       "\\item San Isidro\n",
       "\\item Campamento\n",
       "\\item Comillas\n",
       "\\item Opañel\n",
       "\\item Vista Alegre\n",
       "\\item Ciudad Jardín\n",
       "\\item Hispanoamérica\n",
       "\\item Nueva España\n",
       "\\item Castilla\n",
       "\\item Bellas Vistas\n",
       "\\item Cuatro Caminos\n",
       "\\item Castillejos\n",
       "\\item Vallehermoso\n",
       "\\item Almenara\n",
       "\\item Valdeacederas\n",
       "\\item Berruguete\n",
       "\\item Gaztambide\n",
       "\\item Rios Rosas\n",
       "\\item Peñagrande\n",
       "\\item Argüelles\n",
       "\\item Puerta Bonita\n",
       "\\item Buenavista\n",
       "\\item Abrantes\n",
       "\\item Orcasur\n",
       "\\item San Fermín\n",
       "\\item Almendrales\n",
       "\\item Pradolongo\n",
       "\\item Portazgo\n",
       "\\item Entrevías\n",
       "\\item San Diego\n",
       "\\item Palomeras Bajas\n",
       "\\item Fontarrón\n",
       "\\item Vinateros\n",
       "\\item Ventas\n",
       "\\item Pueblo Nuevo\n",
       "\\item Quintana\n",
       "\\item Concepción\n",
       "\\item San Juan Bautista\n",
       "\\item Costillares\n",
       "\\item Piovera\n",
       "\\item Canillas\n",
       "\\item Pinar del Rey\n",
       "\\item Apostol Santiago\n",
       "\\item San Andrés\n",
       "\\item Valdefuentes\n",
       "\\item Butarque\n",
       "\\item Los Angeles\n",
       "\\item Casco Histórico de Vicálvaro\n",
       "\\item Simancas\n",
       "\\item Rejas\n",
       "\\item Salvador\n",
       "\\item Casco Histórico de Barajas\n",
       "\\item Pilar\n",
       "\\item La Paz\n",
       "\\item Mirasierra\n",
       "\\item Ciudad Universitaria\n",
       "\\item Moscardó\n",
       "\\item Palomeras Sureste\n",
       "\\item Marroquina\n",
       "\\item Media Legua\n",
       "\\item Los Rosales\n",
       "\\item Casco Histórico de Vallecas\n",
       "\\item Timón\n",
       "\\item Corralejos\n",
       "\\item Cuatro Vientos\n",
       "\\item Colina\n",
       "\\item San Cristobal\n",
       "\\item Alameda de Osuna\n",
       "\\item Aeropuerto\n",
       "\\item Palomas\n",
       "\\item Zofío\n",
       "\\item Aguilas\n",
       "\\item Legazpi\n",
       "\\item Fuentelareina\n",
       "\\item Aravaca\n",
       "\\item Ambroz\n",
       "\\item Canillejas\n",
       "\\item Valdezarza\n",
       "\\item Amposta\n",
       "\\item San Pascual\n",
       "\\item Santa Eugenia\n",
       "\\item Arcos\n",
       "\\item Rosas\n",
       "\\item Valdemarín\n",
       "\\item El Plantío\n",
       "\\item Hellín\n",
       "\\item Pavones\n",
       "\\item Orcasitas\n",
       "\\end{enumerate*}\n",
       "\n",
       "\\emph{Levels}: \\begin{enumerate*}\n",
       "\\item 'Abrantes'\n",
       "\\item 'Acacias'\n",
       "\\item 'Adelfas'\n",
       "\\item 'Aeropuerto'\n",
       "\\item 'Aguilas'\n",
       "\\item 'Alameda de Osuna'\n",
       "\\item 'Almagro'\n",
       "\\item 'Almenara'\n",
       "\\item 'Almendrales'\n",
       "\\item 'Aluche'\n",
       "\\item 'Ambroz'\n",
       "\\item 'Amposta'\n",
       "\\item 'Apostol Santiago'\n",
       "\\item 'Arapiles'\n",
       "\\item 'Aravaca'\n",
       "\\item 'Arcos'\n",
       "\\item 'Argüelles'\n",
       "\\item 'Atocha'\n",
       "\\item 'Bellas Vistas'\n",
       "\\item 'Berruguete'\n",
       "\\item 'Buenavista'\n",
       "\\item 'Butarque'\n",
       "\\item 'Campamento'\n",
       "\\item 'Canillas'\n",
       "\\item 'Canillejas'\n",
       "\\item 'Cármenes'\n",
       "\\item 'Casa de Campo'\n",
       "\\item 'Casco Histórico de Barajas'\n",
       "\\item 'Casco Histórico de Vallecas'\n",
       "\\item 'Casco Histórico de Vicálvaro'\n",
       "\\item 'Castellana'\n",
       "\\item 'Castilla'\n",
       "\\item 'Castillejos'\n",
       "\\item 'Chopera'\n",
       "\\item 'Ciudad Jardín'\n",
       "\\item 'Ciudad Universitaria'\n",
       "\\item 'Colina'\n",
       "\\item 'Comillas'\n",
       "\\item 'Concepción'\n",
       "\\item 'Corralejos'\n",
       "\\item 'Cortes'\n",
       "\\item 'Costillares'\n",
       "\\item 'Cuatro Caminos'\n",
       "\\item 'Cuatro Vientos'\n",
       "\\item 'Delicias'\n",
       "\\item 'El Goloso'\n",
       "\\item 'El Plantío'\n",
       "\\item 'El Viso'\n",
       "\\item 'Embajadores'\n",
       "\\item 'Entrevías'\n",
       "\\item 'Estrella'\n",
       "\\item 'Fontarrón'\n",
       "\\item 'Fuente del Berro'\n",
       "\\item 'Fuentelareina'\n",
       "\\item 'Gaztambide'\n",
       "\\item 'Goya'\n",
       "\\item 'Guindalera'\n",
       "\\item 'Hellín'\n",
       "\\item 'Hispanoamérica'\n",
       "\\item 'Ibiza'\n",
       "\\item 'Imperial'\n",
       "\\item 'Jerónimos'\n",
       "\\item 'Justicia'\n",
       "\\item 'La Paz'\n",
       "\\item 'Legazpi'\n",
       "\\item 'Lista'\n",
       "\\item 'Los Angeles'\n",
       "\\item 'Los Rosales'\n",
       "\\item 'Lucero'\n",
       "\\item 'Marroquina'\n",
       "\\item 'Media Legua'\n",
       "\\item 'Mirasierra'\n",
       "\\item 'Moscardó'\n",
       "\\item 'Niño Jesús'\n",
       "\\item 'Nueva España'\n",
       "\\item 'Numancia'\n",
       "\\item 'Opañel'\n",
       "\\item 'Orcasitas'\n",
       "\\item 'Orcasur'\n",
       "\\item 'Pacífico'\n",
       "\\item 'Palacio'\n",
       "\\item 'Palomas'\n",
       "\\item 'Palomeras Bajas'\n",
       "\\item 'Palomeras Sureste'\n",
       "\\item 'Palos de Moguer'\n",
       "\\item 'Pavones'\n",
       "\\item 'Peñagrande'\n",
       "\\item 'Pilar'\n",
       "\\item 'Pinar del Rey'\n",
       "\\item 'Piovera'\n",
       "\\item 'Portazgo'\n",
       "\\item 'Pradolongo'\n",
       "\\item 'Prosperidad'\n",
       "\\item 'Pueblo Nuevo'\n",
       "\\item 'Puerta Bonita'\n",
       "\\item 'Puerta del Angel'\n",
       "\\item 'Quintana'\n",
       "\\item 'Recoletos'\n",
       "\\item 'Rejas'\n",
       "\\item 'Rios Rosas'\n",
       "\\item 'Rosas'\n",
       "\\item 'Salvador'\n",
       "\\item 'San Andrés'\n",
       "\\item 'San Cristobal'\n",
       "\\item 'San Diego'\n",
       "\\item 'San Fermín'\n",
       "\\item 'San Isidro'\n",
       "\\item 'San Juan Bautista'\n",
       "\\item 'San Pascual'\n",
       "\\item 'Santa Eugenia'\n",
       "\\item 'Simancas'\n",
       "\\item 'Sol'\n",
       "\\item 'Timón'\n",
       "\\item 'Trafalgar'\n",
       "\\item 'Universidad'\n",
       "\\item 'Valdeacederas'\n",
       "\\item 'Valdefuentes'\n",
       "\\item 'Valdemarín'\n",
       "\\item 'Valdezarza'\n",
       "\\item 'Vallehermoso'\n",
       "\\item 'Valverde'\n",
       "\\item 'Ventas'\n",
       "\\item 'Vinateros'\n",
       "\\item 'Vista Alegre'\n",
       "\\item 'Zofío'\n",
       "\\end{enumerate*}\n"
      ],
      "text/markdown": [
       "1. Universidad\n",
       "2. Sol\n",
       "3. Imperial\n",
       "4. Acacias\n",
       "5. Chopera\n",
       "6. Delicias\n",
       "7. Palos de Moguer\n",
       "8. Embajadores\n",
       "9. Cortes\n",
       "10. Atocha\n",
       "11. Pacífico\n",
       "12. Adelfas\n",
       "13. Estrella\n",
       "14. Ibiza\n",
       "15. Jerónimos\n",
       "16. Niño Jesús\n",
       "17. Palacio\n",
       "18. Justicia\n",
       "19. Recoletos\n",
       "20. Goya\n",
       "21. Fuente del Berro\n",
       "22. Arapiles\n",
       "23. Trafalgar\n",
       "24. Almagro\n",
       "25. Guindalera\n",
       "26. Lista\n",
       "27. Castellana\n",
       "28. El Viso\n",
       "29. Prosperidad\n",
       "30. Valverde\n",
       "31. Casa de Campo\n",
       "32. El Goloso\n",
       "33. Numancia\n",
       "34. Cármenes\n",
       "35. Puerta del Angel\n",
       "36. Lucero\n",
       "37. Aluche\n",
       "38. San Isidro\n",
       "39. Campamento\n",
       "40. Comillas\n",
       "41. Opañel\n",
       "42. Vista Alegre\n",
       "43. Ciudad Jardín\n",
       "44. Hispanoamérica\n",
       "45. Nueva España\n",
       "46. Castilla\n",
       "47. Bellas Vistas\n",
       "48. Cuatro Caminos\n",
       "49. Castillejos\n",
       "50. Vallehermoso\n",
       "51. Almenara\n",
       "52. Valdeacederas\n",
       "53. Berruguete\n",
       "54. Gaztambide\n",
       "55. Rios Rosas\n",
       "56. Peñagrande\n",
       "57. Argüelles\n",
       "58. Puerta Bonita\n",
       "59. Buenavista\n",
       "60. Abrantes\n",
       "61. Orcasur\n",
       "62. San Fermín\n",
       "63. Almendrales\n",
       "64. Pradolongo\n",
       "65. Portazgo\n",
       "66. Entrevías\n",
       "67. San Diego\n",
       "68. Palomeras Bajas\n",
       "69. Fontarrón\n",
       "70. Vinateros\n",
       "71. Ventas\n",
       "72. Pueblo Nuevo\n",
       "73. Quintana\n",
       "74. Concepción\n",
       "75. San Juan Bautista\n",
       "76. Costillares\n",
       "77. Piovera\n",
       "78. Canillas\n",
       "79. Pinar del Rey\n",
       "80. Apostol Santiago\n",
       "81. San Andrés\n",
       "82. Valdefuentes\n",
       "83. Butarque\n",
       "84. Los Angeles\n",
       "85. Casco Histórico de Vicálvaro\n",
       "86. Simancas\n",
       "87. Rejas\n",
       "88. Salvador\n",
       "89. Casco Histórico de Barajas\n",
       "90. Pilar\n",
       "91. La Paz\n",
       "92. Mirasierra\n",
       "93. Ciudad Universitaria\n",
       "94. Moscardó\n",
       "95. Palomeras Sureste\n",
       "96. Marroquina\n",
       "97. Media Legua\n",
       "98. Los Rosales\n",
       "99. Casco Histórico de Vallecas\n",
       "100. Timón\n",
       "101. Corralejos\n",
       "102. Cuatro Vientos\n",
       "103. Colina\n",
       "104. San Cristobal\n",
       "105. Alameda de Osuna\n",
       "106. Aeropuerto\n",
       "107. Palomas\n",
       "108. Zofío\n",
       "109. Aguilas\n",
       "110. Legazpi\n",
       "111. Fuentelareina\n",
       "112. Aravaca\n",
       "113. Ambroz\n",
       "114. Canillejas\n",
       "115. Valdezarza\n",
       "116. Amposta\n",
       "117. San Pascual\n",
       "118. Santa Eugenia\n",
       "119. Arcos\n",
       "120. Rosas\n",
       "121. Valdemarín\n",
       "122. El Plantío\n",
       "123. Hellín\n",
       "124. Pavones\n",
       "125. Orcasitas\n",
       "\n",
       "\n",
       "\n",
       "**Levels**: 1. 'Abrantes'\n",
       "2. 'Acacias'\n",
       "3. 'Adelfas'\n",
       "4. 'Aeropuerto'\n",
       "5. 'Aguilas'\n",
       "6. 'Alameda de Osuna'\n",
       "7. 'Almagro'\n",
       "8. 'Almenara'\n",
       "9. 'Almendrales'\n",
       "10. 'Aluche'\n",
       "11. 'Ambroz'\n",
       "12. 'Amposta'\n",
       "13. 'Apostol Santiago'\n",
       "14. 'Arapiles'\n",
       "15. 'Aravaca'\n",
       "16. 'Arcos'\n",
       "17. 'Argüelles'\n",
       "18. 'Atocha'\n",
       "19. 'Bellas Vistas'\n",
       "20. 'Berruguete'\n",
       "21. 'Buenavista'\n",
       "22. 'Butarque'\n",
       "23. 'Campamento'\n",
       "24. 'Canillas'\n",
       "25. 'Canillejas'\n",
       "26. 'Cármenes'\n",
       "27. 'Casa de Campo'\n",
       "28. 'Casco Histórico de Barajas'\n",
       "29. 'Casco Histórico de Vallecas'\n",
       "30. 'Casco Histórico de Vicálvaro'\n",
       "31. 'Castellana'\n",
       "32. 'Castilla'\n",
       "33. 'Castillejos'\n",
       "34. 'Chopera'\n",
       "35. 'Ciudad Jardín'\n",
       "36. 'Ciudad Universitaria'\n",
       "37. 'Colina'\n",
       "38. 'Comillas'\n",
       "39. 'Concepción'\n",
       "40. 'Corralejos'\n",
       "41. 'Cortes'\n",
       "42. 'Costillares'\n",
       "43. 'Cuatro Caminos'\n",
       "44. 'Cuatro Vientos'\n",
       "45. 'Delicias'\n",
       "46. 'El Goloso'\n",
       "47. 'El Plantío'\n",
       "48. 'El Viso'\n",
       "49. 'Embajadores'\n",
       "50. 'Entrevías'\n",
       "51. 'Estrella'\n",
       "52. 'Fontarrón'\n",
       "53. 'Fuente del Berro'\n",
       "54. 'Fuentelareina'\n",
       "55. 'Gaztambide'\n",
       "56. 'Goya'\n",
       "57. 'Guindalera'\n",
       "58. 'Hellín'\n",
       "59. 'Hispanoamérica'\n",
       "60. 'Ibiza'\n",
       "61. 'Imperial'\n",
       "62. 'Jerónimos'\n",
       "63. 'Justicia'\n",
       "64. 'La Paz'\n",
       "65. 'Legazpi'\n",
       "66. 'Lista'\n",
       "67. 'Los Angeles'\n",
       "68. 'Los Rosales'\n",
       "69. 'Lucero'\n",
       "70. 'Marroquina'\n",
       "71. 'Media Legua'\n",
       "72. 'Mirasierra'\n",
       "73. 'Moscardó'\n",
       "74. 'Niño Jesús'\n",
       "75. 'Nueva España'\n",
       "76. 'Numancia'\n",
       "77. 'Opañel'\n",
       "78. 'Orcasitas'\n",
       "79. 'Orcasur'\n",
       "80. 'Pacífico'\n",
       "81. 'Palacio'\n",
       "82. 'Palomas'\n",
       "83. 'Palomeras Bajas'\n",
       "84. 'Palomeras Sureste'\n",
       "85. 'Palos de Moguer'\n",
       "86. 'Pavones'\n",
       "87. 'Peñagrande'\n",
       "88. 'Pilar'\n",
       "89. 'Pinar del Rey'\n",
       "90. 'Piovera'\n",
       "91. 'Portazgo'\n",
       "92. 'Pradolongo'\n",
       "93. 'Prosperidad'\n",
       "94. 'Pueblo Nuevo'\n",
       "95. 'Puerta Bonita'\n",
       "96. 'Puerta del Angel'\n",
       "97. 'Quintana'\n",
       "98. 'Recoletos'\n",
       "99. 'Rejas'\n",
       "100. 'Rios Rosas'\n",
       "101. 'Rosas'\n",
       "102. 'Salvador'\n",
       "103. 'San Andrés'\n",
       "104. 'San Cristobal'\n",
       "105. 'San Diego'\n",
       "106. 'San Fermín'\n",
       "107. 'San Isidro'\n",
       "108. 'San Juan Bautista'\n",
       "109. 'San Pascual'\n",
       "110. 'Santa Eugenia'\n",
       "111. 'Simancas'\n",
       "112. 'Sol'\n",
       "113. 'Timón'\n",
       "114. 'Trafalgar'\n",
       "115. 'Universidad'\n",
       "116. 'Valdeacederas'\n",
       "117. 'Valdefuentes'\n",
       "118. 'Valdemarín'\n",
       "119. 'Valdezarza'\n",
       "120. 'Vallehermoso'\n",
       "121. 'Valverde'\n",
       "122. 'Ventas'\n",
       "123. 'Vinateros'\n",
       "124. 'Vista Alegre'\n",
       "125. 'Zofío'\n",
       "\n",
       "\n"
      ],
      "text/plain": [
       "  [1] Universidad                  Sol                         \n",
       "  [3] Imperial                     Acacias                     \n",
       "  [5] Chopera                      Delicias                    \n",
       "  [7] Palos de Moguer              Embajadores                 \n",
       "  [9] Cortes                       Atocha                      \n",
       " [11] Pacífico                     Adelfas                     \n",
       " [13] Estrella                     Ibiza                       \n",
       " [15] Jerónimos                    Niño Jesús                  \n",
       " [17] Palacio                      Justicia                    \n",
       " [19] Recoletos                    Goya                        \n",
       " [21] Fuente del Berro             Arapiles                    \n",
       " [23] Trafalgar                    Almagro                     \n",
       " [25] Guindalera                   Lista                       \n",
       " [27] Castellana                   El Viso                     \n",
       " [29] Prosperidad                  Valverde                    \n",
       " [31] Casa de Campo                El Goloso                   \n",
       " [33] Numancia                     Cármenes                    \n",
       " [35] Puerta del Angel             Lucero                      \n",
       " [37] Aluche                       San Isidro                  \n",
       " [39] Campamento                   Comillas                    \n",
       " [41] Opañel                       Vista Alegre                \n",
       " [43] Ciudad Jardín                Hispanoamérica              \n",
       " [45] Nueva España                 Castilla                    \n",
       " [47] Bellas Vistas                Cuatro Caminos              \n",
       " [49] Castillejos                  Vallehermoso                \n",
       " [51] Almenara                     Valdeacederas               \n",
       " [53] Berruguete                   Gaztambide                  \n",
       " [55] Rios Rosas                   Peñagrande                  \n",
       " [57] Argüelles                    Puerta Bonita               \n",
       " [59] Buenavista                   Abrantes                    \n",
       " [61] Orcasur                      San Fermín                  \n",
       " [63] Almendrales                  Pradolongo                  \n",
       " [65] Portazgo                     Entrevías                   \n",
       " [67] San Diego                    Palomeras Bajas             \n",
       " [69] Fontarrón                    Vinateros                   \n",
       " [71] Ventas                       Pueblo Nuevo                \n",
       " [73] Quintana                     Concepción                  \n",
       " [75] San Juan Bautista            Costillares                 \n",
       " [77] Piovera                      Canillas                    \n",
       " [79] Pinar del Rey                Apostol Santiago            \n",
       " [81] San Andrés                   Valdefuentes                \n",
       " [83] Butarque                     Los Angeles                 \n",
       " [85] Casco Histórico de Vicálvaro Simancas                    \n",
       " [87] Rejas                        Salvador                    \n",
       " [89] Casco Histórico de Barajas   Pilar                       \n",
       " [91] La Paz                       Mirasierra                  \n",
       " [93] Ciudad Universitaria         Moscardó                    \n",
       " [95] Palomeras Sureste            Marroquina                  \n",
       " [97] Media Legua                  Los Rosales                 \n",
       " [99] Casco Histórico de Vallecas  Timón                       \n",
       "[101] Corralejos                   Cuatro Vientos              \n",
       "[103] Colina                       San Cristobal               \n",
       "[105] Alameda de Osuna             Aeropuerto                  \n",
       "[107] Palomas                      Zofío                       \n",
       "[109] Aguilas                      Legazpi                     \n",
       "[111] Fuentelareina                Aravaca                     \n",
       "[113] Ambroz                       Canillejas                  \n",
       "[115] Valdezarza                   Amposta                     \n",
       "[117] San Pascual                  Santa Eugenia               \n",
       "[119] Arcos                        Rosas                       \n",
       "[121] Valdemarín                   El Plantío                  \n",
       "[123] Hellín                       Pavones                     \n",
       "[125] Orcasitas                   \n",
       "125 Levels: Abrantes Acacias Adelfas Aeropuerto Aguilas ... Zofío"
      ]
     },
     "metadata": {},
     "output_type": "display_data"
    }
   ],
   "source": [
    "cat('Cantidad de barrios', as.character(length(unique(airbnb$Barrio))))\n",
    "unique(airbnb$Barrio)"
   ]
  },
  {
   "cell_type": "markdown",
   "metadata": {
    "pycharm": {
     "name": "#%% md\n"
    }
   },
   "source": [
    "¿Cuales son los 5 barrios que tienen mayor número entradas?"
   ]
  },
  {
   "cell_type": "code",
   "execution_count": 44,
   "metadata": {
    "pycharm": {
     "name": "#%%\n"
    }
   },
   "outputs": [
    {
     "data": {
      "text/html": [
       "<table class=\"dataframe\">\n",
       "<caption>A data.frame: 5 × 2</caption>\n",
       "<thead>\n",
       "\t<tr><th></th><th scope=col>Barrio</th><th scope=col>n</th></tr>\n",
       "\t<tr><th></th><th scope=col>&lt;fct&gt;</th><th scope=col>&lt;int&gt;</th></tr>\n",
       "</thead>\n",
       "<tbody>\n",
       "\t<tr><th scope=row>1</th><td>Embajadores</td><td>1844</td></tr>\n",
       "\t<tr><th scope=row>2</th><td>Universidad</td><td>1358</td></tr>\n",
       "\t<tr><th scope=row>3</th><td>Palacio    </td><td>1083</td></tr>\n",
       "\t<tr><th scope=row>4</th><td>Sol        </td><td> 940</td></tr>\n",
       "\t<tr><th scope=row>5</th><td>Justicia   </td><td> 785</td></tr>\n",
       "</tbody>\n",
       "</table>\n"
      ],
      "text/latex": [
       "A data.frame: 5 × 2\n",
       "\\begin{tabular}{r|ll}\n",
       "  & Barrio & n\\\\\n",
       "  & <fct> & <int>\\\\\n",
       "\\hline\n",
       "\t1 & Embajadores & 1844\\\\\n",
       "\t2 & Universidad & 1358\\\\\n",
       "\t3 & Palacio     & 1083\\\\\n",
       "\t4 & Sol         &  940\\\\\n",
       "\t5 & Justicia    &  785\\\\\n",
       "\\end{tabular}\n"
      ],
      "text/markdown": [
       "\n",
       "A data.frame: 5 × 2\n",
       "\n",
       "| <!--/--> | Barrio &lt;fct&gt; | n &lt;int&gt; |\n",
       "|---|---|---|\n",
       "| 1 | Embajadores | 1844 |\n",
       "| 2 | Universidad | 1358 |\n",
       "| 3 | Palacio     | 1083 |\n",
       "| 4 | Sol         |  940 |\n",
       "| 5 | Justicia    |  785 |\n",
       "\n"
      ],
      "text/plain": [
       "  Barrio      n   \n",
       "1 Embajadores 1844\n",
       "2 Universidad 1358\n",
       "3 Palacio     1083\n",
       "4 Sol          940\n",
       "5 Justicia     785"
      ]
     },
     "metadata": {},
     "output_type": "display_data"
    }
   ],
   "source": [
    "barrios_populares <- airbnb %>% count(Barrio, sort = TRUE)\n",
    "head(barrios_populares, 5)"
   ]
  },
  {
   "cell_type": "markdown",
   "metadata": {
    "pycharm": {
     "name": "#%% md\n"
    }
   },
   "source": [
    "¿Cuantos Tipos de Alquiler diferentes hay? ¿Cuales son? ¿Cuantas entradas en el dataframe hay por cada tipo?"
   ]
  },
  {
   "cell_type": "code",
   "execution_count": 46,
   "metadata": {
    "pycharm": {
     "name": "#%%\n"
    }
   },
   "outputs": [
    {
     "name": "stdout",
     "output_type": "stream",
     "text": [
      "Hay  3 tipos de alquiler"
     ]
    },
    {
     "data": {
      "text/html": [
       "<style>\n",
       ".list-inline {list-style: none; margin:0; padding: 0}\n",
       ".list-inline>li {display: inline-block}\n",
       ".list-inline>li:not(:last-child)::after {content: \"\\00b7\"; padding: 0 .5ex}\n",
       "</style>\n",
       "<ol class=list-inline><li>Private room</li><li>Entire home/apt</li><li>Shared room</li></ol>\n",
       "\n",
       "<details>\n",
       "\t<summary style=display:list-item;cursor:pointer>\n",
       "\t\t<strong>Levels</strong>:\n",
       "\t</summary>\n",
       "\t<style>\n",
       "\t.list-inline {list-style: none; margin:0; padding: 0}\n",
       "\t.list-inline>li {display: inline-block}\n",
       "\t.list-inline>li:not(:last-child)::after {content: \"\\00b7\"; padding: 0 .5ex}\n",
       "\t</style>\n",
       "\t<ol class=list-inline><li>'Entire home/apt'</li><li>'Private room'</li><li>'Shared room'</li></ol>\n",
       "</details>"
      ],
      "text/latex": [
       "\\begin{enumerate*}\n",
       "\\item Private room\n",
       "\\item Entire home/apt\n",
       "\\item Shared room\n",
       "\\end{enumerate*}\n",
       "\n",
       "\\emph{Levels}: \\begin{enumerate*}\n",
       "\\item 'Entire home/apt'\n",
       "\\item 'Private room'\n",
       "\\item 'Shared room'\n",
       "\\end{enumerate*}\n"
      ],
      "text/markdown": [
       "1. Private room\n",
       "2. Entire home/apt\n",
       "3. Shared room\n",
       "\n",
       "\n",
       "\n",
       "**Levels**: 1. 'Entire home/apt'\n",
       "2. 'Private room'\n",
       "3. 'Shared room'\n",
       "\n",
       "\n"
      ],
      "text/plain": [
       "[1] Private room    Entire home/apt Shared room    \n",
       "Levels: Entire home/apt Private room Shared room"
      ]
     },
     "metadata": {},
     "output_type": "display_data"
    },
    {
     "data": {
      "text/html": [
       "<table class=\"dataframe\">\n",
       "<caption>A data.frame: 3 × 2</caption>\n",
       "<thead>\n",
       "\t<tr><th scope=col>TipoAlquiler</th><th scope=col>n</th></tr>\n",
       "\t<tr><th scope=col>&lt;fct&gt;</th><th scope=col>&lt;int&gt;</th></tr>\n",
       "</thead>\n",
       "<tbody>\n",
       "\t<tr><td>Entire home/apt</td><td>7903</td></tr>\n",
       "\t<tr><td>Private room   </td><td>5113</td></tr>\n",
       "\t<tr><td>Shared room    </td><td> 191</td></tr>\n",
       "</tbody>\n",
       "</table>\n"
      ],
      "text/latex": [
       "A data.frame: 3 × 2\n",
       "\\begin{tabular}{ll}\n",
       " TipoAlquiler & n\\\\\n",
       " <fct> & <int>\\\\\n",
       "\\hline\n",
       "\t Entire home/apt & 7903\\\\\n",
       "\t Private room    & 5113\\\\\n",
       "\t Shared room     &  191\\\\\n",
       "\\end{tabular}\n"
      ],
      "text/markdown": [
       "\n",
       "A data.frame: 3 × 2\n",
       "\n",
       "| TipoAlquiler &lt;fct&gt; | n &lt;int&gt; |\n",
       "|---|---|\n",
       "| Entire home/apt | 7903 |\n",
       "| Private room    | 5113 |\n",
       "| Shared room     |  191 |\n",
       "\n"
      ],
      "text/plain": [
       "  TipoAlquiler    n   \n",
       "1 Entire home/apt 7903\n",
       "2 Private room    5113\n",
       "3 Shared room      191"
      ]
     },
     "metadata": {},
     "output_type": "display_data"
    }
   ],
   "source": [
    "cat('Hay ', length(unique(airbnb$TipoAlquiler)), 'tipos de alquiler')\n",
    "unique(airbnb$TipoAlquiler)\n",
    "airbnb %>% count(TipoAlquiler)"
   ]
  },
  {
   "cell_type": "markdown",
   "metadata": {
    "pycharm": {
     "name": "#%% md\n"
    }
   },
   "source": [
    "Muestra el diagrama de cajas del precio para cada uno de los diferentes Tipos de Alquiler"
   ]
  },
  {
   "cell_type": "code",
   "execution_count": 49,
   "metadata": {
    "pycharm": {
     "name": "#%%\n"
    }
   },
   "outputs": [
    {
     "name": "stderr",
     "output_type": "stream",
     "text": [
      "Warning message:\n",
      "“Removed 9 rows containing non-finite values (stat_boxplot).”\n"
     ]
    },
    {
     "data": {
      "image/png": "[encoded data removed]",
      "text/plain": [
       "plot without title"
      ]
     },
     "metadata": {
      "image/png": {
       "height": 400,
       "width": 500
      }
     },
     "output_type": "display_data"
    }
   ],
   "source": [
    "library(ggplot2)\n",
    "options(repr.plot.height=4,repr.plot.width=5 , repr.plot.res = 200)\n",
    "ggplot(airbnb, aes(x = TipoAlquiler, y = Precio, color=TipoAlquiler)) + geom_boxplot() + theme_bw()\n"
   ]
  },
  {
   "cell_type": "markdown",
   "metadata": {
    "pycharm": {
     "name": "#%% md\n"
    }
   },
   "source": [
    "Cual es el precio medio de alquiler de cada uno, la diferencia que hay ¿es estadísticamente significativa?\n",
    "¿Con que test lo comprobarías?"
   ]
  },
  {
   "cell_type": "code",
   "execution_count": 50,
   "metadata": {
    "pycharm": {
     "name": "#%%\n"
    }
   },
   "outputs": [
    {
     "data": {
      "text/html": [
       "<table class=\"dataframe\">\n",
       "<caption>A data.frame: 3 × 2</caption>\n",
       "<thead>\n",
       "\t<tr><th scope=col>TipoAlquiler</th><th scope=col>Precio</th></tr>\n",
       "\t<tr><th scope=col>&lt;fct&gt;</th><th scope=col>&lt;dbl&gt;</th></tr>\n",
       "</thead>\n",
       "<tbody>\n",
       "\t<tr><td>Entire home/apt</td><td>87.29661</td></tr>\n",
       "\t<tr><td>Private room   </td><td>34.25514</td></tr>\n",
       "\t<tr><td>Shared room    </td><td>29.85340</td></tr>\n",
       "</tbody>\n",
       "</table>\n"
      ],
      "text/latex": [
       "A data.frame: 3 × 2\n",
       "\\begin{tabular}{ll}\n",
       " TipoAlquiler & Precio\\\\\n",
       " <fct> & <dbl>\\\\\n",
       "\\hline\n",
       "\t Entire home/apt & 87.29661\\\\\n",
       "\t Private room    & 34.25514\\\\\n",
       "\t Shared room     & 29.85340\\\\\n",
       "\\end{tabular}\n"
      ],
      "text/markdown": [
       "\n",
       "A data.frame: 3 × 2\n",
       "\n",
       "| TipoAlquiler &lt;fct&gt; | Precio &lt;dbl&gt; |\n",
       "|---|---|\n",
       "| Entire home/apt | 87.29661 |\n",
       "| Private room    | 34.25514 |\n",
       "| Shared room     | 29.85340 |\n",
       "\n"
      ],
      "text/plain": [
       "  TipoAlquiler    Precio  \n",
       "1 Entire home/apt 87.29661\n",
       "2 Private room    34.25514\n",
       "3 Shared room     29.85340"
      ]
     },
     "metadata": {},
     "output_type": "display_data"
    }
   ],
   "source": [
    "mean_price_by_rent_type <- aggregate(Precio ~ TipoAlquiler, airbnb, mean, na.rm = TRUE)\n",
    "mean_price_by_rent_type"
   ]
  },
  {
   "cell_type": "code",
   "execution_count": 52,
   "metadata": {},
   "outputs": [
    {
     "name": "stdout",
     "output_type": "stream",
     "text": [
      "Analysis of Variance Table\n",
      "\n",
      "Response: Precio\n",
      "                Df   Sum Sq Mean Sq F value    Pr(>F)    \n",
      "TipoAlquiler     2  8981217 4490608  1827.8 < 2.2e-16 ***\n",
      "Residuals    13195 32417217    2457                      \n",
      "---\n",
      "Signif. codes:  0 ‘***’ 0.001 ‘**’ 0.01 ‘*’ 0.05 ‘.’ 0.1 ‘ ’ 1\n",
      "Las diferencias son estadísticamente significativas.\n",
      "------------------------------------------------------\n",
      "\tKruskal-Wallis rank sum test\n",
      "\n",
      "data:  Precio by TipoAlquiler\n",
      "Kruskal-Wallis chi-squared = 7235.6, df = 2, p-value < 2.2e-16\n",
      "\n",
      "Las diferencias son estadísticamente significativas.\n"
     ]
    }
   ],
   "source": [
    "# Comprobaciones de significancia\n",
    "\n",
    "# Calcular el precio medio de alquiler para cada tipo de alquiler\n",
    "mean_price_by_alquiler <- aggregate(Precio ~ TipoAlquiler, airbnb, mean, na.rm = TRUE)\n",
    "\n",
    "# Comprobar si las diferencias son estadísticamente significativas usando ANOVA\n",
    "# Primero ajustamos un modelo lineal\n",
    "modelo_lineal_alquiler <- lm(Precio ~ TipoAlquiler, data = airbnb)\n",
    "\n",
    "# Realizamos el test ANOVA\n",
    "resultado_anova <- anova(modelo_lineal_alquiler)\n",
    "print(resultado_anova)\n",
    "\n",
    "# Si el p-valor es menor que 0.05, las diferencias son estadísticamente significativas\n",
    "if(resultado_anova$`Pr(>F)`[1] < 0.05) {\n",
    "  cat(\"Las diferencias son estadísticamente significativas.\\n\")\n",
    "} else {\n",
    "  cat(\"Las diferencias no son estadísticamente significativas.\\n\")\n",
    "}\n",
    "\n",
    "cat('------------------------------------------------------')\n",
    "# Si no se cumplen los supuestos de ANOVA, utiliza el test de Kruskal-Wallis\n",
    "resultado_kruskal <- kruskal.test(Precio ~ TipoAlquiler, data = airbnb)\n",
    "print(resultado_kruskal)\n",
    "\n",
    "# Si el p-valor es menor que 0.05, las diferencias son estadísticamente significativas\n",
    "if(resultado_kruskal$p.value < 0.05) {\n",
    "  cat(\"Las diferencias son estadísticamente significativas.\\n\")\n",
    "} else {\n",
    "  cat(\"Las diferencias no son estadísticamente significativas.\\n\")\n",
    "}\n",
    "\n"
   ]
  },
  {
   "cell_type": "markdown",
   "metadata": {
    "pycharm": {
     "name": "#%% md\n"
    }
   },
   "source": [
    "Filtra el dataframe cuyos tipo de alquiler sea  'Entire home/apt' y guardalo en un dataframe llamado \n",
    "*airbnb_entire*.\n",
    "Estas serán las entradas que tienen un alquiler del piso completo."
   ]
  },
  {
   "cell_type": "code",
   "execution_count": 126,
   "metadata": {
    "pycharm": {
     "name": "#%%\n"
    }
   },
   "outputs": [],
   "source": [
    "airbnb_entire <- subset(airbnb, TipoAlquiler == \"Entire home/apt\")"
   ]
  },
  {
   "cell_type": "code",
   "execution_count": null,
   "metadata": {},
   "outputs": [],
   "source": []
  },
  {
   "cell_type": "markdown",
   "metadata": {
    "pycharm": {
     "name": "#%% md\n"
    }
   },
   "source": [
    "¿Cuales son los 5 barrios que tienen un mayor número de apartamentos enteros en alquiler?\n",
    "Nota: Mirar solo en airbnb_entire. A partir de este punto y hasta que se diga lo contrario partiremos de airbnb_entire."
   ]
  },
  {
   "cell_type": "code",
   "execution_count": 54,
   "metadata": {
    "pycharm": {
     "name": "#%%\n"
    }
   },
   "outputs": [
    {
     "data": {
      "text/html": [
       "<table class=\"dataframe\">\n",
       "<caption>A data.frame: 5 × 2</caption>\n",
       "<thead>\n",
       "\t<tr><th></th><th scope=col>Barrio</th><th scope=col>n</th></tr>\n",
       "\t<tr><th></th><th scope=col>&lt;fct&gt;</th><th scope=col>&lt;int&gt;</th></tr>\n",
       "</thead>\n",
       "<tbody>\n",
       "\t<tr><th scope=row>1</th><td>Embajadores</td><td>1228</td></tr>\n",
       "\t<tr><th scope=row>2</th><td>Universidad</td><td> 984</td></tr>\n",
       "\t<tr><th scope=row>3</th><td>Palacio    </td><td> 769</td></tr>\n",
       "\t<tr><th scope=row>4</th><td>Sol        </td><td> 701</td></tr>\n",
       "\t<tr><th scope=row>5</th><td>Cortes     </td><td> 574</td></tr>\n",
       "</tbody>\n",
       "</table>\n"
      ],
      "text/latex": [
       "A data.frame: 5 × 2\n",
       "\\begin{tabular}{r|ll}\n",
       "  & Barrio & n\\\\\n",
       "  & <fct> & <int>\\\\\n",
       "\\hline\n",
       "\t1 & Embajadores & 1228\\\\\n",
       "\t2 & Universidad &  984\\\\\n",
       "\t3 & Palacio     &  769\\\\\n",
       "\t4 & Sol         &  701\\\\\n",
       "\t5 & Cortes      &  574\\\\\n",
       "\\end{tabular}\n"
      ],
      "text/markdown": [
       "\n",
       "A data.frame: 5 × 2\n",
       "\n",
       "| <!--/--> | Barrio &lt;fct&gt; | n &lt;int&gt; |\n",
       "|---|---|---|\n",
       "| 1 | Embajadores | 1228 |\n",
       "| 2 | Universidad |  984 |\n",
       "| 3 | Palacio     |  769 |\n",
       "| 4 | Sol         |  701 |\n",
       "| 5 | Cortes      |  574 |\n",
       "\n"
      ],
      "text/plain": [
       "  Barrio      n   \n",
       "1 Embajadores 1228\n",
       "2 Universidad  984\n",
       "3 Palacio      769\n",
       "4 Sol          701\n",
       "5 Cortes       574"
      ]
     },
     "metadata": {},
     "output_type": "display_data"
    }
   ],
   "source": [
    "barrios_entire_populares <- airbnb_entire %>% count(Barrio, sort = TRUE)\n",
    "head(barrios_entire_populares, 5)"
   ]
  },
  {
   "cell_type": "markdown",
   "metadata": {
    "pycharm": {
     "name": "#%% md\n"
    }
   },
   "source": [
    "¿Cuales son los 5 barrios que tienen un mayor precio medio de alquiler para apartamentos enteros (es decir, del dataframe airbnb_entire)?\n",
    "\n",
    "¿Cual es su precio medio?\n",
    "\n",
    "Ayuda: Usa la función aggregate `aggregate(.~colname,df,mean,na.rm=TRUE)`"
   ]
  },
  {
   "cell_type": "code",
   "execution_count": 57,
   "metadata": {
    "pycharm": {
     "name": "#%%\n"
    }
   },
   "outputs": [
    {
     "data": {
      "text/html": [
       "<table class=\"dataframe\">\n",
       "<caption>A data.frame: 119 × 2</caption>\n",
       "<thead>\n",
       "\t<tr><th scope=col>Barrio</th><th scope=col>Precio</th></tr>\n",
       "\t<tr><th scope=col>&lt;fct&gt;</th><th scope=col>&lt;dbl&gt;</th></tr>\n",
       "</thead>\n",
       "<tbody>\n",
       "\t<tr><td>Abrantes                    </td><td> 46.00000</td></tr>\n",
       "\t<tr><td>Acacias                     </td><td> 68.16393</td></tr>\n",
       "\t<tr><td>Adelfas                     </td><td> 68.72727</td></tr>\n",
       "\t<tr><td>Aeropuerto                  </td><td> 38.00000</td></tr>\n",
       "\t<tr><td>Aguilas                     </td><td> 54.50000</td></tr>\n",
       "\t<tr><td>Alameda de Osuna            </td><td>138.75000</td></tr>\n",
       "\t<tr><td>Almagro                     </td><td>109.18557</td></tr>\n",
       "\t<tr><td>Almenara                    </td><td> 65.68000</td></tr>\n",
       "\t<tr><td>Almendrales                 </td><td> 77.50000</td></tr>\n",
       "\t<tr><td>Aluche                      </td><td> 55.88889</td></tr>\n",
       "\t<tr><td>Ambroz                      </td><td> 34.50000</td></tr>\n",
       "\t<tr><td>Apostol Santiago            </td><td> 96.60000</td></tr>\n",
       "\t<tr><td>Arapiles                    </td><td> 69.62245</td></tr>\n",
       "\t<tr><td>Aravaca                     </td><td> 66.33333</td></tr>\n",
       "\t<tr><td>Arcos                       </td><td>100.50000</td></tr>\n",
       "\t<tr><td>Argüelles                   </td><td> 89.57343</td></tr>\n",
       "\t<tr><td>Atocha                      </td><td> 71.44444</td></tr>\n",
       "\t<tr><td>Bellas Vistas               </td><td> 51.77778</td></tr>\n",
       "\t<tr><td>Berruguete                  </td><td> 53.85714</td></tr>\n",
       "\t<tr><td>Buenavista                  </td><td> 57.91667</td></tr>\n",
       "\t<tr><td>Butarque                    </td><td> 42.00000</td></tr>\n",
       "\t<tr><td>Campamento                  </td><td> 45.55556</td></tr>\n",
       "\t<tr><td>Canillas                    </td><td>105.80000</td></tr>\n",
       "\t<tr><td>Canillejas                  </td><td> 91.66667</td></tr>\n",
       "\t<tr><td>Cármenes                    </td><td> 78.00000</td></tr>\n",
       "\t<tr><td>Casa de Campo               </td><td> 98.85366</td></tr>\n",
       "\t<tr><td>Casco Histórico de Barajas  </td><td>141.25000</td></tr>\n",
       "\t<tr><td>Casco Histórico de Vallecas </td><td> 61.11111</td></tr>\n",
       "\t<tr><td>Casco Histórico de Vicálvaro</td><td> 73.87500</td></tr>\n",
       "\t<tr><td>Castellana                  </td><td>141.38889</td></tr>\n",
       "\t<tr><td>⋮</td><td>⋮</td></tr>\n",
       "\t<tr><td>Puerta Bonita    </td><td> 88.00000</td></tr>\n",
       "\t<tr><td>Puerta del Angel </td><td> 59.67532</td></tr>\n",
       "\t<tr><td>Quintana         </td><td> 65.00000</td></tr>\n",
       "\t<tr><td>Recoletos        </td><td>161.92537</td></tr>\n",
       "\t<tr><td>Rejas            </td><td> 64.18182</td></tr>\n",
       "\t<tr><td>Rios Rosas       </td><td> 83.00000</td></tr>\n",
       "\t<tr><td>Salvador         </td><td> 66.40000</td></tr>\n",
       "\t<tr><td>San Andrés       </td><td> 50.91667</td></tr>\n",
       "\t<tr><td>San Cristobal    </td><td> 56.50000</td></tr>\n",
       "\t<tr><td>San Diego        </td><td> 44.34375</td></tr>\n",
       "\t<tr><td>San Fermín       </td><td> 63.50000</td></tr>\n",
       "\t<tr><td>San Isidro       </td><td> 76.10256</td></tr>\n",
       "\t<tr><td>San Juan Bautista</td><td> 75.53846</td></tr>\n",
       "\t<tr><td>San Pascual      </td><td> 72.42857</td></tr>\n",
       "\t<tr><td>Santa Eugenia    </td><td> 47.00000</td></tr>\n",
       "\t<tr><td>Simancas         </td><td> 57.14286</td></tr>\n",
       "\t<tr><td>Sol              </td><td>100.75036</td></tr>\n",
       "\t<tr><td>Timón            </td><td> 72.20000</td></tr>\n",
       "\t<tr><td>Trafalgar        </td><td> 98.57848</td></tr>\n",
       "\t<tr><td>Universidad      </td><td> 79.39674</td></tr>\n",
       "\t<tr><td>Valdeacederas    </td><td> 67.36000</td></tr>\n",
       "\t<tr><td>Valdefuentes     </td><td> 84.25000</td></tr>\n",
       "\t<tr><td>Valdemarín       </td><td> 70.50000</td></tr>\n",
       "\t<tr><td>Valdezarza       </td><td> 53.33333</td></tr>\n",
       "\t<tr><td>Vallehermoso     </td><td> 92.39394</td></tr>\n",
       "\t<tr><td>Valverde         </td><td> 71.57895</td></tr>\n",
       "\t<tr><td>Ventas           </td><td> 50.03846</td></tr>\n",
       "\t<tr><td>Vinateros        </td><td>102.50000</td></tr>\n",
       "\t<tr><td>Vista Alegre     </td><td> 59.45455</td></tr>\n",
       "\t<tr><td>Zofío            </td><td> 48.00000</td></tr>\n",
       "</tbody>\n",
       "</table>\n"
      ],
      "text/latex": [
       "A data.frame: 119 × 2\n",
       "\\begin{tabular}{ll}\n",
       " Barrio & Precio\\\\\n",
       " <fct> & <dbl>\\\\\n",
       "\\hline\n",
       "\t Abrantes                     &  46.00000\\\\\n",
       "\t Acacias                      &  68.16393\\\\\n",
       "\t Adelfas                      &  68.72727\\\\\n",
       "\t Aeropuerto                   &  38.00000\\\\\n",
       "\t Aguilas                      &  54.50000\\\\\n",
       "\t Alameda de Osuna             & 138.75000\\\\\n",
       "\t Almagro                      & 109.18557\\\\\n",
       "\t Almenara                     &  65.68000\\\\\n",
       "\t Almendrales                  &  77.50000\\\\\n",
       "\t Aluche                       &  55.88889\\\\\n",
       "\t Ambroz                       &  34.50000\\\\\n",
       "\t Apostol Santiago             &  96.60000\\\\\n",
       "\t Arapiles                     &  69.62245\\\\\n",
       "\t Aravaca                      &  66.33333\\\\\n",
       "\t Arcos                        & 100.50000\\\\\n",
       "\t Argüelles                    &  89.57343\\\\\n",
       "\t Atocha                       &  71.44444\\\\\n",
       "\t Bellas Vistas                &  51.77778\\\\\n",
       "\t Berruguete                   &  53.85714\\\\\n",
       "\t Buenavista                   &  57.91667\\\\\n",
       "\t Butarque                     &  42.00000\\\\\n",
       "\t Campamento                   &  45.55556\\\\\n",
       "\t Canillas                     & 105.80000\\\\\n",
       "\t Canillejas                   &  91.66667\\\\\n",
       "\t Cármenes                     &  78.00000\\\\\n",
       "\t Casa de Campo                &  98.85366\\\\\n",
       "\t Casco Histórico de Barajas   & 141.25000\\\\\n",
       "\t Casco Histórico de Vallecas  &  61.11111\\\\\n",
       "\t Casco Histórico de Vicálvaro &  73.87500\\\\\n",
       "\t Castellana                   & 141.38889\\\\\n",
       "\t ⋮ & ⋮\\\\\n",
       "\t Puerta Bonita     &  88.00000\\\\\n",
       "\t Puerta del Angel  &  59.67532\\\\\n",
       "\t Quintana          &  65.00000\\\\\n",
       "\t Recoletos         & 161.92537\\\\\n",
       "\t Rejas             &  64.18182\\\\\n",
       "\t Rios Rosas        &  83.00000\\\\\n",
       "\t Salvador          &  66.40000\\\\\n",
       "\t San Andrés        &  50.91667\\\\\n",
       "\t San Cristobal     &  56.50000\\\\\n",
       "\t San Diego         &  44.34375\\\\\n",
       "\t San Fermín        &  63.50000\\\\\n",
       "\t San Isidro        &  76.10256\\\\\n",
       "\t San Juan Bautista &  75.53846\\\\\n",
       "\t San Pascual       &  72.42857\\\\\n",
       "\t Santa Eugenia     &  47.00000\\\\\n",
       "\t Simancas          &  57.14286\\\\\n",
       "\t Sol               & 100.75036\\\\\n",
       "\t Timón             &  72.20000\\\\\n",
       "\t Trafalgar         &  98.57848\\\\\n",
       "\t Universidad       &  79.39674\\\\\n",
       "\t Valdeacederas     &  67.36000\\\\\n",
       "\t Valdefuentes      &  84.25000\\\\\n",
       "\t Valdemarín        &  70.50000\\\\\n",
       "\t Valdezarza        &  53.33333\\\\\n",
       "\t Vallehermoso      &  92.39394\\\\\n",
       "\t Valverde          &  71.57895\\\\\n",
       "\t Ventas            &  50.03846\\\\\n",
       "\t Vinateros         & 102.50000\\\\\n",
       "\t Vista Alegre      &  59.45455\\\\\n",
       "\t Zofío             &  48.00000\\\\\n",
       "\\end{tabular}\n"
      ],
      "text/markdown": [
       "\n",
       "A data.frame: 119 × 2\n",
       "\n",
       "| Barrio &lt;fct&gt; | Precio &lt;dbl&gt; |\n",
       "|---|---|\n",
       "| Abrantes                     |  46.00000 |\n",
       "| Acacias                      |  68.16393 |\n",
       "| Adelfas                      |  68.72727 |\n",
       "| Aeropuerto                   |  38.00000 |\n",
       "| Aguilas                      |  54.50000 |\n",
       "| Alameda de Osuna             | 138.75000 |\n",
       "| Almagro                      | 109.18557 |\n",
       "| Almenara                     |  65.68000 |\n",
       "| Almendrales                  |  77.50000 |\n",
       "| Aluche                       |  55.88889 |\n",
       "| Ambroz                       |  34.50000 |\n",
       "| Apostol Santiago             |  96.60000 |\n",
       "| Arapiles                     |  69.62245 |\n",
       "| Aravaca                      |  66.33333 |\n",
       "| Arcos                        | 100.50000 |\n",
       "| Argüelles                    |  89.57343 |\n",
       "| Atocha                       |  71.44444 |\n",
       "| Bellas Vistas                |  51.77778 |\n",
       "| Berruguete                   |  53.85714 |\n",
       "| Buenavista                   |  57.91667 |\n",
       "| Butarque                     |  42.00000 |\n",
       "| Campamento                   |  45.55556 |\n",
       "| Canillas                     | 105.80000 |\n",
       "| Canillejas                   |  91.66667 |\n",
       "| Cármenes                     |  78.00000 |\n",
       "| Casa de Campo                |  98.85366 |\n",
       "| Casco Histórico de Barajas   | 141.25000 |\n",
       "| Casco Histórico de Vallecas  |  61.11111 |\n",
       "| Casco Histórico de Vicálvaro |  73.87500 |\n",
       "| Castellana                   | 141.38889 |\n",
       "| ⋮ | ⋮ |\n",
       "| Puerta Bonita     |  88.00000 |\n",
       "| Puerta del Angel  |  59.67532 |\n",
       "| Quintana          |  65.00000 |\n",
       "| Recoletos         | 161.92537 |\n",
       "| Rejas             |  64.18182 |\n",
       "| Rios Rosas        |  83.00000 |\n",
       "| Salvador          |  66.40000 |\n",
       "| San Andrés        |  50.91667 |\n",
       "| San Cristobal     |  56.50000 |\n",
       "| San Diego         |  44.34375 |\n",
       "| San Fermín        |  63.50000 |\n",
       "| San Isidro        |  76.10256 |\n",
       "| San Juan Bautista |  75.53846 |\n",
       "| San Pascual       |  72.42857 |\n",
       "| Santa Eugenia     |  47.00000 |\n",
       "| Simancas          |  57.14286 |\n",
       "| Sol               | 100.75036 |\n",
       "| Timón             |  72.20000 |\n",
       "| Trafalgar         |  98.57848 |\n",
       "| Universidad       |  79.39674 |\n",
       "| Valdeacederas     |  67.36000 |\n",
       "| Valdefuentes      |  84.25000 |\n",
       "| Valdemarín        |  70.50000 |\n",
       "| Valdezarza        |  53.33333 |\n",
       "| Vallehermoso      |  92.39394 |\n",
       "| Valverde          |  71.57895 |\n",
       "| Ventas            |  50.03846 |\n",
       "| Vinateros         | 102.50000 |\n",
       "| Vista Alegre      |  59.45455 |\n",
       "| Zofío             |  48.00000 |\n",
       "\n"
      ],
      "text/plain": [
       "    Barrio                       Precio   \n",
       "1   Abrantes                      46.00000\n",
       "2   Acacias                       68.16393\n",
       "3   Adelfas                       68.72727\n",
       "4   Aeropuerto                    38.00000\n",
       "5   Aguilas                       54.50000\n",
       "6   Alameda de Osuna             138.75000\n",
       "7   Almagro                      109.18557\n",
       "8   Almenara                      65.68000\n",
       "9   Almendrales                   77.50000\n",
       "10  Aluche                        55.88889\n",
       "11  Ambroz                        34.50000\n",
       "12  Apostol Santiago              96.60000\n",
       "13  Arapiles                      69.62245\n",
       "14  Aravaca                       66.33333\n",
       "15  Arcos                        100.50000\n",
       "16  Argüelles                     89.57343\n",
       "17  Atocha                        71.44444\n",
       "18  Bellas Vistas                 51.77778\n",
       "19  Berruguete                    53.85714\n",
       "20  Buenavista                    57.91667\n",
       "21  Butarque                      42.00000\n",
       "22  Campamento                    45.55556\n",
       "23  Canillas                     105.80000\n",
       "24  Canillejas                    91.66667\n",
       "25  Cármenes                      78.00000\n",
       "26  Casa de Campo                 98.85366\n",
       "27  Casco Histórico de Barajas   141.25000\n",
       "28  Casco Histórico de Vallecas   61.11111\n",
       "29  Casco Histórico de Vicálvaro  73.87500\n",
       "30  Castellana                   141.38889\n",
       "⋮   ⋮                            ⋮        \n",
       "90  Puerta Bonita                 88.00000\n",
       "91  Puerta del Angel              59.67532\n",
       "92  Quintana                      65.00000\n",
       "93  Recoletos                    161.92537\n",
       "94  Rejas                         64.18182\n",
       "95  Rios Rosas                    83.00000\n",
       "96  Salvador                      66.40000\n",
       "97  San Andrés                    50.91667\n",
       "98  San Cristobal                 56.50000\n",
       "99  San Diego                     44.34375\n",
       "100 San Fermín                    63.50000\n",
       "101 San Isidro                    76.10256\n",
       "102 San Juan Bautista             75.53846\n",
       "103 San Pascual                   72.42857\n",
       "104 Santa Eugenia                 47.00000\n",
       "105 Simancas                      57.14286\n",
       "106 Sol                          100.75036\n",
       "107 Timón                         72.20000\n",
       "108 Trafalgar                     98.57848\n",
       "109 Universidad                   79.39674\n",
       "110 Valdeacederas                 67.36000\n",
       "111 Valdefuentes                  84.25000\n",
       "112 Valdemarín                    70.50000\n",
       "113 Valdezarza                    53.33333\n",
       "114 Vallehermoso                  92.39394\n",
       "115 Valverde                      71.57895\n",
       "116 Ventas                        50.03846\n",
       "117 Vinateros                    102.50000\n",
       "118 Vista Alegre                  59.45455\n",
       "119 Zofío                         48.00000"
      ]
     },
     "metadata": {},
     "output_type": "display_data"
    }
   ],
   "source": [
    "mean_price_entire_by_barrio <- aggregate(Precio ~ Barrio, airbnb_entire, mean, na.rm = TRUE)\n",
    "mean_price_entire_by_barrio\n"
   ]
  },
  {
   "cell_type": "code",
   "execution_count": 77,
   "metadata": {},
   "outputs": [
    {
     "data": {
      "text/html": [
       "<table class=\"dataframe\">\n",
       "<caption>A data.frame: 5 × 2</caption>\n",
       "<thead>\n",
       "\t<tr><th></th><th scope=col>Barrio</th><th scope=col>Precio</th></tr>\n",
       "\t<tr><th></th><th scope=col>&lt;fct&gt;</th><th scope=col>&lt;dbl&gt;</th></tr>\n",
       "</thead>\n",
       "<tbody>\n",
       "\t<tr><th scope=row>77</th><td>Palomas      </td><td>309.7500</td></tr>\n",
       "\t<tr><th scope=row>50</th><td>Fuentelareina</td><td>180.0000</td></tr>\n",
       "\t<tr><th scope=row>93</th><td>Recoletos    </td><td>161.9254</td></tr>\n",
       "\t<tr><th scope=row>43</th><td>El Plantío   </td><td>150.0000</td></tr>\n",
       "\t<tr><th scope=row>30</th><td>Castellana   </td><td>141.3889</td></tr>\n",
       "</tbody>\n",
       "</table>\n"
      ],
      "text/latex": [
       "A data.frame: 5 × 2\n",
       "\\begin{tabular}{r|ll}\n",
       "  & Barrio & Precio\\\\\n",
       "  & <fct> & <dbl>\\\\\n",
       "\\hline\n",
       "\t77 & Palomas       & 309.7500\\\\\n",
       "\t50 & Fuentelareina & 180.0000\\\\\n",
       "\t93 & Recoletos     & 161.9254\\\\\n",
       "\t43 & El Plantío    & 150.0000\\\\\n",
       "\t30 & Castellana    & 141.3889\\\\\n",
       "\\end{tabular}\n"
      ],
      "text/markdown": [
       "\n",
       "A data.frame: 5 × 2\n",
       "\n",
       "| <!--/--> | Barrio &lt;fct&gt; | Precio &lt;dbl&gt; |\n",
       "|---|---|---|\n",
       "| 77 | Palomas       | 309.7500 |\n",
       "| 50 | Fuentelareina | 180.0000 |\n",
       "| 93 | Recoletos     | 161.9254 |\n",
       "| 43 | El Plantío    | 150.0000 |\n",
       "| 30 | Castellana    | 141.3889 |\n",
       "\n"
      ],
      "text/plain": [
       "   Barrio        Precio  \n",
       "77 Palomas       309.7500\n",
       "50 Fuentelareina 180.0000\n",
       "93 Recoletos     161.9254\n",
       "43 El Plantío    150.0000\n",
       "30 Castellana    141.3889"
      ]
     },
     "metadata": {},
     "output_type": "display_data"
    }
   ],
   "source": [
    "top_mean_price_entire <- mean_price_entire_by_barrio[order(mean_price_entire_by_barrio$Precio, decreasing = TRUE),]\n",
    "head(top_mean_price_entire, 5)"
   ]
  },
  {
   "cell_type": "markdown",
   "metadata": {
    "pycharm": {
     "name": "#%% md\n"
    }
   },
   "source": [
    "¿Cuantos apartamentos hay en cada uno de esos barrios?\n",
    "\n",
    "Mostrar una dataframe con el nombre del barrio, el precio y el número de entradas.\n",
    "\n",
    "Ayuda: Podeis crear un nuevo dataframe con las columnas \"Barrio\" y \"Freq\" que contenga el número de entradas en cada barrio y hacer un merge con el dataframe del punto anterior."
   ]
  },
  {
   "cell_type": "code",
   "execution_count": 82,
   "metadata": {
    "pycharm": {
     "name": "#%%\n"
    }
   },
   "outputs": [
    {
     "data": {
      "text/html": [
       "<table class=\"dataframe\">\n",
       "<caption>A data.frame: 5 × 3</caption>\n",
       "<thead>\n",
       "\t<tr><th></th><th scope=col>Barrio</th><th scope=col>Precio</th><th scope=col>n</th></tr>\n",
       "\t<tr><th></th><th scope=col>&lt;fct&gt;</th><th scope=col>&lt;dbl&gt;</th><th scope=col>&lt;int&gt;</th></tr>\n",
       "</thead>\n",
       "<tbody>\n",
       "\t<tr><th scope=row>1</th><td>Castellana   </td><td>141.3889</td><td> 73</td></tr>\n",
       "\t<tr><th scope=row>2</th><td>El Plantío   </td><td>150.0000</td><td>  1</td></tr>\n",
       "\t<tr><th scope=row>3</th><td>Fuentelareina</td><td>180.0000</td><td>  2</td></tr>\n",
       "\t<tr><th scope=row>4</th><td>Palomas      </td><td>309.7500</td><td>  4</td></tr>\n",
       "\t<tr><th scope=row>5</th><td>Recoletos    </td><td>161.9254</td><td>135</td></tr>\n",
       "</tbody>\n",
       "</table>\n"
      ],
      "text/latex": [
       "A data.frame: 5 × 3\n",
       "\\begin{tabular}{r|lll}\n",
       "  & Barrio & Precio & n\\\\\n",
       "  & <fct> & <dbl> & <int>\\\\\n",
       "\\hline\n",
       "\t1 & Castellana    & 141.3889 &  73\\\\\n",
       "\t2 & El Plantío    & 150.0000 &   1\\\\\n",
       "\t3 & Fuentelareina & 180.0000 &   2\\\\\n",
       "\t4 & Palomas       & 309.7500 &   4\\\\\n",
       "\t5 & Recoletos     & 161.9254 & 135\\\\\n",
       "\\end{tabular}\n"
      ],
      "text/markdown": [
       "\n",
       "A data.frame: 5 × 3\n",
       "\n",
       "| <!--/--> | Barrio &lt;fct&gt; | Precio &lt;dbl&gt; | n &lt;int&gt; |\n",
       "|---|---|---|---|\n",
       "| 1 | Castellana    | 141.3889 |  73 |\n",
       "| 2 | El Plantío    | 150.0000 |   1 |\n",
       "| 3 | Fuentelareina | 180.0000 |   2 |\n",
       "| 4 | Palomas       | 309.7500 |   4 |\n",
       "| 5 | Recoletos     | 161.9254 | 135 |\n",
       "\n"
      ],
      "text/plain": [
       "  Barrio        Precio   n  \n",
       "1 Castellana    141.3889  73\n",
       "2 El Plantío    150.0000   1\n",
       "3 Fuentelareina 180.0000   2\n",
       "4 Palomas       309.7500   4\n",
       "5 Recoletos     161.9254 135"
      ]
     },
     "metadata": {},
     "output_type": "display_data"
    }
   ],
   "source": [
    "barrios_top5 <- head(top_mean_price_entire$Barrio, 5)\n",
    "top_barrios_freq <- subset(barrios_entire_populares, Barrio %in% barrios_top5)\n",
    "# top_barrios_freq\n",
    "top5_mean_price_entire <- merge(top_mean_price_entire, top_barrios_freq, by = \"Barrio\")\n",
    "head(top5_mean_price_entire, 5)"
   ]
  },
  {
   "cell_type": "markdown",
   "metadata": {
    "pycharm": {
     "name": "#%% md\n"
    }
   },
   "source": [
    "Partiendo del dataframe anterior, muestra los 5 barrios con mayor precio, pero que tengan más de 100 entradas de alquiler."
   ]
  },
  {
   "cell_type": "code",
   "execution_count": 101,
   "metadata": {},
   "outputs": [
    {
     "data": {
      "text/html": [
       "<table class=\"dataframe\">\n",
       "<caption>A data.frame: 5 × 3</caption>\n",
       "<thead>\n",
       "\t<tr><th></th><th scope=col>Barrio</th><th scope=col>Precio</th><th scope=col>n</th></tr>\n",
       "\t<tr><th></th><th scope=col>&lt;fct&gt;</th><th scope=col>&lt;dbl&gt;</th><th scope=col>&lt;int&gt;</th></tr>\n",
       "</thead>\n",
       "<tbody>\n",
       "\t<tr><th scope=row>8</th><td>Recoletos</td><td>161.92537</td><td>135</td></tr>\n",
       "\t<tr><th scope=row>4</th><td>Goya     </td><td>111.33803</td><td>142</td></tr>\n",
       "\t<tr><th scope=row>9</th><td>Sol      </td><td>100.75036</td><td>701</td></tr>\n",
       "\t<tr><th scope=row>10</th><td>Trafalgar</td><td> 98.57848</td><td>223</td></tr>\n",
       "\t<tr><th scope=row>5</th><td>Justicia </td><td> 98.25468</td><td>534</td></tr>\n",
       "</tbody>\n",
       "</table>\n"
      ],
      "text/latex": [
       "A data.frame: 5 × 3\n",
       "\\begin{tabular}{r|lll}\n",
       "  & Barrio & Precio & n\\\\\n",
       "  & <fct> & <dbl> & <int>\\\\\n",
       "\\hline\n",
       "\t8 & Recoletos & 161.92537 & 135\\\\\n",
       "\t4 & Goya      & 111.33803 & 142\\\\\n",
       "\t9 & Sol       & 100.75036 & 701\\\\\n",
       "\t10 & Trafalgar &  98.57848 & 223\\\\\n",
       "\t5 & Justicia  &  98.25468 & 534\\\\\n",
       "\\end{tabular}\n"
      ],
      "text/markdown": [
       "\n",
       "A data.frame: 5 × 3\n",
       "\n",
       "| <!--/--> | Barrio &lt;fct&gt; | Precio &lt;dbl&gt; | n &lt;int&gt; |\n",
       "|---|---|---|---|\n",
       "| 8 | Recoletos | 161.92537 | 135 |\n",
       "| 4 | Goya      | 111.33803 | 142 |\n",
       "| 9 | Sol       | 100.75036 | 701 |\n",
       "| 10 | Trafalgar |  98.57848 | 223 |\n",
       "| 5 | Justicia  |  98.25468 | 534 |\n",
       "\n"
      ],
      "text/plain": [
       "   Barrio    Precio    n  \n",
       "8  Recoletos 161.92537 135\n",
       "4  Goya      111.33803 142\n",
       "9  Sol       100.75036 701\n",
       "10 Trafalgar  98.57848 223\n",
       "5  Justicia   98.25468 534"
      ]
     },
     "metadata": {},
     "output_type": "display_data"
    }
   ],
   "source": [
    "top100_mean_price_entire <- merge(top_mean_price_entire, barrios_entire_populares, by = \"Barrio\")\n",
    "filter_top_mean_price_entire <- top100_mean_price_entire %>% filter(n > 100)\n",
    "top5_mean_price_entire_100 <- head(filter_top_mean_price_entire[order(filter_top_mean_price_entire$Precio, decreasing = TRUE),],5)\n",
    "top5_mean_price_entire_100"
   ]
  },
  {
   "cell_type": "code",
   "execution_count": null,
   "metadata": {
    "pycharm": {
     "name": "#%%\n"
    }
   },
   "outputs": [],
   "source": []
  },
  {
   "cell_type": "markdown",
   "metadata": {
    "pycharm": {
     "name": "#%% md\n"
    }
   },
   "source": [
    "Dibuja el diagrama de densidad de distribución de los diferentes precios. Serían 5 gráficas, una por cada barrio."
   ]
  },
  {
   "cell_type": "code",
   "execution_count": 102,
   "metadata": {
    "pycharm": {
     "name": "#%%\n"
    }
   },
   "outputs": [
    {
     "name": "stderr",
     "output_type": "stream",
     "text": [
      "Warning message:\n",
      "“Removed 1 rows containing non-finite values (stat_density).”\n"
     ]
    },
    {
     "data": {
      "image/png": "[encoded data removed]",
      "text/plain": [
       "plot without title"
      ]
     },
     "metadata": {
      "image/png": {
       "height": 400,
       "width": 500
      }
     },
     "output_type": "display_data"
    }
   ],
   "source": [
    "barrios_top5_100 <- top5_mean_price_entire_100$Barrio\n",
    "airbnb_entire_top5_100 <- subset(airbnb_entire, Barrio %in% barrios_top5_100)\n",
    "ggplot(airbnb_entire_top5_100, aes(x = Precio, fill = Barrio)) + geom_density(alpha = 0.5) + theme_bw()"
   ]
  },
  {
   "cell_type": "markdown",
   "metadata": {
    "pycharm": {
     "name": "#%% md\n"
    }
   },
   "source": [
    "Calcula el tamaño medio, en metros cuadrados, para los 5 barrios anteriores y muestralo en el mismo dataframe junto con el precio y número de entradas"
   ]
  },
  {
   "cell_type": "code",
   "execution_count": 103,
   "metadata": {
    "pycharm": {
     "name": "#%%\n"
    }
   },
   "outputs": [
    {
     "data": {
      "text/html": [
       "<table class=\"dataframe\">\n",
       "<caption>A data.frame: 5 × 4</caption>\n",
       "<thead>\n",
       "\t<tr><th scope=col>Barrio</th><th scope=col>Precio</th><th scope=col>n</th><th scope=col>MetrosCuadrados</th></tr>\n",
       "\t<tr><th scope=col>&lt;fct&gt;</th><th scope=col>&lt;dbl&gt;</th><th scope=col>&lt;int&gt;</th><th scope=col>&lt;dbl&gt;</th></tr>\n",
       "</thead>\n",
       "<tbody>\n",
       "\t<tr><td>Goya     </td><td>111.33803</td><td>142</td><td>51.68504</td></tr>\n",
       "\t<tr><td>Justicia </td><td> 98.25468</td><td>534</td><td>28.52669</td></tr>\n",
       "\t<tr><td>Recoletos</td><td>161.92537</td><td>135</td><td>26.66316</td></tr>\n",
       "\t<tr><td>Sol      </td><td>100.75036</td><td>701</td><td>45.61692</td></tr>\n",
       "\t<tr><td>Trafalgar</td><td> 98.57848</td><td>223</td><td>29.30426</td></tr>\n",
       "</tbody>\n",
       "</table>\n"
      ],
      "text/latex": [
       "A data.frame: 5 × 4\n",
       "\\begin{tabular}{llll}\n",
       " Barrio & Precio & n & MetrosCuadrados\\\\\n",
       " <fct> & <dbl> & <int> & <dbl>\\\\\n",
       "\\hline\n",
       "\t Goya      & 111.33803 & 142 & 51.68504\\\\\n",
       "\t Justicia  &  98.25468 & 534 & 28.52669\\\\\n",
       "\t Recoletos & 161.92537 & 135 & 26.66316\\\\\n",
       "\t Sol       & 100.75036 & 701 & 45.61692\\\\\n",
       "\t Trafalgar &  98.57848 & 223 & 29.30426\\\\\n",
       "\\end{tabular}\n"
      ],
      "text/markdown": [
       "\n",
       "A data.frame: 5 × 4\n",
       "\n",
       "| Barrio &lt;fct&gt; | Precio &lt;dbl&gt; | n &lt;int&gt; | MetrosCuadrados &lt;dbl&gt; |\n",
       "|---|---|---|---|\n",
       "| Goya      | 111.33803 | 142 | 51.68504 |\n",
       "| Justicia  |  98.25468 | 534 | 28.52669 |\n",
       "| Recoletos | 161.92537 | 135 | 26.66316 |\n",
       "| Sol       | 100.75036 | 701 | 45.61692 |\n",
       "| Trafalgar |  98.57848 | 223 | 29.30426 |\n",
       "\n"
      ],
      "text/plain": [
       "  Barrio    Precio    n   MetrosCuadrados\n",
       "1 Goya      111.33803 142 51.68504       \n",
       "2 Justicia   98.25468 534 28.52669       \n",
       "3 Recoletos 161.92537 135 26.66316       \n",
       "4 Sol       100.75036 701 45.61692       \n",
       "5 Trafalgar  98.57848 223 29.30426       "
      ]
     },
     "metadata": {},
     "output_type": "display_data"
    }
   ],
   "source": [
    "mean_size_entire_by_barrio <- aggregate(MetrosCuadrados ~ Barrio, airbnb_entire_top5_100, mean, na.rm = TRUE)\n",
    "top5_mean_price_entire_100 <- merge(top5_mean_price_entire_100, mean_size_entire_by_barrio, by = \"Barrio\")\n",
    "top5_mean_price_entire_100"
   ]
  },
  {
   "cell_type": "markdown",
   "metadata": {
    "pycharm": {
     "name": "#%% md\n"
    }
   },
   "source": [
    "Dibuja el diagrama de densidad de distribución de los diferentes tamaños de apartamentos. Serían 5 gráficas, una por cada barrio."
   ]
  },
  {
   "cell_type": "code",
   "execution_count": 104,
   "metadata": {
    "pycharm": {
     "name": "#%%\n"
    }
   },
   "outputs": [
    {
     "name": "stderr",
     "output_type": "stream",
     "text": [
      "Warning message:\n",
      "“Removed 1645 rows containing non-finite values (stat_density).”\n"
     ]
    },
    {
     "data": {
      "image/png": "[encoded data removed]",
      "text/plain": [
       "plot without title"
      ]
     },
     "metadata": {
      "image/png": {
       "height": 400,
       "width": 500
      }
     },
     "output_type": "display_data"
    }
   ],
   "source": [
    "ggplot(airbnb_entire_top5_100, aes(x = MetrosCuadrados, fill = Barrio)) + geom_density(alpha = 0.5) + theme_bw()"
   ]
  },
  {
   "cell_type": "markdown",
   "metadata": {
    "pycharm": {
     "name": "#%% md\n"
    }
   },
   "source": [
    "Esta claro que las medias de metros cuadrados de cada uno de estos 5 barrios parecen ser diferentes, pero ¿son estadísticamente diferentes?\n",
    "¿Que test habría que usar para comprobarlo?"
   ]
  },
  {
   "cell_type": "code",
   "execution_count": 108,
   "metadata": {},
   "outputs": [
    {
     "name": "stderr",
     "output_type": "stream",
     "text": [
      "Installing package into ‘/usr/local/lib/R/site-library’\n",
      "(as ‘lib’ is unspecified)\n",
      "\n",
      "also installing the dependencies ‘nloptr’, ‘pbkrtest’, ‘lme4’\n",
      "\n",
      "\n",
      "Warning message in install.packages(\"car\"):\n",
      "“installation of package ‘nloptr’ had non-zero exit status”\n",
      "Warning message in install.packages(\"car\"):\n",
      "“installation of package ‘lme4’ had non-zero exit status”\n",
      "Warning message in install.packages(\"car\"):\n",
      "“installation of package ‘pbkrtest’ had non-zero exit status”\n",
      "Warning message in install.packages(\"car\"):\n",
      "“installation of package ‘car’ had non-zero exit status”\n"
     ]
    }
   ],
   "source": [
    "# Instalar el paquete 'car'\n",
    "install.packages(\"car\")"
   ]
  },
  {
   "cell_type": "code",
   "execution_count": 111,
   "metadata": {
    "pycharm": {
     "name": "#%%\n"
    }
   },
   "outputs": [
    {
     "name": "stdout",
     "output_type": "stream",
     "text": [
      "\n",
      "\tShapiro-Wilk normality test\n",
      "\n",
      "data:  top5_mean_price_entire_100$MetrosCuadrados\n",
      "W = 0.81942, p-value = 0.1156\n",
      "\n"
     ]
    },
    {
     "ename": "ERROR",
     "evalue": "Error in leveneTest(MetrosCuadrados ~ Barrio, data = top5_mean_price_entire_100): could not find function \"leveneTest\"\n",
     "output_type": "error",
     "traceback": [
      "Error in leveneTest(MetrosCuadrados ~ Barrio, data = top5_mean_price_entire_100): could not find function \"leveneTest\"\nTraceback:\n"
     ]
    }
   ],
   "source": [
    "# Cargar la librería\n",
    "#library(car)\n",
    "\n",
    "# Comprobar normalidad con el test de Shapiro-Wilk\n",
    "shapiro_results <- shapiro.test(top5_mean_price_entire_100$MetrosCuadrados)\n",
    "print(shapiro_results)\n",
    "\n",
    "# Comprobar homocedasticidad con el test de Levene\n",
    "levene_results <- leveneTest(MetrosCuadrados ~ Barrio, data = top5_mean_price_entire_100)\n",
    "print(levene_results)\n",
    "\n",
    "# Si se cumplen los supuestos de normalidad y homocedasticidad (p > 0.05), usamos ANOVA\n",
    "if (shapiro_results$p.value > 0.05 & levene_results$\"Pr(>F)\"[1] > 0.05) {\n",
    "  anova_results <- aov(MetrosCuadrados ~ Barrio, data = top5_mean_price_entire_100)\n",
    "  print(summary(anova_results))\n",
    "  \n",
    "} else {\n",
    "  # Si no se cumplen los supuestos, usamos el test de Kruskal-Wallis\n",
    "  kruskal_results <- kruskal.test(MetrosCuadrados ~ Barrio, data = top5_mean_price_entire_100)\n",
    "  print(kruskal_results)\n",
    "}\n"
   ]
  },
  {
   "cell_type": "markdown",
   "metadata": {},
   "source": [
    "#### Se omite Levene porque no ejecuto bien la adición de la libreria"
   ]
  },
  {
   "cell_type": "code",
   "execution_count": 163,
   "metadata": {},
   "outputs": [],
   "source": [
    "#mean_size_entire_by_barrio"
   ]
  },
  {
   "cell_type": "code",
   "execution_count": 162,
   "metadata": {},
   "outputs": [],
   "source": [
    "#barrio_data <- subset(airbnb_entire, Barrio %in% mean_size_entire_by_barrio$Barrio)\n",
    "#barrio_data"
   ]
  },
  {
   "cell_type": "code",
   "execution_count": 136,
   "metadata": {},
   "outputs": [
    {
     "name": "stdout",
     "output_type": "stream",
     "text": [
      "[1] \"Barrio: Goya\"\n",
      "\n",
      "\tShapiro-Wilk normality test\n",
      "\n",
      "data:  barrio_data$MetrosCuadrados\n",
      "W = 0.82315, p-value = 5.323e-09\n",
      "\n",
      "\n",
      "\tOne-way analysis of means (not assuming equal variances)\n",
      "\n",
      "data:  MetrosCuadrados and Barrio\n",
      "F = 1.4788, num df = 4.000, denom df = 10.532, p-value = 0.2767\n",
      "\n",
      "\n",
      "\tKruskal-Wallis rank sum test\n",
      "\n",
      "data:  MetrosCuadrados by Barrio\n",
      "Kruskal-Wallis chi-squared = 1.882, df = 4, p-value = 0.7574\n",
      "\n",
      "************************************************************* \n",
      "[1] \"Barrio: Justicia\"\n",
      "\n",
      "\tShapiro-Wilk normality test\n",
      "\n",
      "data:  barrio_data$MetrosCuadrados\n",
      "W = 0.82315, p-value = 5.323e-09\n",
      "\n",
      "\n",
      "\tOne-way analysis of means (not assuming equal variances)\n",
      "\n",
      "data:  MetrosCuadrados and Barrio\n",
      "F = 1.4788, num df = 4.000, denom df = 10.532, p-value = 0.2767\n",
      "\n",
      "\n",
      "\tKruskal-Wallis rank sum test\n",
      "\n",
      "data:  MetrosCuadrados by Barrio\n",
      "Kruskal-Wallis chi-squared = 1.882, df = 4, p-value = 0.7574\n",
      "\n",
      "************************************************************* \n",
      "[1] \"Barrio: Recoletos\"\n",
      "\n",
      "\tShapiro-Wilk normality test\n",
      "\n",
      "data:  barrio_data$MetrosCuadrados\n",
      "W = 0.82315, p-value = 5.323e-09\n",
      "\n",
      "\n",
      "\tOne-way analysis of means (not assuming equal variances)\n",
      "\n",
      "data:  MetrosCuadrados and Barrio\n",
      "F = 1.4788, num df = 4.000, denom df = 10.532, p-value = 0.2767\n",
      "\n",
      "\n",
      "\tKruskal-Wallis rank sum test\n",
      "\n",
      "data:  MetrosCuadrados by Barrio\n",
      "Kruskal-Wallis chi-squared = 1.882, df = 4, p-value = 0.7574\n",
      "\n",
      "************************************************************* \n",
      "[1] \"Barrio: Sol\"\n",
      "\n",
      "\tShapiro-Wilk normality test\n",
      "\n",
      "data:  barrio_data$MetrosCuadrados\n",
      "W = 0.82315, p-value = 5.323e-09\n",
      "\n",
      "\n",
      "\tOne-way analysis of means (not assuming equal variances)\n",
      "\n",
      "data:  MetrosCuadrados and Barrio\n",
      "F = 1.4788, num df = 4.000, denom df = 10.532, p-value = 0.2767\n",
      "\n",
      "\n",
      "\tKruskal-Wallis rank sum test\n",
      "\n",
      "data:  MetrosCuadrados by Barrio\n",
      "Kruskal-Wallis chi-squared = 1.882, df = 4, p-value = 0.7574\n",
      "\n",
      "************************************************************* \n",
      "[1] \"Barrio: Trafalgar\"\n",
      "\n",
      "\tShapiro-Wilk normality test\n",
      "\n",
      "data:  barrio_data$MetrosCuadrados\n",
      "W = 0.82315, p-value = 5.323e-09\n",
      "\n",
      "\n",
      "\tOne-way analysis of means (not assuming equal variances)\n",
      "\n",
      "data:  MetrosCuadrados and Barrio\n",
      "F = 1.4788, num df = 4.000, denom df = 10.532, p-value = 0.2767\n",
      "\n",
      "\n",
      "\tKruskal-Wallis rank sum test\n",
      "\n",
      "data:  MetrosCuadrados by Barrio\n",
      "Kruskal-Wallis chi-squared = 1.882, df = 4, p-value = 0.7574\n",
      "\n",
      "************************************************************* \n",
      "***********************RESULTADOS************************************** \n",
      "$Goya\n",
      "$Goya$shapiro\n",
      "\n",
      "\tShapiro-Wilk normality test\n",
      "\n",
      "data:  barrio_data$MetrosCuadrados\n",
      "W = 0.82315, p-value = 5.323e-09\n",
      "\n",
      "\n",
      "$Goya$oneway\n",
      "\n",
      "\tOne-way analysis of means (not assuming equal variances)\n",
      "\n",
      "data:  MetrosCuadrados and Barrio\n",
      "F = 1.4788, num df = 4.000, denom df = 10.532, p-value = 0.2767\n",
      "\n",
      "\n",
      "$Goya$test\n",
      "[1] \"Kruskal-Wallis\"\n",
      "\n",
      "\n",
      "$Justicia\n",
      "$Justicia$shapiro\n",
      "\n",
      "\tShapiro-Wilk normality test\n",
      "\n",
      "data:  barrio_data$MetrosCuadrados\n",
      "W = 0.82315, p-value = 5.323e-09\n",
      "\n",
      "\n",
      "$Justicia$oneway\n",
      "\n",
      "\tOne-way analysis of means (not assuming equal variances)\n",
      "\n",
      "data:  MetrosCuadrados and Barrio\n",
      "F = 1.4788, num df = 4.000, denom df = 10.532, p-value = 0.2767\n",
      "\n",
      "\n",
      "$Justicia$test\n",
      "[1] \"Kruskal-Wallis\"\n",
      "\n",
      "\n",
      "$Recoletos\n",
      "$Recoletos$shapiro\n",
      "\n",
      "\tShapiro-Wilk normality test\n",
      "\n",
      "data:  barrio_data$MetrosCuadrados\n",
      "W = 0.82315, p-value = 5.323e-09\n",
      "\n",
      "\n",
      "$Recoletos$oneway\n",
      "\n",
      "\tOne-way analysis of means (not assuming equal variances)\n",
      "\n",
      "data:  MetrosCuadrados and Barrio\n",
      "F = 1.4788, num df = 4.000, denom df = 10.532, p-value = 0.2767\n",
      "\n",
      "\n",
      "$Recoletos$test\n",
      "[1] \"Kruskal-Wallis\"\n",
      "\n",
      "\n",
      "$Sol\n",
      "$Sol$shapiro\n",
      "\n",
      "\tShapiro-Wilk normality test\n",
      "\n",
      "data:  barrio_data$MetrosCuadrados\n",
      "W = 0.82315, p-value = 5.323e-09\n",
      "\n",
      "\n",
      "$Sol$oneway\n",
      "\n",
      "\tOne-way analysis of means (not assuming equal variances)\n",
      "\n",
      "data:  MetrosCuadrados and Barrio\n",
      "F = 1.4788, num df = 4.000, denom df = 10.532, p-value = 0.2767\n",
      "\n",
      "\n",
      "$Sol$test\n",
      "[1] \"Kruskal-Wallis\"\n",
      "\n",
      "\n",
      "$Trafalgar\n",
      "$Trafalgar$shapiro\n",
      "\n",
      "\tShapiro-Wilk normality test\n",
      "\n",
      "data:  barrio_data$MetrosCuadrados\n",
      "W = 0.82315, p-value = 5.323e-09\n",
      "\n",
      "\n",
      "$Trafalgar$oneway\n",
      "\n",
      "\tOne-way analysis of means (not assuming equal variances)\n",
      "\n",
      "data:  MetrosCuadrados and Barrio\n",
      "F = 1.4788, num df = 4.000, denom df = 10.532, p-value = 0.2767\n",
      "\n",
      "\n",
      "$Trafalgar$test\n",
      "[1] \"Kruskal-Wallis\"\n",
      "\n",
      "\n"
     ]
    }
   ],
   "source": [
    "# Crear una lista para almacenar los resultados de cada barrio\n",
    "results_list <- list()\n",
    "\n",
    "# Realizar un test ANOVA o Kruskal-Wallis para cada barrio en top5_mean_price_entire_100\n",
    "for (barrio in unique(top5_mean_price_entire_100$Barrio)) {\n",
    "  print(paste(\"Barrio:\", barrio))\n",
    "  \n",
    "  # Filtrar datos del barrio actual\n",
    "  barrio_data <- subset(airbnb_entire, Barrio %in% mean_size_entire_by_barrio$Barrio)\n",
    "  barrio_data\n",
    "  \n",
    "  # Verificar si el tamaño de la muestra es suficiente\n",
    "  if (nrow(barrio_data) >= 3) {\n",
    "    # Comprobar normalidad con el test de Shapiro-Wilk\n",
    "    shapiro_results <- shapiro.test(barrio_data$MetrosCuadrados)\n",
    "    print(shapiro_results)\n",
    "    \n",
    "    # Comprobar homocedasticidad con oneway.test (alternativa al test de Levene)\n",
    "    oneway_results <- oneway.test(MetrosCuadrados ~ Barrio, data = barrio_data)\n",
    "    print(oneway_results)\n",
    "    \n",
    "    # Si se cumplen los supuestos de normalidad y homocedasticidad (p > 0.05), usamos ANOVA\n",
    "    if (shapiro_results$p.value > 0.05 & oneway_results$p.value > 0.05) {\n",
    "      anova_results <- aov(MetrosCuadrados ~ Barrio, data = barrio_data)\n",
    "      print(summary(anova_results))\n",
    "      \n",
    "    } else {\n",
    "      # Si no se cumplen los supuestos, usamos el test de Kruskal-Wallis\n",
    "      kruskal_results <- kruskal.test(MetrosCuadrados ~ Barrio, data = barrio_data)\n",
    "      print(kruskal_results)\n",
    "    }\n",
    "    \n",
    "    # Almacenar los resultados en la lista de resultados\n",
    "    results_list[[barrio]] <- list(\n",
    "      shapiro = shapiro_results,\n",
    "      oneway = oneway_results,\n",
    "      test = ifelse(shapiro_results$p.value > 0.05 & oneway_results$p.value > 0.05, \"ANOVA\", \"Kruskal-Wallis\")\n",
    "    )\n",
    "  } else {\n",
    "    print(\"El tamaño de la muestra es insuficiente para realizar las pruebas.\")\n",
    "  }\n",
    "    cat('************************************************************* \\n')\n",
    "}\n",
    "\n",
    "# Mostrar la lista de resultados\n",
    "cat('***********************RESULTADOS************************************** \\n')\n",
    "print(results_list)\n"
   ]
  },
  {
   "cell_type": "code",
   "execution_count": 137,
   "metadata": {},
   "outputs": [
    {
     "name": "stdout",
     "output_type": "stream",
     "text": [
      "No hay evidencia suficiente para decir que los departamentos son diferentes, debido a su p valor"
     ]
    }
   ],
   "source": [
    "cat('No hay evidencia suficiente para decir que los departamentos son diferentes, debido a su p valor')"
   ]
  },
  {
   "cell_type": "markdown",
   "metadata": {
    "pycharm": {
     "name": "#%% md\n"
    }
   },
   "source": [
    "Para únicamente los pisos de alquiler en el barrio de Sol:\n",
    "\n",
    "``barrio_sol<-subset(airbnb_entire,Barrio==\"Sol\")``\n",
    "\n",
    "Calcular un modelo lineal que combine alguna de estas variables:\n",
    "* NumBanyos\n",
    "* NumDormitorios\n",
    "* MaxOcupantes\n",
    "* MetrosCuadrados"
   ]
  },
  {
   "cell_type": "code",
   "execution_count": 150,
   "metadata": {
    "pycharm": {
     "name": "#%%\n"
    }
   },
   "outputs": [],
   "source": [
    "barrio_sol <- subset(airbnb_entire, Barrio == \"Sol\")\n",
    "#modelo_lineal <- lm(Precio ~ NumBanyos + NumDormitorios + MaxOcupantes + MetrosCuadrados, data = barrio_sol)"
   ]
  },
  {
   "cell_type": "markdown",
   "metadata": {
    "pycharm": {
     "name": "#%% md\n"
    }
   },
   "source": [
    "Primero calculamos la correlación para ver como se relacionan estas variables entre sí."
   ]
  },
  {
   "cell_type": "code",
   "execution_count": 151,
   "metadata": {
    "pycharm": {
     "name": "#%%\n"
    }
   },
   "outputs": [
    {
     "data": {
      "text/html": [
       "<table class=\"dataframe\">\n",
       "<caption>A matrix: 4 × 4 of type dbl</caption>\n",
       "<thead>\n",
       "\t<tr><th></th><th scope=col>NumBanyos</th><th scope=col>NumDormitorios</th><th scope=col>MaxOcupantes</th><th scope=col>MetrosCuadrados</th></tr>\n",
       "</thead>\n",
       "<tbody>\n",
       "\t<tr><th scope=row>NumBanyos</th><td>1.0000000</td><td>0.6873719</td><td>0.7017290</td><td>0.4820549</td></tr>\n",
       "\t<tr><th scope=row>NumDormitorios</th><td>0.6873719</td><td>1.0000000</td><td>0.7853809</td><td>0.5684521</td></tr>\n",
       "\t<tr><th scope=row>MaxOcupantes</th><td>0.7017290</td><td>0.7853809</td><td>1.0000000</td><td>0.4286233</td></tr>\n",
       "\t<tr><th scope=row>MetrosCuadrados</th><td>0.4820549</td><td>0.5684521</td><td>0.4286233</td><td>1.0000000</td></tr>\n",
       "</tbody>\n",
       "</table>\n"
      ],
      "text/latex": [
       "A matrix: 4 × 4 of type dbl\n",
       "\\begin{tabular}{r|llll}\n",
       "  & NumBanyos & NumDormitorios & MaxOcupantes & MetrosCuadrados\\\\\n",
       "\\hline\n",
       "\tNumBanyos & 1.0000000 & 0.6873719 & 0.7017290 & 0.4820549\\\\\n",
       "\tNumDormitorios & 0.6873719 & 1.0000000 & 0.7853809 & 0.5684521\\\\\n",
       "\tMaxOcupantes & 0.7017290 & 0.7853809 & 1.0000000 & 0.4286233\\\\\n",
       "\tMetrosCuadrados & 0.4820549 & 0.5684521 & 0.4286233 & 1.0000000\\\\\n",
       "\\end{tabular}\n"
      ],
      "text/markdown": [
       "\n",
       "A matrix: 4 × 4 of type dbl\n",
       "\n",
       "| <!--/--> | NumBanyos | NumDormitorios | MaxOcupantes | MetrosCuadrados |\n",
       "|---|---|---|---|---|\n",
       "| NumBanyos | 1.0000000 | 0.6873719 | 0.7017290 | 0.4820549 |\n",
       "| NumDormitorios | 0.6873719 | 1.0000000 | 0.7853809 | 0.5684521 |\n",
       "| MaxOcupantes | 0.7017290 | 0.7853809 | 1.0000000 | 0.4286233 |\n",
       "| MetrosCuadrados | 0.4820549 | 0.5684521 | 0.4286233 | 1.0000000 |\n",
       "\n"
      ],
      "text/plain": [
       "                NumBanyos NumDormitorios MaxOcupantes MetrosCuadrados\n",
       "NumBanyos       1.0000000 0.6873719      0.7017290    0.4820549      \n",
       "NumDormitorios  0.6873719 1.0000000      0.7853809    0.5684521      \n",
       "MaxOcupantes    0.7017290 0.7853809      1.0000000    0.4286233      \n",
       "MetrosCuadrados 0.4820549 0.5684521      0.4286233    1.0000000      "
      ]
     },
     "metadata": {},
     "output_type": "display_data"
    }
   ],
   "source": [
    "cor_matrix <- cor(barrio_sol[,c(\"NumBanyos\", \"NumDormitorios\", \"MaxOcupantes\", \"MetrosCuadrados\")], use = \"complete.obs\")\n",
    "cor_matrix"
   ]
  },
  {
   "cell_type": "markdown",
   "metadata": {
    "pycharm": {
     "name": "#%% md\n"
    }
   },
   "source": [
    "Se observa que la correlación entre el número de dormitorios y los metros cuadrados es sorprendentemente baja.\n",
    "¿Son de fiar esos números?\n",
    "\n",
    "Mediante un histograma o curvas de densidad podemos descartar números que notienen sentido en el dataframe barrio_sol,\n",
    "para tener una matriz de correlación que tenga mayor sentido.\n"
   ]
  },
  {
   "cell_type": "code",
   "execution_count": 152,
   "metadata": {
    "pycharm": {
     "name": "#%%\n"
    }
   },
   "outputs": [
    {
     "name": "stderr",
     "output_type": "stream",
     "text": [
      "Warning message:\n",
      "“Removed 641 rows containing non-finite values (stat_density).”\n"
     ]
    },
    {
     "data": {
      "image/png": "[encoded data removed]",
      "text/plain": [
       "Plot with title “MetrosCuadrados”"
      ]
     },
     "metadata": {
      "image/png": {
       "height": 400,
       "width": 500
      }
     },
     "output_type": "display_data"
    },
    {
     "data": {
      "image/png": "[encoded data removed]",
      "text/plain": [
       "plot without title"
      ]
     },
     "metadata": {
      "image/png": {
       "height": 400,
       "width": 500
      }
     },
     "output_type": "display_data"
    }
   ],
   "source": [
    "par(mfrow = c(2, 2))\n",
    "hist(barrio_sol$NumBanyos, main = \"NumBanyos\", xlab = \"\", col = \"lightblue\")\n",
    "hist(barrio_sol$NumDormitorios, main = \"NumDormitorios\", xlab = \"\", col = \"lightblue\")\n",
    "hist(barrio_sol$MaxOcupantes, main = \"MaxOcupantes\", xlab = \"\", col = \"lightblue\")\n",
    "hist(barrio_sol$MetrosCuadrados, main = \"MetrosCuadrados\", xlab = \"\", col = \"lightblue\")\n",
    "ggplot(barrio_sol,aes(x=MetrosCuadrados))+geom_density(bw=3)"
   ]
  },
  {
   "cell_type": "code",
   "execution_count": 153,
   "metadata": {},
   "outputs": [],
   "source": [
    "barrio_sol <- subset(barrio_sol, MetrosCuadrados <= 200)\n",
    "barrio_sol <- subset(barrio_sol, MetrosCuadrados > 16) ## como mi habitación\n",
    "barrio_sol <- subset(barrio_sol, NumDormitorios > 0)"
   ]
  },
  {
   "cell_type": "code",
   "execution_count": 154,
   "metadata": {},
   "outputs": [
    {
     "data": {
      "text/html": [
       "29"
      ],
      "text/latex": [
       "29"
      ],
      "text/markdown": [
       "29"
      ],
      "text/plain": [
       "[1] 29"
      ]
     },
     "metadata": {},
     "output_type": "display_data"
    }
   ],
   "source": [
    "nrow(barrio_sol)"
   ]
  },
  {
   "cell_type": "markdown",
   "metadata": {
    "pycharm": {
     "name": "#%% md\n"
    }
   },
   "source": [
    "Una vez que hayamos filtrado los datos correspondientes calcular el valor o la combinación de valores que mejor nos permite obtener el precio de un inmueble."
   ]
  },
  {
   "cell_type": "code",
   "execution_count": 155,
   "metadata": {
    "pycharm": {
     "name": "#%%\n"
    }
   },
   "outputs": [
    {
     "data": {
      "text/plain": [
       "\n",
       "Call:\n",
       "lm(formula = Precio ~ NumBanyos + NumDormitorios + MaxOcupantes + \n",
       "    MetrosCuadrados, data = barrio_sol)\n",
       "\n",
       "Residuals:\n",
       "    Min      1Q  Median      3Q     Max \n",
       "-57.301 -18.606   0.374  12.365  65.750 \n",
       "\n",
       "Coefficients:\n",
       "                Estimate Std. Error t value Pr(>|t|)    \n",
       "(Intercept)      37.5146    13.6701   2.744 0.011296 *  \n",
       "NumBanyos       -13.0919    15.2157  -0.860 0.398074    \n",
       "NumDormitorios   38.9647     9.7682   3.989 0.000542 ***\n",
       "MaxOcupantes      9.3459     5.1101   1.829 0.079866 .  \n",
       "MetrosCuadrados  -0.4356     0.3192  -1.365 0.184980    \n",
       "---\n",
       "Signif. codes:  0 ‘***’ 0.001 ‘**’ 0.01 ‘*’ 0.05 ‘.’ 0.1 ‘ ’ 1\n",
       "\n",
       "Residual standard error: 29.8 on 24 degrees of freedom\n",
       "Multiple R-squared:  0.7462,\tAdjusted R-squared:  0.7039 \n",
       "F-statistic: 17.64 on 4 and 24 DF,  p-value: 7.112e-07\n"
      ]
     },
     "metadata": {},
     "output_type": "display_data"
    }
   ],
   "source": [
    "modelo_lineal_filtrado <- lm(Precio ~ NumBanyos + NumDormitorios + MaxOcupantes + MetrosCuadrados, data = barrio_sol)\n",
    "summary(modelo_lineal_filtrado)"
   ]
  },
  {
   "cell_type": "code",
   "execution_count": 170,
   "metadata": {},
   "outputs": [
    {
     "data": {
      "text/plain": [
       "\n",
       "Call:\n",
       "lm(formula = Precio ~ NumDormitorios + MaxOcupantes + MetrosCuadrados, \n",
       "    data = barrio_sol)\n",
       "\n",
       "Residuals:\n",
       "    Min      1Q  Median      3Q     Max \n",
       "-64.101 -15.588   0.816  17.445  74.874 \n",
       "\n",
       "Coefficients:\n",
       "                Estimate Std. Error t value Pr(>|t|)    \n",
       "(Intercept)      33.7724    12.8923   2.620 0.014750 *  \n",
       "NumDormitorios   36.1298     9.1478   3.950 0.000564 ***\n",
       "MaxOcupantes      6.1879     3.5370   1.749 0.092475 .  \n",
       "MetrosCuadrados  -0.3411     0.2981  -1.144 0.263431    \n",
       "---\n",
       "Signif. codes:  0 ‘***’ 0.001 ‘**’ 0.01 ‘*’ 0.05 ‘.’ 0.1 ‘ ’ 1\n",
       "\n",
       "Residual standard error: 29.64 on 25 degrees of freedom\n",
       "Multiple R-squared:  0.7384,\tAdjusted R-squared:  0.707 \n",
       "F-statistic: 23.52 on 3 and 25 DF,  p-value: 1.881e-07\n"
      ]
     },
     "metadata": {},
     "output_type": "display_data"
    }
   ],
   "source": [
    "modelo_lineal_filtrado <- lm(Precio ~ NumDormitorios + MaxOcupantes + MetrosCuadrados, data = barrio_sol)\n",
    "summary(modelo_lineal_filtrado)"
   ]
  },
  {
   "cell_type": "code",
   "execution_count": 171,
   "metadata": {},
   "outputs": [
    {
     "data": {
      "text/plain": [
       "\n",
       "Call:\n",
       "lm(formula = Precio ~ NumDormitorios + MetrosCuadrados, data = barrio_sol)\n",
       "\n",
       "Residuals:\n",
       "    Min      1Q  Median      3Q     Max \n",
       "-81.063 -13.897  -0.146  20.761  68.197 \n",
       "\n",
       "Coefficients:\n",
       "                Estimate Std. Error t value Pr(>|t|)    \n",
       "(Intercept)      39.9404    12.8829   3.100  0.00461 ** \n",
       "NumDormitorios   41.8632     8.8726   4.718 7.07e-05 ***\n",
       "MetrosCuadrados  -0.1163     0.2795  -0.416  0.68066    \n",
       "---\n",
       "Signif. codes:  0 ‘***’ 0.001 ‘**’ 0.01 ‘*’ 0.05 ‘.’ 0.1 ‘ ’ 1\n",
       "\n",
       "Residual standard error: 30.8 on 26 degrees of freedom\n",
       "Multiple R-squared:  0.7063,\tAdjusted R-squared:  0.6837 \n",
       "F-statistic: 31.27 on 2 and 26 DF,  p-value: 1.208e-07\n"
      ]
     },
     "metadata": {},
     "output_type": "display_data"
    }
   ],
   "source": [
    "modelo_lineal_filtrado <- lm(Precio ~ NumDormitorios + MetrosCuadrados, data = barrio_sol)\n",
    "summary(modelo_lineal_filtrado)"
   ]
  },
  {
   "cell_type": "markdown",
   "metadata": {
    "pycharm": {
     "name": "#%% md\n"
    }
   },
   "source": [
    "¿Que variable es más fiable para conocer el precio de un inmueble, el número de habitaciones o los metros cuadrados?"
   ]
  },
  {
   "cell_type": "code",
   "execution_count": 172,
   "metadata": {
    "pycharm": {
     "name": "#%%\n"
    }
   },
   "outputs": [
    {
     "data": {
      "text/html": [
       "0.70438090189592"
      ],
      "text/latex": [
       "0.70438090189592"
      ],
      "text/markdown": [
       "0.70438090189592"
      ],
      "text/plain": [
       "[1] 0.7043809"
      ]
     },
     "metadata": {},
     "output_type": "display_data"
    },
    {
     "data": {
      "text/html": [
       "0.454897267824947"
      ],
      "text/latex": [
       "0.454897267824947"
      ],
      "text/markdown": [
       "0.454897267824947"
      ],
      "text/plain": [
       "[1] 0.4548973"
      ]
     },
     "metadata": {},
     "output_type": "display_data"
    },
    {
     "name": "stdout",
     "output_type": "stream",
     "text": [
      "Definitivamente NumDormitorios, con un r^2 de  0.7043809"
     ]
    }
   ],
   "source": [
    "modelo_lineal_habitaciones <- lm(Precio ~ NumDormitorios, data = barrio_sol)\n",
    "modelo_lineal_metros <- lm(Precio ~ MetrosCuadrados, data = barrio_sol)\n",
    "summary(modelo_lineal_habitaciones)$r.squared\n",
    "summary(modelo_lineal_metros)$r.squared\n",
    "cat('Definitivamente NumDormitorios, con un r^2 de ', summary(modelo_lineal_habitaciones)$r.squared)"
   ]
  },
  {
   "cell_type": "markdown",
   "metadata": {
    "pycharm": {
     "name": "#%% md\n"
    }
   },
   "source": [
    "Responde con su correspondiente margen de error del 95%, ¿cuantos euros incrementa el precio del alquiler por cada metro cuadrado extra del piso?"
   ]
  },
  {
   "cell_type": "code",
   "execution_count": 158,
   "metadata": {
    "pycharm": {
     "name": "#%%\n"
    }
   },
   "outputs": [
    {
     "data": {
      "text/html": [
       "0.981852277392859"
      ],
      "text/latex": [
       "0.981852277392859"
      ],
      "text/markdown": [
       "0.981852277392859"
      ],
      "text/plain": [
       "[1] 0.9818523"
      ]
     },
     "metadata": {},
     "output_type": "display_data"
    },
    {
     "data": {
      "text/html": [
       "<style>\n",
       ".dl-inline {width: auto; margin:0; padding: 0}\n",
       ".dl-inline>dt, .dl-inline>dd {float: none; width: auto; display: inline-block}\n",
       ".dl-inline>dt::after {content: \":\\0020\"; padding-right: .5ex}\n",
       ".dl-inline>dt:not(:first-of-type) {padding-left: .5ex}\n",
       "</style><dl class=dl-inline><dt>2.5 %</dt><dd>0.557439676576444</dd><dt>97.5 %</dt><dd>1.40626487820927</dd></dl>\n"
      ],
      "text/latex": [
       "\\begin{description*}\n",
       "\\item[2.5 \\textbackslash{}\\%] 0.557439676576444\n",
       "\\item[97.5 \\textbackslash{}\\%] 1.40626487820927\n",
       "\\end{description*}\n"
      ],
      "text/markdown": [
       "2.5 %\n",
       ":   0.55743967657644497.5 %\n",
       ":   1.40626487820927\n",
       "\n"
      ],
      "text/plain": [
       "    2.5 %    97.5 % \n",
       "0.5574397 1.4062649 "
      ]
     },
     "metadata": {},
     "output_type": "display_data"
    }
   ],
   "source": [
    "coef_metros <- summary(modelo_lineal_metros)$coefficients[2, 1]\n",
    "coef_metros\n",
    "conf_int_metros <- confint(modelo_lineal_metros, level = 0.95)[2,]\n",
    "conf_int_metros"
   ]
  },
  {
   "cell_type": "markdown",
   "metadata": {
    "pycharm": {
     "name": "#%% md\n"
    }
   },
   "source": [
    "Responde con su correspondiente margen de error del 95%, ¿cuantos euros incrementa el precio del alquiler por cada habitación?"
   ]
  },
  {
   "cell_type": "code",
   "execution_count": 159,
   "metadata": {
    "pycharm": {
     "name": "#%%\n"
    }
   },
   "outputs": [
    {
     "data": {
      "text/html": [
       "<style>\n",
       ".dl-inline {width: auto; margin:0; padding: 0}\n",
       ".dl-inline>dt, .dl-inline>dd {float: none; width: auto; display: inline-block}\n",
       ".dl-inline>dt::after {content: \":\\0020\"; padding-right: .5ex}\n",
       ".dl-inline>dt:not(:first-of-type) {padding-left: .5ex}\n",
       "</style><dl class=dl-inline><dt>2.5 %</dt><dd>28.8653290391779</dd><dt>97.5 %</dt><dd>48.7101095573133</dd></dl>\n"
      ],
      "text/latex": [
       "\\begin{description*}\n",
       "\\item[2.5 \\textbackslash{}\\%] 28.8653290391779\n",
       "\\item[97.5 \\textbackslash{}\\%] 48.7101095573133\n",
       "\\end{description*}\n"
      ],
      "text/markdown": [
       "2.5 %\n",
       ":   28.865329039177997.5 %\n",
       ":   48.7101095573133\n",
       "\n"
      ],
      "text/plain": [
       "   2.5 %   97.5 % \n",
       "28.86533 48.71011 "
      ]
     },
     "metadata": {},
     "output_type": "display_data"
    }
   ],
   "source": [
    "coef_habitaciones <- summary(modelo_lineal_habitaciones)$coefficients[2, 1]\n",
    "conf_int_habitaciones <- confint(modelo_lineal_habitaciones, level = 0.95)[2,]\n",
    "conf_int_habitaciones"
   ]
  },
  {
   "cell_type": "markdown",
   "metadata": {
    "pycharm": {
     "name": "#%% md\n"
    }
   },
   "source": [
    "¿Cual es la probabilidad de encontrar, en el barrio de Sol, un apartamento en alquiler con 3 dormitorios?\n",
    "¿Cual es el intervalo de confianza de esa probabilidad?"
   ]
  },
  {
   "cell_type": "code",
   "execution_count": 160,
   "metadata": {
    "pycharm": {
     "name": "#%%\n"
    }
   },
   "outputs": [
    {
     "data": {
      "text/html": [
       "0.0689655172413793"
      ],
      "text/latex": [
       "0.0689655172413793"
      ],
      "text/markdown": [
       "0.0689655172413793"
      ],
      "text/plain": [
       "[1] 0.06896552"
      ]
     },
     "metadata": {},
     "output_type": "display_data"
    }
   ],
   "source": [
    "num_3_dormitorios <- sum(barrio_sol$NumDormitorios == 3, na.rm = TRUE)\n",
    "total_entradas <- nrow(barrio_sol)\n",
    "prob_3_dormitorios <- num_3_dormitorios / total_entradas\n",
    "prob_3_dormitorios"
   ]
  },
  {
   "cell_type": "code",
   "execution_count": 164,
   "metadata": {},
   "outputs": [
    {
     "name": "stderr",
     "output_type": "stream",
     "text": [
      "Installing package into ‘/usr/local/lib/R/site-library’\n",
      "(as ‘lib’ is unspecified)\n",
      "\n"
     ]
    }
   ],
   "source": [
    "install.packages(\"binom\")"
   ]
  },
  {
   "cell_type": "code",
   "execution_count": 165,
   "metadata": {
    "pycharm": {
     "name": "#%%\n"
    }
   },
   "outputs": [
    {
     "data": {
      "text/html": [
       "<table class=\"dataframe\">\n",
       "<caption>A data.frame: 1 × 6</caption>\n",
       "<thead>\n",
       "\t<tr><th></th><th scope=col>method</th><th scope=col>x</th><th scope=col>n</th><th scope=col>mean</th><th scope=col>lower</th><th scope=col>upper</th></tr>\n",
       "\t<tr><th></th><th scope=col>&lt;chr&gt;</th><th scope=col>&lt;int&gt;</th><th scope=col>&lt;int&gt;</th><th scope=col>&lt;dbl&gt;</th><th scope=col>&lt;dbl&gt;</th><th scope=col>&lt;dbl&gt;</th></tr>\n",
       "</thead>\n",
       "<tbody>\n",
       "\t<tr><th scope=row>1</th><td>wilson</td><td>2</td><td>29</td><td>0.06896552</td><td>0.01912127</td><td>0.2196458</td></tr>\n",
       "</tbody>\n",
       "</table>\n"
      ],
      "text/latex": [
       "A data.frame: 1 × 6\n",
       "\\begin{tabular}{r|llllll}\n",
       "  & method & x & n & mean & lower & upper\\\\\n",
       "  & <chr> & <int> & <int> & <dbl> & <dbl> & <dbl>\\\\\n",
       "\\hline\n",
       "\t1 & wilson & 2 & 29 & 0.06896552 & 0.01912127 & 0.2196458\\\\\n",
       "\\end{tabular}\n"
      ],
      "text/markdown": [
       "\n",
       "A data.frame: 1 × 6\n",
       "\n",
       "| <!--/--> | method &lt;chr&gt; | x &lt;int&gt; | n &lt;int&gt; | mean &lt;dbl&gt; | lower &lt;dbl&gt; | upper &lt;dbl&gt; |\n",
       "|---|---|---|---|---|---|---|\n",
       "| 1 | wilson | 2 | 29 | 0.06896552 | 0.01912127 | 0.2196458 |\n",
       "\n"
      ],
      "text/plain": [
       "  method x n  mean       lower      upper    \n",
       "1 wilson 2 29 0.06896552 0.01912127 0.2196458"
      ]
     },
     "metadata": {},
     "output_type": "display_data"
    }
   ],
   "source": [
    "library(binom)\n",
    "conf_int_prob <- binom.confint(num_3_dormitorios, total_entradas, conf.level = 0.95, method = \"wilson\")\n",
    "conf_int_prob"
   ]
  },
  {
   "cell_type": "code",
   "execution_count": 169,
   "metadata": {},
   "outputs": [
    {
     "name": "stdout",
     "output_type": "stream",
     "text": [
      "La probabilidad es de  0.06896552 \n",
      "El intervalo esta entre  0.01912127  y  0.2196458"
     ]
    }
   ],
   "source": [
    "cat('La probabilidad es de ', conf_int_prob$mean, '\\n')\n",
    "cat('El intervalo esta entre ', conf_int_prob$lower, ' y ', conf_int_prob$upper)"
   ]
  },
  {
   "cell_type": "code",
   "execution_count": null,
   "metadata": {},
   "outputs": [],
   "source": []
  }
 ],
 "metadata": {
  "kernelspec": {
   "display_name": "R",
   "language": "R",
   "name": "ir"
  },
  "language_info": {
   "codemirror_mode": "r",
   "file_extension": ".r",
   "mimetype": "text/x-r-source",
   "name": "R",
   "pygments_lexer": "r",
   "version": "4.1.0"
  }
 },
 "nbformat": 4,
 "nbformat_minor": 2
}
